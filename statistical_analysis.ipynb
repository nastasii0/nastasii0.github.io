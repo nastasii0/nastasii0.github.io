{
  "cells": [
    {
      "cell_type": "markdown",
      "id": "44200720",
      "metadata": {
        "id": "44200720"
      },
      "source": [
        "# Проект: Статистический анализ данных аренды самокатов GoFast"
      ]
    },
    {
      "cell_type": "markdown",
      "id": "ac5b33f2",
      "metadata": {
        "id": "ac5b33f2"
      },
      "source": [
        "Предаставлены данные популярного сервиса аренды самокатов GoFast о некоторых пользователях из нескольких городов, а также об их поездках. Проанализируем данные и проверим некоторые гипотезы, которые могут помочь бизнесу вырасти.\n",
        "Чтобы совершать поездки по городу, пользователи сервиса GoFast пользуются мобильным приложением. Сервисом можно пользоваться:\n",
        "\n",
        "БЕЗ ПОДПИСКИ:\n",
        "- абонентская плата отсутствует;\n",
        "- стоимость одной минуты поездки — 8 рублей;\n",
        "- стоимость старта (начала поездки) — 50 рублей;\n",
        "\n",
        "С ПОДПИСКОЙ ULTRA\n",
        "- абонентская плата — 199 рублей в месяц;\n",
        "- стоимость одной минуты поездки — 6 рублей;\n",
        "- стоимость старта — бесплатно.\n",
        "\n",
        "ПЛАН РАБОТЫ:\n",
        "- Шаг 1. Загрузка данных\n",
        "- Шаг 2. Предобработка данных\n",
        "- Шаг 3. Исследовательский анализ данных. Общая информация о пользователях и поездках:частота встречаемости городов; соотношение пользователей с подпиской и без подписки; возраст пользователей;  расстояние, которое пользователь преодолел за одну поездку; продолжительность поездок.\n",
        "- Шаг 4. Объединение данных. Информация о расстоянии и времени поездок для пользователей обеих категорий.\n",
        "- Шаг 5. Подсчёт выручки\n",
        "- Шаг 6. Проверка гипотез. Важно понять, тратят ли пользователи с подпиской больше времени на поездки?  Если да, то пользователи с подпиской могут быть «выгоднее» для компании.\n",
        "- Шаг 7. Распределения. Нужно провести акцию с раздачей промокодов на один бесплатный месяц подписки, в рамках которой как минимум 100 существующих клиентов должны продлить эту подписку."
      ]
    },
    {
      "cell_type": "code",
      "execution_count": null,
      "id": "72576667",
      "metadata": {
        "id": "72576667"
      },
      "outputs": [],
      "source": [
        "import pandas as pd\n",
        "import matplotlib.pyplot as plt\n",
        "import numpy as np\n",
        "from scipy import stats as st\n",
        "from scipy.stats import binom"
      ]
    },
    {
      "cell_type": "markdown",
      "id": "c42cbe00",
      "metadata": {
        "id": "c42cbe00"
      },
      "source": [
        "#### Шаг 1. Загрузка данных"
      ]
    },
    {
      "cell_type": "code",
      "execution_count": null,
      "id": "eff9f206",
      "metadata": {
        "id": "eff9f206",
        "outputId": "f0e1d2a6-35a5-418d-cdc8-beca61d512f1"
      },
      "outputs": [
        {
          "name": "stdout",
          "output_type": "stream",
          "text": [
            "   user_id        name  age            city subscription_type\n",
            "0        1        Кира   22          Тюмень             ultra\n",
            "1        2   Станислав   31            Омск             ultra\n",
            "2        3     Алексей   20          Москва             ultra\n",
            "3        4  Константин   26  Ростов-на-Дону             ultra\n",
            "4        5       Адель   28            Омск             ultra\n"
          ]
        }
      ],
      "source": [
        "users_go = pd.read_csv('/datasets/users_go.csv')\n",
        "print(users_go.head())"
      ]
    },
    {
      "cell_type": "code",
      "execution_count": null,
      "id": "03cdecb9",
      "metadata": {
        "id": "03cdecb9",
        "outputId": "dc1f6df8-0052-40ab-dc3d-34cac8147477"
      },
      "outputs": [
        {
          "name": "stdout",
          "output_type": "stream",
          "text": [
            "   user_id     distance   duration        date\n",
            "0        1  4409.919140  25.599769  2021-01-01\n",
            "1        1  2617.592153  15.816871  2021-01-18\n",
            "2        1   754.159807   6.232113  2021-04-20\n",
            "3        1  2694.783254  18.511000  2021-08-11\n",
            "4        1  4028.687306  26.265803  2021-08-28\n"
          ]
        }
      ],
      "source": [
        "rides_go = pd.read_csv('/datasets/rides_go.csv')\n",
        "print(rides_go.head())"
      ]
    },
    {
      "cell_type": "code",
      "execution_count": null,
      "id": "97d0885d",
      "metadata": {
        "id": "97d0885d",
        "outputId": "b4f3ac5f-05eb-4792-c01c-3134d31e3c62"
      },
      "outputs": [
        {
          "name": "stdout",
          "output_type": "stream",
          "text": [
            "  subscription_type  minute_price  start_ride_price  subscription_fee\n",
            "0              free             8                50                 0\n",
            "1             ultra             6                 0               199\n"
          ]
        }
      ],
      "source": [
        "subscriptions_go = pd.read_csv('/datasets/subscriptions_go.csv')\n",
        "print(subscriptions_go.head())"
      ]
    },
    {
      "cell_type": "code",
      "execution_count": null,
      "id": "7da09cf4",
      "metadata": {
        "id": "7da09cf4",
        "outputId": "234b5ff7-051d-4bbb-857e-7b470f75e073"
      },
      "outputs": [
        {
          "name": "stdout",
          "output_type": "stream",
          "text": [
            "<class 'pandas.core.frame.DataFrame'>\n",
            "RangeIndex: 1565 entries, 0 to 1564\n",
            "Data columns (total 5 columns):\n",
            " #   Column             Non-Null Count  Dtype \n",
            "---  ------             --------------  ----- \n",
            " 0   user_id            1565 non-null   int64 \n",
            " 1   name               1565 non-null   object\n",
            " 2   age                1565 non-null   int64 \n",
            " 3   city               1565 non-null   object\n",
            " 4   subscription_type  1565 non-null   object\n",
            "dtypes: int64(2), object(3)\n",
            "memory usage: 61.3+ KB\n"
          ]
        }
      ],
      "source": [
        "users_go.info()"
      ]
    },
    {
      "cell_type": "code",
      "execution_count": null,
      "id": "cdbd3b6d",
      "metadata": {
        "id": "cdbd3b6d",
        "outputId": "2481c0d2-5712-4def-db82-79499097e72e"
      },
      "outputs": [
        {
          "data": {
            "text/plain": [
              "user_id              0\n",
              "name                 0\n",
              "age                  0\n",
              "city                 0\n",
              "subscription_type    0\n",
              "dtype: int64"
            ]
          },
          "execution_count": 6,
          "metadata": {},
          "output_type": "execute_result"
        }
      ],
      "source": [
        "users_go.isnull().sum()"
      ]
    },
    {
      "cell_type": "code",
      "execution_count": null,
      "id": "04abbc68",
      "metadata": {
        "id": "04abbc68",
        "outputId": "10f92658-42df-4e95-84c4-9fda6d2567ea"
      },
      "outputs": [
        {
          "name": "stdout",
          "output_type": "stream",
          "text": [
            "<class 'pandas.core.frame.DataFrame'>\n",
            "RangeIndex: 18068 entries, 0 to 18067\n",
            "Data columns (total 4 columns):\n",
            " #   Column    Non-Null Count  Dtype  \n",
            "---  ------    --------------  -----  \n",
            " 0   user_id   18068 non-null  int64  \n",
            " 1   distance  18068 non-null  float64\n",
            " 2   duration  18068 non-null  float64\n",
            " 3   date      18068 non-null  object \n",
            "dtypes: float64(2), int64(1), object(1)\n",
            "memory usage: 564.8+ KB\n"
          ]
        }
      ],
      "source": [
        "rides_go.info()"
      ]
    },
    {
      "cell_type": "code",
      "execution_count": null,
      "id": "e2fdd34f",
      "metadata": {
        "id": "e2fdd34f",
        "outputId": "17948192-c07e-4ca4-8ee8-4fc712c86b6e"
      },
      "outputs": [
        {
          "data": {
            "text/plain": [
              "user_id     0\n",
              "distance    0\n",
              "duration    0\n",
              "date        0\n",
              "dtype: int64"
            ]
          },
          "execution_count": 8,
          "metadata": {},
          "output_type": "execute_result"
        }
      ],
      "source": [
        "rides_go.isnull().sum()"
      ]
    },
    {
      "cell_type": "code",
      "execution_count": null,
      "id": "07e3ccf8",
      "metadata": {
        "id": "07e3ccf8",
        "outputId": "69090189-9ed8-4a0e-b956-933f8aff2148"
      },
      "outputs": [
        {
          "name": "stdout",
          "output_type": "stream",
          "text": [
            "<class 'pandas.core.frame.DataFrame'>\n",
            "RangeIndex: 2 entries, 0 to 1\n",
            "Data columns (total 4 columns):\n",
            " #   Column             Non-Null Count  Dtype \n",
            "---  ------             --------------  ----- \n",
            " 0   subscription_type  2 non-null      object\n",
            " 1   minute_price       2 non-null      int64 \n",
            " 2   start_ride_price   2 non-null      int64 \n",
            " 3   subscription_fee   2 non-null      int64 \n",
            "dtypes: int64(3), object(1)\n",
            "memory usage: 192.0+ bytes\n"
          ]
        }
      ],
      "source": [
        "subscriptions_go.info()"
      ]
    },
    {
      "cell_type": "code",
      "execution_count": null,
      "id": "259982ea",
      "metadata": {
        "id": "259982ea",
        "outputId": "cec56438-0857-455c-f586-0101ae4a8ea0"
      },
      "outputs": [
        {
          "data": {
            "text/plain": [
              "subscription_type    0\n",
              "minute_price         0\n",
              "start_ride_price     0\n",
              "subscription_fee     0\n",
              "dtype: int64"
            ]
          },
          "execution_count": 10,
          "metadata": {},
          "output_type": "execute_result"
        }
      ],
      "source": [
        "subscriptions_go.isnull().sum()"
      ]
    },
    {
      "cell_type": "markdown",
      "id": "4f861b74",
      "metadata": {
        "id": "4f861b74"
      },
      "source": [
        "ВЫВОД:\n",
        "- users_go : 1565 записи, пропуски отсутствуют.\n",
        "- users_go : 18068 записи, пропуски отсутствуют.\n",
        "- subscriptions_go : 2 записи, пропуски отсутствуют. Названия столбцов в норме. Для целого ряда столбцов некорректный тип данных. Данные признаны полными и достаточными для исследования."
      ]
    },
    {
      "cell_type": "markdown",
      "id": "e95ebca7",
      "metadata": {
        "id": "e95ebca7"
      },
      "source": [
        "#### Шаг 2. Предобработка данных"
      ]
    },
    {
      "cell_type": "code",
      "execution_count": null,
      "id": "af6d202c",
      "metadata": {
        "id": "af6d202c"
      },
      "outputs": [],
      "source": [
        "rides_go['distance'] = rides_go['distance'].round(2)"
      ]
    },
    {
      "cell_type": "code",
      "execution_count": null,
      "id": "84870540",
      "metadata": {
        "id": "84870540"
      },
      "outputs": [],
      "source": [
        "rides_go['duration'] = np.ceil(rides_go['duration']).astype('int')"
      ]
    },
    {
      "cell_type": "code",
      "execution_count": null,
      "id": "bd138119",
      "metadata": {
        "id": "bd138119"
      },
      "outputs": [],
      "source": [
        "rides_go['date'] = pd.to_datetime(rides_go['date'], format='%Y-%m-%d')"
      ]
    },
    {
      "cell_type": "code",
      "execution_count": null,
      "id": "1ea5b373",
      "metadata": {
        "id": "1ea5b373"
      },
      "outputs": [],
      "source": [
        "rides_go['month'] = rides_go['date'].dt.month"
      ]
    },
    {
      "cell_type": "markdown",
      "id": "99df8e76",
      "metadata": {
        "id": "99df8e76"
      },
      "source": [
        "Обработали данные rides_go:\n",
        "- округлили distance в метрах до 2 знаков после запятой\n",
        "- округлили duration до целых вверх и перевели в int\n",
        "- привели столбец date к типу datetime64\n",
        "- создали столбец month с номером месяца из date"
      ]
    },
    {
      "cell_type": "markdown",
      "id": "212593c7",
      "metadata": {
        "id": "212593c7"
      },
      "source": [
        "#### Шаг 3. Исследовательский анализ данных"
      ]
    },
    {
      "cell_type": "markdown",
      "id": "c9279f1b",
      "metadata": {
        "id": "c9279f1b"
      },
      "source": [
        "3.1.Частота встречаемых городов"
      ]
    },
    {
      "cell_type": "code",
      "execution_count": null,
      "id": "8382b392",
      "metadata": {
        "id": "8382b392",
        "outputId": "57fbfab2-bebe-4aab-a572-52563896fabe"
      },
      "outputs": [
        {
          "data": {
            "image/png": "[encoded data removed]",
            "text/plain": [
              "<Figure size 720x360 with 1 Axes>"
            ]
          },
          "metadata": {
            "needs_background": "light"
          },
          "output_type": "display_data"
        }
      ],
      "source": [
        "(\n",
        "    users_go.pivot_table(index='city', values='user_id', aggfunc='count').sort_values(by='user_id', ascending=True)\n",
        "    .plot(kind='barh', grid=True, figsize=(10, 5))\n",
        ")\n",
        "plt.title('Количество пользователей по городам')\n",
        "plt.ylabel('Города')\n",
        "plt.xlabel('Количество пользователей')\n",
        "plt.show()"
      ]
    },
    {
      "cell_type": "code",
      "execution_count": null,
      "id": "c461e4dc",
      "metadata": {
        "id": "c461e4dc",
        "outputId": "850ead56-c395-4e88-d46e-a963a4f9375c"
      },
      "outputs": [
        {
          "data": {
            "text/html": [
              "<div>\n",
              "<style scoped>\n",
              "    .dataframe tbody tr th:only-of-type {\n",
              "        vertical-align: middle;\n",
              "    }\n",
              "\n",
              "    .dataframe tbody tr th {\n",
              "        vertical-align: top;\n",
              "    }\n",
              "\n",
              "    .dataframe thead th {\n",
              "        text-align: right;\n",
              "    }\n",
              "</style>\n",
              "<table border=\"1\" class=\"dataframe\">\n",
              "  <thead>\n",
              "    <tr style=\"text-align: right;\">\n",
              "      <th></th>\n",
              "      <th>user_id</th>\n",
              "    </tr>\n",
              "    <tr>\n",
              "      <th>city</th>\n",
              "      <th></th>\n",
              "    </tr>\n",
              "  </thead>\n",
              "  <tbody>\n",
              "    <tr>\n",
              "      <th>Пятигорск</th>\n",
              "      <td>226</td>\n",
              "    </tr>\n",
              "    <tr>\n",
              "      <th>Екатеринбург</th>\n",
              "      <td>206</td>\n",
              "    </tr>\n",
              "    <tr>\n",
              "      <th>Ростов-на-Дону</th>\n",
              "      <td>202</td>\n",
              "    </tr>\n",
              "    <tr>\n",
              "      <th>Краснодар</th>\n",
              "      <td>196</td>\n",
              "    </tr>\n",
              "    <tr>\n",
              "      <th>Сочи</th>\n",
              "      <td>192</td>\n",
              "    </tr>\n",
              "    <tr>\n",
              "      <th>Омск</th>\n",
              "      <td>186</td>\n",
              "    </tr>\n",
              "    <tr>\n",
              "      <th>Тюмень</th>\n",
              "      <td>185</td>\n",
              "    </tr>\n",
              "    <tr>\n",
              "      <th>Москва</th>\n",
              "      <td>172</td>\n",
              "    </tr>\n",
              "  </tbody>\n",
              "</table>\n",
              "</div>"
            ],
            "text/plain": [
              "                user_id\n",
              "city                   \n",
              "Пятигорск           226\n",
              "Екатеринбург        206\n",
              "Ростов-на-Дону      202\n",
              "Краснодар           196\n",
              "Сочи                192\n",
              "Омск                186\n",
              "Тюмень              185\n",
              "Москва              172"
            ]
          },
          "execution_count": 16,
          "metadata": {},
          "output_type": "execute_result"
        }
      ],
      "source": [
        "users_go.pivot_table(index='city', values='user_id', aggfunc='count').sort_values(by='user_id', ascending=False)"
      ]
    },
    {
      "cell_type": "markdown",
      "id": "c8032723",
      "metadata": {
        "id": "c8032723"
      },
      "source": [
        "График количества пользователей по городам показывает, что первенство держит город Пятигорск за ним Екатеринбург, Ростов-на-Дону. Впервой половине располагаются в основном южные города, где сезон проката больше, исключение составляет г.Екатеринбург, находящийся на 2 позиции."
      ]
    },
    {
      "cell_type": "markdown",
      "id": "e8aff8dd",
      "metadata": {
        "id": "e8aff8dd"
      },
      "source": [
        "3.2.Соотношение пользователей с подпиской и без подписки"
      ]
    },
    {
      "cell_type": "code",
      "execution_count": null,
      "id": "53139b0e",
      "metadata": {
        "id": "53139b0e",
        "outputId": "47492e01-3f0f-47dd-a5fe-3dd8e7d94c29"
      },
      "outputs": [
        {
          "data": {
            "image/png": "[encoded data removed]",
            "text/plain": [
              "<Figure size 720x720 with 1 Axes>"
            ]
          },
          "metadata": {},
          "output_type": "display_data"
        }
      ],
      "source": [
        "(\n",
        "    users_go.pivot_table(index='subscription_type', values='user_id', aggfunc='count')\n",
        "    .plot.pie(y='user_id', figsize=(10,10),  label='Количество пользователей',\n",
        "    autopct='%1.1f%%', startangle=45,\n",
        "    title='Отношение пользователей `free` - без подписки, `ultra` - с подпиской, к общему количеству')\n",
        "\n",
        ")\n",
        "plt.axis('equal')\n",
        "plt.show()"
      ]
    },
    {
      "cell_type": "markdown",
      "id": "9a03d570",
      "metadata": {
        "id": "9a03d570"
      },
      "source": [
        "Количество пользователей без подписки free 54,1% превышает количество пользователей с подпиской ultra 45,9%."
      ]
    },
    {
      "cell_type": "markdown",
      "id": "b715ed6a",
      "metadata": {
        "id": "b715ed6a"
      },
      "source": [
        "3.3.Возраст пользователей"
      ]
    },
    {
      "cell_type": "code",
      "execution_count": null,
      "id": "672f9ac3",
      "metadata": {
        "id": "672f9ac3",
        "outputId": "8fbd44cd-8e97-405f-d2bb-0db055d4fe36"
      },
      "outputs": [
        {
          "data": {
            "image/png": "[encoded data removed]",
            "text/plain": [
              "<Figure size 720x360 with 1 Axes>"
            ]
          },
          "metadata": {
            "needs_background": "light"
          },
          "output_type": "display_data"
        }
      ],
      "source": [
        "(\n",
        "    users_go.pivot_table(index='age', values='user_id', aggfunc='count').sort_values(by='age', ascending=True)\n",
        "    .plot(kind='bar' , grid=True, figsize=(10, 5))\n",
        ")\n",
        "plt.title('Количество пользователей по возрастам')\n",
        "plt.xlabel('Возраст')\n",
        "plt.ylabel('Количество')\n",
        "plt.show()"
      ]
    },
    {
      "cell_type": "code",
      "execution_count": null,
      "id": "8fd001b8",
      "metadata": {
        "id": "8fd001b8",
        "outputId": "163600bf-c3fb-432f-99cc-5e68e21f8416"
      },
      "outputs": [
        {
          "data": {
            "text/plain": [
              "24.9"
            ]
          },
          "execution_count": 19,
          "metadata": {},
          "output_type": "execute_result"
        }
      ],
      "source": [
        "users_go['age'].mean().round(1)"
      ]
    },
    {
      "cell_type": "code",
      "execution_count": null,
      "id": "f5eb2c1b",
      "metadata": {
        "id": "f5eb2c1b",
        "outputId": "59f52886-1b88-4b3d-ce7f-bb3a143d982a"
      },
      "outputs": [
        {
          "data": {
            "text/plain": [
              "count    1565.000000\n",
              "mean       24.922045\n",
              "std         4.553496\n",
              "min        12.000000\n",
              "25%        22.000000\n",
              "50%        25.000000\n",
              "75%        28.000000\n",
              "max        43.000000\n",
              "Name: age, dtype: float64"
            ]
          },
          "execution_count": 20,
          "metadata": {},
          "output_type": "execute_result"
        }
      ],
      "source": [
        "users_go['age'].describe()"
      ]
    },
    {
      "cell_type": "markdown",
      "id": "dba3f534",
      "metadata": {
        "id": "dba3f534"
      },
      "source": [
        "Гистограмма количества пользователей в зависимости от возраста указывает, что средний возраст потребителя услуги подчиняется нормальному распределению с медианой примерно в 25 лет, при этом средний возраст и медиана практически совпадают."
      ]
    },
    {
      "cell_type": "markdown",
      "id": "9fccc66b",
      "metadata": {
        "id": "9fccc66b"
      },
      "source": [
        "3.4.Расстояние, которое пользователь преодолел за одну поездку"
      ]
    },
    {
      "cell_type": "code",
      "execution_count": null,
      "id": "51f2af4c",
      "metadata": {
        "id": "51f2af4c",
        "outputId": "34291949-fa17-4d9e-9479-bdecb96c4ad2"
      },
      "outputs": [
        {
          "data": {
            "text/plain": [
              "count    18068.000000\n",
              "mean      3070.659992\n",
              "std       1116.831222\n",
              "min          0.860000\n",
              "25%       2543.227500\n",
              "50%       3133.610000\n",
              "75%       3776.220000\n",
              "max       7211.010000\n",
              "Name: distance, dtype: float64"
            ]
          },
          "execution_count": 21,
          "metadata": {},
          "output_type": "execute_result"
        }
      ],
      "source": [
        "rides_go['distance'].describe()"
      ]
    },
    {
      "cell_type": "code",
      "execution_count": null,
      "id": "1767b673",
      "metadata": {
        "id": "1767b673",
        "outputId": "0c772b0c-d791-42f3-9165-d4d823a88bda"
      },
      "outputs": [
        {
          "data": {
            "image/png": "[encoded data removed]",
            "text/plain": [
              "<Figure size 432x288 with 1 Axes>"
            ]
          },
          "metadata": {
            "needs_background": "light"
          },
          "output_type": "display_data"
        }
      ],
      "source": [
        "plt.hist(rides_go['distance'], bins=500, range=(1,5620))\n",
        "plt.title('Количество поездок в зависимости от расстояния поездки')\n",
        "plt.xlabel('Расстояние в метрах')\n",
        "plt.ylabel('Количество поездок')\n",
        "plt.show()"
      ]
    },
    {
      "cell_type": "code",
      "execution_count": null,
      "id": "56f1782f",
      "metadata": {
        "id": "56f1782f",
        "outputId": "c1b4ff6b-3c0c-4efe-8785-3fb055f1e4a2"
      },
      "outputs": [
        {
          "data": {
            "text/plain": [
              "3133.61"
            ]
          },
          "execution_count": 23,
          "metadata": {},
          "output_type": "execute_result"
        }
      ],
      "source": [
        "rides_go['distance'].median()"
      ]
    },
    {
      "cell_type": "markdown",
      "id": "b11108de",
      "metadata": {
        "id": "b11108de"
      },
      "source": [
        "Гистограмма количества поездок в зависимости от расстояния указывает, медиана поездок находится на 3133 метров."
      ]
    },
    {
      "cell_type": "markdown",
      "id": "aac5dbdd",
      "metadata": {
        "id": "aac5dbdd"
      },
      "source": [
        "3.5.Пролжительность поездок"
      ]
    },
    {
      "cell_type": "code",
      "execution_count": null,
      "id": "e11eb95c",
      "metadata": {
        "id": "e11eb95c",
        "outputId": "a0ab1d7e-f387-4548-9e88-95088efad6e1"
      },
      "outputs": [
        {
          "data": {
            "text/plain": [
              "count    18068.000000\n",
              "mean        18.303520\n",
              "std          6.094928\n",
              "min          1.000000\n",
              "25%         14.000000\n",
              "50%         18.000000\n",
              "75%         22.000000\n",
              "max         41.000000\n",
              "Name: duration, dtype: float64"
            ]
          },
          "execution_count": 24,
          "metadata": {},
          "output_type": "execute_result"
        }
      ],
      "source": [
        "rides_go['duration'].describe()"
      ]
    },
    {
      "cell_type": "code",
      "execution_count": null,
      "id": "cca15e8e",
      "metadata": {
        "scrolled": true,
        "id": "cca15e8e",
        "outputId": "e98a9189-c01d-4005-cb59-7f29d02fdfb3"
      },
      "outputs": [
        {
          "data": {
            "image/png": "[encoded data removed]",
            "text/plain": [
              "<Figure size 432x288 with 1 Axes>"
            ]
          },
          "metadata": {
            "needs_background": "light"
          },
          "output_type": "display_data"
        }
      ],
      "source": [
        "plt.hist(rides_go['duration'], bins=41, range=(1,41))\n",
        "plt.title('Количество поездок в зависимости от продолжительности')\n",
        "plt.xlabel('продолжительность поездки')\n",
        "plt.ylabel('Количество поездок')\n",
        "plt.show()"
      ]
    },
    {
      "cell_type": "markdown",
      "id": "db2de24d",
      "metadata": {
        "id": "db2de24d"
      },
      "source": [
        "Гистограмма количества поездок в зависимости от продолжительности указывает, среднее значение поездок находится на 18 мин. Замечено аномальное время поездок порядка 100 с временем менее 1 минуты."
      ]
    },
    {
      "cell_type": "markdown",
      "id": "4ef51331",
      "metadata": {
        "id": "4ef51331"
      },
      "source": [
        "#### Шаг 4. Объединение данных"
      ]
    },
    {
      "cell_type": "code",
      "execution_count": null,
      "id": "e22963b1",
      "metadata": {
        "id": "e22963b1"
      },
      "outputs": [],
      "source": [
        "data = pd.merge(users_go, subscriptions_go, on='subscription_type')\n",
        "data = pd.merge(rides_go, data, on='user_id')"
      ]
    },
    {
      "cell_type": "code",
      "execution_count": null,
      "id": "6bf288b5",
      "metadata": {
        "id": "6bf288b5",
        "outputId": "a306d04d-88e0-409e-ae22-7e00ec3abd1b"
      },
      "outputs": [
        {
          "name": "stdout",
          "output_type": "stream",
          "text": [
            "Количество явных дубликатов =  320\n",
            "<class 'pandas.core.frame.DataFrame'>\n",
            "Int64Index: 18388 entries, 0 to 18387\n",
            "Data columns (total 12 columns):\n",
            " #   Column             Non-Null Count  Dtype         \n",
            "---  ------             --------------  -----         \n",
            " 0   user_id            18388 non-null  int64         \n",
            " 1   distance           18388 non-null  float64       \n",
            " 2   duration           18388 non-null  int64         \n",
            " 3   date               18388 non-null  datetime64[ns]\n",
            " 4   month              18388 non-null  int64         \n",
            " 5   name               18388 non-null  object        \n",
            " 6   age                18388 non-null  int64         \n",
            " 7   city               18388 non-null  object        \n",
            " 8   subscription_type  18388 non-null  object        \n",
            " 9   minute_price       18388 non-null  int64         \n",
            " 10  start_ride_price   18388 non-null  int64         \n",
            " 11  subscription_fee   18388 non-null  int64         \n",
            "dtypes: datetime64[ns](1), float64(1), int64(7), object(3)\n",
            "memory usage: 1.8+ MB\n"
          ]
        }
      ],
      "source": [
        "print('Количество явных дубликатов = ', data.duplicated().sum())\n",
        "data.info()"
      ]
    },
    {
      "cell_type": "code",
      "execution_count": null,
      "id": "bd18aec2",
      "metadata": {
        "id": "bd18aec2",
        "outputId": "6358427b-8677-44fc-f6d9-5c01a40a600a"
      },
      "outputs": [
        {
          "data": {
            "text/html": [
              "<div>\n",
              "<style scoped>\n",
              "    .dataframe tbody tr th:only-of-type {\n",
              "        vertical-align: middle;\n",
              "    }\n",
              "\n",
              "    .dataframe tbody tr th {\n",
              "        vertical-align: top;\n",
              "    }\n",
              "\n",
              "    .dataframe thead th {\n",
              "        text-align: right;\n",
              "    }\n",
              "</style>\n",
              "<table border=\"1\" class=\"dataframe\">\n",
              "  <thead>\n",
              "    <tr style=\"text-align: right;\">\n",
              "      <th></th>\n",
              "      <th>user_id</th>\n",
              "      <th>distance</th>\n",
              "      <th>duration</th>\n",
              "      <th>date</th>\n",
              "      <th>month</th>\n",
              "      <th>name</th>\n",
              "      <th>age</th>\n",
              "      <th>city</th>\n",
              "      <th>subscription_type</th>\n",
              "      <th>minute_price</th>\n",
              "      <th>start_ride_price</th>\n",
              "      <th>subscription_fee</th>\n",
              "    </tr>\n",
              "  </thead>\n",
              "  <tbody>\n",
              "    <tr>\n",
              "      <th>0</th>\n",
              "      <td>1</td>\n",
              "      <td>4409.92</td>\n",
              "      <td>26</td>\n",
              "      <td>2021-01-01</td>\n",
              "      <td>1</td>\n",
              "      <td>Кира</td>\n",
              "      <td>22</td>\n",
              "      <td>Тюмень</td>\n",
              "      <td>ultra</td>\n",
              "      <td>6</td>\n",
              "      <td>0</td>\n",
              "      <td>199</td>\n",
              "    </tr>\n",
              "    <tr>\n",
              "      <th>1</th>\n",
              "      <td>1</td>\n",
              "      <td>2617.59</td>\n",
              "      <td>16</td>\n",
              "      <td>2021-01-18</td>\n",
              "      <td>1</td>\n",
              "      <td>Кира</td>\n",
              "      <td>22</td>\n",
              "      <td>Тюмень</td>\n",
              "      <td>ultra</td>\n",
              "      <td>6</td>\n",
              "      <td>0</td>\n",
              "      <td>199</td>\n",
              "    </tr>\n",
              "    <tr>\n",
              "      <th>2</th>\n",
              "      <td>1</td>\n",
              "      <td>754.16</td>\n",
              "      <td>7</td>\n",
              "      <td>2021-04-20</td>\n",
              "      <td>4</td>\n",
              "      <td>Кира</td>\n",
              "      <td>22</td>\n",
              "      <td>Тюмень</td>\n",
              "      <td>ultra</td>\n",
              "      <td>6</td>\n",
              "      <td>0</td>\n",
              "      <td>199</td>\n",
              "    </tr>\n",
              "    <tr>\n",
              "      <th>3</th>\n",
              "      <td>1</td>\n",
              "      <td>2694.78</td>\n",
              "      <td>19</td>\n",
              "      <td>2021-08-11</td>\n",
              "      <td>8</td>\n",
              "      <td>Кира</td>\n",
              "      <td>22</td>\n",
              "      <td>Тюмень</td>\n",
              "      <td>ultra</td>\n",
              "      <td>6</td>\n",
              "      <td>0</td>\n",
              "      <td>199</td>\n",
              "    </tr>\n",
              "    <tr>\n",
              "      <th>4</th>\n",
              "      <td>1</td>\n",
              "      <td>4028.69</td>\n",
              "      <td>27</td>\n",
              "      <td>2021-08-28</td>\n",
              "      <td>8</td>\n",
              "      <td>Кира</td>\n",
              "      <td>22</td>\n",
              "      <td>Тюмень</td>\n",
              "      <td>ultra</td>\n",
              "      <td>6</td>\n",
              "      <td>0</td>\n",
              "      <td>199</td>\n",
              "    </tr>\n",
              "  </tbody>\n",
              "</table>\n",
              "</div>"
            ],
            "text/plain": [
              "   user_id  distance  duration       date  month  name  age    city  \\\n",
              "0        1   4409.92        26 2021-01-01      1  Кира   22  Тюмень   \n",
              "1        1   2617.59        16 2021-01-18      1  Кира   22  Тюмень   \n",
              "2        1    754.16         7 2021-04-20      4  Кира   22  Тюмень   \n",
              "3        1   2694.78        19 2021-08-11      8  Кира   22  Тюмень   \n",
              "4        1   4028.69        27 2021-08-28      8  Кира   22  Тюмень   \n",
              "\n",
              "  subscription_type  minute_price  start_ride_price  subscription_fee  \n",
              "0             ultra             6                 0               199  \n",
              "1             ultra             6                 0               199  \n",
              "2             ultra             6                 0               199  \n",
              "3             ultra             6                 0               199  \n",
              "4             ultra             6                 0               199  "
            ]
          },
          "execution_count": 28,
          "metadata": {},
          "output_type": "execute_result"
        }
      ],
      "source": [
        "data.head()"
      ]
    },
    {
      "cell_type": "markdown",
      "id": "3683d3b6",
      "metadata": {
        "id": "3683d3b6"
      },
      "source": [
        "Созданный датафрейм объединяет таблицы rides_go, users_go, subscriptions_go в своем составе имеет 18068 строк во всех столбцах, что соответствует исходной таблице rides_go. 320 явных дубликатов."
      ]
    },
    {
      "cell_type": "code",
      "execution_count": null,
      "id": "7008e727",
      "metadata": {
        "id": "7008e727"
      },
      "outputs": [],
      "source": [
        "data_free = data[data['subscription_type'] == 'free']"
      ]
    },
    {
      "cell_type": "code",
      "execution_count": null,
      "id": "5ddc3e83",
      "metadata": {
        "id": "5ddc3e83",
        "outputId": "19926ce9-855d-4c5a-cfae-56e1e0f8e1a0"
      },
      "outputs": [
        {
          "data": {
            "text/html": [
              "<div>\n",
              "<style scoped>\n",
              "    .dataframe tbody tr th:only-of-type {\n",
              "        vertical-align: middle;\n",
              "    }\n",
              "\n",
              "    .dataframe tbody tr th {\n",
              "        vertical-align: top;\n",
              "    }\n",
              "\n",
              "    .dataframe thead th {\n",
              "        text-align: right;\n",
              "    }\n",
              "</style>\n",
              "<table border=\"1\" class=\"dataframe\">\n",
              "  <thead>\n",
              "    <tr style=\"text-align: right;\">\n",
              "      <th></th>\n",
              "      <th>user_id</th>\n",
              "      <th>distance</th>\n",
              "      <th>duration</th>\n",
              "      <th>date</th>\n",
              "      <th>month</th>\n",
              "      <th>name</th>\n",
              "      <th>age</th>\n",
              "      <th>city</th>\n",
              "      <th>subscription_type</th>\n",
              "      <th>minute_price</th>\n",
              "      <th>start_ride_price</th>\n",
              "      <th>subscription_fee</th>\n",
              "    </tr>\n",
              "  </thead>\n",
              "  <tbody>\n",
              "    <tr>\n",
              "      <th>6672</th>\n",
              "      <td>700</td>\n",
              "      <td>2515.69</td>\n",
              "      <td>15</td>\n",
              "      <td>2021-01-02</td>\n",
              "      <td>1</td>\n",
              "      <td>Айдар</td>\n",
              "      <td>22</td>\n",
              "      <td>Омск</td>\n",
              "      <td>free</td>\n",
              "      <td>8</td>\n",
              "      <td>50</td>\n",
              "      <td>0</td>\n",
              "    </tr>\n",
              "    <tr>\n",
              "      <th>6673</th>\n",
              "      <td>700</td>\n",
              "      <td>846.93</td>\n",
              "      <td>17</td>\n",
              "      <td>2021-02-01</td>\n",
              "      <td>2</td>\n",
              "      <td>Айдар</td>\n",
              "      <td>22</td>\n",
              "      <td>Омск</td>\n",
              "      <td>free</td>\n",
              "      <td>8</td>\n",
              "      <td>50</td>\n",
              "      <td>0</td>\n",
              "    </tr>\n",
              "    <tr>\n",
              "      <th>6674</th>\n",
              "      <td>700</td>\n",
              "      <td>4004.43</td>\n",
              "      <td>21</td>\n",
              "      <td>2021-02-04</td>\n",
              "      <td>2</td>\n",
              "      <td>Айдар</td>\n",
              "      <td>22</td>\n",
              "      <td>Омск</td>\n",
              "      <td>free</td>\n",
              "      <td>8</td>\n",
              "      <td>50</td>\n",
              "      <td>0</td>\n",
              "    </tr>\n",
              "    <tr>\n",
              "      <th>6675</th>\n",
              "      <td>700</td>\n",
              "      <td>1205.91</td>\n",
              "      <td>10</td>\n",
              "      <td>2021-02-10</td>\n",
              "      <td>2</td>\n",
              "      <td>Айдар</td>\n",
              "      <td>22</td>\n",
              "      <td>Омск</td>\n",
              "      <td>free</td>\n",
              "      <td>8</td>\n",
              "      <td>50</td>\n",
              "      <td>0</td>\n",
              "    </tr>\n",
              "    <tr>\n",
              "      <th>6676</th>\n",
              "      <td>700</td>\n",
              "      <td>3047.38</td>\n",
              "      <td>18</td>\n",
              "      <td>2021-02-14</td>\n",
              "      <td>2</td>\n",
              "      <td>Айдар</td>\n",
              "      <td>22</td>\n",
              "      <td>Омск</td>\n",
              "      <td>free</td>\n",
              "      <td>8</td>\n",
              "      <td>50</td>\n",
              "      <td>0</td>\n",
              "    </tr>\n",
              "  </tbody>\n",
              "</table>\n",
              "</div>"
            ],
            "text/plain": [
              "      user_id  distance  duration       date  month   name  age  city  \\\n",
              "6672      700   2515.69        15 2021-01-02      1  Айдар   22  Омск   \n",
              "6673      700    846.93        17 2021-02-01      2  Айдар   22  Омск   \n",
              "6674      700   4004.43        21 2021-02-04      2  Айдар   22  Омск   \n",
              "6675      700   1205.91        10 2021-02-10      2  Айдар   22  Омск   \n",
              "6676      700   3047.38        18 2021-02-14      2  Айдар   22  Омск   \n",
              "\n",
              "     subscription_type  minute_price  start_ride_price  subscription_fee  \n",
              "6672              free             8                50                 0  \n",
              "6673              free             8                50                 0  \n",
              "6674              free             8                50                 0  \n",
              "6675              free             8                50                 0  \n",
              "6676              free             8                50                 0  "
            ]
          },
          "execution_count": 30,
          "metadata": {},
          "output_type": "execute_result"
        }
      ],
      "source": [
        "data_free.head()"
      ]
    },
    {
      "cell_type": "code",
      "execution_count": null,
      "id": "7203e677",
      "metadata": {
        "id": "7203e677"
      },
      "outputs": [],
      "source": [
        "data_ultra = data[data['subscription_type'] == 'ultra']"
      ]
    },
    {
      "cell_type": "code",
      "execution_count": null,
      "id": "a8a0c2d4",
      "metadata": {
        "id": "a8a0c2d4",
        "outputId": "2509b7eb-e311-43a7-f0c2-ef67e18a3fa9"
      },
      "outputs": [
        {
          "data": {
            "text/html": [
              "<div>\n",
              "<style scoped>\n",
              "    .dataframe tbody tr th:only-of-type {\n",
              "        vertical-align: middle;\n",
              "    }\n",
              "\n",
              "    .dataframe tbody tr th {\n",
              "        vertical-align: top;\n",
              "    }\n",
              "\n",
              "    .dataframe thead th {\n",
              "        text-align: right;\n",
              "    }\n",
              "</style>\n",
              "<table border=\"1\" class=\"dataframe\">\n",
              "  <thead>\n",
              "    <tr style=\"text-align: right;\">\n",
              "      <th></th>\n",
              "      <th>user_id</th>\n",
              "      <th>distance</th>\n",
              "      <th>duration</th>\n",
              "      <th>date</th>\n",
              "      <th>month</th>\n",
              "      <th>name</th>\n",
              "      <th>age</th>\n",
              "      <th>city</th>\n",
              "      <th>subscription_type</th>\n",
              "      <th>minute_price</th>\n",
              "      <th>start_ride_price</th>\n",
              "      <th>subscription_fee</th>\n",
              "    </tr>\n",
              "  </thead>\n",
              "  <tbody>\n",
              "    <tr>\n",
              "      <th>0</th>\n",
              "      <td>1</td>\n",
              "      <td>4409.92</td>\n",
              "      <td>26</td>\n",
              "      <td>2021-01-01</td>\n",
              "      <td>1</td>\n",
              "      <td>Кира</td>\n",
              "      <td>22</td>\n",
              "      <td>Тюмень</td>\n",
              "      <td>ultra</td>\n",
              "      <td>6</td>\n",
              "      <td>0</td>\n",
              "      <td>199</td>\n",
              "    </tr>\n",
              "    <tr>\n",
              "      <th>1</th>\n",
              "      <td>1</td>\n",
              "      <td>2617.59</td>\n",
              "      <td>16</td>\n",
              "      <td>2021-01-18</td>\n",
              "      <td>1</td>\n",
              "      <td>Кира</td>\n",
              "      <td>22</td>\n",
              "      <td>Тюмень</td>\n",
              "      <td>ultra</td>\n",
              "      <td>6</td>\n",
              "      <td>0</td>\n",
              "      <td>199</td>\n",
              "    </tr>\n",
              "    <tr>\n",
              "      <th>2</th>\n",
              "      <td>1</td>\n",
              "      <td>754.16</td>\n",
              "      <td>7</td>\n",
              "      <td>2021-04-20</td>\n",
              "      <td>4</td>\n",
              "      <td>Кира</td>\n",
              "      <td>22</td>\n",
              "      <td>Тюмень</td>\n",
              "      <td>ultra</td>\n",
              "      <td>6</td>\n",
              "      <td>0</td>\n",
              "      <td>199</td>\n",
              "    </tr>\n",
              "    <tr>\n",
              "      <th>3</th>\n",
              "      <td>1</td>\n",
              "      <td>2694.78</td>\n",
              "      <td>19</td>\n",
              "      <td>2021-08-11</td>\n",
              "      <td>8</td>\n",
              "      <td>Кира</td>\n",
              "      <td>22</td>\n",
              "      <td>Тюмень</td>\n",
              "      <td>ultra</td>\n",
              "      <td>6</td>\n",
              "      <td>0</td>\n",
              "      <td>199</td>\n",
              "    </tr>\n",
              "    <tr>\n",
              "      <th>4</th>\n",
              "      <td>1</td>\n",
              "      <td>4028.69</td>\n",
              "      <td>27</td>\n",
              "      <td>2021-08-28</td>\n",
              "      <td>8</td>\n",
              "      <td>Кира</td>\n",
              "      <td>22</td>\n",
              "      <td>Тюмень</td>\n",
              "      <td>ultra</td>\n",
              "      <td>6</td>\n",
              "      <td>0</td>\n",
              "      <td>199</td>\n",
              "    </tr>\n",
              "  </tbody>\n",
              "</table>\n",
              "</div>"
            ],
            "text/plain": [
              "   user_id  distance  duration       date  month  name  age    city  \\\n",
              "0        1   4409.92        26 2021-01-01      1  Кира   22  Тюмень   \n",
              "1        1   2617.59        16 2021-01-18      1  Кира   22  Тюмень   \n",
              "2        1    754.16         7 2021-04-20      4  Кира   22  Тюмень   \n",
              "3        1   2694.78        19 2021-08-11      8  Кира   22  Тюмень   \n",
              "4        1   4028.69        27 2021-08-28      8  Кира   22  Тюмень   \n",
              "\n",
              "  subscription_type  minute_price  start_ride_price  subscription_fee  \n",
              "0             ultra             6                 0               199  \n",
              "1             ultra             6                 0               199  \n",
              "2             ultra             6                 0               199  \n",
              "3             ultra             6                 0               199  \n",
              "4             ultra             6                 0               199  "
            ]
          },
          "execution_count": 32,
          "metadata": {},
          "output_type": "execute_result"
        }
      ],
      "source": [
        "data_ultra.head()"
      ]
    },
    {
      "cell_type": "code",
      "execution_count": null,
      "id": "824fe146",
      "metadata": {
        "id": "824fe146",
        "outputId": "15b6b9a7-67a1-4475-c43b-eaa2410f8ef1"
      },
      "outputs": [
        {
          "name": "stdout",
          "output_type": "stream",
          "text": [
            "Разделение прошло успешно\n"
          ]
        }
      ],
      "source": [
        "if len(data) == (len(data_free) + len(data_ultra)):\n",
        "    print('Разделение прошло успешно')\n",
        "else:\n",
        "    print('Что-то пошло не так')"
      ]
    },
    {
      "cell_type": "code",
      "execution_count": null,
      "id": "0b7d9d09",
      "metadata": {
        "id": "0b7d9d09",
        "outputId": "2c6536ec-859b-4f50-fadf-e52b539f9d89"
      },
      "outputs": [
        {
          "data": {
            "image/png": "[encoded data removed]",
            "text/plain": [
              "<Figure size 432x288 with 1 Axes>"
            ]
          },
          "metadata": {
            "needs_background": "light"
          },
          "output_type": "display_data"
        }
      ],
      "source": [
        "plt.hist([data_free['distance'], data_ultra['distance']], bins=50, range=(1,5600), label=['free', 'ultra'])\n",
        "plt.legend(loc='upper right')\n",
        "plt.title('Количество поездок в зависимости расстояния поездки')\n",
        "plt.xlabel('Расстояние в метрах')\n",
        "plt.ylabel('Количество поездок')\n",
        "plt.show()"
      ]
    },
    {
      "cell_type": "code",
      "execution_count": null,
      "id": "c29c4603",
      "metadata": {
        "id": "c29c4603",
        "outputId": "d8dd6b7e-240f-4199-cc3f-e8cf0a46c51a"
      },
      "outputs": [
        {
          "data": {
            "image/png": "[encoded data removed]",
            "text/plain": [
              "<Figure size 432x288 with 1 Axes>"
            ]
          },
          "metadata": {
            "needs_background": "light"
          },
          "output_type": "display_data"
        }
      ],
      "source": [
        "plt.hist([data_free['duration'], data_ultra['duration']], bins=30, range=(1,30), label=['free', 'ultra'])\n",
        "plt.legend(loc='upper right')\n",
        "plt.title('Количество поездок в зависимости от продолжительности')\n",
        "plt.xlabel('продолжительность поездки')\n",
        "plt.ylabel('Количество поездок')\n",
        "plt.show()"
      ]
    },
    {
      "cell_type": "code",
      "execution_count": null,
      "id": "462c5e6c",
      "metadata": {
        "id": "462c5e6c",
        "outputId": "f8e6c8d7-fa7f-417c-95eb-e251b542d7ba"
      },
      "outputs": [
        {
          "data": {
            "text/plain": [
              "count    11716.000000\n",
              "mean      3045.357338\n",
              "std       1246.269591\n",
              "min          0.860000\n",
              "25%       2366.995000\n",
              "50%       3114.665000\n",
              "75%       3903.765000\n",
              "max       7211.010000\n",
              "Name: distance, dtype: float64"
            ]
          },
          "execution_count": 36,
          "metadata": {},
          "output_type": "execute_result"
        }
      ],
      "source": [
        "data_free['distance'].describe()"
      ]
    },
    {
      "cell_type": "code",
      "execution_count": null,
      "id": "6e9c600d",
      "metadata": {
        "id": "6e9c600d",
        "outputId": "158cf239-eecf-46ca-bb40-f91e041dc99a"
      },
      "outputs": [
        {
          "data": {
            "text/plain": [
              "count    6672.000000\n",
              "mean     3115.435009\n",
              "std       836.687033\n",
              "min       244.210000\n",
              "25%      2785.360000\n",
              "50%      3148.735000\n",
              "75%      3559.722500\n",
              "max      5699.770000\n",
              "Name: distance, dtype: float64"
            ]
          },
          "execution_count": 37,
          "metadata": {},
          "output_type": "execute_result"
        }
      ],
      "source": [
        "data_ultra['distance'].describe()"
      ]
    },
    {
      "cell_type": "code",
      "execution_count": null,
      "id": "c85241d3",
      "metadata": {
        "id": "c85241d3",
        "outputId": "cfc5e473-fb38-406f-a762-a51a7f36e84c"
      },
      "outputs": [
        {
          "data": {
            "text/plain": [
              "count    11716.000000\n",
              "mean        17.894503\n",
              "std          6.329518\n",
              "min          1.000000\n",
              "25%         13.000000\n",
              "50%         18.000000\n",
              "75%         22.000000\n",
              "max         35.000000\n",
              "Name: duration, dtype: float64"
            ]
          },
          "execution_count": 38,
          "metadata": {},
          "output_type": "execute_result"
        }
      ],
      "source": [
        "data_free['duration'].describe()"
      ]
    },
    {
      "cell_type": "code",
      "execution_count": null,
      "id": "185eebc0",
      "metadata": {
        "id": "185eebc0",
        "outputId": "f4579957-254d-4997-fb86-4555c26f8f70"
      },
      "outputs": [
        {
          "data": {
            "text/plain": [
              "count    6672.000000\n",
              "mean       19.026679\n",
              "std         5.578446\n",
              "min         4.000000\n",
              "25%        15.000000\n",
              "50%        19.000000\n",
              "75%        22.000000\n",
              "max        41.000000\n",
              "Name: duration, dtype: float64"
            ]
          },
          "execution_count": 39,
          "metadata": {},
          "output_type": "execute_result"
        }
      ],
      "source": [
        "data_ultra['duration'].describe()"
      ]
    },
    {
      "cell_type": "markdown",
      "id": "a45b5d99",
      "metadata": {
        "id": "a45b5d99"
      },
      "source": [
        "Вывод:\n",
        "\n",
        "Визуализация по пользователям без подписки free и с подпиской ultra указывает, что подписка влияет на медианные значения (расстояния поезки без подписки 3114.65 метров с подпиской 3148.64 метров), при этом заметно что у пользователей с подпиской меньший разброс ( видно из графиков и по стандартному отклонению free - 1246,17 ultra - 836.89), также заметно смешение центра дополнительного пика с 500 метров (free) до 1000 (ultra).\n",
        "\n",
        "Визуализация созданных датафреймов зависимости количества поездок за определенное время и описательная статистика по пользователям без подписки free и с подпиской ultra указывает, что подписка влияет на медианные значения (время поезки без подписки 18 мин с подпиской 19 мин), так же замечено снижение стандартного отклонения free - 6.33 ultra - 5.57.\n",
        "\n",
        "Подписка влияет на расстояние поездок и на время в пути"
      ]
    },
    {
      "cell_type": "markdown",
      "id": "402d620f",
      "metadata": {
        "id": "402d620f"
      },
      "source": [
        "#### Шаг 5. Подсчёт выручки"
      ]
    },
    {
      "cell_type": "code",
      "execution_count": null,
      "id": "53049e0a",
      "metadata": {
        "id": "53049e0a"
      },
      "outputs": [],
      "source": [
        "users_months_revenue = data.pivot_table(\n",
        "    index=('user_id', 'month'),\n",
        "    values=(\n",
        "        'distance',\n",
        "        'duration',\n",
        "        'minute_price',\n",
        "        'start_ride_price',\n",
        "        'subscription_fee'\n",
        "    ),\n",
        "    aggfunc=({'distance':{'count', 'sum'},\n",
        "             'duration':'sum',\n",
        "             'minute_price': 'mean',\n",
        "             'start_ride_price':'mean',\n",
        "             'subscription_fee':'mean',})\n",
        ")"
      ]
    },
    {
      "cell_type": "code",
      "execution_count": null,
      "id": "a68c08b0",
      "metadata": {
        "id": "a68c08b0"
      },
      "outputs": [],
      "source": [
        "users_months_revenue.columns = [\n",
        "    'count', 'distance',\n",
        "    'duration',\n",
        "    'minute_price',\n",
        "    'start_ride_price',\n",
        "    'subscription_fee'\n",
        "]"
      ]
    },
    {
      "cell_type": "code",
      "execution_count": null,
      "id": "69430b01",
      "metadata": {
        "id": "69430b01",
        "outputId": "d0e973c3-3adc-4cef-9c54-6df7c933f26a"
      },
      "outputs": [
        {
          "data": {
            "text/html": [
              "<div>\n",
              "<style scoped>\n",
              "    .dataframe tbody tr th:only-of-type {\n",
              "        vertical-align: middle;\n",
              "    }\n",
              "\n",
              "    .dataframe tbody tr th {\n",
              "        vertical-align: top;\n",
              "    }\n",
              "\n",
              "    .dataframe thead th {\n",
              "        text-align: right;\n",
              "    }\n",
              "</style>\n",
              "<table border=\"1\" class=\"dataframe\">\n",
              "  <thead>\n",
              "    <tr style=\"text-align: right;\">\n",
              "      <th></th>\n",
              "      <th></th>\n",
              "      <th>count</th>\n",
              "      <th>distance</th>\n",
              "      <th>duration</th>\n",
              "      <th>minute_price</th>\n",
              "      <th>start_ride_price</th>\n",
              "      <th>subscription_fee</th>\n",
              "    </tr>\n",
              "    <tr>\n",
              "      <th>user_id</th>\n",
              "      <th>month</th>\n",
              "      <th></th>\n",
              "      <th></th>\n",
              "      <th></th>\n",
              "      <th></th>\n",
              "      <th></th>\n",
              "      <th></th>\n",
              "    </tr>\n",
              "  </thead>\n",
              "  <tbody>\n",
              "    <tr>\n",
              "      <th rowspan=\"5\" valign=\"top\">1</th>\n",
              "      <th>1</th>\n",
              "      <td>2</td>\n",
              "      <td>7027.51</td>\n",
              "      <td>42</td>\n",
              "      <td>6</td>\n",
              "      <td>0</td>\n",
              "      <td>199</td>\n",
              "    </tr>\n",
              "    <tr>\n",
              "      <th>4</th>\n",
              "      <td>1</td>\n",
              "      <td>754.16</td>\n",
              "      <td>7</td>\n",
              "      <td>6</td>\n",
              "      <td>0</td>\n",
              "      <td>199</td>\n",
              "    </tr>\n",
              "    <tr>\n",
              "      <th>8</th>\n",
              "      <td>2</td>\n",
              "      <td>6723.47</td>\n",
              "      <td>46</td>\n",
              "      <td>6</td>\n",
              "      <td>0</td>\n",
              "      <td>199</td>\n",
              "    </tr>\n",
              "    <tr>\n",
              "      <th>10</th>\n",
              "      <td>2</td>\n",
              "      <td>5809.91</td>\n",
              "      <td>32</td>\n",
              "      <td>6</td>\n",
              "      <td>0</td>\n",
              "      <td>199</td>\n",
              "    </tr>\n",
              "    <tr>\n",
              "      <th>11</th>\n",
              "      <td>3</td>\n",
              "      <td>7003.50</td>\n",
              "      <td>56</td>\n",
              "      <td>6</td>\n",
              "      <td>0</td>\n",
              "      <td>199</td>\n",
              "    </tr>\n",
              "  </tbody>\n",
              "</table>\n",
              "</div>"
            ],
            "text/plain": [
              "               count  distance  duration  minute_price  start_ride_price  \\\n",
              "user_id month                                                              \n",
              "1       1          2   7027.51        42             6                 0   \n",
              "        4          1    754.16         7             6                 0   \n",
              "        8          2   6723.47        46             6                 0   \n",
              "        10         2   5809.91        32             6                 0   \n",
              "        11         3   7003.50        56             6                 0   \n",
              "\n",
              "               subscription_fee  \n",
              "user_id month                    \n",
              "1       1                   199  \n",
              "        4                   199  \n",
              "        8                   199  \n",
              "        10                  199  \n",
              "        11                  199  "
            ]
          },
          "execution_count": 42,
          "metadata": {},
          "output_type": "execute_result"
        }
      ],
      "source": [
        "users_months_revenue.head()"
      ]
    },
    {
      "cell_type": "code",
      "execution_count": null,
      "id": "2158a47b",
      "metadata": {
        "id": "2158a47b",
        "outputId": "4826cb05-a32b-45c6-9f79-015fe081cbba"
      },
      "outputs": [
        {
          "name": "stdout",
          "output_type": "stream",
          "text": [
            "Записи с  2021-01-01 00:00:00 по 2021-12-30 00:00:00\n",
            "Выручка за 2021 год составила : 3926759 руб.\n"
          ]
        }
      ],
      "source": [
        "users_months_revenue['revenue'] = (\n",
        "users_months_revenue['start_ride_price']*users_months_revenue['count']+\n",
        "users_months_revenue['minute_price']*users_months_revenue['duration']+\n",
        "users_months_revenue['subscription_fee'])\n",
        "\n",
        "print('Записи с ', data['date'].min(), 'по', data['date'].max())\n",
        "print ('Выручка за 2021 год составила :',users_months_revenue['revenue'].sum(), 'руб.')"
      ]
    },
    {
      "cell_type": "markdown",
      "id": "41545ac0",
      "metadata": {
        "id": "41545ac0"
      },
      "source": [
        "#### Шаг 6. Проверка гипотез"
      ]
    },
    {
      "cell_type": "code",
      "execution_count": null,
      "id": "23ea867b",
      "metadata": {
        "id": "23ea867b",
        "outputId": "10d3d10b-8790-4d41-d6c9-3606a02974f6"
      },
      "outputs": [
        {
          "name": "stdout",
          "output_type": "stream",
          "text": [
            "3.1973284248890177e-34\n",
            "Отвергаем нулевую гипотезу\n"
          ]
        }
      ],
      "source": [
        "results = st.ttest_ind(\n",
        "    data_ultra['duration'],\n",
        "    data_free['duration'],\n",
        "    equal_var=True,\n",
        "    alternative='greater')\n",
        "print(results.pvalue)\n",
        "\n",
        "alpha = 0.05\n",
        "if results.pvalue < alpha:\n",
        "    print('Отвергаем нулевую гипотезу')\n",
        "else:\n",
        "    print('Не получилось отвергнуть нулевую гипотезу')"
      ]
    },
    {
      "cell_type": "markdown",
      "id": "20acd22d",
      "metadata": {
        "id": "20acd22d"
      },
      "source": [
        "Вывод:\n",
        "\n",
        "Cредняя продолжительность поездки с подпиской больше продолжительности поездок без подписки при установленном уровне значимости в 5 %, хотя на гистограммах, это практически не прослеживается."
      ]
    },
    {
      "cell_type": "code",
      "execution_count": null,
      "id": "334eeef0",
      "metadata": {
        "id": "334eeef0",
        "outputId": "6c2d10df-0de1-4ff5-f94d-8fcafc3c4619"
      },
      "outputs": [
        {
          "name": "stdout",
          "output_type": "stream",
          "text": [
            "4.227438894541132e-29\n",
            "Отвергаем нулевую гипотезу\n"
          ]
        }
      ],
      "source": [
        "results = st.ttest_ind(\n",
        "    users_months_revenue.loc[users_months_revenue['subscription_fee'] > 0, 'revenue'],\n",
        "    users_months_revenue.loc[users_months_revenue['subscription_fee'] == 0, 'revenue'],\n",
        "    equal_var=True,\n",
        "    alternative='greater')\n",
        "print(results.pvalue)\n",
        "\n",
        "alpha = 0.05\n",
        "if results.pvalue < alpha:\n",
        "    print('Отвергаем нулевую гипотезу')\n",
        "else:\n",
        "    print('Не получилось отвергнуть нулевую гипотезу')"
      ]
    },
    {
      "cell_type": "markdown",
      "id": "8130ad44",
      "metadata": {
        "id": "8130ad44"
      },
      "source": [
        "Средняя месячная выручка от пользователей с подпиской, больше средней месячной выручки от пользователей без подписки, при установленном уровне значимости в 5 %."
      ]
    }
  ],
  "metadata": {
    "ExecuteTimeLog": [
      {
        "duration": 387,
        "start_time": "2025-02-23T13:14:33.927Z"
      },
      {
        "duration": 405,
        "start_time": "2025-02-23T13:14:34.384Z"
      },
      {
        "duration": 3,
        "start_time": "2025-02-23T13:14:34.791Z"
      },
      {
        "duration": 481,
        "start_time": "2025-02-23T13:14:35.307Z"
      },
      {
        "duration": 2,
        "start_time": "2025-02-23T13:14:35.790Z"
      },
      {
        "duration": 29,
        "start_time": "2025-02-23T13:14:36.963Z"
      },
      {
        "duration": 29,
        "start_time": "2025-02-23T13:14:37.556Z"
      },
      {
        "duration": 16,
        "start_time": "2025-02-23T13:14:38.291Z"
      },
      {
        "duration": 23,
        "start_time": "2025-02-23T13:15:27.612Z"
      },
      {
        "duration": 32,
        "start_time": "2025-02-23T13:15:47.802Z"
      },
      {
        "duration": 17,
        "start_time": "2025-02-23T13:16:09.636Z"
      },
      {
        "duration": 32,
        "start_time": "2025-02-23T13:19:23.685Z"
      },
      {
        "duration": 17,
        "start_time": "2025-02-23T13:19:31.735Z"
      },
      {
        "duration": 22,
        "start_time": "2025-02-23T13:19:46.185Z"
      },
      {
        "duration": 20,
        "start_time": "2025-02-23T13:19:53.946Z"
      },
      {
        "duration": 32,
        "start_time": "2025-02-23T13:20:00.187Z"
      },
      {
        "duration": 17,
        "start_time": "2025-02-23T13:20:04.531Z"
      },
      {
        "duration": 11,
        "start_time": "2025-02-23T13:20:32.357Z"
      },
      {
        "duration": 12,
        "start_time": "2025-02-23T13:20:47.003Z"
      },
      {
        "duration": 10,
        "start_time": "2025-02-23T13:21:05.161Z"
      },
      {
        "duration": 46,
        "start_time": "2025-03-07T14:09:53.696Z"
      },
      {
        "duration": 399,
        "start_time": "2025-03-07T14:09:59.610Z"
      },
      {
        "duration": 430,
        "start_time": "2025-03-07T14:10:00.010Z"
      },
      {
        "duration": 2,
        "start_time": "2025-03-07T14:10:00.442Z"
      },
      {
        "duration": 487,
        "start_time": "2025-03-07T14:10:00.696Z"
      },
      {
        "duration": 3,
        "start_time": "2025-03-07T14:10:01.185Z"
      },
      {
        "duration": 24,
        "start_time": "2025-03-07T14:10:01.904Z"
      },
      {
        "duration": 32,
        "start_time": "2025-03-07T14:10:02.294Z"
      },
      {
        "duration": 18,
        "start_time": "2025-03-07T14:10:02.707Z"
      },
      {
        "duration": 12,
        "start_time": "2025-03-07T14:10:03.052Z"
      },
      {
        "duration": 12,
        "start_time": "2025-03-07T14:10:03.263Z"
      },
      {
        "duration": 29,
        "start_time": "2025-03-07T14:10:04.500Z"
      },
      {
        "duration": 17,
        "start_time": "2025-03-07T14:10:05.745Z"
      },
      {
        "duration": 10,
        "start_time": "2025-03-07T14:10:06.412Z"
      },
      {
        "duration": 11,
        "start_time": "2025-03-07T14:10:07.104Z"
      },
      {
        "duration": 9,
        "start_time": "2025-03-07T14:10:07.657Z"
      },
      {
        "duration": 4,
        "start_time": "2025-03-07T14:10:09.367Z"
      },
      {
        "duration": 6,
        "start_time": "2025-03-07T14:10:10.552Z"
      },
      {
        "duration": 7,
        "start_time": "2025-03-07T14:10:11.581Z"
      },
      {
        "duration": 5,
        "start_time": "2025-03-07T14:10:12.277Z"
      },
      {
        "duration": 58,
        "start_time": "2025-03-07T14:40:08.101Z"
      },
      {
        "duration": 7,
        "start_time": "2025-03-07T14:42:18.671Z"
      },
      {
        "duration": 193,
        "start_time": "2025-03-07T15:13:40.989Z"
      },
      {
        "duration": 3,
        "start_time": "2025-03-07T15:14:50.973Z"
      },
      {
        "duration": 12,
        "start_time": "2025-03-07T15:14:51.506Z"
      },
      {
        "duration": 174,
        "start_time": "2025-03-07T15:15:05.336Z"
      },
      {
        "duration": 2,
        "start_time": "2025-03-07T15:15:08.958Z"
      },
      {
        "duration": 13,
        "start_time": "2025-03-07T15:15:11.021Z"
      },
      {
        "duration": 2,
        "start_time": "2025-03-07T15:17:01.702Z"
      },
      {
        "duration": 3,
        "start_time": "2025-03-07T15:17:27.950Z"
      },
      {
        "duration": 3,
        "start_time": "2025-03-07T15:17:28.235Z"
      },
      {
        "duration": 2,
        "start_time": "2025-03-07T15:17:28.438Z"
      },
      {
        "duration": 2,
        "start_time": "2025-03-07T15:17:28.610Z"
      },
      {
        "duration": 32,
        "start_time": "2025-03-07T15:17:28.940Z"
      },
      {
        "duration": 29,
        "start_time": "2025-03-07T15:17:29.128Z"
      },
      {
        "duration": 17,
        "start_time": "2025-03-07T15:17:29.308Z"
      },
      {
        "duration": 15,
        "start_time": "2025-03-07T15:17:29.592Z"
      },
      {
        "duration": 11,
        "start_time": "2025-03-07T15:17:29.960Z"
      },
      {
        "duration": 9,
        "start_time": "2025-03-07T15:17:30.245Z"
      },
      {
        "duration": 5,
        "start_time": "2025-03-07T15:17:30.628Z"
      },
      {
        "duration": 3,
        "start_time": "2025-03-07T15:17:31.153Z"
      },
      {
        "duration": 3,
        "start_time": "2025-03-07T15:17:31.528Z"
      },
      {
        "duration": 6,
        "start_time": "2025-03-07T15:17:31.835Z"
      },
      {
        "duration": 163,
        "start_time": "2025-03-07T15:17:33.561Z"
      },
      {
        "duration": 160,
        "start_time": "2025-03-07T15:18:24.988Z"
      },
      {
        "duration": 11,
        "start_time": "2025-03-07T15:18:31.139Z"
      },
      {
        "duration": 13,
        "start_time": "2025-03-07T15:19:42.734Z"
      },
      {
        "duration": 12,
        "start_time": "2025-03-07T15:19:51.172Z"
      },
      {
        "duration": 11,
        "start_time": "2025-03-07T15:19:55.552Z"
      },
      {
        "duration": 12,
        "start_time": "2025-03-07T15:19:59.423Z"
      },
      {
        "duration": 162,
        "start_time": "2025-03-07T15:21:53.483Z"
      },
      {
        "duration": 164,
        "start_time": "2025-03-07T15:23:05.034Z"
      },
      {
        "duration": 271,
        "start_time": "2025-03-07T15:25:18.070Z"
      },
      {
        "duration": 3,
        "start_time": "2025-03-07T15:25:47.854Z"
      },
      {
        "duration": 8,
        "start_time": "2025-03-07T15:25:48.919Z"
      },
      {
        "duration": 5,
        "start_time": "2025-03-07T15:25:57.161Z"
      },
      {
        "duration": 9,
        "start_time": "2025-03-07T16:08:21.704Z"
      },
      {
        "duration": 751,
        "start_time": "2025-03-07T16:10:18.770Z"
      },
      {
        "duration": 8,
        "start_time": "2025-03-07T16:10:39.267Z"
      },
      {
        "duration": 185,
        "start_time": "2025-03-07T16:11:01.642Z"
      },
      {
        "duration": 142,
        "start_time": "2025-03-07T16:11:16.963Z"
      },
      {
        "duration": 234,
        "start_time": "2025-03-07T16:11:31.422Z"
      },
      {
        "duration": 5,
        "start_time": "2025-03-07T16:12:23.458Z"
      },
      {
        "duration": 10,
        "start_time": "2025-03-07T16:13:39.473Z"
      },
      {
        "duration": 71,
        "start_time": "2025-03-07T16:14:04.402Z"
      },
      {
        "duration": 62,
        "start_time": "2025-03-07T16:14:29.205Z"
      },
      {
        "duration": 4,
        "start_time": "2025-03-07T16:14:44.777Z"
      },
      {
        "duration": 13,
        "start_time": "2025-03-07T16:17:24.432Z"
      },
      {
        "duration": 24,
        "start_time": "2025-03-07T16:17:49.946Z"
      },
      {
        "duration": 14,
        "start_time": "2025-03-07T16:22:29.230Z"
      },
      {
        "duration": 95,
        "start_time": "2025-03-07T16:22:29.963Z"
      },
      {
        "duration": 21,
        "start_time": "2025-03-07T16:22:42.547Z"
      },
      {
        "duration": 21,
        "start_time": "2025-03-07T16:22:56.311Z"
      },
      {
        "duration": 11,
        "start_time": "2025-03-07T16:26:33.476Z"
      },
      {
        "duration": 7,
        "start_time": "2025-03-07T16:38:44.378Z"
      },
      {
        "duration": 11,
        "start_time": "2025-03-07T16:38:44.955Z"
      },
      {
        "duration": 5,
        "start_time": "2025-03-07T16:39:48.067Z"
      },
      {
        "duration": 11,
        "start_time": "2025-03-07T16:39:48.435Z"
      },
      {
        "duration": 4,
        "start_time": "2025-03-07T16:40:25.816Z"
      },
      {
        "duration": 4,
        "start_time": "2025-03-07T16:43:50.305Z"
      },
      {
        "duration": 9,
        "start_time": "2025-03-07T16:44:18.153Z"
      },
      {
        "duration": 250,
        "start_time": "2025-03-07T16:44:35.605Z"
      },
      {
        "duration": 9,
        "start_time": "2025-03-07T16:45:48.656Z"
      },
      {
        "duration": 332,
        "start_time": "2025-03-07T16:45:59.780Z"
      },
      {
        "duration": 7,
        "start_time": "2025-03-07T16:47:08.953Z"
      },
      {
        "duration": 8,
        "start_time": "2025-03-07T16:47:09.696Z"
      },
      {
        "duration": 7,
        "start_time": "2025-03-07T16:47:10.206Z"
      },
      {
        "duration": 7,
        "start_time": "2025-03-07T16:47:10.799Z"
      },
      {
        "duration": 19,
        "start_time": "2025-03-07T16:48:59.039Z"
      },
      {
        "duration": 14,
        "start_time": "2025-03-07T16:56:01.242Z"
      },
      {
        "duration": 10,
        "start_time": "2025-03-07T16:57:00.370Z"
      },
      {
        "duration": 5,
        "start_time": "2025-03-07T16:57:09.506Z"
      },
      {
        "duration": 14,
        "start_time": "2025-03-07T16:57:17.892Z"
      },
      {
        "duration": 7,
        "start_time": "2025-03-07T16:58:01.281Z"
      },
      {
        "duration": 8,
        "start_time": "2025-03-07T17:00:13.466Z"
      },
      {
        "duration": 47,
        "start_time": "2025-03-14T18:45:57.385Z"
      },
      {
        "duration": 1244,
        "start_time": "2025-03-14T18:46:03.803Z"
      },
      {
        "duration": 24,
        "start_time": "2025-03-14T18:46:05.049Z"
      },
      {
        "duration": 31,
        "start_time": "2025-03-14T18:46:05.460Z"
      },
      {
        "duration": 17,
        "start_time": "2025-03-14T18:46:06.209Z"
      },
      {
        "duration": 11,
        "start_time": "2025-03-14T18:46:06.937Z"
      },
      {
        "duration": 58,
        "start_time": "2025-03-14T18:46:07.905Z"
      },
      {
        "duration": 16,
        "start_time": "2025-03-14T18:46:38.867Z"
      },
      {
        "duration": 16,
        "start_time": "2025-03-14T18:47:07.635Z"
      },
      {
        "duration": 15,
        "start_time": "2025-03-14T18:47:26.296Z"
      },
      {
        "duration": 7,
        "start_time": "2025-03-14T18:47:34.591Z"
      },
      {
        "duration": 12,
        "start_time": "2025-03-14T18:47:44.633Z"
      },
      {
        "duration": 12,
        "start_time": "2025-03-14T18:47:52.044Z"
      },
      {
        "duration": 6,
        "start_time": "2025-03-14T18:47:59.498Z"
      },
      {
        "duration": 12,
        "start_time": "2025-03-14T18:48:27.400Z"
      },
      {
        "duration": 8,
        "start_time": "2025-03-14T18:48:28.816Z"
      },
      {
        "duration": 6,
        "start_time": "2025-03-14T18:48:50.258Z"
      },
      {
        "duration": 9,
        "start_time": "2025-03-14T18:49:57.458Z"
      },
      {
        "duration": 5,
        "start_time": "2025-03-14T18:50:21.272Z"
      },
      {
        "duration": 9,
        "start_time": "2025-03-14T18:51:31.442Z"
      },
      {
        "duration": 5,
        "start_time": "2025-03-14T18:51:32.035Z"
      },
      {
        "duration": 4,
        "start_time": "2025-03-14T18:51:32.709Z"
      },
      {
        "duration": 4,
        "start_time": "2025-03-14T19:04:28.253Z"
      },
      {
        "duration": 5,
        "start_time": "2025-03-14T19:04:28.664Z"
      },
      {
        "duration": 7,
        "start_time": "2025-03-14T19:04:29.165Z"
      },
      {
        "duration": 6,
        "start_time": "2025-03-14T19:04:30.441Z"
      },
      {
        "duration": 191,
        "start_time": "2025-03-14T19:09:52.501Z"
      },
      {
        "duration": 310,
        "start_time": "2025-03-14T19:16:36.709Z"
      },
      {
        "duration": 5,
        "start_time": "2025-03-14T19:16:38.771Z"
      },
      {
        "duration": 8,
        "start_time": "2025-03-14T19:16:39.891Z"
      },
      {
        "duration": 8,
        "start_time": "2025-03-14T19:19:04.243Z"
      },
      {
        "duration": 706,
        "start_time": "2025-03-14T19:19:04.881Z"
      },
      {
        "duration": 5,
        "start_time": "2025-03-14T19:21:36.960Z"
      },
      {
        "duration": 11,
        "start_time": "2025-03-14T19:21:58.887Z"
      },
      {
        "duration": 5,
        "start_time": "2025-03-14T19:22:05.887Z"
      },
      {
        "duration": 14,
        "start_time": "2025-03-14T19:30:27.909Z"
      },
      {
        "duration": 22,
        "start_time": "2025-03-14T19:30:28.444Z"
      },
      {
        "duration": 11,
        "start_time": "2025-03-14T19:30:33.887Z"
      },
      {
        "duration": 8,
        "start_time": "2025-03-14T19:30:34.616Z"
      },
      {
        "duration": 11,
        "start_time": "2025-03-14T19:30:35.079Z"
      },
      {
        "duration": 6,
        "start_time": "2025-03-14T19:30:35.507Z"
      },
      {
        "duration": 15,
        "start_time": "2025-03-14T19:30:36.476Z"
      },
      {
        "duration": 22,
        "start_time": "2025-03-14T19:39:12.052Z"
      },
      {
        "duration": 20,
        "start_time": "2025-03-14T19:39:29.107Z"
      },
      {
        "duration": 102,
        "start_time": "2025-03-14T19:39:40.087Z"
      },
      {
        "duration": 28,
        "start_time": "2025-03-14T19:40:02.699Z"
      },
      {
        "duration": 26,
        "start_time": "2025-03-14T19:40:16.860Z"
      },
      {
        "duration": 22,
        "start_time": "2025-03-14T19:40:53.446Z"
      },
      {
        "duration": 21,
        "start_time": "2025-03-14T19:40:58.433Z"
      },
      {
        "duration": 21,
        "start_time": "2025-03-14T19:41:26.024Z"
      },
      {
        "duration": 21,
        "start_time": "2025-03-14T19:41:36.349Z"
      },
      {
        "duration": 9,
        "start_time": "2025-03-14T19:46:53.944Z"
      },
      {
        "duration": 33,
        "start_time": "2025-03-14T19:47:12.979Z"
      },
      {
        "duration": 13,
        "start_time": "2025-03-14T19:56:45.673Z"
      },
      {
        "duration": 7,
        "start_time": "2025-03-14T19:59:31.748Z"
      },
      {
        "duration": 9,
        "start_time": "2025-03-14T20:03:40.922Z"
      },
      {
        "duration": 9,
        "start_time": "2025-03-14T20:03:59.718Z"
      },
      {
        "duration": 82,
        "start_time": "2025-03-14T20:05:28.016Z"
      },
      {
        "duration": 5,
        "start_time": "2025-03-14T20:05:37.993Z"
      },
      {
        "duration": 13,
        "start_time": "2025-03-14T20:07:03.813Z"
      },
      {
        "duration": 12,
        "start_time": "2025-03-14T20:07:33.556Z"
      },
      {
        "duration": 9,
        "start_time": "2025-03-14T20:09:40.608Z"
      },
      {
        "duration": 14,
        "start_time": "2025-03-14T20:10:02.589Z"
      },
      {
        "duration": 1197,
        "start_time": "2025-03-17T19:34:36.913Z"
      },
      {
        "duration": 23,
        "start_time": "2025-03-17T19:34:38.339Z"
      },
      {
        "duration": 30,
        "start_time": "2025-03-17T19:34:38.732Z"
      },
      {
        "duration": 18,
        "start_time": "2025-03-17T19:34:38.959Z"
      },
      {
        "duration": 11,
        "start_time": "2025-03-17T19:34:39.204Z"
      },
      {
        "duration": 8,
        "start_time": "2025-03-17T19:34:39.443Z"
      },
      {
        "duration": 11,
        "start_time": "2025-03-17T19:34:39.699Z"
      },
      {
        "duration": 7,
        "start_time": "2025-03-17T19:34:39.944Z"
      },
      {
        "duration": 11,
        "start_time": "2025-03-17T19:34:40.178Z"
      },
      {
        "duration": 7,
        "start_time": "2025-03-17T19:34:40.467Z"
      },
      {
        "duration": 4,
        "start_time": "2025-03-17T19:34:43.837Z"
      },
      {
        "duration": 5,
        "start_time": "2025-03-17T19:34:44.217Z"
      },
      {
        "duration": 9,
        "start_time": "2025-03-17T19:34:44.491Z"
      },
      {
        "duration": 6,
        "start_time": "2025-03-17T19:34:45.619Z"
      },
      {
        "duration": 229,
        "start_time": "2025-03-17T19:34:48.043Z"
      },
      {
        "duration": 15,
        "start_time": "2025-03-17T19:34:48.282Z"
      },
      {
        "duration": 155,
        "start_time": "2025-03-17T19:34:49.228Z"
      },
      {
        "duration": 265,
        "start_time": "2025-03-17T19:34:50.179Z"
      },
      {
        "duration": 12,
        "start_time": "2025-03-17T19:34:50.446Z"
      },
      {
        "duration": 8,
        "start_time": "2025-03-17T19:34:50.716Z"
      },
      {
        "duration": 10,
        "start_time": "2025-03-17T19:34:51.740Z"
      },
      {
        "duration": 746,
        "start_time": "2025-03-17T19:34:52.015Z"
      },
      {
        "duration": 5,
        "start_time": "2025-03-17T19:34:52.764Z"
      },
      {
        "duration": 8,
        "start_time": "2025-03-17T19:34:53.183Z"
      },
      {
        "duration": 175,
        "start_time": "2025-03-17T19:34:53.405Z"
      },
      {
        "duration": 15,
        "start_time": "2025-03-17T19:34:54.591Z"
      },
      {
        "duration": 21,
        "start_time": "2025-03-17T19:34:54.824Z"
      },
      {
        "duration": 13,
        "start_time": "2025-03-17T19:34:55.063Z"
      },
      {
        "duration": 7,
        "start_time": "2025-03-17T19:34:55.804Z"
      },
      {
        "duration": 12,
        "start_time": "2025-03-17T19:34:56.104Z"
      },
      {
        "duration": 5,
        "start_time": "2025-03-17T19:34:56.369Z"
      },
      {
        "duration": 11,
        "start_time": "2025-03-17T19:34:56.645Z"
      },
      {
        "duration": 4,
        "start_time": "2025-03-17T19:34:57.178Z"
      },
      {
        "duration": 247,
        "start_time": "2025-03-17T19:34:57.455Z"
      },
      {
        "duration": 196,
        "start_time": "2025-03-17T19:34:57.960Z"
      },
      {
        "duration": 8,
        "start_time": "2025-03-17T19:34:58.524Z"
      },
      {
        "duration": 8,
        "start_time": "2025-03-17T19:34:58.976Z"
      },
      {
        "duration": 8,
        "start_time": "2025-03-17T19:34:59.406Z"
      },
      {
        "duration": 8,
        "start_time": "2025-03-17T19:34:59.843Z"
      },
      {
        "duration": 37,
        "start_time": "2025-03-17T19:45:34.194Z"
      },
      {
        "duration": 3,
        "start_time": "2025-03-17T19:45:35.294Z"
      },
      {
        "duration": 11,
        "start_time": "2025-03-17T19:45:35.834Z"
      },
      {
        "duration": 10,
        "start_time": "2025-03-17T19:46:31.641Z"
      },
      {
        "duration": 88,
        "start_time": "2025-03-17T19:48:23.486Z"
      },
      {
        "duration": 5,
        "start_time": "2025-03-17T19:48:40.880Z"
      },
      {
        "duration": 8,
        "start_time": "2025-03-17T19:51:33.571Z"
      }
    ],
    "kernelspec": {
      "display_name": "Python 3 (ipykernel)",
      "language": "python",
      "name": "python3"
    },
    "language_info": {
      "codemirror_mode": {
        "name": "ipython",
        "version": 3
      },
      "file_extension": ".py",
      "mimetype": "text/x-python",
      "name": "python",
      "nbconvert_exporter": "python",
      "pygments_lexer": "ipython3",
      "version": "3.9.5"
    },
    "toc": {
      "base_numbering": 1,
      "nav_menu": {},
      "number_sections": true,
      "sideBar": true,
      "skip_h1_title": true,
      "title_cell": "Table of Contents",
      "title_sidebar": "Contents",
      "toc_cell": false,
      "toc_position": {},
      "toc_section_display": true,
      "toc_window_display": false
    },
    "colab": {
      "provenance": []
    }
  },
  "nbformat": 4,
  "nbformat_minor": 5
}