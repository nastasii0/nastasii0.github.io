{
  "cells": [
    {
      "cell_type": "markdown",
      "metadata": {
        "id": "zXbFO4tHrqEo"
      },
      "source": [
        "# Анализ данных о продажах игр в интернет-магазине \"Стримчик\"\n",
        "\n",
        "Доступны исторические данные о продажах игр, оценки пользователей и экспертов, жанры и платформы. Необходимо выявить определяющие успешность игры закономерности. Это позволит сделать ставку на потенциально популярный продукт и спланировать рекламные кампании.\n",
        "\n",
        "План:\n",
        "- импортирование библиотек;\n",
        "- предобработка данных;\n",
        "- исследовательский анализ данных;\n",
        "- составление портрета пользователя каждого региона;\n",
        "- проверка гипотез;\n",
        "- итоговый вывод."
      ]
    },
    {
      "cell_type": "markdown",
      "metadata": {
        "id": "rzcljw1brqEp"
      },
      "source": [
        "# 1. Импортирование библиотек"
      ]
    },
    {
      "cell_type": "code",
      "execution_count": null,
      "metadata": {
        "id": "Ff6l7JMerqEp"
      },
      "outputs": [],
      "source": [
        "import pandas as pd\n",
        "import matplotlib.pyplot as plt\n",
        "import numpy as np\n",
        "import seaborn as sns\n",
        "from scipy import stats as st"
      ]
    },
    {
      "cell_type": "code",
      "execution_count": null,
      "metadata": {
        "id": "jIg-eIaBrqEq",
        "outputId": "4df733af-2c2c-4f86-949d-9bc7ef4ac536"
      },
      "outputs": [
        {
          "data": {
            "text/html": [
              "<div>\n",
              "<style scoped>\n",
              "    .dataframe tbody tr th:only-of-type {\n",
              "        vertical-align: middle;\n",
              "    }\n",
              "\n",
              "    .dataframe tbody tr th {\n",
              "        vertical-align: top;\n",
              "    }\n",
              "\n",
              "    .dataframe thead th {\n",
              "        text-align: right;\n",
              "    }\n",
              "</style>\n",
              "<table border=\"1\" class=\"dataframe\">\n",
              "  <thead>\n",
              "    <tr style=\"text-align: right;\">\n",
              "      <th></th>\n",
              "      <th>Name</th>\n",
              "      <th>Platform</th>\n",
              "      <th>Year_of_Release</th>\n",
              "      <th>Genre</th>\n",
              "      <th>NA_sales</th>\n",
              "      <th>EU_sales</th>\n",
              "      <th>JP_sales</th>\n",
              "      <th>Other_sales</th>\n",
              "      <th>Critic_Score</th>\n",
              "      <th>User_Score</th>\n",
              "      <th>Rating</th>\n",
              "    </tr>\n",
              "  </thead>\n",
              "  <tbody>\n",
              "    <tr>\n",
              "      <th>0</th>\n",
              "      <td>Wii Sports</td>\n",
              "      <td>Wii</td>\n",
              "      <td>2006.0</td>\n",
              "      <td>Sports</td>\n",
              "      <td>41.36</td>\n",
              "      <td>28.96</td>\n",
              "      <td>3.77</td>\n",
              "      <td>8.45</td>\n",
              "      <td>76.0</td>\n",
              "      <td>8</td>\n",
              "      <td>E</td>\n",
              "    </tr>\n",
              "    <tr>\n",
              "      <th>1</th>\n",
              "      <td>Super Mario Bros.</td>\n",
              "      <td>NES</td>\n",
              "      <td>1985.0</td>\n",
              "      <td>Platform</td>\n",
              "      <td>29.08</td>\n",
              "      <td>3.58</td>\n",
              "      <td>6.81</td>\n",
              "      <td>0.77</td>\n",
              "      <td>NaN</td>\n",
              "      <td>NaN</td>\n",
              "      <td>NaN</td>\n",
              "    </tr>\n",
              "    <tr>\n",
              "      <th>2</th>\n",
              "      <td>Mario Kart Wii</td>\n",
              "      <td>Wii</td>\n",
              "      <td>2008.0</td>\n",
              "      <td>Racing</td>\n",
              "      <td>15.68</td>\n",
              "      <td>12.76</td>\n",
              "      <td>3.79</td>\n",
              "      <td>3.29</td>\n",
              "      <td>82.0</td>\n",
              "      <td>8.3</td>\n",
              "      <td>E</td>\n",
              "    </tr>\n",
              "    <tr>\n",
              "      <th>3</th>\n",
              "      <td>Wii Sports Resort</td>\n",
              "      <td>Wii</td>\n",
              "      <td>2009.0</td>\n",
              "      <td>Sports</td>\n",
              "      <td>15.61</td>\n",
              "      <td>10.93</td>\n",
              "      <td>3.28</td>\n",
              "      <td>2.95</td>\n",
              "      <td>80.0</td>\n",
              "      <td>8</td>\n",
              "      <td>E</td>\n",
              "    </tr>\n",
              "    <tr>\n",
              "      <th>4</th>\n",
              "      <td>Pokemon Red/Pokemon Blue</td>\n",
              "      <td>GB</td>\n",
              "      <td>1996.0</td>\n",
              "      <td>Role-Playing</td>\n",
              "      <td>11.27</td>\n",
              "      <td>8.89</td>\n",
              "      <td>10.22</td>\n",
              "      <td>1.00</td>\n",
              "      <td>NaN</td>\n",
              "      <td>NaN</td>\n",
              "      <td>NaN</td>\n",
              "    </tr>\n",
              "  </tbody>\n",
              "</table>\n",
              "</div>"
            ],
            "text/plain": [
              "                       Name Platform  Year_of_Release         Genre  NA_sales  \\\n",
              "0                Wii Sports      Wii           2006.0        Sports     41.36   \n",
              "1         Super Mario Bros.      NES           1985.0      Platform     29.08   \n",
              "2            Mario Kart Wii      Wii           2008.0        Racing     15.68   \n",
              "3         Wii Sports Resort      Wii           2009.0        Sports     15.61   \n",
              "4  Pokemon Red/Pokemon Blue       GB           1996.0  Role-Playing     11.27   \n",
              "\n",
              "   EU_sales  JP_sales  Other_sales  Critic_Score User_Score Rating  \n",
              "0     28.96      3.77         8.45          76.0          8      E  \n",
              "1      3.58      6.81         0.77           NaN        NaN    NaN  \n",
              "2     12.76      3.79         3.29          82.0        8.3      E  \n",
              "3     10.93      3.28         2.95          80.0          8      E  \n",
              "4      8.89     10.22         1.00           NaN        NaN    NaN  "
            ]
          },
          "execution_count": 48,
          "metadata": {},
          "output_type": "execute_result"
        }
      ],
      "source": [
        "data = pd.read_csv('/datasets/games.csv')\n",
        "data.head()"
      ]
    },
    {
      "cell_type": "code",
      "execution_count": null,
      "metadata": {
        "id": "GzoxdCoTrqEr",
        "outputId": "87fb590b-a0ad-4e8d-ada3-a23e2952874a"
      },
      "outputs": [
        {
          "name": "stdout",
          "output_type": "stream",
          "text": [
            "<class 'pandas.core.frame.DataFrame'>\n",
            "RangeIndex: 16715 entries, 0 to 16714\n",
            "Data columns (total 11 columns):\n",
            " #   Column           Non-Null Count  Dtype  \n",
            "---  ------           --------------  -----  \n",
            " 0   Name             16713 non-null  object \n",
            " 1   Platform         16715 non-null  object \n",
            " 2   Year_of_Release  16446 non-null  float64\n",
            " 3   Genre            16713 non-null  object \n",
            " 4   NA_sales         16715 non-null  float64\n",
            " 5   EU_sales         16715 non-null  float64\n",
            " 6   JP_sales         16715 non-null  float64\n",
            " 7   Other_sales      16715 non-null  float64\n",
            " 8   Critic_Score     8137 non-null   float64\n",
            " 9   User_Score       10014 non-null  object \n",
            " 10  Rating           9949 non-null   object \n",
            "dtypes: float64(6), object(5)\n",
            "memory usage: 1.4+ MB\n"
          ]
        }
      ],
      "source": [
        "data.info()"
      ]
    },
    {
      "cell_type": "markdown",
      "metadata": {
        "id": "JoikUbuCrqEr"
      },
      "source": [
        "ВЫВОД:\n",
        "\n",
        "Изучили общую информацию. Название колонок имеют нарушение стилей. В колонках присутствует неверные типы данных. Данных достаточно для проведения исследования."
      ]
    },
    {
      "cell_type": "markdown",
      "metadata": {
        "id": "PkplcM6WrqEs"
      },
      "source": [
        "# 2. Предобработка данных"
      ]
    },
    {
      "cell_type": "code",
      "execution_count": null,
      "metadata": {
        "id": "K80nFRb7rqEs",
        "outputId": "4d3e50ca-9c6e-4e1d-947c-ebef4c312e24"
      },
      "outputs": [
        {
          "data": {
            "text/plain": [
              "Index(['Name', 'Platform', 'Year_of_Release', 'Genre', 'NA_sales', 'EU_sales',\n",
              "       'JP_sales', 'Other_sales', 'Critic_Score', 'User_Score', 'Rating'],\n",
              "      dtype='object')"
            ]
          },
          "execution_count": 50,
          "metadata": {},
          "output_type": "execute_result"
        }
      ],
      "source": [
        "data.columns"
      ]
    },
    {
      "cell_type": "code",
      "execution_count": null,
      "metadata": {
        "id": "02HfT_YbrqEs"
      },
      "outputs": [],
      "source": [
        "data.columns = data.columns.str.lower()"
      ]
    },
    {
      "cell_type": "code",
      "execution_count": null,
      "metadata": {
        "id": "0OOt4tK5rqEt",
        "outputId": "7563e015-8036-43b3-d89e-8ad1836b46e2"
      },
      "outputs": [
        {
          "data": {
            "text/plain": [
              "Index(['name', 'platform', 'year_of_release', 'genre', 'na_sales', 'eu_sales',\n",
              "       'jp_sales', 'other_sales', 'critic_score', 'user_score', 'rating'],\n",
              "      dtype='object')"
            ]
          },
          "execution_count": 52,
          "metadata": {},
          "output_type": "execute_result"
        }
      ],
      "source": [
        "data.columns"
      ]
    },
    {
      "cell_type": "code",
      "execution_count": null,
      "metadata": {
        "id": "iR_-E0YbrqEt",
        "outputId": "5d877d3e-f165-4c6a-bc3c-0b588bc80960"
      },
      "outputs": [
        {
          "data": {
            "text/plain": [
              "2"
            ]
          },
          "execution_count": 53,
          "metadata": {},
          "output_type": "execute_result"
        }
      ],
      "source": [
        "data.duplicated(['name', 'platform', 'year_of_release']).sum()"
      ]
    },
    {
      "cell_type": "code",
      "execution_count": null,
      "metadata": {
        "id": "_lZNpnAKrqEt"
      },
      "outputs": [],
      "source": [
        "data = data.drop_duplicates(['name', 'platform', 'year_of_release'])"
      ]
    },
    {
      "cell_type": "code",
      "execution_count": null,
      "metadata": {
        "id": "svMMF9cIrqEu",
        "outputId": "a13b5bb7-9c34-4fb7-b323-98f3039427a5"
      },
      "outputs": [
        {
          "data": {
            "text/plain": [
              "0"
            ]
          },
          "execution_count": 55,
          "metadata": {},
          "output_type": "execute_result"
        }
      ],
      "source": [
        "data.duplicated(['name', 'platform', 'year_of_release']).sum()"
      ]
    },
    {
      "cell_type": "code",
      "execution_count": null,
      "metadata": {
        "id": "q6D6jqtOrqEu",
        "outputId": "57fa976f-bcd4-4f54-9656-8a57afb8056b"
      },
      "outputs": [
        {
          "data": {
            "text/html": [
              "<div>\n",
              "<style scoped>\n",
              "    .dataframe tbody tr th:only-of-type {\n",
              "        vertical-align: middle;\n",
              "    }\n",
              "\n",
              "    .dataframe tbody tr th {\n",
              "        vertical-align: top;\n",
              "    }\n",
              "\n",
              "    .dataframe thead th {\n",
              "        text-align: right;\n",
              "    }\n",
              "</style>\n",
              "<table border=\"1\" class=\"dataframe\">\n",
              "  <thead>\n",
              "    <tr style=\"text-align: right;\">\n",
              "      <th></th>\n",
              "      <th>name</th>\n",
              "      <th>platform</th>\n",
              "      <th>year_of_release</th>\n",
              "      <th>genre</th>\n",
              "      <th>na_sales</th>\n",
              "      <th>eu_sales</th>\n",
              "      <th>jp_sales</th>\n",
              "      <th>other_sales</th>\n",
              "      <th>critic_score</th>\n",
              "      <th>user_score</th>\n",
              "      <th>rating</th>\n",
              "    </tr>\n",
              "  </thead>\n",
              "  <tbody>\n",
              "    <tr>\n",
              "      <th>0</th>\n",
              "      <td>Wii Sports</td>\n",
              "      <td>Wii</td>\n",
              "      <td>2006.0</td>\n",
              "      <td>Sports</td>\n",
              "      <td>41.36</td>\n",
              "      <td>28.96</td>\n",
              "      <td>3.77</td>\n",
              "      <td>8.45</td>\n",
              "      <td>76.0</td>\n",
              "      <td>8</td>\n",
              "      <td>E</td>\n",
              "    </tr>\n",
              "    <tr>\n",
              "      <th>1</th>\n",
              "      <td>Super Mario Bros.</td>\n",
              "      <td>NES</td>\n",
              "      <td>1985.0</td>\n",
              "      <td>Platform</td>\n",
              "      <td>29.08</td>\n",
              "      <td>3.58</td>\n",
              "      <td>6.81</td>\n",
              "      <td>0.77</td>\n",
              "      <td>NaN</td>\n",
              "      <td>NaN</td>\n",
              "      <td>NaN</td>\n",
              "    </tr>\n",
              "    <tr>\n",
              "      <th>2</th>\n",
              "      <td>Mario Kart Wii</td>\n",
              "      <td>Wii</td>\n",
              "      <td>2008.0</td>\n",
              "      <td>Racing</td>\n",
              "      <td>15.68</td>\n",
              "      <td>12.76</td>\n",
              "      <td>3.79</td>\n",
              "      <td>3.29</td>\n",
              "      <td>82.0</td>\n",
              "      <td>8.3</td>\n",
              "      <td>E</td>\n",
              "    </tr>\n",
              "    <tr>\n",
              "      <th>3</th>\n",
              "      <td>Wii Sports Resort</td>\n",
              "      <td>Wii</td>\n",
              "      <td>2009.0</td>\n",
              "      <td>Sports</td>\n",
              "      <td>15.61</td>\n",
              "      <td>10.93</td>\n",
              "      <td>3.28</td>\n",
              "      <td>2.95</td>\n",
              "      <td>80.0</td>\n",
              "      <td>8</td>\n",
              "      <td>E</td>\n",
              "    </tr>\n",
              "    <tr>\n",
              "      <th>4</th>\n",
              "      <td>Pokemon Red/Pokemon Blue</td>\n",
              "      <td>GB</td>\n",
              "      <td>1996.0</td>\n",
              "      <td>Role-Playing</td>\n",
              "      <td>11.27</td>\n",
              "      <td>8.89</td>\n",
              "      <td>10.22</td>\n",
              "      <td>1.00</td>\n",
              "      <td>NaN</td>\n",
              "      <td>NaN</td>\n",
              "      <td>NaN</td>\n",
              "    </tr>\n",
              "  </tbody>\n",
              "</table>\n",
              "</div>"
            ],
            "text/plain": [
              "                       name platform  year_of_release         genre  na_sales  \\\n",
              "0                Wii Sports      Wii           2006.0        Sports     41.36   \n",
              "1         Super Mario Bros.      NES           1985.0      Platform     29.08   \n",
              "2            Mario Kart Wii      Wii           2008.0        Racing     15.68   \n",
              "3         Wii Sports Resort      Wii           2009.0        Sports     15.61   \n",
              "4  Pokemon Red/Pokemon Blue       GB           1996.0  Role-Playing     11.27   \n",
              "\n",
              "   eu_sales  jp_sales  other_sales  critic_score user_score rating  \n",
              "0     28.96      3.77         8.45          76.0          8      E  \n",
              "1      3.58      6.81         0.77           NaN        NaN    NaN  \n",
              "2     12.76      3.79         3.29          82.0        8.3      E  \n",
              "3     10.93      3.28         2.95          80.0          8      E  \n",
              "4      8.89     10.22         1.00           NaN        NaN    NaN  "
            ]
          },
          "execution_count": 56,
          "metadata": {},
          "output_type": "execute_result"
        }
      ],
      "source": [
        "data.head()"
      ]
    },
    {
      "cell_type": "code",
      "execution_count": null,
      "metadata": {
        "id": "0jWQk9lsrqEu",
        "outputId": "e7e61df5-a9b9-46ef-aa1a-1b60bc9c5aed"
      },
      "outputs": [
        {
          "data": {
            "text/plain": [
              "0.006"
            ]
          },
          "execution_count": 57,
          "metadata": {},
          "output_type": "execute_result"
        }
      ],
      "source": [
        "(data['name'].isna().mean()*100).round(3)"
      ]
    },
    {
      "cell_type": "code",
      "execution_count": null,
      "metadata": {
        "id": "qkrk_tw8rqEv"
      },
      "outputs": [],
      "source": [
        "data = data.dropna(subset=['name'])"
      ]
    },
    {
      "cell_type": "code",
      "execution_count": null,
      "metadata": {
        "id": "Ii5MuOgFrqEv",
        "outputId": "0ccfb3f7-8f53-4af4-f8e9-46d509f6e719"
      },
      "outputs": [
        {
          "data": {
            "text/plain": [
              "name                  0\n",
              "platform              0\n",
              "year_of_release     269\n",
              "genre                 0\n",
              "na_sales              0\n",
              "eu_sales              0\n",
              "jp_sales              0\n",
              "other_sales           0\n",
              "critic_score       8576\n",
              "user_score         6699\n",
              "rating             6764\n",
              "dtype: int64"
            ]
          },
          "execution_count": 59,
          "metadata": {},
          "output_type": "execute_result"
        }
      ],
      "source": [
        "data.isna().sum()"
      ]
    },
    {
      "cell_type": "code",
      "execution_count": null,
      "metadata": {
        "id": "HCIojcpZrqEw",
        "outputId": "a9fa89be-fc5e-450a-aa23-7151931eb404"
      },
      "outputs": [
        {
          "data": {
            "text/plain": [
              "1.61"
            ]
          },
          "execution_count": 60,
          "metadata": {},
          "output_type": "execute_result"
        }
      ],
      "source": [
        "(data['year_of_release'].isnull().sum()/len(data['name'])*100).round(3)"
      ]
    },
    {
      "cell_type": "code",
      "execution_count": null,
      "metadata": {
        "id": "VJc2H5kgrqEw"
      },
      "outputs": [],
      "source": [
        "data = data.dropna(subset=['year_of_release'])"
      ]
    },
    {
      "cell_type": "code",
      "execution_count": null,
      "metadata": {
        "id": "EmCwhd1MrqEw",
        "outputId": "cc6e3e64-d532-4d3d-c852-4632d4918c97"
      },
      "outputs": [
        {
          "data": {
            "text/plain": [
              "name                  0\n",
              "platform              0\n",
              "year_of_release       0\n",
              "genre                 0\n",
              "na_sales              0\n",
              "eu_sales              0\n",
              "jp_sales              0\n",
              "other_sales           0\n",
              "critic_score       8461\n",
              "user_score         6605\n",
              "rating             6676\n",
              "dtype: int64"
            ]
          },
          "execution_count": 62,
          "metadata": {},
          "output_type": "execute_result"
        }
      ],
      "source": [
        "data.isna().sum()"
      ]
    },
    {
      "cell_type": "code",
      "execution_count": null,
      "metadata": {
        "id": "xWGjrQsHrqEw",
        "outputId": "5f701e87-cdde-4ae6-ebba-386cf7e52446"
      },
      "outputs": [
        {
          "data": {
            "text/plain": [
              "51.457"
            ]
          },
          "execution_count": 63,
          "metadata": {},
          "output_type": "execute_result"
        }
      ],
      "source": [
        "(data['critic_score'].isnull().sum()/len(data['name'])*100).round(3)"
      ]
    },
    {
      "cell_type": "code",
      "execution_count": null,
      "metadata": {
        "id": "_hYgKl4brqEw"
      },
      "outputs": [],
      "source": [
        "data = data.dropna(subset=['critic_score'])"
      ]
    },
    {
      "cell_type": "code",
      "execution_count": null,
      "metadata": {
        "id": "nB97ctoHrqEx",
        "outputId": "7a7eb24d-b390-435d-b5c6-9e8abe413b49"
      },
      "outputs": [
        {
          "data": {
            "text/plain": [
              "name                0\n",
              "platform            0\n",
              "year_of_release     0\n",
              "genre               0\n",
              "na_sales            0\n",
              "eu_sales            0\n",
              "jp_sales            0\n",
              "other_sales         0\n",
              "critic_score        0\n",
              "user_score         33\n",
              "rating             81\n",
              "dtype: int64"
            ]
          },
          "execution_count": 65,
          "metadata": {},
          "output_type": "execute_result"
        }
      ],
      "source": [
        "data.isna().sum()"
      ]
    },
    {
      "cell_type": "code",
      "execution_count": null,
      "metadata": {
        "id": "jC1FiKCIrqEx",
        "outputId": "26881b0e-175a-4d88-e644-055b58042d39"
      },
      "outputs": [
        {
          "data": {
            "text/plain": [
              "0.413"
            ]
          },
          "execution_count": 66,
          "metadata": {},
          "output_type": "execute_result"
        }
      ],
      "source": [
        "(data['user_score'].isnull().sum()/len(data['name'])*100).round(3)"
      ]
    },
    {
      "cell_type": "code",
      "execution_count": null,
      "metadata": {
        "id": "brVwMDrRrqEx"
      },
      "outputs": [],
      "source": [
        "data = data.dropna(subset=['user_score'])"
      ]
    },
    {
      "cell_type": "code",
      "execution_count": null,
      "metadata": {
        "id": "-UfA129WrqEx",
        "outputId": "a9829a4a-89f2-4576-edc9-2839dfe4c4cd"
      },
      "outputs": [
        {
          "data": {
            "text/plain": [
              "name                0\n",
              "platform            0\n",
              "year_of_release     0\n",
              "genre               0\n",
              "na_sales            0\n",
              "eu_sales            0\n",
              "jp_sales            0\n",
              "other_sales         0\n",
              "critic_score        0\n",
              "user_score          0\n",
              "rating             72\n",
              "dtype: int64"
            ]
          },
          "execution_count": 68,
          "metadata": {},
          "output_type": "execute_result"
        }
      ],
      "source": [
        "data.isna().sum()"
      ]
    },
    {
      "cell_type": "code",
      "execution_count": null,
      "metadata": {
        "id": "au1RiTu9rqEx",
        "outputId": "fa0dbe22-41f6-4a94-8ba9-c271e944b0f6"
      },
      "outputs": [
        {
          "data": {
            "text/plain": [
              "0.906"
            ]
          },
          "execution_count": 69,
          "metadata": {},
          "output_type": "execute_result"
        }
      ],
      "source": [
        "(data['rating'].isna().sum()/len(data['name'])*100).round(3)"
      ]
    },
    {
      "cell_type": "code",
      "execution_count": null,
      "metadata": {
        "id": "Dyeb4W6grqEx"
      },
      "outputs": [],
      "source": [
        "data = data.dropna(subset=['rating'])"
      ]
    },
    {
      "cell_type": "code",
      "execution_count": null,
      "metadata": {
        "id": "n3JcfNY-rqEx",
        "outputId": "5f06c4bd-244b-401f-e4fd-76ba885393fa"
      },
      "outputs": [
        {
          "data": {
            "text/plain": [
              "name               0\n",
              "platform           0\n",
              "year_of_release    0\n",
              "genre              0\n",
              "na_sales           0\n",
              "eu_sales           0\n",
              "jp_sales           0\n",
              "other_sales        0\n",
              "critic_score       0\n",
              "user_score         0\n",
              "rating             0\n",
              "dtype: int64"
            ]
          },
          "execution_count": 71,
          "metadata": {},
          "output_type": "execute_result"
        }
      ],
      "source": [
        "data.isna().sum()"
      ]
    },
    {
      "cell_type": "code",
      "execution_count": null,
      "metadata": {
        "id": "yWnU8xlhrqEx",
        "outputId": "195ee8cc-5ee3-4147-a30f-5e6a86312fe1"
      },
      "outputs": [
        {
          "name": "stdout",
          "output_type": "stream",
          "text": [
            "<class 'pandas.core.frame.DataFrame'>\n",
            "Int64Index: 7877 entries, 0 to 16702\n",
            "Data columns (total 11 columns):\n",
            " #   Column           Non-Null Count  Dtype  \n",
            "---  ------           --------------  -----  \n",
            " 0   name             7877 non-null   object \n",
            " 1   platform         7877 non-null   object \n",
            " 2   year_of_release  7877 non-null   float64\n",
            " 3   genre            7877 non-null   object \n",
            " 4   na_sales         7877 non-null   float64\n",
            " 5   eu_sales         7877 non-null   float64\n",
            " 6   jp_sales         7877 non-null   float64\n",
            " 7   other_sales      7877 non-null   float64\n",
            " 8   critic_score     7877 non-null   float64\n",
            " 9   user_score       7877 non-null   object \n",
            " 10  rating           7877 non-null   object \n",
            "dtypes: float64(6), object(5)\n",
            "memory usage: 738.5+ KB\n"
          ]
        }
      ],
      "source": [
        "data.info()"
      ]
    },
    {
      "cell_type": "code",
      "execution_count": null,
      "metadata": {
        "id": "0coFJwDGrqEy"
      },
      "outputs": [],
      "source": [
        "data['year_of_release'] = data['year_of_release'].astype('int')"
      ]
    },
    {
      "cell_type": "code",
      "execution_count": null,
      "metadata": {
        "id": "LLkE5k49rqEy"
      },
      "outputs": [],
      "source": [
        "data['critic_score'] = data['critic_score'].astype('int')"
      ]
    },
    {
      "cell_type": "code",
      "execution_count": null,
      "metadata": {
        "id": "NKmsTbd_rqEy",
        "outputId": "76c87ed2-4279-4543-a5b5-dd303eb922f8"
      },
      "outputs": [
        {
          "name": "stdout",
          "output_type": "stream",
          "text": [
            "<class 'pandas.core.frame.DataFrame'>\n",
            "Int64Index: 7877 entries, 0 to 16702\n",
            "Data columns (total 11 columns):\n",
            " #   Column           Non-Null Count  Dtype  \n",
            "---  ------           --------------  -----  \n",
            " 0   name             7877 non-null   object \n",
            " 1   platform         7877 non-null   object \n",
            " 2   year_of_release  7877 non-null   int64  \n",
            " 3   genre            7877 non-null   object \n",
            " 4   na_sales         7877 non-null   float64\n",
            " 5   eu_sales         7877 non-null   float64\n",
            " 6   jp_sales         7877 non-null   float64\n",
            " 7   other_sales      7877 non-null   float64\n",
            " 8   critic_score     7877 non-null   int64  \n",
            " 9   user_score       7877 non-null   object \n",
            " 10  rating           7877 non-null   object \n",
            "dtypes: float64(4), int64(2), object(5)\n",
            "memory usage: 738.5+ KB\n"
          ]
        }
      ],
      "source": [
        "data.info()"
      ]
    },
    {
      "cell_type": "code",
      "execution_count": null,
      "metadata": {
        "id": "kmGnYiSzrqEy"
      },
      "outputs": [],
      "source": [
        "data['total_sales'] = data.loc[:,['na_sales','eu_sales','jp_sales','other_sales']].sum(axis=1)"
      ]
    },
    {
      "cell_type": "code",
      "execution_count": null,
      "metadata": {
        "id": "52L_gN3arqEy",
        "outputId": "b69cc788-1e3c-4dc1-df6a-ed6259dfbc39"
      },
      "outputs": [
        {
          "data": {
            "text/html": [
              "<div>\n",
              "<style scoped>\n",
              "    .dataframe tbody tr th:only-of-type {\n",
              "        vertical-align: middle;\n",
              "    }\n",
              "\n",
              "    .dataframe tbody tr th {\n",
              "        vertical-align: top;\n",
              "    }\n",
              "\n",
              "    .dataframe thead th {\n",
              "        text-align: right;\n",
              "    }\n",
              "</style>\n",
              "<table border=\"1\" class=\"dataframe\">\n",
              "  <thead>\n",
              "    <tr style=\"text-align: right;\">\n",
              "      <th></th>\n",
              "      <th>name</th>\n",
              "      <th>platform</th>\n",
              "      <th>year_of_release</th>\n",
              "      <th>genre</th>\n",
              "      <th>na_sales</th>\n",
              "      <th>eu_sales</th>\n",
              "      <th>jp_sales</th>\n",
              "      <th>other_sales</th>\n",
              "      <th>critic_score</th>\n",
              "      <th>user_score</th>\n",
              "      <th>rating</th>\n",
              "      <th>total_sales</th>\n",
              "    </tr>\n",
              "  </thead>\n",
              "  <tbody>\n",
              "    <tr>\n",
              "      <th>0</th>\n",
              "      <td>Wii Sports</td>\n",
              "      <td>Wii</td>\n",
              "      <td>2006</td>\n",
              "      <td>Sports</td>\n",
              "      <td>41.36</td>\n",
              "      <td>28.96</td>\n",
              "      <td>3.77</td>\n",
              "      <td>8.45</td>\n",
              "      <td>76</td>\n",
              "      <td>8</td>\n",
              "      <td>E</td>\n",
              "      <td>82.54</td>\n",
              "    </tr>\n",
              "    <tr>\n",
              "      <th>2</th>\n",
              "      <td>Mario Kart Wii</td>\n",
              "      <td>Wii</td>\n",
              "      <td>2008</td>\n",
              "      <td>Racing</td>\n",
              "      <td>15.68</td>\n",
              "      <td>12.76</td>\n",
              "      <td>3.79</td>\n",
              "      <td>3.29</td>\n",
              "      <td>82</td>\n",
              "      <td>8.3</td>\n",
              "      <td>E</td>\n",
              "      <td>35.52</td>\n",
              "    </tr>\n",
              "    <tr>\n",
              "      <th>3</th>\n",
              "      <td>Wii Sports Resort</td>\n",
              "      <td>Wii</td>\n",
              "      <td>2009</td>\n",
              "      <td>Sports</td>\n",
              "      <td>15.61</td>\n",
              "      <td>10.93</td>\n",
              "      <td>3.28</td>\n",
              "      <td>2.95</td>\n",
              "      <td>80</td>\n",
              "      <td>8</td>\n",
              "      <td>E</td>\n",
              "      <td>32.77</td>\n",
              "    </tr>\n",
              "    <tr>\n",
              "      <th>6</th>\n",
              "      <td>New Super Mario Bros.</td>\n",
              "      <td>DS</td>\n",
              "      <td>2006</td>\n",
              "      <td>Platform</td>\n",
              "      <td>11.28</td>\n",
              "      <td>9.14</td>\n",
              "      <td>6.50</td>\n",
              "      <td>2.88</td>\n",
              "      <td>89</td>\n",
              "      <td>8.5</td>\n",
              "      <td>E</td>\n",
              "      <td>29.80</td>\n",
              "    </tr>\n",
              "    <tr>\n",
              "      <th>7</th>\n",
              "      <td>Wii Play</td>\n",
              "      <td>Wii</td>\n",
              "      <td>2006</td>\n",
              "      <td>Misc</td>\n",
              "      <td>13.96</td>\n",
              "      <td>9.18</td>\n",
              "      <td>2.93</td>\n",
              "      <td>2.84</td>\n",
              "      <td>58</td>\n",
              "      <td>6.6</td>\n",
              "      <td>E</td>\n",
              "      <td>28.91</td>\n",
              "    </tr>\n",
              "  </tbody>\n",
              "</table>\n",
              "</div>"
            ],
            "text/plain": [
              "                    name platform  year_of_release     genre  na_sales  \\\n",
              "0             Wii Sports      Wii             2006    Sports     41.36   \n",
              "2         Mario Kart Wii      Wii             2008    Racing     15.68   \n",
              "3      Wii Sports Resort      Wii             2009    Sports     15.61   \n",
              "6  New Super Mario Bros.       DS             2006  Platform     11.28   \n",
              "7               Wii Play      Wii             2006      Misc     13.96   \n",
              "\n",
              "   eu_sales  jp_sales  other_sales  critic_score user_score rating  \\\n",
              "0     28.96      3.77         8.45            76          8      E   \n",
              "2     12.76      3.79         3.29            82        8.3      E   \n",
              "3     10.93      3.28         2.95            80          8      E   \n",
              "6      9.14      6.50         2.88            89        8.5      E   \n",
              "7      9.18      2.93         2.84            58        6.6      E   \n",
              "\n",
              "   total_sales  \n",
              "0        82.54  \n",
              "2        35.52  \n",
              "3        32.77  \n",
              "6        29.80  \n",
              "7        28.91  "
            ]
          },
          "execution_count": 77,
          "metadata": {},
          "output_type": "execute_result"
        }
      ],
      "source": [
        "data.head()"
      ]
    },
    {
      "cell_type": "markdown",
      "metadata": {
        "id": "cp7Xt-1hrqEy"
      },
      "source": [
        "ВЫВОД:\n",
        "\n",
        "Привели названия к общему формату. Удалили строки с неявными дубликатами. Удалили прропуски. Привели столбцы year_of_release и critic_score приведены к типу int. Столбец user_score к типу float."
      ]
    },
    {
      "cell_type": "markdown",
      "metadata": {
        "id": "-sNoyh6KrqEz"
      },
      "source": [
        "# 3. Исследовательский анализ данных"
      ]
    },
    {
      "cell_type": "markdown",
      "metadata": {
        "id": "FYCeiNCWrqEz"
      },
      "source": [
        "3.1. Исследование выпуска игр по годам"
      ]
    },
    {
      "cell_type": "code",
      "execution_count": null,
      "metadata": {
        "scrolled": true,
        "id": "yhDdFPvrrqEz",
        "outputId": "ba963686-9c11-4d19-ebc2-61cb632eb17d"
      },
      "outputs": [
        {
          "data": {
            "image/png": "[encoded data removed]",
            "text/plain": [
              "<Figure size 720x360 with 1 Axes>"
            ]
          },
          "metadata": {
            "needs_background": "light"
          },
          "output_type": "display_data"
        }
      ],
      "source": [
        "(\n",
        "    data\n",
        "    .pivot_table(index='year_of_release', values='name', aggfunc='count')\n",
        "    .plot(kind='bar', grid=True, figsize=(10,5))\n",
        ")\n",
        "plt.title('Количество продаж по годам')\n",
        "plt.xlabel('Год')\n",
        "plt.ylabel('Количество продаж')\n",
        "plt.show()"
      ]
    },
    {
      "cell_type": "code",
      "execution_count": null,
      "metadata": {
        "id": "Uv9iIBxurqEz",
        "outputId": "d0115c08-c827-4cea-f4c6-c371f4eed053"
      },
      "outputs": [
        {
          "data": {
            "text/plain": [
              "count    7877.000000\n",
              "mean     2007.158690\n",
              "std         4.157202\n",
              "min      1985.000000\n",
              "25%      2004.000000\n",
              "50%      2007.000000\n",
              "75%      2010.000000\n",
              "max      2016.000000\n",
              "Name: year_of_release, dtype: float64"
            ]
          },
          "execution_count": 79,
          "metadata": {},
          "output_type": "execute_result"
        }
      ],
      "source": [
        "data[data['year_of_release'] > -1]['year_of_release'].describe()"
      ]
    },
    {
      "cell_type": "markdown",
      "metadata": {
        "id": "ITgVZwijrqEz"
      },
      "source": [
        "На графике представлены игры 1985-2016 года выпуска. Рост числа выпуска игр приходится на период с 1996 по 2008. Пик продаж пришёлся на 2008 год. Затем наблюдается спад вплоть до 2016 года."
      ]
    },
    {
      "cell_type": "markdown",
      "metadata": {
        "id": "Bzf3pYX9rqEz"
      },
      "source": [
        "3.2. Исследование продаж по платформам"
      ]
    },
    {
      "cell_type": "code",
      "execution_count": null,
      "metadata": {
        "id": "HHIHusKErqEz",
        "outputId": "651d0117-4919-479a-e22e-eb153e0c89ce"
      },
      "outputs": [
        {
          "data": {
            "image/png": "[encoded data removed]",
            "text/plain": [
              "<Figure size 720x360 with 1 Axes>"
            ]
          },
          "metadata": {
            "needs_background": "light"
          },
          "output_type": "display_data"
        }
      ],
      "source": [
        "(\n",
        "    data.pivot_table(index='platform', values='total_sales', aggfunc='sum')\n",
        "    .sort_values(by='total_sales',ascending=False)\n",
        "    .plot(kind='bar', grid=True, figsize=(10,5))\n",
        ")\n",
        "plt.title('Количество суммарных продаж в зависимости от платформы')\n",
        "plt.xlabel('Платформы')\n",
        "plt.ylabel('Сумарные продажи')\n",
        "plt.show()"
      ]
    },
    {
      "cell_type": "code",
      "execution_count": null,
      "metadata": {
        "id": "V-wJOJQLrqEz"
      },
      "outputs": [],
      "source": [
        "top_sales = (\n",
        "    data.pivot_table(index='platform', values='total_sales', aggfunc='sum')\n",
        "    .sort_values(by='total_sales', ascending=False)\n",
        "    .reset_index()\n",
        "    .head(6)['platform']\n",
        "    .tolist()\n",
        ")"
      ]
    },
    {
      "cell_type": "code",
      "execution_count": null,
      "metadata": {
        "id": "wtChRInorqEz",
        "outputId": "03cf2041-233b-4e07-f2c8-0c8bbfdec2b9"
      },
      "outputs": [
        {
          "name": "stdout",
          "output_type": "stream",
          "text": [
            "['PS2', 'X360', 'PS3', 'Wii', 'DS', 'PS4']\n"
          ]
        }
      ],
      "source": [
        "print(top_sales)"
      ]
    },
    {
      "cell_type": "code",
      "execution_count": null,
      "metadata": {
        "id": "tZIKifR4rqE0",
        "outputId": "569074ab-cc61-43da-b6f8-ce54e1d08260"
      },
      "outputs": [
        {
          "data": {
            "image/png": "[encoded data removed]",
            "text/plain": [
              "<Figure size 720x360 with 1 Axes>"
            ]
          },
          "metadata": {
            "needs_background": "light"
          },
          "output_type": "display_data"
        }
      ],
      "source": [
        "for name in top_sales:\n",
        "    (\n",
        "    data.query('platform == @name and year_of_release > -1')\n",
        "    .pivot_table(index = 'year_of_release', values = 'total_sales', aggfunc = 'sum')\n",
        "    .sort_values('year_of_release', ascending = False)['total_sales']\n",
        "    .plot(figsize = (10, 5), label=name)\n",
        "    )\n",
        "    plt.title('Жизненный цикл шести платформ с максимальными продажами')\n",
        "    plt.xlabel('Год выпуска')\n",
        "    plt.ylabel('Суммарные продажи')\n",
        "    plt.legend()"
      ]
    },
    {
      "cell_type": "code",
      "execution_count": null,
      "metadata": {
        "id": "nv4pF8rWrqE0",
        "outputId": "fe2b3e50-a4df-441a-ff88-6b7851faaa26"
      },
      "outputs": [
        {
          "name": "stdout",
          "output_type": "stream",
          "text": [
            "Empty DataFrame\n",
            "Columns: [name, platform, year_of_release, genre, na_sales, eu_sales, jp_sales, other_sales, critic_score, user_score, rating, total_sales]\n",
            "Index: []\n"
          ]
        }
      ],
      "source": [
        "print(data.query('platform == \"DS\" and year_of_release < 1990'))"
      ]
    },
    {
      "cell_type": "code",
      "execution_count": null,
      "metadata": {
        "id": "w3C57ScKrqE0"
      },
      "outputs": [],
      "source": [
        "time_life = data.pivot_table(index='platform', values='year_of_release', aggfunc=['min', 'max']).reset_index()\n",
        "time_life['life'] = time_life['max'] - time_life['min'] + 1"
      ]
    },
    {
      "cell_type": "code",
      "execution_count": null,
      "metadata": {
        "id": "warQczLZrqE0",
        "outputId": "6a15481f-aa21-487a-b738-26ba96ed2451"
      },
      "outputs": [
        {
          "name": "stdout",
          "output_type": "stream",
          "text": [
            "Медианное значение жизненного цикла по всей выборке 7.0 лет\n"
          ]
        }
      ],
      "source": [
        "print('Медианное значение жизненного цикла по всей выборке', time_life['life'].median(), 'лет')"
      ]
    },
    {
      "cell_type": "code",
      "execution_count": null,
      "metadata": {
        "id": "5ZvjmTeVrqE0",
        "outputId": "f4f00eac-08f4-40f2-c65d-67895eaf3b88"
      },
      "outputs": [
        {
          "name": "stdout",
          "output_type": "stream",
          "text": [
            "Определим актуальный период за последние 4.0 года\n"
          ]
        }
      ],
      "source": [
        "t = np.ceil(time_life['life'].median()/2)\n",
        "print('Определим актуальный период за последние', t, 'года')"
      ]
    },
    {
      "cell_type": "markdown",
      "metadata": {
        "id": "3Rm__BCcrqE0"
      },
      "source": [
        "3.3. Исследование перспективных платформ"
      ]
    },
    {
      "cell_type": "code",
      "execution_count": null,
      "metadata": {
        "id": "2xUN9ApRrqE0",
        "outputId": "115295d9-5a58-4623-d288-0c652420bc30"
      },
      "outputs": [
        {
          "name": "stdout",
          "output_type": "stream",
          "text": [
            "['PS4', 'PS3', 'X360', 'XOne', '3DS', 'WiiU', 'PC', 'PSV', 'Wii', 'DS']\n"
          ]
        }
      ],
      "source": [
        "actual_platforms = (data\n",
        "    .query('year_of_release >= 2016-@t')\n",
        "    .pivot_table(index='platform', values='total_sales', aggfunc='sum')\n",
        "    .sort_values(by='total_sales', ascending=False)\n",
        "    .reset_index().head(10)['platform'].tolist()\n",
        "    )\n",
        "print(actual_platforms)"
      ]
    },
    {
      "cell_type": "code",
      "execution_count": null,
      "metadata": {
        "id": "fDAdFmc0rqE0",
        "outputId": "0d92631e-0e20-4abe-d3ff-901c4e0a3011"
      },
      "outputs": [
        {
          "data": {
            "text/html": [
              "<div>\n",
              "<style scoped>\n",
              "    .dataframe tbody tr th:only-of-type {\n",
              "        vertical-align: middle;\n",
              "    }\n",
              "\n",
              "    .dataframe tbody tr th {\n",
              "        vertical-align: top;\n",
              "    }\n",
              "\n",
              "    .dataframe thead th {\n",
              "        text-align: right;\n",
              "    }\n",
              "</style>\n",
              "<table border=\"1\" class=\"dataframe\">\n",
              "  <thead>\n",
              "    <tr style=\"text-align: right;\">\n",
              "      <th></th>\n",
              "      <th>name</th>\n",
              "      <th>platform</th>\n",
              "      <th>year_of_release</th>\n",
              "      <th>genre</th>\n",
              "      <th>na_sales</th>\n",
              "      <th>eu_sales</th>\n",
              "      <th>jp_sales</th>\n",
              "      <th>other_sales</th>\n",
              "      <th>critic_score</th>\n",
              "      <th>user_score</th>\n",
              "      <th>rating</th>\n",
              "      <th>total_sales</th>\n",
              "    </tr>\n",
              "  </thead>\n",
              "  <tbody>\n",
              "    <tr>\n",
              "      <th>0</th>\n",
              "      <td>Grand Theft Auto V</td>\n",
              "      <td>PS3</td>\n",
              "      <td>2013</td>\n",
              "      <td>Action</td>\n",
              "      <td>7.02</td>\n",
              "      <td>9.09</td>\n",
              "      <td>0.98</td>\n",
              "      <td>3.96</td>\n",
              "      <td>97</td>\n",
              "      <td>8.2</td>\n",
              "      <td>M</td>\n",
              "      <td>21.05</td>\n",
              "    </tr>\n",
              "    <tr>\n",
              "      <th>1</th>\n",
              "      <td>Grand Theft Auto V</td>\n",
              "      <td>X360</td>\n",
              "      <td>2013</td>\n",
              "      <td>Action</td>\n",
              "      <td>9.66</td>\n",
              "      <td>5.14</td>\n",
              "      <td>0.06</td>\n",
              "      <td>1.41</td>\n",
              "      <td>97</td>\n",
              "      <td>8.1</td>\n",
              "      <td>M</td>\n",
              "      <td>16.27</td>\n",
              "    </tr>\n",
              "    <tr>\n",
              "      <th>2</th>\n",
              "      <td>Call of Duty: Black Ops II</td>\n",
              "      <td>PS3</td>\n",
              "      <td>2012</td>\n",
              "      <td>Shooter</td>\n",
              "      <td>4.99</td>\n",
              "      <td>5.73</td>\n",
              "      <td>0.65</td>\n",
              "      <td>2.42</td>\n",
              "      <td>83</td>\n",
              "      <td>5.3</td>\n",
              "      <td>M</td>\n",
              "      <td>13.79</td>\n",
              "    </tr>\n",
              "    <tr>\n",
              "      <th>3</th>\n",
              "      <td>Call of Duty: Black Ops II</td>\n",
              "      <td>X360</td>\n",
              "      <td>2012</td>\n",
              "      <td>Shooter</td>\n",
              "      <td>8.25</td>\n",
              "      <td>4.24</td>\n",
              "      <td>0.07</td>\n",
              "      <td>1.12</td>\n",
              "      <td>83</td>\n",
              "      <td>4.8</td>\n",
              "      <td>M</td>\n",
              "      <td>13.68</td>\n",
              "    </tr>\n",
              "    <tr>\n",
              "      <th>4</th>\n",
              "      <td>Grand Theft Auto V</td>\n",
              "      <td>PS4</td>\n",
              "      <td>2014</td>\n",
              "      <td>Action</td>\n",
              "      <td>3.96</td>\n",
              "      <td>6.31</td>\n",
              "      <td>0.38</td>\n",
              "      <td>1.97</td>\n",
              "      <td>97</td>\n",
              "      <td>8.3</td>\n",
              "      <td>M</td>\n",
              "      <td>12.62</td>\n",
              "    </tr>\n",
              "  </tbody>\n",
              "</table>\n",
              "</div>"
            ],
            "text/plain": [
              "                         name platform  year_of_release    genre  na_sales  \\\n",
              "0          Grand Theft Auto V      PS3             2013   Action      7.02   \n",
              "1          Grand Theft Auto V     X360             2013   Action      9.66   \n",
              "2  Call of Duty: Black Ops II      PS3             2012  Shooter      4.99   \n",
              "3  Call of Duty: Black Ops II     X360             2012  Shooter      8.25   \n",
              "4          Grand Theft Auto V      PS4             2014   Action      3.96   \n",
              "\n",
              "   eu_sales  jp_sales  other_sales  critic_score user_score rating  \\\n",
              "0      9.09      0.98         3.96            97        8.2      M   \n",
              "1      5.14      0.06         1.41            97        8.1      M   \n",
              "2      5.73      0.65         2.42            83        5.3      M   \n",
              "3      4.24      0.07         1.12            83        4.8      M   \n",
              "4      6.31      0.38         1.97            97        8.3      M   \n",
              "\n",
              "   total_sales  \n",
              "0        21.05  \n",
              "1        16.27  \n",
              "2        13.79  \n",
              "3        13.68  \n",
              "4        12.62  "
            ]
          },
          "execution_count": 89,
          "metadata": {},
          "output_type": "execute_result"
        }
      ],
      "source": [
        "actual_data = data.query('year_of_release >= 2016-@t').copy().reset_index(drop= True)\n",
        "actual_data.head()"
      ]
    },
    {
      "cell_type": "code",
      "execution_count": null,
      "metadata": {
        "id": "EPCJOx2srqE0",
        "outputId": "a6aac7cf-7a38-437c-8024-43b346562629"
      },
      "outputs": [
        {
          "data": {
            "image/png": "[encoded data removed]",
            "text/plain": [
              "<Figure size 720x360 with 1 Axes>"
            ]
          },
          "metadata": {
            "needs_background": "light"
          },
          "output_type": "display_data"
        }
      ],
      "source": [
        "for name in actual_platforms:\n",
        "    (\n",
        "    actual_data.query('platform == @name')\n",
        "    .pivot_table(index = 'year_of_release', values = 'total_sales', aggfunc = 'sum')\n",
        "    .sort_values('year_of_release', ascending = False)['total_sales']\n",
        "    .plot(kind='line', figsize = (10, 5), label=name)\n",
        "    )\n",
        "    plt.title('Жизненный цикл всех платформ за актуальный период')\n",
        "    plt.xticks(np.arange(2012, 2018, step=1))\n",
        "    plt.xlabel('Год')\n",
        "    plt.ylabel('Суммарные продажи')\n",
        "    plt.legend()"
      ]
    },
    {
      "cell_type": "markdown",
      "metadata": {
        "id": "zFsxw-F3rqE1"
      },
      "source": [
        "Из графика видно, что на 2016 год лидирующими консолями являются PS4 и XOne, хотя как и у всех наблюдается уменьшение продаж."
      ]
    },
    {
      "cell_type": "markdown",
      "metadata": {
        "id": "wzUbZZ0XrqE1"
      },
      "source": [
        "3.4. «Ящик с усами» по глобальным продажам игр в разбивке по платформам актуального периода."
      ]
    },
    {
      "cell_type": "code",
      "execution_count": null,
      "metadata": {
        "id": "XR-EHEgTrqE1",
        "outputId": "17148a9f-2e52-490b-e21c-de3c1f69320e"
      },
      "outputs": [
        {
          "data": {
            "text/plain": [
              "Text(0, 0.5, 'Продажи по платформам')"
            ]
          },
          "execution_count": 91,
          "metadata": {},
          "output_type": "execute_result"
        },
        {
          "data": {
            "image/png": "[encoded data removed]",
            "text/plain": [
              "<Figure size 864x432 with 1 Axes>"
            ]
          },
          "metadata": {
            "needs_background": "light"
          },
          "output_type": "display_data"
        }
      ],
      "source": [
        "plt.figure(figsize=(12,6))\n",
        "sns.boxplot(data=actual_data, x='platform', y='total_sales')\n",
        "plt.title('Продажи по перспективным платформам с выбросами', fontsize=15)\n",
        "plt.xlabel('Платформа', fontsize=12)\n",
        "plt.ylabel('Продажи по платформам',fontsize=12)\n"
      ]
    },
    {
      "cell_type": "code",
      "execution_count": null,
      "metadata": {
        "id": "vmNV0nlvrqE1",
        "outputId": "9390dec0-a407-4e64-f73d-415b61ace2fb"
      },
      "outputs": [
        {
          "data": {
            "text/plain": [
              "count    1265.000000\n",
              "mean        0.792798\n",
              "std         1.541329\n",
              "min         0.010000\n",
              "25%         0.110000\n",
              "50%         0.300000\n",
              "75%         0.840000\n",
              "max        21.050000\n",
              "Name: total_sales, dtype: float64"
            ]
          },
          "execution_count": 92,
          "metadata": {},
          "output_type": "execute_result"
        }
      ],
      "source": [
        "actual_data['total_sales'].describe()"
      ]
    },
    {
      "cell_type": "code",
      "execution_count": null,
      "metadata": {
        "id": "5EhFTxvfrqE1",
        "outputId": "22e1fca8-c1b7-4c5d-f04f-df11991721cc"
      },
      "outputs": [
        {
          "data": {
            "text/plain": [
              "Text(0, 0.5, 'Продажи по платформам')"
            ]
          },
          "execution_count": 93,
          "metadata": {},
          "output_type": "execute_result"
        },
        {
          "data": {
            "image/png": "[encoded data removed]",
            "text/plain": [
              "<Figure size 864x432 with 1 Axes>"
            ]
          },
          "metadata": {
            "needs_background": "light"
          },
          "output_type": "display_data"
        }
      ],
      "source": [
        "plt.figure(figsize=(12,6))\n",
        "ax = sns.boxplot(data=actual_data, x='platform', y='total_sales')\n",
        "ax.set(ylim=(0,2))\n",
        "plt.title('Продажи по перспективным платформам с крупными `Boxplot`', fontsize=15)\n",
        "plt.xlabel('Платформа', fontsize=12)\n",
        "plt.ylabel('Продажи по платформам',fontsize=12)"
      ]
    },
    {
      "cell_type": "markdown",
      "metadata": {
        "id": "bZvOWt_mrqE1"
      },
      "source": [
        "По всем консолям присутствуют выбросы по продажам."
      ]
    },
    {
      "cell_type": "markdown",
      "metadata": {
        "id": "IUA1Sof_rqE1"
      },
      "source": [
        "3.6 Исследование распределения игр по жанрам"
      ]
    },
    {
      "cell_type": "code",
      "execution_count": null,
      "metadata": {
        "id": "c1tgaiw7rqE1",
        "outputId": "81c58737-9b11-4c03-db46-0de85130d671"
      },
      "outputs": [
        {
          "data": {
            "image/png": "[encoded data removed]",
            "text/plain": [
              "<Figure size 720x360 with 1 Axes>"
            ]
          },
          "metadata": {
            "needs_background": "light"
          },
          "output_type": "display_data"
        }
      ],
      "source": [
        "(actual_data\n",
        " .pivot_table(index='genre', values='total_sales', aggfunc='sum')\n",
        " .sort_values('total_sales', ascending=False)\n",
        " .plot(kind='bar', y='total_sales', figsize=(10, 5), legend=False,title = 'Прибыльность жанров в актуальном периоде')\n",
        " .set(xlabel='Жанр игры', ylabel='Всего продаж по жанру'))\n",
        "\n",
        "plt.show()"
      ]
    },
    {
      "cell_type": "code",
      "execution_count": null,
      "metadata": {
        "id": "qh3SjM4WrqE1",
        "outputId": "55018b09-80bd-4b19-d23d-68b3912dfe1f"
      },
      "outputs": [
        {
          "data": {
            "text/plain": [
              "Text(0, 0.5, 'Продажи по жанрам')"
            ]
          },
          "execution_count": 96,
          "metadata": {},
          "output_type": "execute_result"
        },
        {
          "data": {
            "image/png": "[encoded data removed]",
            "text/plain": [
              "<Figure size 864x432 with 1 Axes>"
            ]
          },
          "metadata": {
            "needs_background": "light"
          },
          "output_type": "display_data"
        }
      ],
      "source": [
        "plt.figure(figsize=(12,6))\n",
        "ax = sns.boxplot(data=actual_data, x='genre', y='total_sales')\n",
        "plt.title('Продажи по перспективным жанрам', fontsize=15)\n",
        "plt.xlabel('Жанр', fontsize=12)\n",
        "plt.ylabel('Продажи по жанрам',fontsize=12)"
      ]
    },
    {
      "cell_type": "code",
      "execution_count": null,
      "metadata": {
        "scrolled": true,
        "id": "Y_Ju-ZD6rqE2",
        "outputId": "61053f2b-60cd-4488-8ba9-e7c9ecff09de"
      },
      "outputs": [
        {
          "data": {
            "text/plain": [
              "Text(0, 0.5, 'Продажи по жанрам')"
            ]
          },
          "execution_count": 97,
          "metadata": {},
          "output_type": "execute_result"
        },
        {
          "data": {
            "image/png": "[encoded data removed]",
            "text/plain": [
              "<Figure size 864x432 with 1 Axes>"
            ]
          },
          "metadata": {
            "needs_background": "light"
          },
          "output_type": "display_data"
        }
      ],
      "source": [
        "plt.figure(figsize=(12,6))\n",
        "ax = sns.boxplot(data=actual_data, x='genre', y='total_sales')\n",
        "ax.set(ylim=(0,1.5))\n",
        "plt.title('Продажи по перспективным жанрам', fontsize=15)\n",
        "plt.xlabel('Жанр', fontsize=12)\n",
        "plt.ylabel('Продажи по жанрам',fontsize=12)"
      ]
    },
    {
      "cell_type": "code",
      "execution_count": null,
      "metadata": {
        "scrolled": true,
        "id": "Kb88wkB_rqE2",
        "outputId": "405e14ca-35af-4166-989b-7db912ccb007"
      },
      "outputs": [
        {
          "data": {
            "text/html": [
              "<div>\n",
              "<style scoped>\n",
              "    .dataframe tbody tr th:only-of-type {\n",
              "        vertical-align: middle;\n",
              "    }\n",
              "\n",
              "    .dataframe tbody tr th {\n",
              "        vertical-align: top;\n",
              "    }\n",
              "\n",
              "    .dataframe thead th {\n",
              "        text-align: right;\n",
              "    }\n",
              "</style>\n",
              "<table border=\"1\" class=\"dataframe\">\n",
              "  <thead>\n",
              "    <tr style=\"text-align: right;\">\n",
              "      <th></th>\n",
              "      <th>total_sales</th>\n",
              "    </tr>\n",
              "    <tr>\n",
              "      <th>genre</th>\n",
              "      <th></th>\n",
              "    </tr>\n",
              "  </thead>\n",
              "  <tbody>\n",
              "    <tr>\n",
              "      <th>Shooter</th>\n",
              "      <td>0.570</td>\n",
              "    </tr>\n",
              "    <tr>\n",
              "      <th>Sports</th>\n",
              "      <td>0.555</td>\n",
              "    </tr>\n",
              "    <tr>\n",
              "      <th>Misc</th>\n",
              "      <td>0.365</td>\n",
              "    </tr>\n",
              "    <tr>\n",
              "      <th>Action</th>\n",
              "      <td>0.280</td>\n",
              "    </tr>\n",
              "    <tr>\n",
              "      <th>Platform</th>\n",
              "      <td>0.250</td>\n",
              "    </tr>\n",
              "    <tr>\n",
              "      <th>Strategy</th>\n",
              "      <td>0.240</td>\n",
              "    </tr>\n",
              "    <tr>\n",
              "      <th>Fighting</th>\n",
              "      <td>0.220</td>\n",
              "    </tr>\n",
              "    <tr>\n",
              "      <th>Role-Playing</th>\n",
              "      <td>0.210</td>\n",
              "    </tr>\n",
              "    <tr>\n",
              "      <th>Simulation</th>\n",
              "      <td>0.200</td>\n",
              "    </tr>\n",
              "    <tr>\n",
              "      <th>Racing</th>\n",
              "      <td>0.170</td>\n",
              "    </tr>\n",
              "    <tr>\n",
              "      <th>Puzzle</th>\n",
              "      <td>0.100</td>\n",
              "    </tr>\n",
              "    <tr>\n",
              "      <th>Adventure</th>\n",
              "      <td>0.085</td>\n",
              "    </tr>\n",
              "  </tbody>\n",
              "</table>\n",
              "</div>"
            ],
            "text/plain": [
              "              total_sales\n",
              "genre                    \n",
              "Shooter             0.570\n",
              "Sports              0.555\n",
              "Misc                0.365\n",
              "Action              0.280\n",
              "Platform            0.250\n",
              "Strategy            0.240\n",
              "Fighting            0.220\n",
              "Role-Playing        0.210\n",
              "Simulation          0.200\n",
              "Racing              0.170\n",
              "Puzzle              0.100\n",
              "Adventure           0.085"
            ]
          },
          "execution_count": 98,
          "metadata": {},
          "output_type": "execute_result"
        }
      ],
      "source": [
        "(\n",
        " actual_data\n",
        " .pivot_table(index='genre', values='total_sales', aggfunc='median')\n",
        " .sort_values('total_sales', ascending=False)\n",
        ")"
      ]
    },
    {
      "cell_type": "markdown",
      "metadata": {
        "id": "5ATHlMIRrqE2"
      },
      "source": [
        "ВЫВОД:\n",
        "\n",
        "За последние четыре года наиболее востребованными являются Action, Shooter.\n",
        "Дополнительное исследование и сравнение медианных значений по продажам в разрезе жанров указывает, что предпочтение в жанрах надо отдавать Shooter, Sports обладающих большим медианным значением прибыли."
      ]
    },
    {
      "cell_type": "markdown",
      "metadata": {
        "id": "-jQypoC6rqE2"
      },
      "source": [
        "# 4. Составим портрет пользователя каждого региона"
      ]
    },
    {
      "cell_type": "markdown",
      "metadata": {
        "id": "TtguyR22rqE2"
      },
      "source": [
        "4.1. Топ-5 самых популярных платформ по регионам"
      ]
    },
    {
      "cell_type": "code",
      "execution_count": null,
      "metadata": {
        "id": "whRdOotlrqE2",
        "outputId": "901f539f-a100-4d03-cd6c-4f618d5773fd"
      },
      "outputs": [
        {
          "data": {
            "text/html": [
              "<div>\n",
              "<style scoped>\n",
              "    .dataframe tbody tr th:only-of-type {\n",
              "        vertical-align: middle;\n",
              "    }\n",
              "\n",
              "    .dataframe tbody tr th {\n",
              "        vertical-align: top;\n",
              "    }\n",
              "\n",
              "    .dataframe thead th {\n",
              "        text-align: right;\n",
              "    }\n",
              "</style>\n",
              "<table border=\"1\" class=\"dataframe\">\n",
              "  <thead>\n",
              "    <tr style=\"text-align: right;\">\n",
              "      <th></th>\n",
              "      <th>na_platform</th>\n",
              "      <th>na_sales</th>\n",
              "      <th>eu_platform</th>\n",
              "      <th>eu_sales</th>\n",
              "      <th>jp_platform</th>\n",
              "      <th>jp_sales</th>\n",
              "    </tr>\n",
              "  </thead>\n",
              "  <tbody>\n",
              "    <tr>\n",
              "      <th>0</th>\n",
              "      <td>X360</td>\n",
              "      <td>106.82</td>\n",
              "      <td>PS4</td>\n",
              "      <td>111.78</td>\n",
              "      <td>3DS</td>\n",
              "      <td>26.60</td>\n",
              "    </tr>\n",
              "    <tr>\n",
              "      <th>1</th>\n",
              "      <td>PS4</td>\n",
              "      <td>84.20</td>\n",
              "      <td>PS3</td>\n",
              "      <td>78.30</td>\n",
              "      <td>PS3</td>\n",
              "      <td>20.29</td>\n",
              "    </tr>\n",
              "    <tr>\n",
              "      <th>2</th>\n",
              "      <td>PS3</td>\n",
              "      <td>76.97</td>\n",
              "      <td>X360</td>\n",
              "      <td>57.00</td>\n",
              "      <td>WiiU</td>\n",
              "      <td>10.17</td>\n",
              "    </tr>\n",
              "    <tr>\n",
              "      <th>3</th>\n",
              "      <td>XOne</td>\n",
              "      <td>75.64</td>\n",
              "      <td>XOne</td>\n",
              "      <td>42.09</td>\n",
              "      <td>PS4</td>\n",
              "      <td>9.29</td>\n",
              "    </tr>\n",
              "    <tr>\n",
              "      <th>4</th>\n",
              "      <td>WiiU</td>\n",
              "      <td>30.78</td>\n",
              "      <td>PC</td>\n",
              "      <td>31.51</td>\n",
              "      <td>PSV</td>\n",
              "      <td>7.05</td>\n",
              "    </tr>\n",
              "    <tr>\n",
              "      <th>5</th>\n",
              "      <td>Other</td>\n",
              "      <td>62.41</td>\n",
              "      <td>Other</td>\n",
              "      <td>52.24</td>\n",
              "      <td>Other</td>\n",
              "      <td>3.28</td>\n",
              "    </tr>\n",
              "  </tbody>\n",
              "</table>\n",
              "</div>"
            ],
            "text/plain": [
              "  na_platform  na_sales eu_platform  eu_sales jp_platform  jp_sales\n",
              "0        X360    106.82         PS4    111.78         3DS     26.60\n",
              "1         PS4     84.20         PS3     78.30         PS3     20.29\n",
              "2         PS3     76.97        X360     57.00        WiiU     10.17\n",
              "3        XOne     75.64        XOne     42.09         PS4      9.29\n",
              "4        WiiU     30.78          PC     31.51         PSV      7.05\n",
              "5       Other     62.41       Other     52.24       Other      3.28"
            ]
          },
          "execution_count": 99,
          "metadata": {},
          "output_type": "execute_result"
        }
      ],
      "source": [
        "na = (\n",
        "      actual_data\n",
        "        .pivot_table(index=['platform'], values=['na_sales'], aggfunc='sum')\n",
        "        .sort_values('na_sales', ascending=False).reset_index()\n",
        "     )\n",
        "na.loc[5:,'platform'] = 'Other'\n",
        "na.loc[5,'na_sales'] =  na.loc[5:,'na_sales'].sum().round(2)\n",
        "na = na.iloc[0:6, :]\n",
        "eu = (\n",
        "      actual_data\n",
        "        .pivot_table(index=['platform'], values=['eu_sales'], aggfunc='sum')\n",
        "        .sort_values('eu_sales', ascending=False).reset_index()\n",
        "     )\n",
        "eu.loc[5:,'platform'] = 'Other'\n",
        "eu.loc[5,'eu_sales'] =  eu.loc[5:,'eu_sales'].sum().round(2)\n",
        "eu = eu.iloc[0:6, :]\n",
        "jp = (\n",
        "      actual_data\n",
        "        .pivot_table(index=['platform'], values=['jp_sales'], aggfunc='sum')\n",
        "        .sort_values('jp_sales', ascending=False).reset_index()\n",
        "     )\n",
        "jp.loc[5:,'platform'] = 'Other'\n",
        "jp.loc[5,'jp_sales'] =  jp.loc[5:,'jp_sales'].sum().round(2)\n",
        "jp = jp.iloc[0:6, :]\n",
        "ps = pd.merge(na, eu, left_index=True, right_index=True)\n",
        "ps = pd.merge(ps, jp, left_index=True, right_index=True)\n",
        "ps.rename(columns = {'platform_x':'na_platform', 'platform_y':'eu_platform', 'platform':'jp_platform'}, inplace = True )\n",
        "\n",
        "ps"
      ]
    },
    {
      "cell_type": "code",
      "execution_count": null,
      "metadata": {
        "id": "Z0vcnU4SrqE2",
        "outputId": "de3551e7-b4c5-40e8-a368-6ace3da58e18"
      },
      "outputs": [
        {
          "data": {
            "text/html": [
              "<div>\n",
              "<style scoped>\n",
              "    .dataframe tbody tr th:only-of-type {\n",
              "        vertical-align: middle;\n",
              "    }\n",
              "\n",
              "    .dataframe tbody tr th {\n",
              "        vertical-align: top;\n",
              "    }\n",
              "\n",
              "    .dataframe thead th {\n",
              "        text-align: right;\n",
              "    }\n",
              "</style>\n",
              "<table border=\"1\" class=\"dataframe\">\n",
              "  <thead>\n",
              "    <tr style=\"text-align: right;\">\n",
              "      <th></th>\n",
              "      <th>region</th>\n",
              "      <th>platform</th>\n",
              "      <th>sales</th>\n",
              "    </tr>\n",
              "  </thead>\n",
              "  <tbody>\n",
              "    <tr>\n",
              "      <th>0</th>\n",
              "      <td>NA - Америка</td>\n",
              "      <td>na_platform</td>\n",
              "      <td>na_sales</td>\n",
              "    </tr>\n",
              "    <tr>\n",
              "      <th>1</th>\n",
              "      <td>EU - Европа</td>\n",
              "      <td>eu_platform</td>\n",
              "      <td>eu_sales</td>\n",
              "    </tr>\n",
              "    <tr>\n",
              "      <th>2</th>\n",
              "      <td>JP - Япония</td>\n",
              "      <td>jp_platform</td>\n",
              "      <td>jp_sales</td>\n",
              "    </tr>\n",
              "  </tbody>\n",
              "</table>\n",
              "</div>"
            ],
            "text/plain": [
              "         region     platform     sales\n",
              "0  NA - Америка  na_platform  na_sales\n",
              "1   EU - Европа  eu_platform  eu_sales\n",
              "2   JP - Япония  jp_platform  jp_sales"
            ]
          },
          "execution_count": 100,
          "metadata": {},
          "output_type": "execute_result"
        }
      ],
      "source": [
        "data = {'region': ['NA - Америка', 'EU - Европа', 'JP - Япония'], 'platform': ['na_platform', 'eu_platform', 'jp_platform'], 'sales': ['na_sales', 'eu_sales', 'jp_sales']}\n",
        "regions = pd.DataFrame(data)\n",
        "regions"
      ]
    },
    {
      "cell_type": "code",
      "execution_count": null,
      "metadata": {
        "id": "MwwTfHadrqE2",
        "outputId": "ee2a7a1a-4d4a-41ec-a8fc-94800a9224d1"
      },
      "outputs": [
        {
          "data": {
            "image/png": "[encoded data removed]",
            "text/plain": [
              "<Figure size 504x504 with 1 Axes>"
            ]
          },
          "metadata": {},
          "output_type": "display_data"
        },
        {
          "data": {
            "image/png": "[encoded data removed]",
            "text/plain": [
              "<Figure size 504x504 with 1 Axes>"
            ]
          },
          "metadata": {},
          "output_type": "display_data"
        },
        {
          "data": {
            "image/png": "[encoded data removed]",
            "text/plain": [
              "<Figure size 504x504 with 1 Axes>"
            ]
          },
          "metadata": {},
          "output_type": "display_data"
        }
      ],
      "source": [
        "for i in regions.index :\n",
        "    name = regions['region'][i]\n",
        "    (ps.pivot_table(index=regions['platform'][i], values=regions['sales'][i], aggfunc='sum')\n",
        "     .plot(kind='pie', y=regions['sales'][i], autopct='%1.0f%%', figsize=(7, 7), legend=False)\n",
        "     .set(ylabel='Доля продаж от всех в регионе (%)')\n",
        "    )\n",
        "    plt.title(f'Топ-5 самых популярных платформ в регионе {name}')\n",
        "    plt.show()"
      ]
    },
    {
      "cell_type": "markdown",
      "metadata": {
        "id": "eeqIq7NZrqE2"
      },
      "source": [
        "Выяснилось что пользователи по регионам в основном используют платформы в соответствии с долями указанными в таблице выше.\n",
        "В топ в регионах NA и EU входят одинаковые платформы с перестановкой их предпочтения.\n",
        "На на рынке JP присутствуют специализированные региональные платформы."
      ]
    },
    {
      "cell_type": "markdown",
      "metadata": {
        "id": "LqcT8Ar3rqE3"
      },
      "source": [
        "4.2. Топ-5 самых популярных жанров по регионам"
      ]
    },
    {
      "cell_type": "code",
      "execution_count": null,
      "metadata": {
        "id": "LoALK2LxrqE3",
        "outputId": "25404447-3973-4b99-a504-8b4f9bd57631"
      },
      "outputs": [
        {
          "data": {
            "image/png": "[encoded data removed]",
            "text/plain": [
              "<Figure size 504x504 with 1 Axes>"
            ]
          },
          "metadata": {},
          "output_type": "display_data"
        },
        {
          "data": {
            "image/png": "[encoded data removed]",
            "text/plain": [
              "<Figure size 504x504 with 1 Axes>"
            ]
          },
          "metadata": {},
          "output_type": "display_data"
        },
        {
          "data": {
            "image/png": "[encoded data removed]",
            "text/plain": [
              "<Figure size 504x504 with 1 Axes>"
            ]
          },
          "metadata": {},
          "output_type": "display_data"
        }
      ],
      "source": [
        "na = (\n",
        "      actual_data\n",
        "        .pivot_table(index=['genre'], values=['na_sales'], aggfunc='sum')\n",
        "        .sort_values('na_sales', ascending=False).reset_index()\n",
        "     )\n",
        "na.loc[5:,'genre'] = 'Other'\n",
        "na.loc[5,'na_sales'] =  na.loc[5:,'na_sales'].sum().round(2)\n",
        "na = na.iloc[0:6, :]\n",
        "eu = (\n",
        "      actual_data\n",
        "        .pivot_table(index=['genre'], values=['eu_sales'], aggfunc='sum')\n",
        "        .sort_values('eu_sales', ascending=False).reset_index()\n",
        "     )\n",
        "eu.loc[5:,'genre'] = 'Other'\n",
        "eu.loc[5,'eu_sales'] =  eu.loc[5:,'eu_sales'].sum().round(2)\n",
        "eu = eu.iloc[0:6, :]\n",
        "jp = (\n",
        "      actual_data\n",
        "        .pivot_table(index=['genre'], values=['jp_sales'], aggfunc='sum')\n",
        "        .sort_values('jp_sales', ascending=False).reset_index()\n",
        "     )\n",
        "jp.loc[5:,'genre'] = 'Other'\n",
        "jp.loc[5,'jp_sales'] =  jp.loc[5:,'jp_sales'].sum().round(2)\n",
        "jp = jp.iloc[0:6, :]\n",
        "gs = pd.merge(na, eu, left_index=True, right_index=True)\n",
        "gs = pd.merge(gs, jp, left_index=True, right_index=True)\n",
        "gs.rename(columns = {'genre_x':'na_genre', 'genre_y':'eu_genre', 'genre':'jp_genre'}, inplace = True )\n",
        "\n",
        "data = {'region': ['NA - Америка', 'EU - Европа', 'JP - Япония'], 'genre': ['na_genre', 'eu_genre', 'jp_genre'], 'sales': ['na_sales', 'eu_sales', 'jp_sales']}\n",
        "regions = pd.DataFrame(data)\n",
        "\n",
        "for i in regions.index :\n",
        "    name = regions['region'][i]\n",
        "    (gs.pivot_table(index=regions['genre'][i], values=regions['sales'][i], aggfunc='sum')\n",
        "     .plot(kind='pie', y=regions['sales'][i], autopct='%1.0f%%', figsize=(7, 7), legend=False)\n",
        "     .set(ylabel='Доля продаж от всех в регионе (%)')\n",
        "    )\n",
        "    plt.title(f'Топ-5 самых популярных жанров в регионе {name}')\n",
        "    plt.show()"
      ]
    },
    {
      "cell_type": "markdown",
      "metadata": {
        "id": "vuF2RQGvrqE3"
      },
      "source": [
        "Выяснилось что пользователи по регионам предпочитают жанры игр в соответствии с долями указанными в таблице выше. В топ в регионах NA и EU входят одинаковые жанры почти с одинаковым распределением."
      ]
    },
    {
      "cell_type": "markdown",
      "metadata": {
        "id": "hE1GLwCorqE3"
      },
      "source": [
        "4.3. Влияние рейтинга ESRB на продажи в регионах"
      ]
    },
    {
      "cell_type": "code",
      "execution_count": null,
      "metadata": {
        "id": "So0rETEorqE3",
        "outputId": "21a28d50-ef00-4894-cb75-5c792f24d5e0"
      },
      "outputs": [
        {
          "data": {
            "image/png": "[encoded data removed]",
            "text/plain": [
              "<Figure size 504x504 with 1 Axes>"
            ]
          },
          "metadata": {},
          "output_type": "display_data"
        },
        {
          "data": {
            "image/png": "[encoded data removed]",
            "text/plain": [
              "<Figure size 504x504 with 1 Axes>"
            ]
          },
          "metadata": {},
          "output_type": "display_data"
        },
        {
          "data": {
            "image/png": "[encoded data removed]",
            "text/plain": [
              "<Figure size 504x504 with 1 Axes>"
            ]
          },
          "metadata": {},
          "output_type": "display_data"
        }
      ],
      "source": [
        "regions = ['na_sales', 'eu_sales', 'jp_sales']\n",
        "\n",
        "for region in regions:\n",
        "    if region == 'na_sales':\n",
        "        name = 'NA - Америка'\n",
        "    elif region == 'eu_sales':\n",
        "        name = 'EU - Европа'\n",
        "    else:\n",
        "        name = 'JP - Япония'\n",
        "    (actual_data.pivot_table(index='rating', values=region, aggfunc='sum')\n",
        "     .sort_values(region, ascending=False)\n",
        "     .plot(kind='pie', y=region, autopct='%1.0f%%', figsize=(7, 7), legend=False, title = region)\n",
        "     .set(ylabel='Доля продаж в зависимости от рейтинга ESRB в %')\n",
        "    )\n",
        "    plt.title(f'Доля продаж в зависимости от рейтинга ESRB в регионе {name}')\n",
        "    plt.show()"
      ]
    },
    {
      "cell_type": "markdown",
      "metadata": {
        "id": "LYFa0u9RrqE3"
      },
      "source": [
        "ВЫВОД:\n",
        "\n",
        "В регионах NA и EU большая часть продаж приходится на рейтинг \"M\", на втором месте игры с рейтингом \"E\". В регионах JP ситуация иная, большая часть продаж приходится на \"E\". на втором месте \"T\"."
      ]
    },
    {
      "cell_type": "markdown",
      "metadata": {
        "id": "yif7tb9ArqE3"
      },
      "source": [
        "# 5. Проверим гипотезы"
      ]
    },
    {
      "cell_type": "markdown",
      "metadata": {
        "id": "q-1xZ6dFrqE3"
      },
      "source": [
        "5.1. Средние пользовательские рейтинги платформ Xbox One и PC одинаковые"
      ]
    },
    {
      "cell_type": "code",
      "execution_count": null,
      "metadata": {
        "id": "4EaYa7dmrqE3",
        "outputId": "3657ed4c-bc8b-4f2b-b4bc-b8a4c03ff251"
      },
      "outputs": [
        {
          "name": "stdout",
          "output_type": "stream",
          "text": [
            "Равны ли дисперсии двух совокупностей? False\n"
          ]
        }
      ],
      "source": [
        "xone_var = st.variation(actual_data.query('platform == \"xone\"')['user_score'])\n",
        "pc_var = st.variation(actual_data.query('platform == \"pc\"')['user_score'])\n",
        "print('Равны ли дисперсии двух совокупностей?',(xone_var * 0.05 < abs(xone_var - pc_var)))"
      ]
    },
    {
      "cell_type": "code",
      "execution_count": null,
      "metadata": {
        "id": "S9LqieGxrqE3",
        "outputId": "675d21f2-37a3-4f9f-8316-06b82912e456"
      },
      "outputs": [
        {
          "name": "stdout",
          "output_type": "stream",
          "text": [
            "р-значение:  nan\n",
            "Не получилось отвергнуть нулевую гипотезу\n"
          ]
        }
      ],
      "source": [
        "alpha = 0.05\n",
        "\n",
        "result_first = st.ttest_ind(actual_data.query('platform == \"xone\"')['user_score'],\n",
        "                            actual_data.query('platform == \"pc\"')['user_score'])\n",
        "\n",
        "prob_first = result_first.pvalue\n",
        "print('р-значение: ',prob_first)\n",
        "if prob_first < alpha:\n",
        "    print(\"Отвергаем нулевую гипотезу\")\n",
        "else:\n",
        "    print(\"Не получилось отвергнуть нулевую гипотезу\")"
      ]
    },
    {
      "cell_type": "markdown",
      "metadata": {
        "id": "vAmW54nqrqE4"
      },
      "source": [
        "Не получилось отвергнуть нулевую гипотезу, есть основания утверждать, что рейтинги платформ XOne и PC равны, при установленном уровне значимости в 5 %."
      ]
    },
    {
      "cell_type": "markdown",
      "metadata": {
        "id": "bA2xhOERrqE4"
      },
      "source": [
        "5.2. Средние пользовательские рейтинги жанров Action (англ. «действие», экшен-игры) и Sports (англ. «спортивные соревнования») разные."
      ]
    },
    {
      "cell_type": "code",
      "execution_count": null,
      "metadata": {
        "id": "RVLyklaarqE4",
        "outputId": "aef81854-a8a6-443b-895c-2abeee3b20d6"
      },
      "outputs": [
        {
          "name": "stdout",
          "output_type": "stream",
          "text": [
            "Равны ли дисперсии двух совокупностей? False\n"
          ]
        }
      ],
      "source": [
        "action_var = st.variation(actual_data.query('genre == \"action\"')['user_score'])\n",
        "sports_var = st.variation(actual_data.query('genre == \"sports\"')['user_score'])\n",
        "print('Равны ли дисперсии двух совокупностей?',(((action_var * 0.05) < abs(action_var - sports_var))))\n"
      ]
    },
    {
      "cell_type": "code",
      "execution_count": null,
      "metadata": {
        "id": "KXzgonhzrqE4",
        "outputId": "4ce05827-7591-4938-f5b0-d85eefe13655"
      },
      "outputs": [
        {
          "name": "stdout",
          "output_type": "stream",
          "text": [
            "р-значение:  nan\n",
            "Не получилось отвергнуть нулевую гипотезу\n"
          ]
        }
      ],
      "source": [
        "result_second = st.ttest_ind(actual_data.query('genre == \"action\"')['user_score'],\n",
        "                             actual_data.query('genre == \"sports\"')['user_score'],\n",
        "                             equal_var=False)\n",
        "prob_second = result_first.pvalue\n",
        "print('р-значение: ',prob_second)\n",
        "if prob_second < alpha:\n",
        "    print(\"Отвергаем нулевую гипотезу\")\n",
        "else:\n",
        "    print(\"Не получилось отвергнуть нулевую гипотезу\")"
      ]
    },
    {
      "cell_type": "markdown",
      "metadata": {
        "id": "n39jC-XJrqE4"
      },
      "source": [
        "Не получилось отвергнуть нулевую гипотезу.Есть основания утверждать, что рейтинги жанров Action и Sports равны, при установленном уровне значимости в 5 %."
      ]
    },
    {
      "cell_type": "markdown",
      "metadata": {
        "id": "2QfsYDzkrqE4"
      },
      "source": [
        "# Вывод"
      ]
    },
    {
      "cell_type": "markdown",
      "metadata": {
        "id": "I7yG321drqE4"
      },
      "source": [
        "1. Изучили общую информацию о данных.\n",
        "- название колонок имеют нарушение стилей;\n",
        "- в колонках присутствует неверные типы данных;\n",
        "- данных достаточно для проведения исследования.\n",
        "2. Предобработка данных.\n",
        "- привели названия к общему формату;\n",
        "- удалили строки с неявными дубликатами;\n",
        "- удалили прропуски;\n",
        "- привели столбцы year_of_release и critic_score приведены к типу int;\n",
        "- столбец user_score к типу float\n",
        "3. Провели исследовательский анализ.\n",
        "- На графике представлены игры 1985-2016 года выпуска. Рост числа выпуска игр приходится на период с 1996 по 2008. Пик продаж пришёлся на 2008 год. Затем наблюдается спад вплоть до 2016 года\n",
        "- На 2016 год лидирующими консолями являются PS4 и XOne, хотя как и у всех наблюдается уменьшение продаж.\n",
        "- По всем консолям присутствуют выбросы по продажам\n",
        "- За последние четыре года наиболее востребованными являются Action, Shooter. Дополнительное исследование и сравнение медианных значений по продажам в разрезе жанров указывает, что предпочтение в жанрах надо отдавать Shooter, Sports обладающих большим медианным значением прибыли.\n",
        "4. Составили портрет пользователя каждого региона.\n",
        "- В топ в регионах NA и EU входят одинаковые платформы с перестановкой их предпочтения, но на рынке JP присутствуют специализированные региональные платформы.\n",
        "- В топ в регионах NA и EU входят одинаковые жанры почти с одинаковым распределением.\n",
        "- В регионах NA и EU большая часть продаж приходится на рейтинг \"M\", на втором месте игры с рейтингом \"E\". В регионах JP ситуация иная, большая часть продаж приходится на \"E\". на втором месте \"T\".\n",
        "5. Проверили гипотезы.\n",
        "- Не получилось отвергнуть нулевую гипотезу, есть основания утверждать, что рейтинги платформ XOne и PC равны, при установленном уровне значимости в 5 %.\n",
        "- Не получилось отвергнуть нулевую гипотезу.Есть основания утверждать, что рейтинги жанров Action и Sports равны, при установленном уровне значимости в 5 %."
      ]
    }
  ],
  "metadata": {
    "ExecuteTimeLog": [
      {
        "duration": 419,
        "start_time": "2025-03-18T11:25:03.644Z"
      },
      {
        "duration": 100,
        "start_time": "2025-03-18T11:25:05.126Z"
      },
      {
        "duration": 22,
        "start_time": "2025-03-18T11:26:31.523Z"
      },
      {
        "duration": 956,
        "start_time": "2025-03-18T11:27:17.647Z"
      },
      {
        "duration": 57,
        "start_time": "2025-03-18T11:27:19.369Z"
      },
      {
        "duration": 57,
        "start_time": "2025-03-18T11:27:49.106Z"
      },
      {
        "duration": 16,
        "start_time": "2025-03-18T11:30:24.284Z"
      },
      {
        "duration": 4,
        "start_time": "2025-03-18T11:33:05.806Z"
      },
      {
        "duration": 3,
        "start_time": "2025-03-18T11:34:03.110Z"
      },
      {
        "duration": 5,
        "start_time": "2025-03-18T11:34:23.982Z"
      },
      {
        "duration": 18,
        "start_time": "2025-03-18T11:35:31.488Z"
      },
      {
        "duration": 12,
        "start_time": "2025-03-18T11:35:50.981Z"
      },
      {
        "duration": 29,
        "start_time": "2025-03-18T11:36:00.842Z"
      },
      {
        "duration": 16,
        "start_time": "2025-03-18T11:40:40.813Z"
      },
      {
        "duration": 13,
        "start_time": "2025-03-18T11:42:45.510Z"
      },
      {
        "duration": 10,
        "start_time": "2025-03-18T11:43:59.245Z"
      },
      {
        "duration": 9,
        "start_time": "2025-03-18T11:44:08.966Z"
      },
      {
        "duration": 59,
        "start_time": "2025-03-18T12:07:02.162Z"
      },
      {
        "duration": 53,
        "start_time": "2025-03-18T12:07:23.899Z"
      },
      {
        "duration": 1884,
        "start_time": "2025-03-18T12:08:35.892Z"
      },
      {
        "duration": 2242,
        "start_time": "2025-03-18T12:10:08.758Z"
      },
      {
        "duration": 1952,
        "start_time": "2025-03-18T12:10:28.977Z"
      },
      {
        "duration": 14,
        "start_time": "2025-03-18T12:11:33.096Z"
      },
      {
        "duration": 3,
        "start_time": "2025-03-18T12:12:43.914Z"
      },
      {
        "duration": 52,
        "start_time": "2025-03-18T12:12:44.379Z"
      },
      {
        "duration": 15,
        "start_time": "2025-03-18T12:12:44.691Z"
      },
      {
        "duration": 3,
        "start_time": "2025-03-18T12:12:45.561Z"
      },
      {
        "duration": 3,
        "start_time": "2025-03-18T12:12:45.959Z"
      },
      {
        "duration": 4,
        "start_time": "2025-03-18T12:12:46.229Z"
      },
      {
        "duration": 14,
        "start_time": "2025-03-18T12:12:46.529Z"
      },
      {
        "duration": 13,
        "start_time": "2025-03-18T12:12:47.196Z"
      },
      {
        "duration": 10,
        "start_time": "2025-03-18T12:12:47.773Z"
      },
      {
        "duration": 14,
        "start_time": "2025-03-18T12:12:48.357Z"
      },
      {
        "duration": 4,
        "start_time": "2025-03-18T12:12:50.040Z"
      },
      {
        "duration": 5,
        "start_time": "2025-03-18T12:13:18.996Z"
      },
      {
        "duration": 4,
        "start_time": "2025-03-18T12:13:26.032Z"
      },
      {
        "duration": 5,
        "start_time": "2025-03-18T12:13:26.834Z"
      },
      {
        "duration": 4,
        "start_time": "2025-03-18T12:14:04.722Z"
      },
      {
        "duration": 6,
        "start_time": "2025-03-18T12:14:05.048Z"
      },
      {
        "duration": 3,
        "start_time": "2025-03-18T12:14:20.680Z"
      },
      {
        "duration": 14,
        "start_time": "2025-03-18T12:14:21.098Z"
      },
      {
        "duration": 3,
        "start_time": "2025-03-18T12:14:33.420Z"
      },
      {
        "duration": 14,
        "start_time": "2025-03-18T12:14:33.758Z"
      },
      {
        "duration": 4,
        "start_time": "2025-03-18T12:15:36.968Z"
      },
      {
        "duration": 14,
        "start_time": "2025-03-18T12:15:37.319Z"
      },
      {
        "duration": 4,
        "start_time": "2025-03-18T12:15:50.611Z"
      },
      {
        "duration": 5,
        "start_time": "2025-03-18T12:15:51.069Z"
      },
      {
        "duration": 1271,
        "start_time": "2025-03-18T12:16:57.613Z"
      },
      {
        "duration": 0,
        "start_time": "2025-03-18T12:16:58.885Z"
      },
      {
        "duration": 1430,
        "start_time": "2025-03-18T12:17:46.331Z"
      },
      {
        "duration": 0,
        "start_time": "2025-03-18T12:17:47.763Z"
      },
      {
        "duration": 4,
        "start_time": "2025-03-18T12:31:41.833Z"
      },
      {
        "duration": 533,
        "start_time": "2025-03-18T12:31:44.541Z"
      },
      {
        "duration": 472,
        "start_time": "2025-03-18T12:31:56.797Z"
      },
      {
        "duration": 9,
        "start_time": "2025-03-18T12:32:00.209Z"
      },
      {
        "duration": 9,
        "start_time": "2025-03-18T12:32:00.606Z"
      },
      {
        "duration": 9,
        "start_time": "2025-03-18T12:32:01.296Z"
      },
      {
        "duration": 2,
        "start_time": "2025-03-18T12:32:04.634Z"
      },
      {
        "duration": 52,
        "start_time": "2025-03-18T12:32:05.016Z"
      },
      {
        "duration": 3,
        "start_time": "2025-03-18T12:32:08.293Z"
      },
      {
        "duration": 53,
        "start_time": "2025-03-18T12:32:08.790Z"
      },
      {
        "duration": 12,
        "start_time": "2025-03-18T12:32:09.164Z"
      },
      {
        "duration": 4,
        "start_time": "2025-03-18T12:32:10.237Z"
      },
      {
        "duration": 3,
        "start_time": "2025-03-18T12:32:11.053Z"
      },
      {
        "duration": 4,
        "start_time": "2025-03-18T12:32:11.721Z"
      },
      {
        "duration": 10,
        "start_time": "2025-03-18T12:32:12.208Z"
      },
      {
        "duration": 9,
        "start_time": "2025-03-18T12:32:12.629Z"
      },
      {
        "duration": 10,
        "start_time": "2025-03-18T12:32:12.951Z"
      },
      {
        "duration": 8,
        "start_time": "2025-03-18T12:32:13.657Z"
      },
      {
        "duration": 13,
        "start_time": "2025-03-18T12:32:13.867Z"
      },
      {
        "duration": 4,
        "start_time": "2025-03-18T12:32:14.069Z"
      },
      {
        "duration": 13,
        "start_time": "2025-03-18T12:32:14.338Z"
      },
      {
        "duration": 12,
        "start_time": "2025-03-18T12:42:39.486Z"
      },
      {
        "duration": 9,
        "start_time": "2025-03-18T12:42:53.557Z"
      },
      {
        "duration": 19,
        "start_time": "2025-03-18T12:43:11.476Z"
      },
      {
        "duration": 3,
        "start_time": "2025-03-18T13:04:51.278Z"
      },
      {
        "duration": 53,
        "start_time": "2025-03-18T13:04:51.727Z"
      },
      {
        "duration": 13,
        "start_time": "2025-03-18T13:04:53.357Z"
      },
      {
        "duration": 5,
        "start_time": "2025-03-18T13:04:54.323Z"
      },
      {
        "duration": 3,
        "start_time": "2025-03-18T13:04:54.996Z"
      },
      {
        "duration": 4,
        "start_time": "2025-03-18T13:04:55.468Z"
      },
      {
        "duration": 10,
        "start_time": "2025-03-18T13:04:55.933Z"
      },
      {
        "duration": 9,
        "start_time": "2025-03-18T13:04:56.366Z"
      },
      {
        "duration": 10,
        "start_time": "2025-03-18T13:04:57.215Z"
      },
      {
        "duration": 9,
        "start_time": "2025-03-18T13:05:11.618Z"
      },
      {
        "duration": 14,
        "start_time": "2025-03-18T13:05:12.083Z"
      },
      {
        "duration": 3,
        "start_time": "2025-03-18T13:05:12.903Z"
      },
      {
        "duration": 15,
        "start_time": "2025-03-18T13:05:13.517Z"
      },
      {
        "duration": 17,
        "start_time": "2025-03-18T13:05:14.768Z"
      },
      {
        "duration": 13,
        "start_time": "2025-03-18T13:09:01.544Z"
      },
      {
        "duration": 3,
        "start_time": "2025-03-18T13:09:05.846Z"
      },
      {
        "duration": 53,
        "start_time": "2025-03-18T13:09:05.965Z"
      },
      {
        "duration": 2,
        "start_time": "2025-03-18T13:09:08.433Z"
      },
      {
        "duration": 53,
        "start_time": "2025-03-18T13:09:08.780Z"
      },
      {
        "duration": 14,
        "start_time": "2025-03-18T13:09:09.041Z"
      },
      {
        "duration": 4,
        "start_time": "2025-03-18T13:09:09.544Z"
      },
      {
        "duration": 3,
        "start_time": "2025-03-18T13:09:09.827Z"
      },
      {
        "duration": 4,
        "start_time": "2025-03-18T13:09:09.956Z"
      },
      {
        "duration": 10,
        "start_time": "2025-03-18T13:09:10.150Z"
      },
      {
        "duration": 9,
        "start_time": "2025-03-18T13:09:10.346Z"
      },
      {
        "duration": 10,
        "start_time": "2025-03-18T13:09:10.579Z"
      },
      {
        "duration": 14,
        "start_time": "2025-03-18T13:09:10.782Z"
      },
      {
        "duration": 4,
        "start_time": "2025-03-18T13:09:10.968Z"
      },
      {
        "duration": 13,
        "start_time": "2025-03-18T13:09:11.330Z"
      },
      {
        "duration": 16,
        "start_time": "2025-03-18T13:09:11.659Z"
      },
      {
        "duration": 14,
        "start_time": "2025-03-18T13:09:11.884Z"
      },
      {
        "duration": 15,
        "start_time": "2025-03-18T13:09:12.251Z"
      },
      {
        "duration": 14,
        "start_time": "2025-03-18T13:09:12.806Z"
      },
      {
        "duration": 8,
        "start_time": "2025-03-18T13:09:13.368Z"
      },
      {
        "duration": 14,
        "start_time": "2025-03-18T13:09:54.850Z"
      },
      {
        "duration": 13,
        "start_time": "2025-03-18T13:09:55.235Z"
      },
      {
        "duration": 13,
        "start_time": "2025-03-18T13:09:56.684Z"
      },
      {
        "duration": 13,
        "start_time": "2025-03-18T13:09:57.372Z"
      },
      {
        "duration": 8,
        "start_time": "2025-03-18T13:09:57.926Z"
      },
      {
        "duration": 12,
        "start_time": "2025-03-18T13:10:33.680Z"
      },
      {
        "duration": 9,
        "start_time": "2025-03-18T13:10:46.767Z"
      },
      {
        "duration": 14,
        "start_time": "2025-03-18T13:11:36.470Z"
      },
      {
        "duration": 17,
        "start_time": "2025-03-18T13:12:04.626Z"
      },
      {
        "duration": 3,
        "start_time": "2025-03-18T13:12:30.216Z"
      },
      {
        "duration": 57,
        "start_time": "2025-03-18T13:12:31.247Z"
      },
      {
        "duration": 15,
        "start_time": "2025-03-18T13:12:31.611Z"
      },
      {
        "duration": 4,
        "start_time": "2025-03-18T13:12:32.098Z"
      },
      {
        "duration": 3,
        "start_time": "2025-03-18T13:12:32.319Z"
      },
      {
        "duration": 5,
        "start_time": "2025-03-18T13:12:32.559Z"
      },
      {
        "duration": 11,
        "start_time": "2025-03-18T13:12:32.782Z"
      },
      {
        "duration": 10,
        "start_time": "2025-03-18T13:12:32.991Z"
      },
      {
        "duration": 13,
        "start_time": "2025-03-18T13:12:33.185Z"
      },
      {
        "duration": 13,
        "start_time": "2025-03-18T13:12:33.456Z"
      },
      {
        "duration": 4,
        "start_time": "2025-03-18T13:12:33.807Z"
      },
      {
        "duration": 13,
        "start_time": "2025-03-18T13:12:34.251Z"
      },
      {
        "duration": 13,
        "start_time": "2025-03-18T13:12:34.957Z"
      },
      {
        "duration": 2,
        "start_time": "2025-03-18T14:27:22.023Z"
      },
      {
        "duration": 53,
        "start_time": "2025-03-18T14:27:22.393Z"
      },
      {
        "duration": 13,
        "start_time": "2025-03-18T14:27:22.841Z"
      },
      {
        "duration": 4,
        "start_time": "2025-03-18T14:27:23.765Z"
      },
      {
        "duration": 3,
        "start_time": "2025-03-18T14:27:24.199Z"
      },
      {
        "duration": 3,
        "start_time": "2025-03-18T14:27:24.597Z"
      },
      {
        "duration": 10,
        "start_time": "2025-03-18T14:27:24.893Z"
      },
      {
        "duration": 10,
        "start_time": "2025-03-18T14:27:25.260Z"
      },
      {
        "duration": 9,
        "start_time": "2025-03-18T14:27:25.624Z"
      },
      {
        "duration": 14,
        "start_time": "2025-03-18T14:27:26.034Z"
      },
      {
        "duration": 4,
        "start_time": "2025-03-18T14:27:26.412Z"
      },
      {
        "duration": 20,
        "start_time": "2025-03-18T14:27:26.916Z"
      },
      {
        "duration": 14,
        "start_time": "2025-03-18T14:27:27.348Z"
      },
      {
        "duration": 14,
        "start_time": "2025-03-18T14:27:27.876Z"
      },
      {
        "duration": 1424,
        "start_time": "2025-03-23T07:03:44.350Z"
      },
      {
        "duration": 70,
        "start_time": "2025-03-23T07:03:45.776Z"
      },
      {
        "duration": 15,
        "start_time": "2025-03-23T07:03:47.002Z"
      },
      {
        "duration": 4,
        "start_time": "2025-03-23T07:03:48.774Z"
      },
      {
        "duration": 4,
        "start_time": "2025-03-23T07:03:49.268Z"
      },
      {
        "duration": 3,
        "start_time": "2025-03-23T07:03:49.719Z"
      },
      {
        "duration": 10,
        "start_time": "2025-03-23T07:03:50.169Z"
      },
      {
        "duration": 9,
        "start_time": "2025-03-23T07:03:50.648Z"
      },
      {
        "duration": 9,
        "start_time": "2025-03-23T07:03:51.144Z"
      },
      {
        "duration": 14,
        "start_time": "2025-03-23T07:03:51.805Z"
      },
      {
        "duration": 5,
        "start_time": "2025-03-23T07:05:12.263Z"
      },
      {
        "duration": 9,
        "start_time": "2025-03-23T07:07:46.300Z"
      },
      {
        "duration": 10,
        "start_time": "2025-03-23T07:08:08.904Z"
      },
      {
        "duration": 5,
        "start_time": "2025-03-23T07:09:43.673Z"
      },
      {
        "duration": 7,
        "start_time": "2025-03-23T07:12:23.214Z"
      },
      {
        "duration": 9,
        "start_time": "2025-03-23T07:12:24.067Z"
      },
      {
        "duration": 5,
        "start_time": "2025-03-23T07:17:27.563Z"
      },
      {
        "duration": 5,
        "start_time": "2025-03-23T07:17:47.601Z"
      },
      {
        "duration": 4,
        "start_time": "2025-03-23T07:17:58.521Z"
      },
      {
        "duration": 5,
        "start_time": "2025-03-23T07:18:28.866Z"
      },
      {
        "duration": 5,
        "start_time": "2025-03-23T07:22:02.092Z"
      },
      {
        "duration": 7,
        "start_time": "2025-03-23T07:22:12.045Z"
      },
      {
        "duration": 6,
        "start_time": "2025-03-23T07:22:18.708Z"
      },
      {
        "duration": 7,
        "start_time": "2025-03-23T07:22:23.313Z"
      },
      {
        "duration": 6,
        "start_time": "2025-03-23T07:23:42.843Z"
      },
      {
        "duration": 6,
        "start_time": "2025-03-23T07:23:59.209Z"
      },
      {
        "duration": 9,
        "start_time": "2025-03-23T07:24:05.822Z"
      },
      {
        "duration": 12,
        "start_time": "2025-03-23T07:25:41.610Z"
      },
      {
        "duration": 3,
        "start_time": "2025-03-23T07:29:24.347Z"
      },
      {
        "duration": 4,
        "start_time": "2025-03-23T07:29:24.870Z"
      },
      {
        "duration": 427,
        "start_time": "2025-03-23T07:29:54.739Z"
      },
      {
        "duration": 13,
        "start_time": "2025-03-23T07:30:07.547Z"
      },
      {
        "duration": 13,
        "start_time": "2025-03-23T07:30:45.166Z"
      },
      {
        "duration": 6,
        "start_time": "2025-03-23T07:34:16.142Z"
      },
      {
        "duration": 13,
        "start_time": "2025-03-23T07:34:32.897Z"
      },
      {
        "duration": 301,
        "start_time": "2025-03-23T07:42:57.287Z"
      },
      {
        "duration": 2,
        "start_time": "2025-03-23T07:55:38.606Z"
      },
      {
        "duration": 63,
        "start_time": "2025-03-23T07:55:39.082Z"
      },
      {
        "duration": 14,
        "start_time": "2025-03-23T07:55:39.647Z"
      },
      {
        "duration": 4,
        "start_time": "2025-03-23T07:55:40.517Z"
      },
      {
        "duration": 4,
        "start_time": "2025-03-23T07:55:40.801Z"
      },
      {
        "duration": 5,
        "start_time": "2025-03-23T07:55:41.042Z"
      },
      {
        "duration": 10,
        "start_time": "2025-03-23T07:55:41.313Z"
      },
      {
        "duration": 10,
        "start_time": "2025-03-23T07:55:41.521Z"
      },
      {
        "duration": 10,
        "start_time": "2025-03-23T07:55:41.747Z"
      },
      {
        "duration": 14,
        "start_time": "2025-03-23T07:55:41.989Z"
      },
      {
        "duration": 6,
        "start_time": "2025-03-23T07:55:42.193Z"
      },
      {
        "duration": 7,
        "start_time": "2025-03-23T07:55:42.455Z"
      },
      {
        "duration": 10,
        "start_time": "2025-03-23T07:55:42.706Z"
      },
      {
        "duration": 6,
        "start_time": "2025-03-23T07:55:42.962Z"
      },
      {
        "duration": 8,
        "start_time": "2025-03-23T07:55:43.187Z"
      },
      {
        "duration": 10,
        "start_time": "2025-03-23T07:55:43.393Z"
      },
      {
        "duration": 5,
        "start_time": "2025-03-23T07:55:43.637Z"
      },
      {
        "duration": 7,
        "start_time": "2025-03-23T07:55:43.849Z"
      },
      {
        "duration": 8,
        "start_time": "2025-03-23T07:55:44.056Z"
      },
      {
        "duration": 5,
        "start_time": "2025-03-23T07:55:44.252Z"
      },
      {
        "duration": 6,
        "start_time": "2025-03-23T07:55:44.520Z"
      },
      {
        "duration": 8,
        "start_time": "2025-03-23T07:55:44.762Z"
      },
      {
        "duration": 6,
        "start_time": "2025-03-23T07:55:45.002Z"
      },
      {
        "duration": 5,
        "start_time": "2025-03-23T07:55:45.470Z"
      },
      {
        "duration": 8,
        "start_time": "2025-03-23T07:55:46.112Z"
      },
      {
        "duration": 12,
        "start_time": "2025-03-23T07:55:46.608Z"
      },
      {
        "duration": 3,
        "start_time": "2025-03-23T07:55:47.166Z"
      },
      {
        "duration": 4,
        "start_time": "2025-03-23T07:55:47.778Z"
      },
      {
        "duration": 12,
        "start_time": "2025-03-23T07:55:48.094Z"
      },
      {
        "duration": 5,
        "start_time": "2025-03-23T07:55:48.531Z"
      },
      {
        "duration": 14,
        "start_time": "2025-03-23T07:55:49.431Z"
      },
      {
        "duration": 284,
        "start_time": "2025-03-23T07:55:51.258Z"
      },
      {
        "duration": 12,
        "start_time": "2025-03-23T07:56:21.736Z"
      },
      {
        "duration": 82,
        "start_time": "2025-03-23T08:02:43.996Z"
      },
      {
        "duration": 232,
        "start_time": "2025-03-23T08:03:05.185Z"
      },
      {
        "duration": 278,
        "start_time": "2025-03-23T08:03:38.863Z"
      },
      {
        "duration": 9,
        "start_time": "2025-03-23T08:03:39.341Z"
      },
      {
        "duration": 228,
        "start_time": "2025-03-23T08:03:41.681Z"
      },
      {
        "duration": 88,
        "start_time": "2025-03-23T08:12:10.542Z"
      },
      {
        "duration": 18,
        "start_time": "2025-03-23T08:12:16.597Z"
      },
      {
        "duration": 17,
        "start_time": "2025-03-23T08:12:28.523Z"
      },
      {
        "duration": 18,
        "start_time": "2025-03-23T08:12:36.832Z"
      },
      {
        "duration": 20,
        "start_time": "2025-03-23T08:12:54.352Z"
      },
      {
        "duration": 16,
        "start_time": "2025-03-23T08:13:00.309Z"
      },
      {
        "duration": 17,
        "start_time": "2025-03-23T08:13:08.320Z"
      },
      {
        "duration": 91,
        "start_time": "2025-03-23T08:13:35.992Z"
      },
      {
        "duration": 10,
        "start_time": "2025-03-23T08:14:52.166Z"
      },
      {
        "duration": 3,
        "start_time": "2025-03-23T08:15:20.513Z"
      },
      {
        "duration": 4,
        "start_time": "2025-03-23T08:15:35.123Z"
      },
      {
        "duration": 10,
        "start_time": "2025-03-23T08:15:38.888Z"
      },
      {
        "duration": 4,
        "start_time": "2025-03-23T08:15:39.383Z"
      },
      {
        "duration": 78,
        "start_time": "2025-03-23T08:17:54.144Z"
      },
      {
        "duration": 33,
        "start_time": "2025-03-23T08:25:17.086Z"
      },
      {
        "duration": 49,
        "start_time": "2025-03-23T11:30:41.193Z"
      },
      {
        "duration": 7,
        "start_time": "2025-03-23T11:31:20.010Z"
      },
      {
        "duration": 1449,
        "start_time": "2025-03-23T11:32:19.427Z"
      },
      {
        "duration": 87,
        "start_time": "2025-03-23T11:32:20.878Z"
      },
      {
        "duration": 16,
        "start_time": "2025-03-23T11:32:22.036Z"
      },
      {
        "duration": 5,
        "start_time": "2025-03-23T11:32:23.130Z"
      },
      {
        "duration": 4,
        "start_time": "2025-03-23T11:32:23.353Z"
      },
      {
        "duration": 4,
        "start_time": "2025-03-23T11:32:23.579Z"
      },
      {
        "duration": 11,
        "start_time": "2025-03-23T11:32:23.833Z"
      },
      {
        "duration": 10,
        "start_time": "2025-03-23T11:32:24.073Z"
      },
      {
        "duration": 11,
        "start_time": "2025-03-23T11:32:24.266Z"
      },
      {
        "duration": 16,
        "start_time": "2025-03-23T11:32:24.529Z"
      },
      {
        "duration": 6,
        "start_time": "2025-03-23T11:32:24.714Z"
      },
      {
        "duration": 8,
        "start_time": "2025-03-23T11:32:25.037Z"
      },
      {
        "duration": 11,
        "start_time": "2025-03-23T11:32:25.244Z"
      },
      {
        "duration": 5,
        "start_time": "2025-03-23T11:32:25.500Z"
      },
      {
        "duration": 7,
        "start_time": "2025-03-23T11:32:25.724Z"
      },
      {
        "duration": 9,
        "start_time": "2025-03-23T11:32:25.950Z"
      },
      {
        "duration": 6,
        "start_time": "2025-03-23T11:32:26.174Z"
      },
      {
        "duration": 6,
        "start_time": "2025-03-23T11:32:26.599Z"
      },
      {
        "duration": 9,
        "start_time": "2025-03-23T11:32:26.939Z"
      },
      {
        "duration": 6,
        "start_time": "2025-03-23T11:32:27.272Z"
      },
      {
        "duration": 6,
        "start_time": "2025-03-23T11:32:27.418Z"
      },
      {
        "duration": 8,
        "start_time": "2025-03-23T11:32:27.676Z"
      },
      {
        "duration": 6,
        "start_time": "2025-03-23T11:32:27.867Z"
      },
      {
        "duration": 6,
        "start_time": "2025-03-23T11:32:28.078Z"
      },
      {
        "duration": 9,
        "start_time": "2025-03-23T11:32:28.289Z"
      },
      {
        "duration": 13,
        "start_time": "2025-03-23T11:32:28.513Z"
      },
      {
        "duration": 4,
        "start_time": "2025-03-23T11:32:28.739Z"
      },
      {
        "duration": 4,
        "start_time": "2025-03-23T11:32:28.978Z"
      },
      {
        "duration": 13,
        "start_time": "2025-03-23T11:32:29.188Z"
      },
      {
        "duration": 6,
        "start_time": "2025-03-23T11:32:29.398Z"
      },
      {
        "duration": 14,
        "start_time": "2025-03-23T11:32:29.642Z"
      },
      {
        "duration": 304,
        "start_time": "2025-03-23T11:32:31.185Z"
      },
      {
        "duration": 10,
        "start_time": "2025-03-23T11:32:31.709Z"
      },
      {
        "duration": 220,
        "start_time": "2025-03-23T11:32:34.382Z"
      },
      {
        "duration": 11,
        "start_time": "2025-03-23T11:32:35.401Z"
      },
      {
        "duration": 4,
        "start_time": "2025-03-23T11:32:36.198Z"
      },
      {
        "duration": 329,
        "start_time": "2025-03-23T11:32:56.195Z"
      },
      {
        "duration": 7,
        "start_time": "2025-03-23T11:33:22.859Z"
      },
      {
        "duration": 73,
        "start_time": "2025-03-23T11:33:56.352Z"
      },
      {
        "duration": 14,
        "start_time": "2025-03-23T11:34:09.344Z"
      },
      {
        "duration": 34,
        "start_time": "2025-03-23T11:35:25.410Z"
      },
      {
        "duration": 8,
        "start_time": "2025-03-23T11:35:26.788Z"
      },
      {
        "duration": 6,
        "start_time": "2025-03-23T11:35:44.788Z"
      },
      {
        "duration": 20,
        "start_time": "2025-03-23T11:36:21.690Z"
      },
      {
        "duration": 14,
        "start_time": "2025-03-23T11:36:30.477Z"
      },
      {
        "duration": 18,
        "start_time": "2025-03-23T11:36:55.527Z"
      },
      {
        "duration": 394,
        "start_time": "2025-03-23T11:37:24.544Z"
      },
      {
        "duration": 4,
        "start_time": "2025-03-23T11:38:38.564Z"
      },
      {
        "duration": 368,
        "start_time": "2025-03-23T11:39:31.887Z"
      },
      {
        "duration": 9,
        "start_time": "2025-03-23T11:39:40.888Z"
      },
      {
        "duration": 266,
        "start_time": "2025-03-23T11:39:50.622Z"
      },
      {
        "duration": 12,
        "start_time": "2025-03-23T11:40:33.436Z"
      },
      {
        "duration": 527,
        "start_time": "2025-03-23T11:40:49.285Z"
      },
      {
        "duration": 378,
        "start_time": "2025-03-23T11:41:46.051Z"
      },
      {
        "duration": 390,
        "start_time": "2025-03-23T11:42:14.745Z"
      },
      {
        "duration": 446,
        "start_time": "2025-03-23T11:42:51.198Z"
      },
      {
        "duration": 373,
        "start_time": "2025-03-23T11:43:45.451Z"
      },
      {
        "duration": 362,
        "start_time": "2025-03-23T11:44:48.749Z"
      },
      {
        "duration": 186,
        "start_time": "2025-03-23T11:46:31.753Z"
      },
      {
        "duration": 15,
        "start_time": "2025-03-23T11:47:03.535Z"
      },
      {
        "duration": 1399,
        "start_time": "2025-03-23T14:18:23.069Z"
      },
      {
        "duration": 70,
        "start_time": "2025-03-23T14:18:24.470Z"
      },
      {
        "duration": 15,
        "start_time": "2025-03-23T14:18:25.410Z"
      },
      {
        "duration": 4,
        "start_time": "2025-03-23T14:18:26.549Z"
      },
      {
        "duration": 3,
        "start_time": "2025-03-23T14:18:26.853Z"
      },
      {
        "duration": 4,
        "start_time": "2025-03-23T14:18:27.072Z"
      },
      {
        "duration": 13,
        "start_time": "2025-03-23T14:18:27.312Z"
      },
      {
        "duration": 13,
        "start_time": "2025-03-23T14:18:27.538Z"
      },
      {
        "duration": 11,
        "start_time": "2025-03-23T14:18:27.743Z"
      },
      {
        "duration": 13,
        "start_time": "2025-03-23T14:18:27.972Z"
      },
      {
        "duration": 7,
        "start_time": "2025-03-23T14:18:28.161Z"
      },
      {
        "duration": 10,
        "start_time": "2025-03-23T14:18:28.408Z"
      },
      {
        "duration": 10,
        "start_time": "2025-03-23T14:18:28.600Z"
      },
      {
        "duration": 5,
        "start_time": "2025-03-23T14:18:28.828Z"
      },
      {
        "duration": 7,
        "start_time": "2025-03-23T14:18:29.051Z"
      },
      {
        "duration": 9,
        "start_time": "2025-03-23T14:18:29.276Z"
      },
      {
        "duration": 5,
        "start_time": "2025-03-23T14:18:29.549Z"
      },
      {
        "duration": 7,
        "start_time": "2025-03-23T14:18:29.754Z"
      },
      {
        "duration": 8,
        "start_time": "2025-03-23T14:18:29.966Z"
      },
      {
        "duration": 6,
        "start_time": "2025-03-23T14:18:30.158Z"
      },
      {
        "duration": 6,
        "start_time": "2025-03-23T14:18:30.371Z"
      },
      {
        "duration": 8,
        "start_time": "2025-03-23T14:18:30.581Z"
      },
      {
        "duration": 6,
        "start_time": "2025-03-23T14:18:30.806Z"
      },
      {
        "duration": 6,
        "start_time": "2025-03-23T14:18:31.014Z"
      },
      {
        "duration": 8,
        "start_time": "2025-03-23T14:18:31.333Z"
      },
      {
        "duration": 12,
        "start_time": "2025-03-23T14:18:31.649Z"
      },
      {
        "duration": 4,
        "start_time": "2025-03-23T14:18:32.025Z"
      },
      {
        "duration": 4,
        "start_time": "2025-03-23T14:18:32.504Z"
      },
      {
        "duration": 13,
        "start_time": "2025-03-23T14:18:32.757Z"
      },
      {
        "duration": 6,
        "start_time": "2025-03-23T14:18:33.044Z"
      },
      {
        "duration": 14,
        "start_time": "2025-03-23T14:18:33.300Z"
      },
      {
        "duration": 304,
        "start_time": "2025-03-23T14:18:34.649Z"
      },
      {
        "duration": 10,
        "start_time": "2025-03-23T14:18:35.005Z"
      },
      {
        "duration": 231,
        "start_time": "2025-03-23T14:18:36.024Z"
      },
      {
        "duration": 11,
        "start_time": "2025-03-23T14:18:36.313Z"
      },
      {
        "duration": 3,
        "start_time": "2025-03-23T14:18:36.538Z"
      },
      {
        "duration": 325,
        "start_time": "2025-03-23T14:18:36.728Z"
      },
      {
        "duration": 6,
        "start_time": "2025-03-23T14:18:37.055Z"
      },
      {
        "duration": 19,
        "start_time": "2025-03-23T14:18:37.206Z"
      },
      {
        "duration": 7,
        "start_time": "2025-03-23T14:18:37.917Z"
      },
      {
        "duration": 6,
        "start_time": "2025-03-23T14:18:38.355Z"
      },
      {
        "duration": 13,
        "start_time": "2025-03-23T14:18:39.204Z"
      },
      {
        "duration": 17,
        "start_time": "2025-03-23T14:18:39.675Z"
      },
      {
        "duration": 470,
        "start_time": "2025-03-23T14:18:40.211Z"
      },
      {
        "duration": 266,
        "start_time": "2025-03-23T14:18:41.160Z"
      },
      {
        "duration": 9,
        "start_time": "2025-03-23T14:18:41.621Z"
      },
      {
        "duration": 275,
        "start_time": "2025-03-23T14:18:42.090Z"
      },
      {
        "duration": 12,
        "start_time": "2025-03-23T14:18:43.110Z"
      },
      {
        "duration": 192,
        "start_time": "2025-03-23T14:18:44.745Z"
      },
      {
        "duration": 39,
        "start_time": "2025-03-23T14:18:46.858Z"
      },
      {
        "duration": 12,
        "start_time": "2025-03-23T14:19:33.236Z"
      },
      {
        "duration": 402,
        "start_time": "2025-03-23T14:20:05.084Z"
      },
      {
        "duration": 10,
        "start_time": "2025-03-23T14:20:32.564Z"
      },
      {
        "duration": 13,
        "start_time": "2025-03-23T14:20:47.007Z"
      },
      {
        "duration": 501,
        "start_time": "2025-03-23T14:23:04.048Z"
      },
      {
        "duration": 375,
        "start_time": "2025-03-23T14:23:48.296Z"
      },
      {
        "duration": 550,
        "start_time": "2025-03-23T14:26:15.179Z"
      },
      {
        "duration": 393,
        "start_time": "2025-03-23T14:26:47.545Z"
      },
      {
        "duration": 11,
        "start_time": "2025-03-23T14:27:14.712Z"
      },
      {
        "duration": 8,
        "start_time": "2025-03-23T14:28:26.636Z"
      },
      {
        "duration": 356,
        "start_time": "2025-03-23T14:28:36.803Z"
      },
      {
        "duration": 31,
        "start_time": "2025-03-23T14:28:59.115Z"
      },
      {
        "duration": 11,
        "start_time": "2025-03-23T14:29:50.908Z"
      },
      {
        "duration": 2,
        "start_time": "2025-03-23T15:19:45.344Z"
      },
      {
        "duration": 55,
        "start_time": "2025-03-23T15:19:45.816Z"
      },
      {
        "duration": 16,
        "start_time": "2025-03-23T15:19:46.716Z"
      },
      {
        "duration": 3,
        "start_time": "2025-03-23T15:19:48.331Z"
      },
      {
        "duration": 3,
        "start_time": "2025-03-23T15:19:48.678Z"
      },
      {
        "duration": 4,
        "start_time": "2025-03-23T15:19:48.914Z"
      },
      {
        "duration": 10,
        "start_time": "2025-03-23T15:19:49.089Z"
      },
      {
        "duration": 9,
        "start_time": "2025-03-23T15:19:49.284Z"
      },
      {
        "duration": 11,
        "start_time": "2025-03-23T15:19:49.758Z"
      },
      {
        "duration": 14,
        "start_time": "2025-03-23T15:19:50.171Z"
      },
      {
        "duration": 5,
        "start_time": "2025-03-23T15:19:50.761Z"
      },
      {
        "duration": 8,
        "start_time": "2025-03-23T15:19:51.317Z"
      },
      {
        "duration": 11,
        "start_time": "2025-03-23T15:19:51.712Z"
      },
      {
        "duration": 8,
        "start_time": "2025-03-23T15:19:51.979Z"
      },
      {
        "duration": 7,
        "start_time": "2025-03-23T15:19:52.165Z"
      },
      {
        "duration": 11,
        "start_time": "2025-03-23T15:19:52.412Z"
      },
      {
        "duration": 5,
        "start_time": "2025-03-23T15:19:52.583Z"
      },
      {
        "duration": 6,
        "start_time": "2025-03-23T15:19:52.796Z"
      },
      {
        "duration": 10,
        "start_time": "2025-03-23T15:19:53.023Z"
      },
      {
        "duration": 5,
        "start_time": "2025-03-23T15:19:53.417Z"
      },
      {
        "duration": 7,
        "start_time": "2025-03-23T15:19:53.775Z"
      },
      {
        "duration": 9,
        "start_time": "2025-03-23T15:19:54.091Z"
      },
      {
        "duration": 5,
        "start_time": "2025-03-23T15:19:54.264Z"
      },
      {
        "duration": 6,
        "start_time": "2025-03-23T15:19:54.541Z"
      },
      {
        "duration": 15,
        "start_time": "2025-03-23T15:19:54.796Z"
      },
      {
        "duration": 13,
        "start_time": "2025-03-23T15:19:54.983Z"
      },
      {
        "duration": 4,
        "start_time": "2025-03-23T15:19:55.179Z"
      },
      {
        "duration": 4,
        "start_time": "2025-03-23T15:19:55.453Z"
      },
      {
        "duration": 14,
        "start_time": "2025-03-23T15:19:55.662Z"
      },
      {
        "duration": 6,
        "start_time": "2025-03-23T15:19:55.854Z"
      },
      {
        "duration": 14,
        "start_time": "2025-03-23T15:19:56.132Z"
      },
      {
        "duration": 313,
        "start_time": "2025-03-23T15:19:57.331Z"
      },
      {
        "duration": 11,
        "start_time": "2025-03-23T15:19:57.646Z"
      },
      {
        "duration": 261,
        "start_time": "2025-03-23T15:19:59.681Z"
      },
      {
        "duration": 15,
        "start_time": "2025-03-23T15:20:01.003Z"
      },
      {
        "duration": 3,
        "start_time": "2025-03-23T15:20:01.216Z"
      },
      {
        "duration": 328,
        "start_time": "2025-03-23T15:20:01.419Z"
      },
      {
        "duration": 9,
        "start_time": "2025-03-23T15:20:01.749Z"
      },
      {
        "duration": 25,
        "start_time": "2025-03-23T15:20:01.898Z"
      },
      {
        "duration": 7,
        "start_time": "2025-03-23T15:20:02.144Z"
      },
      {
        "duration": 12,
        "start_time": "2025-03-23T15:20:02.304Z"
      },
      {
        "duration": 14,
        "start_time": "2025-03-23T15:20:02.919Z"
      },
      {
        "duration": 16,
        "start_time": "2025-03-23T15:20:03.133Z"
      },
      {
        "duration": 416,
        "start_time": "2025-03-23T15:20:03.338Z"
      },
      {
        "duration": 354,
        "start_time": "2025-03-23T15:20:03.838Z"
      },
      {
        "duration": 23,
        "start_time": "2025-03-23T15:20:04.194Z"
      },
      {
        "duration": 287,
        "start_time": "2025-03-23T15:20:04.260Z"
      },
      {
        "duration": 12,
        "start_time": "2025-03-23T15:20:04.689Z"
      },
      {
        "duration": 202,
        "start_time": "2025-03-23T15:20:05.316Z"
      },
      {
        "duration": 42,
        "start_time": "2025-03-23T15:20:06.375Z"
      },
      {
        "duration": 9,
        "start_time": "2025-03-23T15:20:06.562Z"
      },
      {
        "duration": 412,
        "start_time": "2025-03-23T15:20:06.774Z"
      },
      {
        "duration": 475,
        "start_time": "2025-03-23T15:20:07.216Z"
      },
      {
        "duration": 476,
        "start_time": "2025-03-23T15:20:07.693Z"
      },
      {
        "duration": 3,
        "start_time": "2025-03-23T15:21:35.652Z"
      },
      {
        "duration": 3,
        "start_time": "2025-03-23T15:21:54.553Z"
      },
      {
        "duration": 83,
        "start_time": "2025-03-23T15:23:44.028Z"
      },
      {
        "duration": 4,
        "start_time": "2025-03-23T15:23:49.526Z"
      },
      {
        "duration": 13,
        "start_time": "2025-03-23T15:24:12.705Z"
      },
      {
        "duration": 9,
        "start_time": "2025-03-23T15:24:18.732Z"
      },
      {
        "duration": 3,
        "start_time": "2025-03-23T15:24:33.617Z"
      },
      {
        "duration": 1410,
        "start_time": "2025-03-23T19:13:09.039Z"
      },
      {
        "duration": 58,
        "start_time": "2025-03-23T19:13:10.451Z"
      },
      {
        "duration": 15,
        "start_time": "2025-03-23T19:13:10.511Z"
      },
      {
        "duration": 14,
        "start_time": "2025-03-23T19:13:10.530Z"
      },
      {
        "duration": 5,
        "start_time": "2025-03-23T19:13:10.546Z"
      },
      {
        "duration": 8,
        "start_time": "2025-03-23T19:13:10.552Z"
      },
      {
        "duration": 19,
        "start_time": "2025-03-23T19:13:10.562Z"
      },
      {
        "duration": 10,
        "start_time": "2025-03-23T19:13:10.582Z"
      },
      {
        "duration": 8,
        "start_time": "2025-03-23T19:13:10.593Z"
      },
      {
        "duration": 40,
        "start_time": "2025-03-23T19:13:10.603Z"
      },
      {
        "duration": 6,
        "start_time": "2025-03-23T19:13:10.645Z"
      },
      {
        "duration": 15,
        "start_time": "2025-03-23T19:13:10.652Z"
      },
      {
        "duration": 9,
        "start_time": "2025-03-23T19:13:10.669Z"
      },
      {
        "duration": 5,
        "start_time": "2025-03-23T19:13:10.681Z"
      },
      {
        "duration": 8,
        "start_time": "2025-03-23T19:13:10.687Z"
      },
      {
        "duration": 36,
        "start_time": "2025-03-23T19:13:10.697Z"
      },
      {
        "duration": 11,
        "start_time": "2025-03-23T19:13:10.734Z"
      },
      {
        "duration": 11,
        "start_time": "2025-03-23T19:13:10.746Z"
      },
      {
        "duration": 8,
        "start_time": "2025-03-23T19:13:10.758Z"
      },
      {
        "duration": 5,
        "start_time": "2025-03-23T19:13:10.767Z"
      },
      {
        "duration": 8,
        "start_time": "2025-03-23T19:13:10.774Z"
      },
      {
        "duration": 7,
        "start_time": "2025-03-23T19:13:10.783Z"
      },
      {
        "duration": 45,
        "start_time": "2025-03-23T19:13:10.792Z"
      },
      {
        "duration": 7,
        "start_time": "2025-03-23T19:13:10.838Z"
      },
      {
        "duration": 8,
        "start_time": "2025-03-23T19:13:10.847Z"
      },
      {
        "duration": 11,
        "start_time": "2025-03-23T19:13:10.857Z"
      },
      {
        "duration": 4,
        "start_time": "2025-03-23T19:13:10.869Z"
      },
      {
        "duration": 5,
        "start_time": "2025-03-23T19:13:10.874Z"
      },
      {
        "duration": 14,
        "start_time": "2025-03-23T19:13:10.880Z"
      },
      {
        "duration": 44,
        "start_time": "2025-03-23T19:13:10.896Z"
      },
      {
        "duration": 14,
        "start_time": "2025-03-23T19:13:10.941Z"
      },
      {
        "duration": 298,
        "start_time": "2025-03-23T19:13:10.956Z"
      },
      {
        "duration": 10,
        "start_time": "2025-03-23T19:13:11.255Z"
      },
      {
        "duration": 336,
        "start_time": "2025-03-23T19:13:11.266Z"
      },
      {
        "duration": 11,
        "start_time": "2025-03-23T19:13:11.604Z"
      },
      {
        "duration": 33,
        "start_time": "2025-03-23T19:13:11.637Z"
      },
      {
        "duration": 300,
        "start_time": "2025-03-23T19:13:11.672Z"
      },
      {
        "duration": 6,
        "start_time": "2025-03-23T19:13:11.974Z"
      },
      {
        "duration": 19,
        "start_time": "2025-03-23T19:13:11.981Z"
      },
      {
        "duration": 5,
        "start_time": "2025-03-23T19:13:12.002Z"
      },
      {
        "duration": 7,
        "start_time": "2025-03-23T19:13:12.041Z"
      },
      {
        "duration": 13,
        "start_time": "2025-03-23T19:13:12.050Z"
      },
      {
        "duration": 16,
        "start_time": "2025-03-23T19:13:12.064Z"
      },
      {
        "duration": 405,
        "start_time": "2025-03-23T19:13:12.081Z"
      },
      {
        "duration": 331,
        "start_time": "2025-03-23T19:13:12.488Z"
      },
      {
        "duration": 27,
        "start_time": "2025-03-23T19:13:12.820Z"
      },
      {
        "duration": 262,
        "start_time": "2025-03-23T19:13:12.848Z"
      },
      {
        "duration": 192,
        "start_time": "2025-03-23T19:13:13.111Z"
      },
      {
        "duration": 54,
        "start_time": "2025-03-23T19:13:13.305Z"
      },
      {
        "duration": 9,
        "start_time": "2025-03-23T19:13:13.361Z"
      },
      {
        "duration": 393,
        "start_time": "2025-03-23T19:13:13.371Z"
      },
      {
        "duration": 451,
        "start_time": "2025-03-23T19:13:13.765Z"
      },
      {
        "duration": 426,
        "start_time": "2025-03-23T19:13:14.218Z"
      },
      {
        "duration": 1404,
        "start_time": "2025-03-25T18:06:14.359Z"
      },
      {
        "duration": 65,
        "start_time": "2025-03-25T18:06:15.765Z"
      },
      {
        "duration": 33,
        "start_time": "2025-03-25T18:06:15.832Z"
      },
      {
        "duration": 4,
        "start_time": "2025-03-25T18:06:17.612Z"
      },
      {
        "duration": 4,
        "start_time": "2025-03-25T18:06:18.092Z"
      },
      {
        "duration": 4,
        "start_time": "2025-03-25T18:06:19.148Z"
      },
      {
        "duration": 10,
        "start_time": "2025-03-25T18:06:19.561Z"
      },
      {
        "duration": 10,
        "start_time": "2025-03-25T18:06:20.070Z"
      },
      {
        "duration": 11,
        "start_time": "2025-03-25T18:06:20.577Z"
      },
      {
        "duration": 14,
        "start_time": "2025-03-25T18:06:21.831Z"
      },
      {
        "duration": 6,
        "start_time": "2025-03-25T18:06:22.525Z"
      },
      {
        "duration": 10,
        "start_time": "2025-03-25T18:06:23.327Z"
      },
      {
        "duration": 10,
        "start_time": "2025-03-25T18:06:48.210Z"
      },
      {
        "duration": 5,
        "start_time": "2025-03-25T18:06:55.855Z"
      },
      {
        "duration": 6,
        "start_time": "2025-03-25T18:07:16.031Z"
      },
      {
        "duration": 305,
        "start_time": "2025-03-25T18:07:29.871Z"
      },
      {
        "duration": 6,
        "start_time": "2025-03-25T18:07:39.352Z"
      },
      {
        "duration": 5,
        "start_time": "2025-03-25T18:08:07.724Z"
      },
      {
        "duration": 9,
        "start_time": "2025-03-25T18:08:09.224Z"
      },
      {
        "duration": 10,
        "start_time": "2025-03-25T18:08:10.092Z"
      },
      {
        "duration": 6,
        "start_time": "2025-03-25T18:08:15.744Z"
      },
      {
        "duration": 7,
        "start_time": "2025-03-25T18:08:16.341Z"
      },
      {
        "duration": 9,
        "start_time": "2025-03-25T18:08:16.877Z"
      },
      {
        "duration": 8,
        "start_time": "2025-03-25T18:08:17.579Z"
      },
      {
        "duration": 8,
        "start_time": "2025-03-25T18:08:18.230Z"
      },
      {
        "duration": 9,
        "start_time": "2025-03-25T18:08:18.709Z"
      },
      {
        "duration": 5,
        "start_time": "2025-03-25T18:08:19.214Z"
      },
      {
        "duration": 7,
        "start_time": "2025-03-25T18:08:19.740Z"
      },
      {
        "duration": 6,
        "start_time": "2025-03-25T18:09:22.915Z"
      },
      {
        "duration": 7,
        "start_time": "2025-03-25T18:09:35.359Z"
      },
      {
        "duration": 7,
        "start_time": "2025-03-25T18:09:36.060Z"
      },
      {
        "duration": 5,
        "start_time": "2025-03-25T18:09:37.073Z"
      },
      {
        "duration": 6,
        "start_time": "2025-03-25T18:09:37.827Z"
      },
      {
        "duration": 9,
        "start_time": "2025-03-25T18:09:39.556Z"
      },
      {
        "duration": 5,
        "start_time": "2025-03-25T18:09:40.272Z"
      },
      {
        "duration": 5,
        "start_time": "2025-03-25T18:09:41.025Z"
      },
      {
        "duration": 6,
        "start_time": "2025-03-25T18:10:16.643Z"
      },
      {
        "duration": 6,
        "start_time": "2025-03-25T18:10:17.213Z"
      },
      {
        "duration": 9,
        "start_time": "2025-03-25T18:10:17.709Z"
      },
      {
        "duration": 6,
        "start_time": "2025-03-25T18:10:18.345Z"
      },
      {
        "duration": 7,
        "start_time": "2025-03-25T18:10:19.176Z"
      },
      {
        "duration": 8,
        "start_time": "2025-03-25T18:10:19.632Z"
      },
      {
        "duration": 4,
        "start_time": "2025-03-25T18:10:46.962Z"
      },
      {
        "duration": 7,
        "start_time": "2025-03-25T18:11:22.827Z"
      },
      {
        "duration": 5,
        "start_time": "2025-03-25T18:12:05.182Z"
      },
      {
        "duration": 4,
        "start_time": "2025-03-25T18:12:58.866Z"
      },
      {
        "duration": 2,
        "start_time": "2025-03-25T18:14:59.000Z"
      },
      {
        "duration": 52,
        "start_time": "2025-03-25T18:14:59.228Z"
      },
      {
        "duration": 14,
        "start_time": "2025-03-25T18:14:59.463Z"
      },
      {
        "duration": 4,
        "start_time": "2025-03-25T18:15:00.406Z"
      },
      {
        "duration": 3,
        "start_time": "2025-03-25T18:15:00.620Z"
      },
      {
        "duration": 3,
        "start_time": "2025-03-25T18:15:01.069Z"
      },
      {
        "duration": 10,
        "start_time": "2025-03-25T18:15:01.292Z"
      },
      {
        "duration": 9,
        "start_time": "2025-03-25T18:15:01.503Z"
      },
      {
        "duration": 9,
        "start_time": "2025-03-25T18:15:01.693Z"
      },
      {
        "duration": 13,
        "start_time": "2025-03-25T18:15:02.129Z"
      },
      {
        "duration": 5,
        "start_time": "2025-03-25T18:15:02.308Z"
      },
      {
        "duration": 9,
        "start_time": "2025-03-25T18:15:02.705Z"
      },
      {
        "duration": 9,
        "start_time": "2025-03-25T18:15:02.937Z"
      },
      {
        "duration": 5,
        "start_time": "2025-03-25T18:15:03.219Z"
      },
      {
        "duration": 9,
        "start_time": "2025-03-25T18:15:04.056Z"
      },
      {
        "duration": 11,
        "start_time": "2025-03-25T18:15:04.441Z"
      },
      {
        "duration": 6,
        "start_time": "2025-03-25T18:15:04.759Z"
      },
      {
        "duration": 5,
        "start_time": "2025-03-25T18:15:05.016Z"
      },
      {
        "duration": 8,
        "start_time": "2025-03-25T18:15:05.304Z"
      },
      {
        "duration": 5,
        "start_time": "2025-03-25T18:15:05.591Z"
      },
      {
        "duration": 8,
        "start_time": "2025-03-25T18:15:05.877Z"
      },
      {
        "duration": 8,
        "start_time": "2025-03-25T18:15:06.099Z"
      },
      {
        "duration": 5,
        "start_time": "2025-03-25T18:15:06.386Z"
      },
      {
        "duration": 6,
        "start_time": "2025-03-25T18:15:06.644Z"
      },
      {
        "duration": 7,
        "start_time": "2025-03-25T18:15:06.897Z"
      },
      {
        "duration": 13,
        "start_time": "2025-03-25T18:15:07.155Z"
      },
      {
        "duration": 4,
        "start_time": "2025-03-25T18:15:07.409Z"
      },
      {
        "duration": 4,
        "start_time": "2025-03-25T18:15:07.697Z"
      },
      {
        "duration": 13,
        "start_time": "2025-03-25T18:15:07.950Z"
      },
      {
        "duration": 6,
        "start_time": "2025-03-25T18:15:08.463Z"
      },
      {
        "duration": 15,
        "start_time": "2025-03-25T18:15:09.006Z"
      },
      {
        "duration": 303,
        "start_time": "2025-03-25T18:15:11.208Z"
      },
      {
        "duration": 11,
        "start_time": "2025-03-25T18:15:11.710Z"
      },
      {
        "duration": 234,
        "start_time": "2025-03-25T18:15:12.645Z"
      },
      {
        "duration": 10,
        "start_time": "2025-03-25T18:15:13.155Z"
      },
      {
        "duration": 3,
        "start_time": "2025-03-25T18:15:13.375Z"
      },
      {
        "duration": 329,
        "start_time": "2025-03-25T18:15:13.599Z"
      },
      {
        "duration": 7,
        "start_time": "2025-03-25T18:15:13.930Z"
      },
      {
        "duration": 21,
        "start_time": "2025-03-25T18:15:14.109Z"
      },
      {
        "duration": 7,
        "start_time": "2025-03-25T18:15:14.334Z"
      },
      {
        "duration": 6,
        "start_time": "2025-03-25T18:15:14.594Z"
      },
      {
        "duration": 13,
        "start_time": "2025-03-25T18:15:15.328Z"
      },
      {
        "duration": 18,
        "start_time": "2025-03-25T18:15:15.870Z"
      },
      {
        "duration": 404,
        "start_time": "2025-03-25T18:15:16.155Z"
      },
      {
        "duration": 364,
        "start_time": "2025-03-25T18:15:17.246Z"
      },
      {
        "duration": 11,
        "start_time": "2025-03-25T18:15:17.979Z"
      },
      {
        "duration": 281,
        "start_time": "2025-03-25T18:15:18.682Z"
      },
      {
        "duration": 209,
        "start_time": "2025-03-25T18:15:21.908Z"
      },
      {
        "duration": 110,
        "start_time": "2025-03-25T18:15:42.618Z"
      },
      {
        "duration": 293,
        "start_time": "2025-03-25T18:16:02.266Z"
      },
      {
        "duration": 238,
        "start_time": "2025-03-25T18:17:41.853Z"
      },
      {
        "duration": 12,
        "start_time": "2025-03-25T18:18:12.049Z"
      },
      {
        "duration": 33,
        "start_time": "2025-03-25T18:19:56.176Z"
      },
      {
        "duration": 8,
        "start_time": "2025-03-25T18:19:57.229Z"
      },
      {
        "duration": 385,
        "start_time": "2025-03-25T18:19:58.253Z"
      },
      {
        "duration": 350,
        "start_time": "2025-03-25T18:20:02.930Z"
      },
      {
        "duration": 295,
        "start_time": "2025-03-25T18:20:04.438Z"
      },
      {
        "duration": 359,
        "start_time": "2025-03-25T18:28:17.645Z"
      },
      {
        "duration": 7,
        "start_time": "2025-03-25T18:33:00.782Z"
      },
      {
        "duration": 11,
        "start_time": "2025-03-25T18:34:16.543Z"
      },
      {
        "duration": 9,
        "start_time": "2025-03-25T18:35:45.411Z"
      },
      {
        "duration": 8,
        "start_time": "2025-03-25T18:36:31.403Z"
      }
    ],
    "kernelspec": {
      "display_name": "Python 3 (ipykernel)",
      "language": "python",
      "name": "python3"
    },
    "language_info": {
      "codemirror_mode": {
        "name": "ipython",
        "version": 3
      },
      "file_extension": ".py",
      "mimetype": "text/x-python",
      "name": "python",
      "nbconvert_exporter": "python",
      "pygments_lexer": "ipython3",
      "version": "3.9.5"
    },
    "toc": {
      "base_numbering": 1,
      "nav_menu": {},
      "number_sections": true,
      "sideBar": true,
      "skip_h1_title": true,
      "title_cell": "Table of Contents",
      "title_sidebar": "Contents",
      "toc_cell": false,
      "toc_position": {},
      "toc_section_display": true,
      "toc_window_display": false
    },
    "colab": {
      "provenance": []
    }
  },
  "nbformat": 4,
  "nbformat_minor": 0
}