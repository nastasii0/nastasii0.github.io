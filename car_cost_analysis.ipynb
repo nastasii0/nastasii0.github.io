{
  "cells": [
    {
      "cell_type": "markdown",
      "metadata": {
        "id": "F24-u1gB2EfO"
      },
      "source": [
        "# Определение стоимости автомобилей"
      ]
    },
    {
      "cell_type": "markdown",
      "metadata": {
        "id": "pPhgTnPC2EfP"
      },
      "source": [
        "Сервис по продаже автомобилей с пробегом «Не бит, не крашен» разрабатывает приложение для привлечения новых клиентов. В нём можно быстро узнать рыночную стоимость своего автомобиля. В вашем распоряжении исторические данные: технические характеристики, комплектации и цены автомобилей. Вам нужно построить модель для определения стоимости.\n",
        "\n",
        "Заказчику важны:\n",
        "\n",
        "- качество предсказания;\n",
        "- скорость предсказания;\n",
        "- время обучения.\n",
        "\n",
        "**Цель:** разработать модель, которая сможет определять рыночную стоимость своего автомобиля.\n",
        "\n",
        "**Задачи:**\n",
        "- загрузить и изучить данные;\n",
        "- подготовить выборки для обучения моделей;\n",
        "- обучить разные модели, одна из которых — LightGBM, как минимум одна — не бустинг;\n",
        "- проанализировать время обучения, время предсказания и качество моделей.\n",
        "- выбрать лучшую модель, проверить её качество на тестовой выборке.\n",
        "\n",
        "**План:**\n",
        "1. <a href=\"подготовка данных\">подготовка данных</a>;\n",
        "2. <a href=\"обучение моделей\">обучение моделей</a>;\n",
        "3. <a href=\"анализ моделей\">анализ моделей</a>."
      ]
    },
    {
      "cell_type": "markdown",
      "metadata": {
        "id": "y8K48B9g2EfP"
      },
      "source": [
        "## Подготовка данных\n",
        "<a href=\"подготовка данных\"></a>"
      ]
    },
    {
      "cell_type": "code",
      "execution_count": null,
      "metadata": {
        "id": "Mjw1vAtP2EfP"
      },
      "outputs": [],
      "source": [
        "import pandas as pd\n",
        "import matplotlib.pyplot as plt\n",
        "import seaborn as sns\n",
        "import time\n",
        "import numpy as np\n",
        "from sklearn.model_selection import train_test_split\n",
        "from sklearn.model_selection import cross_val_score, KFold\n",
        "from sklearn.preprocessing import StandardScaler\n",
        "from sklearn.linear_model import LinearRegression\n",
        "from sklearn.ensemble import RandomForestRegressor\n",
        "from lightgbm import LGBMRegressor\n",
        "from sklearn.metrics import mean_squared_error, r2_score"
      ]
    },
    {
      "cell_type": "code",
      "execution_count": null,
      "metadata": {
        "id": "8WWIM5702EfQ",
        "outputId": "5f7f6f46-3412-4665-d058-fb3200fde655"
      },
      "outputs": [
        {
          "data": {
            "text/html": [
              "<div>\n",
              "<style scoped>\n",
              "    .dataframe tbody tr th:only-of-type {\n",
              "        vertical-align: middle;\n",
              "    }\n",
              "\n",
              "    .dataframe tbody tr th {\n",
              "        vertical-align: top;\n",
              "    }\n",
              "\n",
              "    .dataframe thead th {\n",
              "        text-align: right;\n",
              "    }\n",
              "</style>\n",
              "<table border=\"1\" class=\"dataframe\">\n",
              "  <thead>\n",
              "    <tr style=\"text-align: right;\">\n",
              "      <th></th>\n",
              "      <th>DateCrawled</th>\n",
              "      <th>Price</th>\n",
              "      <th>VehicleType</th>\n",
              "      <th>RegistrationYear</th>\n",
              "      <th>Gearbox</th>\n",
              "      <th>Power</th>\n",
              "      <th>Model</th>\n",
              "      <th>Kilometer</th>\n",
              "      <th>RegistrationMonth</th>\n",
              "      <th>FuelType</th>\n",
              "      <th>Brand</th>\n",
              "      <th>Repaired</th>\n",
              "      <th>DateCreated</th>\n",
              "      <th>NumberOfPictures</th>\n",
              "      <th>PostalCode</th>\n",
              "      <th>LastSeen</th>\n",
              "    </tr>\n",
              "  </thead>\n",
              "  <tbody>\n",
              "    <tr>\n",
              "      <th>0</th>\n",
              "      <td>2016-03-24 11:52:17</td>\n",
              "      <td>480</td>\n",
              "      <td>NaN</td>\n",
              "      <td>1993</td>\n",
              "      <td>manual</td>\n",
              "      <td>0</td>\n",
              "      <td>golf</td>\n",
              "      <td>150000</td>\n",
              "      <td>0</td>\n",
              "      <td>petrol</td>\n",
              "      <td>volkswagen</td>\n",
              "      <td>NaN</td>\n",
              "      <td>2016-03-24 00:00:00</td>\n",
              "      <td>0</td>\n",
              "      <td>70435</td>\n",
              "      <td>2016-04-07 03:16:57</td>\n",
              "    </tr>\n",
              "    <tr>\n",
              "      <th>1</th>\n",
              "      <td>2016-03-24 10:58:45</td>\n",
              "      <td>18300</td>\n",
              "      <td>coupe</td>\n",
              "      <td>2011</td>\n",
              "      <td>manual</td>\n",
              "      <td>190</td>\n",
              "      <td>NaN</td>\n",
              "      <td>125000</td>\n",
              "      <td>5</td>\n",
              "      <td>gasoline</td>\n",
              "      <td>audi</td>\n",
              "      <td>yes</td>\n",
              "      <td>2016-03-24 00:00:00</td>\n",
              "      <td>0</td>\n",
              "      <td>66954</td>\n",
              "      <td>2016-04-07 01:46:50</td>\n",
              "    </tr>\n",
              "    <tr>\n",
              "      <th>2</th>\n",
              "      <td>2016-03-14 12:52:21</td>\n",
              "      <td>9800</td>\n",
              "      <td>suv</td>\n",
              "      <td>2004</td>\n",
              "      <td>auto</td>\n",
              "      <td>163</td>\n",
              "      <td>grand</td>\n",
              "      <td>125000</td>\n",
              "      <td>8</td>\n",
              "      <td>gasoline</td>\n",
              "      <td>jeep</td>\n",
              "      <td>NaN</td>\n",
              "      <td>2016-03-14 00:00:00</td>\n",
              "      <td>0</td>\n",
              "      <td>90480</td>\n",
              "      <td>2016-04-05 12:47:46</td>\n",
              "    </tr>\n",
              "    <tr>\n",
              "      <th>3</th>\n",
              "      <td>2016-03-17 16:54:04</td>\n",
              "      <td>1500</td>\n",
              "      <td>small</td>\n",
              "      <td>2001</td>\n",
              "      <td>manual</td>\n",
              "      <td>75</td>\n",
              "      <td>golf</td>\n",
              "      <td>150000</td>\n",
              "      <td>6</td>\n",
              "      <td>petrol</td>\n",
              "      <td>volkswagen</td>\n",
              "      <td>no</td>\n",
              "      <td>2016-03-17 00:00:00</td>\n",
              "      <td>0</td>\n",
              "      <td>91074</td>\n",
              "      <td>2016-03-17 17:40:17</td>\n",
              "    </tr>\n",
              "    <tr>\n",
              "      <th>4</th>\n",
              "      <td>2016-03-31 17:25:20</td>\n",
              "      <td>3600</td>\n",
              "      <td>small</td>\n",
              "      <td>2008</td>\n",
              "      <td>manual</td>\n",
              "      <td>69</td>\n",
              "      <td>fabia</td>\n",
              "      <td>90000</td>\n",
              "      <td>7</td>\n",
              "      <td>gasoline</td>\n",
              "      <td>skoda</td>\n",
              "      <td>no</td>\n",
              "      <td>2016-03-31 00:00:00</td>\n",
              "      <td>0</td>\n",
              "      <td>60437</td>\n",
              "      <td>2016-04-06 10:17:21</td>\n",
              "    </tr>\n",
              "  </tbody>\n",
              "</table>\n",
              "</div>"
            ],
            "text/plain": [
              "           DateCrawled  Price VehicleType  RegistrationYear Gearbox  Power  \\\n",
              "0  2016-03-24 11:52:17    480         NaN              1993  manual      0   \n",
              "1  2016-03-24 10:58:45  18300       coupe              2011  manual    190   \n",
              "2  2016-03-14 12:52:21   9800         suv              2004    auto    163   \n",
              "3  2016-03-17 16:54:04   1500       small              2001  manual     75   \n",
              "4  2016-03-31 17:25:20   3600       small              2008  manual     69   \n",
              "\n",
              "   Model  Kilometer  RegistrationMonth  FuelType       Brand Repaired  \\\n",
              "0   golf     150000                  0    petrol  volkswagen      NaN   \n",
              "1    NaN     125000                  5  gasoline        audi      yes   \n",
              "2  grand     125000                  8  gasoline        jeep      NaN   \n",
              "3   golf     150000                  6    petrol  volkswagen       no   \n",
              "4  fabia      90000                  7  gasoline       skoda       no   \n",
              "\n",
              "           DateCreated  NumberOfPictures  PostalCode             LastSeen  \n",
              "0  2016-03-24 00:00:00                 0       70435  2016-04-07 03:16:57  \n",
              "1  2016-03-24 00:00:00                 0       66954  2016-04-07 01:46:50  \n",
              "2  2016-03-14 00:00:00                 0       90480  2016-04-05 12:47:46  \n",
              "3  2016-03-17 00:00:00                 0       91074  2016-03-17 17:40:17  \n",
              "4  2016-03-31 00:00:00                 0       60437  2016-04-06 10:17:21  "
            ]
          },
          "execution_count": 2,
          "metadata": {},
          "output_type": "execute_result"
        }
      ],
      "source": [
        "df = pd.read_csv('/datasets/autos.csv')\n",
        "df.head()"
      ]
    },
    {
      "cell_type": "code",
      "execution_count": null,
      "metadata": {
        "id": "drqOAy9A2EfR",
        "outputId": "295cbc99-188c-44ad-d6ef-a841a09462a8"
      },
      "outputs": [
        {
          "name": "stdout",
          "output_type": "stream",
          "text": [
            "<class 'pandas.core.frame.DataFrame'>\n",
            "RangeIndex: 354369 entries, 0 to 354368\n",
            "Data columns (total 16 columns):\n",
            " #   Column             Non-Null Count   Dtype \n",
            "---  ------             --------------   ----- \n",
            " 0   DateCrawled        354369 non-null  object\n",
            " 1   Price              354369 non-null  int64 \n",
            " 2   VehicleType        316879 non-null  object\n",
            " 3   RegistrationYear   354369 non-null  int64 \n",
            " 4   Gearbox            334536 non-null  object\n",
            " 5   Power              354369 non-null  int64 \n",
            " 6   Model              334664 non-null  object\n",
            " 7   Kilometer          354369 non-null  int64 \n",
            " 8   RegistrationMonth  354369 non-null  int64 \n",
            " 9   FuelType           321474 non-null  object\n",
            " 10  Brand              354369 non-null  object\n",
            " 11  Repaired           283215 non-null  object\n",
            " 12  DateCreated        354369 non-null  object\n",
            " 13  NumberOfPictures   354369 non-null  int64 \n",
            " 14  PostalCode         354369 non-null  int64 \n",
            " 15  LastSeen           354369 non-null  object\n",
            "dtypes: int64(7), object(9)\n",
            "memory usage: 43.3+ MB\n"
          ]
        }
      ],
      "source": [
        "df.info()"
      ]
    },
    {
      "cell_type": "code",
      "execution_count": null,
      "metadata": {
        "id": "77vsYKwD2EfS",
        "outputId": "939a0055-5126-4248-9bf2-a25b2c975d80"
      },
      "outputs": [
        {
          "data": {
            "text/html": [
              "<div>\n",
              "<style scoped>\n",
              "    .dataframe tbody tr th:only-of-type {\n",
              "        vertical-align: middle;\n",
              "    }\n",
              "\n",
              "    .dataframe tbody tr th {\n",
              "        vertical-align: top;\n",
              "    }\n",
              "\n",
              "    .dataframe thead th {\n",
              "        text-align: right;\n",
              "    }\n",
              "</style>\n",
              "<table border=\"1\" class=\"dataframe\">\n",
              "  <thead>\n",
              "    <tr style=\"text-align: right;\">\n",
              "      <th></th>\n",
              "      <th>Price</th>\n",
              "      <th>RegistrationYear</th>\n",
              "      <th>Power</th>\n",
              "      <th>Kilometer</th>\n",
              "      <th>RegistrationMonth</th>\n",
              "      <th>NumberOfPictures</th>\n",
              "      <th>PostalCode</th>\n",
              "    </tr>\n",
              "  </thead>\n",
              "  <tbody>\n",
              "    <tr>\n",
              "      <th>count</th>\n",
              "      <td>354369.000000</td>\n",
              "      <td>354369.000000</td>\n",
              "      <td>354369.000000</td>\n",
              "      <td>354369.000000</td>\n",
              "      <td>354369.000000</td>\n",
              "      <td>354369.0</td>\n",
              "      <td>354369.000000</td>\n",
              "    </tr>\n",
              "    <tr>\n",
              "      <th>mean</th>\n",
              "      <td>4416.656776</td>\n",
              "      <td>2004.234448</td>\n",
              "      <td>110.094337</td>\n",
              "      <td>128211.172535</td>\n",
              "      <td>5.714645</td>\n",
              "      <td>0.0</td>\n",
              "      <td>50508.689087</td>\n",
              "    </tr>\n",
              "    <tr>\n",
              "      <th>std</th>\n",
              "      <td>4514.158514</td>\n",
              "      <td>90.227958</td>\n",
              "      <td>189.850405</td>\n",
              "      <td>37905.341530</td>\n",
              "      <td>3.726421</td>\n",
              "      <td>0.0</td>\n",
              "      <td>25783.096248</td>\n",
              "    </tr>\n",
              "    <tr>\n",
              "      <th>min</th>\n",
              "      <td>0.000000</td>\n",
              "      <td>1000.000000</td>\n",
              "      <td>0.000000</td>\n",
              "      <td>5000.000000</td>\n",
              "      <td>0.000000</td>\n",
              "      <td>0.0</td>\n",
              "      <td>1067.000000</td>\n",
              "    </tr>\n",
              "    <tr>\n",
              "      <th>25%</th>\n",
              "      <td>1050.000000</td>\n",
              "      <td>1999.000000</td>\n",
              "      <td>69.000000</td>\n",
              "      <td>125000.000000</td>\n",
              "      <td>3.000000</td>\n",
              "      <td>0.0</td>\n",
              "      <td>30165.000000</td>\n",
              "    </tr>\n",
              "    <tr>\n",
              "      <th>50%</th>\n",
              "      <td>2700.000000</td>\n",
              "      <td>2003.000000</td>\n",
              "      <td>105.000000</td>\n",
              "      <td>150000.000000</td>\n",
              "      <td>6.000000</td>\n",
              "      <td>0.0</td>\n",
              "      <td>49413.000000</td>\n",
              "    </tr>\n",
              "    <tr>\n",
              "      <th>75%</th>\n",
              "      <td>6400.000000</td>\n",
              "      <td>2008.000000</td>\n",
              "      <td>143.000000</td>\n",
              "      <td>150000.000000</td>\n",
              "      <td>9.000000</td>\n",
              "      <td>0.0</td>\n",
              "      <td>71083.000000</td>\n",
              "    </tr>\n",
              "    <tr>\n",
              "      <th>max</th>\n",
              "      <td>20000.000000</td>\n",
              "      <td>9999.000000</td>\n",
              "      <td>20000.000000</td>\n",
              "      <td>150000.000000</td>\n",
              "      <td>12.000000</td>\n",
              "      <td>0.0</td>\n",
              "      <td>99998.000000</td>\n",
              "    </tr>\n",
              "  </tbody>\n",
              "</table>\n",
              "</div>"
            ],
            "text/plain": [
              "               Price  RegistrationYear          Power      Kilometer  \\\n",
              "count  354369.000000     354369.000000  354369.000000  354369.000000   \n",
              "mean     4416.656776       2004.234448     110.094337  128211.172535   \n",
              "std      4514.158514         90.227958     189.850405   37905.341530   \n",
              "min         0.000000       1000.000000       0.000000    5000.000000   \n",
              "25%      1050.000000       1999.000000      69.000000  125000.000000   \n",
              "50%      2700.000000       2003.000000     105.000000  150000.000000   \n",
              "75%      6400.000000       2008.000000     143.000000  150000.000000   \n",
              "max     20000.000000       9999.000000   20000.000000  150000.000000   \n",
              "\n",
              "       RegistrationMonth  NumberOfPictures     PostalCode  \n",
              "count      354369.000000          354369.0  354369.000000  \n",
              "mean            5.714645               0.0   50508.689087  \n",
              "std             3.726421               0.0   25783.096248  \n",
              "min             0.000000               0.0    1067.000000  \n",
              "25%             3.000000               0.0   30165.000000  \n",
              "50%             6.000000               0.0   49413.000000  \n",
              "75%             9.000000               0.0   71083.000000  \n",
              "max            12.000000               0.0   99998.000000  "
            ]
          },
          "execution_count": 4,
          "metadata": {},
          "output_type": "execute_result"
        }
      ],
      "source": [
        "df.describe()"
      ]
    },
    {
      "cell_type": "code",
      "execution_count": null,
      "metadata": {
        "id": "X8QAcJAB2EfS",
        "outputId": "f6092014-35c7-4000-ad26-54e09246e709"
      },
      "outputs": [
        {
          "name": "stdout",
          "output_type": "stream",
          "text": [
            "Repaired             71154\n",
            "VehicleType          37490\n",
            "FuelType             32895\n",
            "Gearbox              19833\n",
            "Model                19705\n",
            "DateCrawled              0\n",
            "Price                    0\n",
            "RegistrationYear         0\n",
            "Power                    0\n",
            "Kilometer                0\n",
            "RegistrationMonth        0\n",
            "Brand                    0\n",
            "DateCreated              0\n",
            "NumberOfPictures         0\n",
            "PostalCode               0\n",
            "LastSeen                 0\n",
            "dtype: int64\n"
          ]
        }
      ],
      "source": [
        "print(df.isnull().sum().sort_values(ascending=False))"
      ]
    },
    {
      "cell_type": "code",
      "execution_count": null,
      "metadata": {
        "id": "VobYRndA2EfT"
      },
      "outputs": [],
      "source": [
        "df.fillna('unknown', inplace=True)"
      ]
    },
    {
      "cell_type": "code",
      "execution_count": null,
      "metadata": {
        "id": "5_Td_gUt2EfT",
        "outputId": "08f02468-b3af-4442-b2f0-4c3aed2cc3ae"
      },
      "outputs": [
        {
          "name": "stdout",
          "output_type": "stream",
          "text": [
            "DateCrawled          0\n",
            "Price                0\n",
            "VehicleType          0\n",
            "RegistrationYear     0\n",
            "Gearbox              0\n",
            "Power                0\n",
            "Model                0\n",
            "Kilometer            0\n",
            "RegistrationMonth    0\n",
            "FuelType             0\n",
            "Brand                0\n",
            "Repaired             0\n",
            "DateCreated          0\n",
            "NumberOfPictures     0\n",
            "PostalCode           0\n",
            "LastSeen             0\n",
            "dtype: int64\n"
          ]
        }
      ],
      "source": [
        "print(df.isnull().sum().sort_values(ascending=False))"
      ]
    },
    {
      "cell_type": "markdown",
      "metadata": {
        "id": "jnKGXmQ12EfU"
      },
      "source": [
        "Изучим показатели цены."
      ]
    },
    {
      "cell_type": "code",
      "execution_count": null,
      "metadata": {
        "id": "aJrGUOIq2EfU",
        "outputId": "d9686788-0c7d-4d3e-c2ac-449c8d4f057d"
      },
      "outputs": [
        {
          "data": {
            "image/png": "[encoded data removed]",
            "text/plain": [
              "<Figure size 864x432 with 1 Axes>"
            ]
          },
          "metadata": {
            "needs_background": "light"
          },
          "output_type": "display_data"
        }
      ],
      "source": [
        "plt.figure(figsize=(12, 6))\n",
        "sns.histplot(df['Price'], kde=True)\n",
        "plt.title('Гистограмма цены автомобиля')\n",
        "plt.xlabel('Цена (евро)')\n",
        "plt.ylabel('Количество')\n",
        "plt.show()"
      ]
    },
    {
      "cell_type": "code",
      "execution_count": null,
      "metadata": {
        "id": "qtpz6sIy2EfV",
        "outputId": "fc81a752-3691-4a9c-d3fb-95a72c93a3b4"
      },
      "outputs": [
        {
          "data": {
            "image/png": "[encoded data removed]",
            "text/plain": [
              "<Figure size 720x288 with 1 Axes>"
            ]
          },
          "metadata": {
            "needs_background": "light"
          },
          "output_type": "display_data"
        }
      ],
      "source": [
        "plt.figure(figsize=(10, 4))\n",
        "sns.boxplot(x=df['Price'])\n",
        "plt.title('Диаграмма размаха цены автомобиля')\n",
        "plt.xlabel('Цена (евро)')\n",
        "plt.show()"
      ]
    },
    {
      "cell_type": "code",
      "execution_count": null,
      "metadata": {
        "id": "vIW_COxl2EfV",
        "outputId": "0d266d96-58b1-47de-8fb7-43fe58264b59"
      },
      "outputs": [
        {
          "name": "stdout",
          "output_type": "stream",
          "text": [
            "count    354369.000000\n",
            "mean       4416.656776\n",
            "std        4514.158514\n",
            "min           0.000000\n",
            "25%        1050.000000\n",
            "50%        2700.000000\n",
            "75%        6400.000000\n",
            "max       20000.000000\n",
            "Name: Price, dtype: float64\n"
          ]
        }
      ],
      "source": [
        "print(df['Price'].describe())"
      ]
    },
    {
      "cell_type": "code",
      "execution_count": null,
      "metadata": {
        "id": "-mzK2fqf2EfV"
      },
      "outputs": [],
      "source": [
        "df = df[df['Price'] > 1000]"
      ]
    },
    {
      "cell_type": "code",
      "execution_count": null,
      "metadata": {
        "id": "JpTJISEH2EfW",
        "outputId": "e3c2a8ae-b4e8-40bc-cd24-2ff7149815e6"
      },
      "outputs": [
        {
          "name": "stdout",
          "output_type": "stream",
          "text": [
            "[1000, 1001, 1039, 1234, 1500, 1600, 1800, 1910, 1923, 1925, 1927, 1928, 1929, 1930, 1931, 1932, 1933, 1934, 1935, 1936, 1937, 1938, 1940, 1941, 1942, 1943, 1944, 1945, 1946, 1947, 1948, 1949, 1950, 1951, 1952, 1953, 1954, 1955, 1956, 1957, 1958, 1959, 1960, 1961, 1962, 1963, 1964, 1965, 1966, 1967, 1968, 1969, 1970, 1971, 1972, 1973, 1974, 1975, 1976, 1977, 1978, 1979, 1980, 1981, 1982, 1983, 1984, 1985, 1986, 1987, 1988, 1989, 1990, 1991, 1992, 1993, 1994, 1995, 1996, 1997, 1998, 1999, 2000, 2001, 2002, 2003, 2004, 2005, 2006, 2007, 2008, 2009, 2010, 2011, 2012, 2013, 2014, 2015, 2016, 2017, 2018, 2019, 2500, 2800, 2900, 3000, 3200, 3700, 4000, 4100, 4500, 5000, 5555, 5911, 6000, 7000, 7100, 7800, 8500, 8888, 9000, 9999]\n"
          ]
        }
      ],
      "source": [
        "print(sorted(df['RegistrationYear'].unique()))"
      ]
    },
    {
      "cell_type": "markdown",
      "metadata": {
        "id": "9SEkcPxs2EfW"
      },
      "source": [
        "Странно, что присутствует год регистрации раньше 1900 и позже 2016."
      ]
    },
    {
      "cell_type": "code",
      "execution_count": null,
      "metadata": {
        "id": "uRZrcNEX2EfW"
      },
      "outputs": [],
      "source": [
        "df = df[(df['RegistrationYear'] > 1900) & (df['RegistrationYear'] < 2016)]"
      ]
    },
    {
      "cell_type": "code",
      "execution_count": null,
      "metadata": {
        "id": "teuXEwlV2EfW",
        "outputId": "4bdb6f07-0dd1-4d0a-bf08-f1cfd7af4aac"
      },
      "outputs": [
        {
          "data": {
            "image/png": "[encoded data removed]",
            "text/plain": [
              "<Figure size 864x432 with 1 Axes>"
            ]
          },
          "metadata": {
            "needs_background": "light"
          },
          "output_type": "display_data"
        }
      ],
      "source": [
        "year_counts = df['RegistrationYear'].value_counts().sort_index()\n",
        "\n",
        "plt.figure(figsize=(12, 6))\n",
        "plt.plot(year_counts.index, year_counts.values)\n",
        "plt.title('Количество автомобилей по году регистрации')\n",
        "plt.xlabel('Год регистрации')\n",
        "plt.ylabel('Количество')\n",
        "plt.xlim()\n",
        "plt.show()"
      ]
    },
    {
      "cell_type": "code",
      "execution_count": null,
      "metadata": {
        "id": "nvXbahlU2EfW",
        "outputId": "51546371-1052-482f-d147-51b325bef5c3"
      },
      "outputs": [
        {
          "data": {
            "text/plain": [
              "count    251622.000000\n",
              "mean        123.436492\n",
              "std         189.070805\n",
              "min           0.000000\n",
              "25%          80.000000\n",
              "50%         116.000000\n",
              "75%         150.000000\n",
              "max       20000.000000\n",
              "Name: Power, dtype: float64"
            ]
          },
          "execution_count": 15,
          "metadata": {},
          "output_type": "execute_result"
        }
      ],
      "source": [
        "df['Power'].describe()"
      ]
    },
    {
      "cell_type": "markdown",
      "metadata": {
        "id": "N-aZfKWl2EfX"
      },
      "source": [
        "Ограничим показатели с 20 до 600 л.с. Автомобили с  мощностью вне промежутка крайне редки."
      ]
    },
    {
      "cell_type": "code",
      "execution_count": null,
      "metadata": {
        "id": "zhV3Xv1f2EfX"
      },
      "outputs": [],
      "source": [
        "df = df[(df['Power'] >= 20) & (df['Power'] <= 600)]"
      ]
    },
    {
      "cell_type": "code",
      "execution_count": null,
      "metadata": {
        "id": "dAlQTiDI2EfX",
        "outputId": "290f7fff-ecfc-4cde-ef09-81b5a18fd2fd"
      },
      "outputs": [
        {
          "data": {
            "text/html": [
              "<div>\n",
              "<style scoped>\n",
              "    .dataframe tbody tr th:only-of-type {\n",
              "        vertical-align: middle;\n",
              "    }\n",
              "\n",
              "    .dataframe tbody tr th {\n",
              "        vertical-align: top;\n",
              "    }\n",
              "\n",
              "    .dataframe thead th {\n",
              "        text-align: right;\n",
              "    }\n",
              "</style>\n",
              "<table border=\"1\" class=\"dataframe\">\n",
              "  <thead>\n",
              "    <tr style=\"text-align: right;\">\n",
              "      <th></th>\n",
              "      <th>Price</th>\n",
              "      <th>RegistrationYear</th>\n",
              "      <th>Power</th>\n",
              "      <th>Kilometer</th>\n",
              "      <th>RegistrationMonth</th>\n",
              "      <th>NumberOfPictures</th>\n",
              "      <th>PostalCode</th>\n",
              "    </tr>\n",
              "  </thead>\n",
              "  <tbody>\n",
              "    <tr>\n",
              "      <th>count</th>\n",
              "      <td>234233.000000</td>\n",
              "      <td>234233.000000</td>\n",
              "      <td>234233.000000</td>\n",
              "      <td>234233.000000</td>\n",
              "      <td>234233.000000</td>\n",
              "      <td>234233.0</td>\n",
              "      <td>234233.000000</td>\n",
              "    </tr>\n",
              "    <tr>\n",
              "      <th>mean</th>\n",
              "      <td>5920.716095</td>\n",
              "      <td>2003.692387</td>\n",
              "      <td>129.048964</td>\n",
              "      <td>125327.601149</td>\n",
              "      <td>6.163201</td>\n",
              "      <td>0.0</td>\n",
              "      <td>51803.833627</td>\n",
              "    </tr>\n",
              "    <tr>\n",
              "      <th>std</th>\n",
              "      <td>4590.841165</td>\n",
              "      <td>6.215223</td>\n",
              "      <td>54.441073</td>\n",
              "      <td>38082.738204</td>\n",
              "      <td>3.510464</td>\n",
              "      <td>0.0</td>\n",
              "      <td>25725.869165</td>\n",
              "    </tr>\n",
              "    <tr>\n",
              "      <th>min</th>\n",
              "      <td>1001.000000</td>\n",
              "      <td>1910.000000</td>\n",
              "      <td>20.000000</td>\n",
              "      <td>5000.000000</td>\n",
              "      <td>0.000000</td>\n",
              "      <td>0.0</td>\n",
              "      <td>1067.000000</td>\n",
              "    </tr>\n",
              "    <tr>\n",
              "      <th>25%</th>\n",
              "      <td>2300.000000</td>\n",
              "      <td>2001.000000</td>\n",
              "      <td>90.000000</td>\n",
              "      <td>100000.000000</td>\n",
              "      <td>3.000000</td>\n",
              "      <td>0.0</td>\n",
              "      <td>31303.000000</td>\n",
              "    </tr>\n",
              "    <tr>\n",
              "      <th>50%</th>\n",
              "      <td>4399.000000</td>\n",
              "      <td>2004.000000</td>\n",
              "      <td>120.000000</td>\n",
              "      <td>150000.000000</td>\n",
              "      <td>6.000000</td>\n",
              "      <td>0.0</td>\n",
              "      <td>51065.000000</td>\n",
              "    </tr>\n",
              "    <tr>\n",
              "      <th>75%</th>\n",
              "      <td>8300.000000</td>\n",
              "      <td>2008.000000</td>\n",
              "      <td>155.000000</td>\n",
              "      <td>150000.000000</td>\n",
              "      <td>9.000000</td>\n",
              "      <td>0.0</td>\n",
              "      <td>72534.000000</td>\n",
              "    </tr>\n",
              "    <tr>\n",
              "      <th>max</th>\n",
              "      <td>20000.000000</td>\n",
              "      <td>2015.000000</td>\n",
              "      <td>600.000000</td>\n",
              "      <td>150000.000000</td>\n",
              "      <td>12.000000</td>\n",
              "      <td>0.0</td>\n",
              "      <td>99998.000000</td>\n",
              "    </tr>\n",
              "  </tbody>\n",
              "</table>\n",
              "</div>"
            ],
            "text/plain": [
              "               Price  RegistrationYear          Power      Kilometer  \\\n",
              "count  234233.000000     234233.000000  234233.000000  234233.000000   \n",
              "mean     5920.716095       2003.692387     129.048964  125327.601149   \n",
              "std      4590.841165          6.215223      54.441073   38082.738204   \n",
              "min      1001.000000       1910.000000      20.000000    5000.000000   \n",
              "25%      2300.000000       2001.000000      90.000000  100000.000000   \n",
              "50%      4399.000000       2004.000000     120.000000  150000.000000   \n",
              "75%      8300.000000       2008.000000     155.000000  150000.000000   \n",
              "max     20000.000000       2015.000000     600.000000  150000.000000   \n",
              "\n",
              "       RegistrationMonth  NumberOfPictures     PostalCode  \n",
              "count      234233.000000          234233.0  234233.000000  \n",
              "mean            6.163201               0.0   51803.833627  \n",
              "std             3.510464               0.0   25725.869165  \n",
              "min             0.000000               0.0    1067.000000  \n",
              "25%             3.000000               0.0   31303.000000  \n",
              "50%             6.000000               0.0   51065.000000  \n",
              "75%             9.000000               0.0   72534.000000  \n",
              "max            12.000000               0.0   99998.000000  "
            ]
          },
          "execution_count": 17,
          "metadata": {},
          "output_type": "execute_result"
        }
      ],
      "source": [
        "df.describe()"
      ]
    },
    {
      "cell_type": "markdown",
      "metadata": {
        "id": "DihOvQ2F2EfX"
      },
      "source": [
        "**Вывод по главе**\n",
        "\n",
        "- Обработали пропуски в столбцах (Repaired, VehicleType, FuelType, Gearbox, Model).\n",
        "- Изучили показатели цены. Минимальная стоимость составила 0, что является явной аномалией. Поэтому убрали все значения ниже 1000.\n",
        "- Рассмотрели годы регистрации. Ограничим показатели с 20 до 600 л.с. Автомобили с мощностью вне промежутка крайне редки."
      ]
    },
    {
      "cell_type": "markdown",
      "metadata": {
        "id": "DCvcJbok2EfY"
      },
      "source": [
        "## Обучение моделей\n",
        "<a href=\"обучение моделей\"></a>"
      ]
    },
    {
      "cell_type": "code",
      "execution_count": null,
      "metadata": {
        "id": "BHMga3dR2EfY"
      },
      "outputs": [],
      "source": [
        "columns_to_drop = ['DateCrawled', 'DateCreated', 'NumberOfPictures', 'LastSeen', 'RegistrationMonth', 'PostalCode']\n",
        "df = df.drop(columns=columns_to_drop, axis=1)"
      ]
    },
    {
      "cell_type": "code",
      "execution_count": null,
      "metadata": {
        "id": "cf6Ra_qn2EfY"
      },
      "outputs": [],
      "source": [
        "numerical_features = ['RegistrationYear', 'Power', 'Kilometer']\n",
        "categorical_features = ['VehicleType', 'Gearbox', 'Model', 'FuelType', 'Brand', 'Repaired']\n",
        "df = pd.get_dummies(df, columns=categorical_features, drop_first=True)"
      ]
    },
    {
      "cell_type": "code",
      "execution_count": null,
      "metadata": {
        "id": "hSSAcyRw2EfY",
        "outputId": "fc342ef7-7121-41ec-d48d-2535882a91d6"
      },
      "outputs": [
        {
          "name": "stdout",
          "output_type": "stream",
          "text": [
            "Дубликаты до удаления: 30396\n",
            "Дубликаты после удаления: 0\n"
          ]
        }
      ],
      "source": [
        "print(f\"Дубликаты до удаления: {df.duplicated().sum()}\")\n",
        "df = df.drop_duplicates()\n",
        "print(f\"Дубликаты после удаления: {df.duplicated().sum()}\")"
      ]
    },
    {
      "cell_type": "code",
      "execution_count": null,
      "metadata": {
        "id": "cwSGPVLV2EfZ",
        "outputId": "1458e5ea-ec4c-4ead-8417-76ef51c97321"
      },
      "outputs": [
        {
          "name": "stdout",
          "output_type": "stream",
          "text": [
            "\n",
            "Размеры выборок: X_train=(163069, 310), X_test=(40768, 310)\n"
          ]
        }
      ],
      "source": [
        "X = df.drop('Price', axis=1)\n",
        "y = df['Price']\n",
        "\n",
        "X_train, X_test, y_train, y_test = train_test_split(X, y, test_size=0.2, random_state=42)\n",
        "print(f\"\\nРазмеры выборок: X_train={X_train.shape}, X_test={X_test.shape}\")"
      ]
    },
    {
      "cell_type": "code",
      "execution_count": null,
      "metadata": {
        "id": "xeYKP2F-2EfZ",
        "outputId": "cc7fdd55-1442-4246-d6bf-8a189d3bb74e"
      },
      "outputs": [
        {
          "name": "stdout",
          "output_type": "stream",
          "text": [
            "\n",
            "Числовые признаки масштабированы.\n"
          ]
        },
        {
          "name": "stderr",
          "output_type": "stream",
          "text": [
            "/opt/conda/lib/python3.9/site-packages/pandas/core/indexing.py:1738: SettingWithCopyWarning: \n",
            "A value is trying to be set on a copy of a slice from a DataFrame.\n",
            "Try using .loc[row_indexer,col_indexer] = value instead\n",
            "\n",
            "See the caveats in the documentation: https://pandas.pydata.org/pandas-docs/stable/user_guide/indexing.html#returning-a-view-versus-a-copy\n",
            "  self._setitem_single_column(loc, value[:, i].tolist(), pi)\n",
            "/opt/conda/lib/python3.9/site-packages/pandas/core/indexing.py:1738: SettingWithCopyWarning: \n",
            "A value is trying to be set on a copy of a slice from a DataFrame.\n",
            "Try using .loc[row_indexer,col_indexer] = value instead\n",
            "\n",
            "See the caveats in the documentation: https://pandas.pydata.org/pandas-docs/stable/user_guide/indexing.html#returning-a-view-versus-a-copy\n",
            "  self._setitem_single_column(loc, value[:, i].tolist(), pi)\n"
          ]
        }
      ],
      "source": [
        "scaler = StandardScaler()\n",
        "X_train.loc[:, numerical_features] = scaler.fit_transform(X_train.loc[:, numerical_features])\n",
        "X_test.loc[:, numerical_features] = scaler.transform(X_test.loc[:, numerical_features])\n",
        "print(\"\\nЧисловые признаки масштабированы.\")"
      ]
    },
    {
      "cell_type": "code",
      "execution_count": null,
      "metadata": {
        "id": "n8HCKfq_2EfZ",
        "outputId": "9a1bf887-50e5-4c54-808c-e073fab58c8e"
      },
      "outputs": [
        {
          "name": "stdout",
          "output_type": "stream",
          "text": [
            "\n",
            "--- Обучение Linear Regression ---\n",
            "  RMSE (CV mean): 2718.41\n",
            "  Training time: 70.1493 sec\n",
            "  Prediction time (on train data): 0.3099 sec\n"
          ]
        }
      ],
      "source": [
        "kf = KFold(n_splits=5, shuffle=True, random_state=42)\n",
        "results = {}\n",
        "\n",
        "# 1. Linear Regression\n",
        "print(\"\\n--- Обучение Linear Regression ---\")\n",
        "start_time_train_lr = time.time()\n",
        "model_lr = LinearRegression()\n",
        "cv_scores_lr = cross_val_score(model_lr, X_train, y_train, cv=kf, scoring='neg_mean_squared_error', n_jobs=-1)\n",
        "\n",
        "model_lr.fit(X_train, y_train)\n",
        "end_time_train_lr = time.time()\n",
        "training_time_lr = end_time_train_lr - start_time_train_lr\n",
        "\n",
        "start_time_predict_lr = time.time()\n",
        "y_pred_lr_for_eval = model_lr.predict(X_train)\n",
        "end_time_predict_lr = time.time()\n",
        "prediction_time_lr = end_time_predict_lr - start_time_predict_lr\n",
        "\n",
        "mean_cv_rmse_lr = np.sqrt(-cv_scores_lr.mean())\n",
        "\n",
        "results['Linear Regression'] = {\n",
        "    'RMSE_CV_mean': mean_cv_rmse_lr,\n",
        "    'Training_time': training_time_lr,\n",
        "    'Prediction_time_on_train': prediction_time_lr\n",
        "}\n",
        "\n",
        "print(f\"  RMSE (CV mean): {mean_cv_rmse_lr:.2f}\")\n",
        "print(f\"  Training time: {training_time_lr:.4f} sec\")\n",
        "print(f\"  Prediction time (on train data): {prediction_time_lr:.4f} sec\")"
      ]
    },
    {
      "cell_type": "code",
      "execution_count": null,
      "metadata": {
        "id": "5VFB3KDo2Efa",
        "outputId": "b08a77f4-d8f6-4e15-e270-cd8c0d8801bf"
      },
      "outputs": [
        {
          "name": "stdout",
          "output_type": "stream",
          "text": [
            "\n",
            "--- Обучение и оценка Random Forest Regressor ---\n",
            "  RMSE (CV mean): 1947.28\n",
            "  RMSE (train): 1884.72\n",
            "  R2 (train): 0.8346\n",
            "  Training time: 149.6337 sec\n",
            "  Prediction time (on train data): 0.7985 sec\n"
          ]
        }
      ],
      "source": [
        "# 2. Random Forest Regressor\n",
        "print(\"\\n--- Обучение и оценка Random Forest Regressor ---\")\n",
        "start_time_train_rf = time.time()\n",
        "model_rf = RandomForestRegressor(random_state=42, n_estimators=30, max_depth=10, max_features=0.5, n_jobs=-1)\n",
        "\n",
        "cv_scores_rf = cross_val_score(model_rf, X_train, y_train, cv=kf, scoring='neg_mean_squared_error', n_jobs=-1)\n",
        "\n",
        "model_rf.fit(X_train, y_train)\n",
        "end_time_train_rf = time.time()\n",
        "training_time_rf = end_time_train_rf - start_time_train_rf\n",
        "\n",
        "start_time_predict_rf = time.time()\n",
        "y_pred_rf_train = model_rf.predict(X_train)\n",
        "end_time_predict_rf = time.time()\n",
        "prediction_time_rf = end_time_predict_rf - start_time_predict_rf\n",
        "\n",
        "rmse_train_rf = np.sqrt(mean_squared_error(y_train, y_pred_rf_train))\n",
        "r2_train_rf = r2_score(y_train, y_pred_rf_train)\n",
        "\n",
        "mean_cv_rmse_rf = np.sqrt(-cv_scores_rf.mean())\n",
        "\n",
        "results['Random Forest Regressor'] = {\n",
        "    'RMSE_CV_mean': mean_cv_rmse_rf,\n",
        "    'RMSE_train': rmse_train_rf,\n",
        "    'R2_train': r2_train_rf,\n",
        "    'Training_time': training_time_rf,\n",
        "    'Prediction_time_on_train': prediction_time_rf\n",
        "}\n",
        "\n",
        "print(f\"  RMSE (CV mean): {mean_cv_rmse_rf:.2f}\")\n",
        "print(f\"  RMSE (train): {rmse_train_rf:.2f}\")\n",
        "print(f\"  R2 (train): {r2_train_rf:.4f}\")\n",
        "print(f\"  Training time: {training_time_rf:.4f} sec\")\n",
        "print(f\"  Prediction time (on train data): {prediction_time_rf:.4f} sec\")"
      ]
    },
    {
      "cell_type": "code",
      "execution_count": null,
      "metadata": {
        "id": "ypsQDHpR2Efb",
        "outputId": "830bffc2-96a7-4d52-83b5-99c73fb02f86"
      },
      "outputs": [
        {
          "name": "stdout",
          "output_type": "stream",
          "text": [
            "\n",
            "--- Обучение и оценка LGBM Regressor ---\n",
            "  RMSE (CV mean): 1748.36\n",
            "  RMSE (train): 1719.97\n",
            "  R2 (train): 0.8622\n",
            "  Training time: 32.9091 sec\n",
            "  Prediction time (on train data): 2.0899 sec\n"
          ]
        }
      ],
      "source": [
        "# 3. LGBM Regressor\n",
        "print(\"\\n--- Обучение и оценка LGBM Regressor ---\")\n",
        "start_time_train_lgbm = time.time()\n",
        "model_lgbm = LGBMRegressor(random_state=42, n_estimators=100, n_jobs=-1)\n",
        "\n",
        "cv_scores_lgbm = cross_val_score(model_lgbm, X_train, y_train, cv=kf, scoring='neg_mean_squared_error', n_jobs=-1)\n",
        "\n",
        "model_lgbm.fit(X_train, y_train)\n",
        "end_time_train_lgbm = time.time()\n",
        "training_time_lgbm = end_time_train_lgbm - start_time_train_lgbm\n",
        "\n",
        "start_time_predict_lgbm = time.time()\n",
        "y_pred_lgbm_train = model_lgbm.predict(X_train)\n",
        "end_time_predict_lgbm = time.time()\n",
        "prediction_time_lgbm = end_time_predict_lgbm - start_time_predict_lgbm\n",
        "\n",
        "rmse_train_lgbm = np.sqrt(mean_squared_error(y_train, y_pred_lgbm_train))\n",
        "r2_train_lgbm = r2_score(y_train, y_pred_lgbm_train)\n",
        "\n",
        "mean_cv_rmse_lgbm = np.sqrt(-cv_scores_lgbm.mean())\n",
        "\n",
        "results['LGBM'] = {\n",
        "    'RMSE_CV_mean': mean_cv_rmse_lgbm,\n",
        "    'RMSE_train': rmse_train_lgbm,\n",
        "    'R2_train': r2_train_lgbm,\n",
        "    'Training_time': training_time_lgbm,\n",
        "    'Prediction_time_on_train': prediction_time_lgbm\n",
        "}\n",
        "\n",
        "print(f\"  RMSE (CV mean): {mean_cv_rmse_lgbm:.2f}\")\n",
        "print(f\"  RMSE (train): {rmse_train_lgbm:.2f}\")\n",
        "print(f\"  R2 (train): {r2_train_lgbm:.4f}\")\n",
        "print(f\"  Training time: {training_time_lgbm:.4f} sec\")\n",
        "print(f\"  Prediction time (on train data): {prediction_time_lgbm:.4f} sec\")"
      ]
    },
    {
      "cell_type": "markdown",
      "metadata": {
        "id": "wilTdgaa2Efb"
      },
      "source": [
        "## Анализ моделей\n",
        "<a href=\"анализ моделей\"></a>"
      ]
    },
    {
      "cell_type": "code",
      "execution_count": null,
      "metadata": {
        "id": "qEBCOJOu2Efb",
        "outputId": "f73c8669-6a61-4a68-fe6d-f655aaaa8374"
      },
      "outputs": [
        {
          "name": "stdout",
          "output_type": "stream",
          "text": [
            "\n",
            "--- Сводная таблица метрик кросс-валидации ---\n",
            "                         RMSE_CV_mean  Training_time\n",
            "Linear Regression         2718.414705      70.149285\n",
            "Random Forest Regressor   1947.275874     149.633730\n",
            "LGBM                      1748.356699      32.909095\n"
          ]
        }
      ],
      "source": [
        "print(\"\\n--- Сводная таблица метрик кросс-валидации ---\")\n",
        "results_df_cv = pd.DataFrame(results).T\n",
        "print(results_df_cv[['RMSE_CV_mean', 'Training_time']])"
      ]
    },
    {
      "cell_type": "markdown",
      "metadata": {
        "id": "RRZYuFlm2Efb"
      },
      "source": [
        "Исходя из метрик кросс-валидации, модель **LGBM** выглядит наиболее перспективной. У неё самый низкий RMSE и она является самой быстрой в обучении.\n",
        "\n",
        "**Random Forest Regressor** также показывает хорошее качество, но проигрывает LGBM по обоим параметрам. **Linear Regression**, являясь самой простой моделью, показала наихудшие результаты."
      ]
    },
    {
      "cell_type": "code",
      "execution_count": null,
      "metadata": {
        "id": "0zUpNK4K2Efb",
        "outputId": "43198bb8-c27b-44ef-f34a-87d3f5b5f1a2"
      },
      "outputs": [
        {
          "name": "stdout",
          "output_type": "stream",
          "text": [
            "\n",
            "--- Финальная оценка лучшей модели (LGBM) на тестовой выборке ---\n",
            "  Final RMSE (test): 1725.42\n",
            "  Final R2 (test): 0.8608\n",
            "  Final Prediction time (on test data): 0.4169 sec\n"
          ]
        }
      ],
      "source": [
        "print(\"\\n--- Финальная оценка лучшей модели (LGBM) на тестовой выборке ---\")\n",
        "\n",
        "start_time_predict_final_lgbm = time.time()\n",
        "y_pred_final_lgbm = model_lgbm.predict(X_test)\n",
        "end_time_predict_final_lgbm = time.time()\n",
        "prediction_time_final_lgbm = end_time_predict_final_lgbm - start_time_predict_final_lgbm\n",
        "\n",
        "rmse_test_final_lgbm = np.sqrt(mean_squared_error(y_test, y_pred_final_lgbm))\n",
        "r2_test_final_lgbm = r2_score(y_test, y_pred_final_lgbm)\n",
        "\n",
        "if 'LGBM' in results:\n",
        "    results['LGBM']['RMSE_test_final'] = rmse_test_final_lgbm\n",
        "    results['LGBM']['R2_test_final'] = r2_test_final_lgbm\n",
        "    results['LGBM']['Prediction_time_on_test_final'] = prediction_time_final_lgbm\n",
        "\n",
        "print(f\"  Final RMSE (test): {rmse_test_final_lgbm:.2f}\")\n",
        "print(f\"  Final R2 (test): {r2_test_final_lgbm:.4f}\")\n",
        "print(f\"  Final Prediction time (on test data): {prediction_time_final_lgbm:.4f} sec\")"
      ]
    },
    {
      "cell_type": "code",
      "execution_count": null,
      "metadata": {
        "id": "KjCAREzw2Efc",
        "outputId": "c7771d35-1662-4eed-c2ed-d6f247a76925"
      },
      "outputs": [
        {
          "name": "stdout",
          "output_type": "stream",
          "text": [
            "\n",
            "--- Итоговая сводка результатов ---\n",
            "                         RMSE_CV_mean  Training_time  \\\n",
            "Linear Regression         2718.414705      70.149285   \n",
            "Random Forest Regressor   1947.275874     149.633730   \n",
            "LGBM                      1748.356699      32.909095   \n",
            "\n",
            "                         Prediction_time_on_train   RMSE_train  R2_train  \\\n",
            "Linear Regression                        0.309861          NaN       NaN   \n",
            "Random Forest Regressor                  0.798515  1884.724379  0.834567   \n",
            "LGBM                                     2.089895  1719.972871  0.862225   \n",
            "\n",
            "                         RMSE_test_final  R2_test_final  \\\n",
            "Linear Regression                    NaN            NaN   \n",
            "Random Forest Regressor              NaN            NaN   \n",
            "LGBM                          1725.42359       0.860762   \n",
            "\n",
            "                         Prediction_time_on_test_final  \n",
            "Linear Regression                                  NaN  \n",
            "Random Forest Regressor                            NaN  \n",
            "LGBM                                          0.416851  \n"
          ]
        }
      ],
      "source": [
        "print(\"\\n--- Итоговая сводка результатов ---\")\n",
        "results_df_final = pd.DataFrame(results).T\n",
        "print(results_df_final)"
      ]
    },
    {
      "cell_type": "markdown",
      "metadata": {
        "id": "viuViJt_2Efc"
      },
      "source": [
        "**Выводы по моделям:**\n",
        "\n",
        "- LGBM – лучшая модель по качеству предсказания (RMSE) и самая быстрая по времени обучения.\n",
        "- Random Forest – хорошая модель, но медленнее и немного хуже LGBM.\n",
        "- Linear Regression – самая простая модель, но имеет худшее качество предсказания."
      ]
    },
    {
      "cell_type": "code",
      "execution_count": null,
      "metadata": {
        "id": "u6kgBTxc2Efc",
        "outputId": "acd1602a-dfd9-4d32-fb19-13176996db90"
      },
      "outputs": [
        {
          "name": "stdout",
          "output_type": "stream",
          "text": [
            "\n",
            "--- Top 10 Feature Importances (Random Forest) ---\n",
            "RegistrationYear           0.535550\n",
            "Power                      0.285184\n",
            "Kilometer                  0.063284\n",
            "VehicleType_small          0.023379\n",
            "VehicleType_convertible    0.012364\n",
            "Model_transporter          0.011069\n",
            "Gearbox_manual             0.009508\n",
            "FuelType_gasoline          0.007069\n",
            "Repaired_yes               0.007052\n",
            "Brand_audi                 0.006034\n",
            "dtype: float64\n"
          ]
        }
      ],
      "source": [
        "if hasattr(model_rf, 'feature_importances_'):\n",
        "    feature_importances_rf = pd.Series(model_rf.feature_importances_, index=X_train.columns).sort_values(ascending=False)\n",
        "    print(\"\\n--- Top 10 Feature Importances (Random Forest) ---\")\n",
        "    print(feature_importances_rf.head(10))"
      ]
    },
    {
      "cell_type": "markdown",
      "metadata": {
        "id": "G6JMsTP62Efc"
      },
      "source": [
        "- RegistrationYear и Power – самые важные признаки. Это логично, так как возраст и мощность напрямую влияют на цену автомобиля.\n",
        "- Kilometer – также важный признак, но менее значимый, чем год и мощность.\n",
        "- VehicleType_convertible, Model_transporter, Repaired_yes, Brand_audi, Brand_volkswagen, Brand_mercedes_benz, Brand_bmw – закодированные категориальные признаки. Их важность варьируется. Например, тип кузова “convertible” и модель “transporter” имеют заметное влияние. Марки автомобилей тоже влияют, но в меньшей степени, чем год, мощность или тип кузова/модель."
      ]
    },
    {
      "cell_type": "code",
      "execution_count": null,
      "metadata": {
        "id": "3W1FmY6U2Efc",
        "outputId": "4bb2d88d-00eb-461e-9133-f3b11fa95627"
      },
      "outputs": [
        {
          "name": "stdout",
          "output_type": "stream",
          "text": [
            "\n",
            "--- Top 10 Feature Importances (LGBM) ---\n",
            "RegistrationYear           552\n",
            "Power                      494\n",
            "Kilometer                  209\n",
            "VehicleType_convertible     84\n",
            "Model_transporter           80\n",
            "Repaired_yes                69\n",
            "Brand_audi                  67\n",
            "Brand_mercedes_benz         62\n",
            "Brand_volkswagen            59\n",
            "Brand_bmw                   58\n",
            "dtype: int32\n"
          ]
        }
      ],
      "source": [
        "if hasattr(model_lgbm, 'feature_importances_'):\n",
        "    feature_importances_lgbm = pd.Series(model_lgbm.feature_importances_, index=X_train.columns).sort_values(ascending=False)\n",
        "    print(\"\\n--- Top 10 Feature Importances (LGBM) ---\")\n",
        "    print(feature_importances_lgbm.head(10))"
      ]
    },
    {
      "cell_type": "markdown",
      "metadata": {
        "id": "59Dy0_Z-2Efc"
      },
      "source": [
        "- Важность признаков LGBM показывается в виде чисел, которые отражают, сколько раз признак был использован для разделений.\n",
        "- RegistrationYear, Power, Kilometer – снова лидируют, как и ожидалось.\n",
        "- Числа важности у LGBM значительно больше, чем доли у Random Forest. Это связано с разной внутренней логикой подсчета важности признаков."
      ]
    },
    {
      "cell_type": "markdown",
      "metadata": {
        "id": "1_JPZuvj2Efc"
      },
      "source": [
        "\n",
        "\n",
        "`Лучшая модель:` LGBM Regressor является лучшим выбором на основе полученных метрик."
      ]
    }
  ],
  "metadata": {
    "ExecuteTimeLog": [
      {
        "duration": 466,
        "start_time": "2025-08-18T17:35:40.539Z"
      },
      {
        "duration": 996,
        "start_time": "2025-08-18T17:35:43.905Z"
      },
      {
        "duration": 1039,
        "start_time": "2025-08-18T17:36:46.381Z"
      },
      {
        "duration": 170,
        "start_time": "2025-08-18T17:37:05.429Z"
      },
      {
        "duration": 95,
        "start_time": "2025-08-18T17:37:16.682Z"
      },
      {
        "duration": 2,
        "start_time": "2025-08-18T17:38:33.089Z"
      },
      {
        "duration": 1057,
        "start_time": "2025-08-18T17:38:39.977Z"
      },
      {
        "duration": 983,
        "start_time": "2025-08-18T17:38:41.900Z"
      },
      {
        "duration": 158,
        "start_time": "2025-08-18T17:38:42.885Z"
      },
      {
        "duration": 104,
        "start_time": "2025-08-18T17:38:43.049Z"
      },
      {
        "duration": 1734,
        "start_time": "2025-08-18T17:41:41.237Z"
      },
      {
        "duration": 146,
        "start_time": "2025-08-18T17:41:52.576Z"
      },
      {
        "duration": 14,
        "start_time": "2025-08-18T17:41:59.313Z"
      },
      {
        "duration": 4,
        "start_time": "2025-08-18T17:46:37.482Z"
      },
      {
        "duration": 6,
        "start_time": "2025-08-18T17:46:58.620Z"
      },
      {
        "duration": 6,
        "start_time": "2025-08-18T17:47:58.004Z"
      },
      {
        "duration": 3,
        "start_time": "2025-08-18T17:48:21.523Z"
      },
      {
        "duration": 94,
        "start_time": "2025-08-18T17:49:44.187Z"
      },
      {
        "duration": 78,
        "start_time": "2025-08-18T17:50:03.375Z"
      },
      {
        "duration": 5,
        "start_time": "2025-08-18T17:50:34.829Z"
      },
      {
        "duration": 7,
        "start_time": "2025-08-18T17:51:35.986Z"
      },
      {
        "duration": 6,
        "start_time": "2025-08-18T17:51:55.604Z"
      },
      {
        "duration": 31,
        "start_time": "2025-08-18T17:53:30.446Z"
      },
      {
        "duration": 321,
        "start_time": "2025-08-18T17:54:40.979Z"
      },
      {
        "duration": 12,
        "start_time": "2025-08-18T17:55:33.208Z"
      },
      {
        "duration": 137,
        "start_time": "2025-08-18T17:56:54.314Z"
      },
      {
        "duration": 1104,
        "start_time": "2025-08-18T17:58:28.962Z"
      },
      {
        "duration": 3,
        "start_time": "2025-08-18T17:58:32.764Z"
      },
      {
        "duration": 868,
        "start_time": "2025-08-18T17:58:33.857Z"
      },
      {
        "duration": 151,
        "start_time": "2025-08-18T17:58:35.718Z"
      },
      {
        "duration": 101,
        "start_time": "2025-08-18T17:58:36.512Z"
      },
      {
        "duration": 1721,
        "start_time": "2025-08-18T17:58:37.757Z"
      },
      {
        "duration": 141,
        "start_time": "2025-08-18T17:58:40.594Z"
      },
      {
        "duration": 16,
        "start_time": "2025-08-18T17:58:41.490Z"
      },
      {
        "duration": 46,
        "start_time": "2025-08-18T17:58:43.731Z"
      },
      {
        "duration": 5,
        "start_time": "2025-08-18T17:58:51.710Z"
      },
      {
        "duration": 1187,
        "start_time": "2025-08-18T18:00:25.652Z"
      },
      {
        "duration": 887,
        "start_time": "2025-08-18T18:00:27.691Z"
      },
      {
        "duration": 146,
        "start_time": "2025-08-18T18:00:28.580Z"
      },
      {
        "duration": 98,
        "start_time": "2025-08-18T18:00:28.727Z"
      },
      {
        "duration": 1677,
        "start_time": "2025-08-18T18:00:29.388Z"
      },
      {
        "duration": 150,
        "start_time": "2025-08-18T18:00:31.066Z"
      },
      {
        "duration": 15,
        "start_time": "2025-08-18T18:00:31.786Z"
      },
      {
        "duration": 46,
        "start_time": "2025-08-18T18:00:33.107Z"
      },
      {
        "duration": 5,
        "start_time": "2025-08-18T18:00:33.328Z"
      },
      {
        "duration": 43919,
        "start_time": "2025-08-18T18:00:33.632Z"
      },
      {
        "duration": 7,
        "start_time": "2025-08-18T18:01:17.553Z"
      },
      {
        "duration": 3906,
        "start_time": "2025-08-18T18:02:07.967Z"
      },
      {
        "duration": 97,
        "start_time": "2025-08-18T18:05:59.385Z"
      },
      {
        "duration": 10,
        "start_time": "2025-08-18T18:06:58.099Z"
      },
      {
        "duration": 54,
        "start_time": "2025-08-18T18:07:33.209Z"
      },
      {
        "duration": 139,
        "start_time": "2025-08-18T18:07:36.105Z"
      },
      {
        "duration": 6,
        "start_time": "2025-08-18T18:07:45.093Z"
      },
      {
        "duration": 55,
        "start_time": "2025-08-18T18:09:20.444Z"
      },
      {
        "duration": 133,
        "start_time": "2025-08-18T18:09:21.258Z"
      },
      {
        "duration": 1614,
        "start_time": "2025-08-18T18:10:05.278Z"
      },
      {
        "duration": 1486,
        "start_time": "2025-08-18T18:10:44.221Z"
      },
      {
        "duration": 134,
        "start_time": "2025-08-18T18:11:37.306Z"
      },
      {
        "duration": 17,
        "start_time": "2025-08-18T18:12:27.119Z"
      },
      {
        "duration": 48,
        "start_time": "2025-08-18T18:13:49.951Z"
      },
      {
        "duration": 73,
        "start_time": "2025-08-18T18:15:01.247Z"
      },
      {
        "duration": 254,
        "start_time": "2025-08-18T18:16:50.176Z"
      },
      {
        "duration": 154,
        "start_time": "2025-08-18T18:17:13.125Z"
      },
      {
        "duration": 20,
        "start_time": "2025-08-18T18:18:18.465Z"
      },
      {
        "duration": 148,
        "start_time": "2025-08-18T18:18:54.375Z"
      },
      {
        "duration": 31,
        "start_time": "2025-08-18T18:20:04.321Z"
      },
      {
        "duration": 45,
        "start_time": "2025-08-18T18:23:24.946Z"
      },
      {
        "duration": 1398,
        "start_time": "2025-08-18T18:23:29.853Z"
      },
      {
        "duration": 918,
        "start_time": "2025-08-18T18:23:32.399Z"
      },
      {
        "duration": 143,
        "start_time": "2025-08-18T18:23:53.445Z"
      },
      {
        "duration": 137,
        "start_time": "2025-08-18T18:23:53.590Z"
      },
      {
        "duration": 1797,
        "start_time": "2025-08-18T18:23:54.465Z"
      },
      {
        "duration": 164,
        "start_time": "2025-08-18T18:23:56.264Z"
      },
      {
        "duration": 25,
        "start_time": "2025-08-18T18:23:56.429Z"
      },
      {
        "duration": 71,
        "start_time": "2025-08-18T18:23:56.455Z"
      },
      {
        "duration": 6,
        "start_time": "2025-08-18T18:23:57.030Z"
      },
      {
        "duration": 68,
        "start_time": "2025-08-18T18:23:57.495Z"
      },
      {
        "duration": 135,
        "start_time": "2025-08-18T18:23:57.687Z"
      },
      {
        "duration": 17,
        "start_time": "2025-08-18T18:23:57.925Z"
      },
      {
        "duration": 59,
        "start_time": "2025-08-18T18:23:58.471Z"
      },
      {
        "duration": 78,
        "start_time": "2025-08-18T18:23:58.678Z"
      },
      {
        "duration": 163,
        "start_time": "2025-08-18T18:23:59.236Z"
      },
      {
        "duration": 101,
        "start_time": "2025-08-18T18:23:59.503Z"
      },
      {
        "duration": 31,
        "start_time": "2025-08-18T18:24:15.815Z"
      },
      {
        "duration": 652,
        "start_time": "2025-08-18T18:24:33.359Z"
      },
      {
        "duration": 211,
        "start_time": "2025-08-18T18:25:13.290Z"
      },
      {
        "duration": 18,
        "start_time": "2025-08-18T18:25:37.726Z"
      },
      {
        "duration": 892,
        "start_time": "2025-08-18T18:25:38.974Z"
      },
      {
        "duration": 157,
        "start_time": "2025-08-18T18:25:39.868Z"
      },
      {
        "duration": 188,
        "start_time": "2025-08-18T18:25:40.027Z"
      },
      {
        "duration": 2040,
        "start_time": "2025-08-18T18:25:40.218Z"
      },
      {
        "duration": 177,
        "start_time": "2025-08-18T18:25:42.260Z"
      },
      {
        "duration": 23,
        "start_time": "2025-08-18T18:25:42.438Z"
      },
      {
        "duration": 35,
        "start_time": "2025-08-18T18:25:42.464Z"
      },
      {
        "duration": 6,
        "start_time": "2025-08-18T18:25:42.961Z"
      },
      {
        "duration": 51,
        "start_time": "2025-08-18T18:25:43.350Z"
      },
      {
        "duration": 160,
        "start_time": "2025-08-18T18:25:43.557Z"
      },
      {
        "duration": 18,
        "start_time": "2025-08-18T18:25:43.775Z"
      },
      {
        "duration": 48,
        "start_time": "2025-08-18T18:25:44.237Z"
      },
      {
        "duration": 84,
        "start_time": "2025-08-18T18:25:44.759Z"
      },
      {
        "duration": 25,
        "start_time": "2025-08-18T18:25:45.646Z"
      },
      {
        "duration": 863,
        "start_time": "2025-08-18T18:25:46.621Z"
      },
      {
        "duration": 53,
        "start_time": "2025-08-18T18:25:59.461Z"
      },
      {
        "duration": 7,
        "start_time": "2025-08-18T18:27:45.057Z"
      },
      {
        "duration": 7,
        "start_time": "2025-08-18T18:27:53.145Z"
      },
      {
        "duration": 8,
        "start_time": "2025-08-18T18:27:53.806Z"
      },
      {
        "duration": 1466,
        "start_time": "2025-08-18T18:27:59.402Z"
      },
      {
        "duration": 1085,
        "start_time": "2025-08-18T18:28:00.871Z"
      },
      {
        "duration": 157,
        "start_time": "2025-08-18T18:28:01.958Z"
      },
      {
        "duration": 155,
        "start_time": "2025-08-18T18:28:02.628Z"
      },
      {
        "duration": 1959,
        "start_time": "2025-08-18T18:28:03.271Z"
      },
      {
        "duration": 171,
        "start_time": "2025-08-18T18:28:05.232Z"
      },
      {
        "duration": 17,
        "start_time": "2025-08-18T18:28:05.404Z"
      },
      {
        "duration": 54,
        "start_time": "2025-08-18T18:28:05.941Z"
      },
      {
        "duration": 7,
        "start_time": "2025-08-18T18:28:06.344Z"
      },
      {
        "duration": 68,
        "start_time": "2025-08-18T18:28:06.902Z"
      },
      {
        "duration": 165,
        "start_time": "2025-08-18T18:28:07.502Z"
      },
      {
        "duration": 18,
        "start_time": "2025-08-18T18:28:08.355Z"
      },
      {
        "duration": 61,
        "start_time": "2025-08-18T18:28:09.465Z"
      },
      {
        "duration": 90,
        "start_time": "2025-08-18T18:28:09.842Z"
      },
      {
        "duration": 28,
        "start_time": "2025-08-18T18:28:10.890Z"
      },
      {
        "duration": 96,
        "start_time": "2025-08-18T18:28:11.939Z"
      },
      {
        "duration": 790,
        "start_time": "2025-08-18T18:28:12.959Z"
      },
      {
        "duration": 54,
        "start_time": "2025-08-18T18:28:29.087Z"
      },
      {
        "duration": 1448,
        "start_time": "2025-08-18T18:29:40.607Z"
      },
      {
        "duration": 968,
        "start_time": "2025-08-18T18:29:43.217Z"
      },
      {
        "duration": 168,
        "start_time": "2025-08-18T18:29:44.776Z"
      },
      {
        "duration": 113,
        "start_time": "2025-08-18T18:29:45.026Z"
      },
      {
        "duration": 2026,
        "start_time": "2025-08-18T18:29:45.495Z"
      },
      {
        "duration": 176,
        "start_time": "2025-08-18T18:29:47.523Z"
      },
      {
        "duration": 18,
        "start_time": "2025-08-18T18:29:47.701Z"
      },
      {
        "duration": 51,
        "start_time": "2025-08-18T18:29:48.480Z"
      },
      {
        "duration": 5,
        "start_time": "2025-08-18T18:29:48.638Z"
      },
      {
        "duration": 65,
        "start_time": "2025-08-18T18:29:49.129Z"
      },
      {
        "duration": 150,
        "start_time": "2025-08-18T18:29:49.302Z"
      },
      {
        "duration": 17,
        "start_time": "2025-08-18T18:29:49.891Z"
      },
      {
        "duration": 56,
        "start_time": "2025-08-18T18:29:50.580Z"
      },
      {
        "duration": 87,
        "start_time": "2025-08-18T18:29:50.774Z"
      },
      {
        "duration": 31,
        "start_time": "2025-08-18T18:29:51.241Z"
      },
      {
        "duration": 97,
        "start_time": "2025-08-18T18:29:51.462Z"
      },
      {
        "duration": 801,
        "start_time": "2025-08-18T18:29:51.656Z"
      },
      {
        "duration": 54,
        "start_time": "2025-08-18T18:30:50.475Z"
      },
      {
        "duration": 1474,
        "start_time": "2025-08-18T18:31:43.781Z"
      },
      {
        "duration": 988,
        "start_time": "2025-08-18T18:31:47.366Z"
      },
      {
        "duration": 180,
        "start_time": "2025-08-18T18:31:49.347Z"
      },
      {
        "duration": 104,
        "start_time": "2025-08-18T18:31:50.305Z"
      },
      {
        "duration": 1943,
        "start_time": "2025-08-18T18:31:51.116Z"
      },
      {
        "duration": 173,
        "start_time": "2025-08-18T18:31:53.061Z"
      },
      {
        "duration": 25,
        "start_time": "2025-08-18T18:31:53.236Z"
      },
      {
        "duration": 50,
        "start_time": "2025-08-18T18:31:54.297Z"
      },
      {
        "duration": 5,
        "start_time": "2025-08-18T18:31:54.824Z"
      },
      {
        "duration": 65,
        "start_time": "2025-08-18T18:31:56.336Z"
      },
      {
        "duration": 147,
        "start_time": "2025-08-18T18:31:56.997Z"
      },
      {
        "duration": 17,
        "start_time": "2025-08-18T18:31:57.369Z"
      },
      {
        "duration": 54,
        "start_time": "2025-08-18T18:31:58.575Z"
      },
      {
        "duration": 86,
        "start_time": "2025-08-18T18:31:59.276Z"
      },
      {
        "duration": 23,
        "start_time": "2025-08-18T18:32:00.265Z"
      },
      {
        "duration": 96,
        "start_time": "2025-08-18T18:32:00.806Z"
      },
      {
        "duration": 830,
        "start_time": "2025-08-18T18:32:01.119Z"
      },
      {
        "duration": 1635,
        "start_time": "2025-08-20T08:34:01.739Z"
      },
      {
        "duration": 997,
        "start_time": "2025-08-20T08:34:04.169Z"
      },
      {
        "duration": 168,
        "start_time": "2025-08-20T08:34:05.167Z"
      },
      {
        "duration": 99,
        "start_time": "2025-08-20T08:34:06.373Z"
      },
      {
        "duration": 1848,
        "start_time": "2025-08-20T08:34:06.894Z"
      },
      {
        "duration": 160,
        "start_time": "2025-08-20T08:34:08.744Z"
      },
      {
        "duration": 14,
        "start_time": "2025-08-20T08:34:08.906Z"
      },
      {
        "duration": 49,
        "start_time": "2025-08-20T08:34:09.444Z"
      },
      {
        "duration": 19,
        "start_time": "2025-08-20T08:34:09.683Z"
      },
      {
        "duration": 66,
        "start_time": "2025-08-20T08:34:10.213Z"
      },
      {
        "duration": 145,
        "start_time": "2025-08-20T08:34:10.571Z"
      },
      {
        "duration": 16,
        "start_time": "2025-08-20T08:34:10.992Z"
      },
      {
        "duration": 53,
        "start_time": "2025-08-20T08:34:11.727Z"
      },
      {
        "duration": 82,
        "start_time": "2025-08-20T08:34:12.314Z"
      },
      {
        "duration": 22,
        "start_time": "2025-08-20T08:34:13.283Z"
      },
      {
        "duration": 93,
        "start_time": "2025-08-20T08:34:13.524Z"
      },
      {
        "duration": 717,
        "start_time": "2025-08-20T08:34:14.502Z"
      },
      {
        "duration": 64,
        "start_time": "2025-08-20T08:35:03.474Z"
      },
      {
        "duration": 1436,
        "start_time": "2025-08-20T08:35:10.540Z"
      },
      {
        "duration": 1027,
        "start_time": "2025-08-20T08:35:13.154Z"
      },
      {
        "duration": 177,
        "start_time": "2025-08-20T08:35:14.936Z"
      },
      {
        "duration": 143,
        "start_time": "2025-08-20T08:35:15.324Z"
      },
      {
        "duration": 2038,
        "start_time": "2025-08-20T08:35:16.410Z"
      },
      {
        "duration": 186,
        "start_time": "2025-08-20T08:35:18.450Z"
      },
      {
        "duration": 18,
        "start_time": "2025-08-20T08:35:18.638Z"
      },
      {
        "duration": 46,
        "start_time": "2025-08-20T08:35:19.317Z"
      },
      {
        "duration": 6,
        "start_time": "2025-08-20T08:35:19.811Z"
      },
      {
        "duration": 58,
        "start_time": "2025-08-20T08:35:20.806Z"
      },
      {
        "duration": 157,
        "start_time": "2025-08-20T08:35:21.355Z"
      },
      {
        "duration": 20,
        "start_time": "2025-08-20T08:35:21.883Z"
      },
      {
        "duration": 56,
        "start_time": "2025-08-20T08:35:23.020Z"
      },
      {
        "duration": 91,
        "start_time": "2025-08-20T08:35:23.575Z"
      },
      {
        "duration": 39,
        "start_time": "2025-08-20T08:35:24.688Z"
      },
      {
        "duration": 97,
        "start_time": "2025-08-20T08:35:25.330Z"
      },
      {
        "duration": 699,
        "start_time": "2025-08-20T08:35:25.929Z"
      },
      {
        "duration": 478,
        "start_time": "2025-08-20T08:35:27.311Z"
      },
      {
        "duration": 81,
        "start_time": "2025-08-20T08:37:52.169Z"
      },
      {
        "duration": 1507,
        "start_time": "2025-08-20T08:37:59.098Z"
      },
      {
        "duration": 982,
        "start_time": "2025-08-20T08:38:01.393Z"
      },
      {
        "duration": 156,
        "start_time": "2025-08-20T08:38:02.377Z"
      },
      {
        "duration": 183,
        "start_time": "2025-08-20T08:38:02.535Z"
      },
      {
        "duration": 1864,
        "start_time": "2025-08-20T08:38:03.027Z"
      },
      {
        "duration": 169,
        "start_time": "2025-08-20T08:38:04.893Z"
      },
      {
        "duration": 27,
        "start_time": "2025-08-20T08:38:05.064Z"
      },
      {
        "duration": 60,
        "start_time": "2025-08-20T08:38:05.093Z"
      },
      {
        "duration": 9,
        "start_time": "2025-08-20T08:38:05.156Z"
      },
      {
        "duration": 62,
        "start_time": "2025-08-20T08:38:05.679Z"
      },
      {
        "duration": 150,
        "start_time": "2025-08-20T08:38:05.904Z"
      },
      {
        "duration": 19,
        "start_time": "2025-08-20T08:38:06.111Z"
      },
      {
        "duration": 58,
        "start_time": "2025-08-20T08:38:06.806Z"
      },
      {
        "duration": 89,
        "start_time": "2025-08-20T08:38:07.123Z"
      },
      {
        "duration": 25,
        "start_time": "2025-08-20T08:38:07.618Z"
      },
      {
        "duration": 90,
        "start_time": "2025-08-20T08:38:08.397Z"
      },
      {
        "duration": 691,
        "start_time": "2025-08-20T08:38:08.846Z"
      },
      {
        "duration": 496,
        "start_time": "2025-08-20T08:38:09.540Z"
      },
      {
        "duration": 58,
        "start_time": "2025-08-20T08:38:27.959Z"
      },
      {
        "duration": 1716,
        "start_time": "2025-08-20T08:38:32.743Z"
      },
      {
        "duration": 1024,
        "start_time": "2025-08-20T08:38:35.845Z"
      },
      {
        "duration": 1519,
        "start_time": "2025-08-20T08:38:51.674Z"
      },
      {
        "duration": 996,
        "start_time": "2025-08-20T08:38:54.208Z"
      },
      {
        "duration": 171,
        "start_time": "2025-08-20T08:38:55.785Z"
      },
      {
        "duration": 99,
        "start_time": "2025-08-20T08:38:56.672Z"
      },
      {
        "duration": 1942,
        "start_time": "2025-08-20T08:38:57.166Z"
      },
      {
        "duration": 172,
        "start_time": "2025-08-20T08:38:59.110Z"
      },
      {
        "duration": 27,
        "start_time": "2025-08-20T08:38:59.283Z"
      },
      {
        "duration": 49,
        "start_time": "2025-08-20T08:39:00.572Z"
      },
      {
        "duration": 5,
        "start_time": "2025-08-20T08:39:01.382Z"
      },
      {
        "duration": 66,
        "start_time": "2025-08-20T08:39:02.792Z"
      },
      {
        "duration": 153,
        "start_time": "2025-08-20T08:39:03.766Z"
      },
      {
        "duration": 28,
        "start_time": "2025-08-20T08:39:04.681Z"
      },
      {
        "duration": 53,
        "start_time": "2025-08-20T08:39:07.127Z"
      },
      {
        "duration": 84,
        "start_time": "2025-08-20T08:39:07.936Z"
      },
      {
        "duration": 30,
        "start_time": "2025-08-20T08:39:09.975Z"
      },
      {
        "duration": 97,
        "start_time": "2025-08-20T08:39:11.217Z"
      },
      {
        "duration": 777,
        "start_time": "2025-08-20T08:39:11.887Z"
      },
      {
        "duration": 499,
        "start_time": "2025-08-20T08:39:13.648Z"
      },
      {
        "duration": 1479,
        "start_time": "2025-08-20T08:53:55.389Z"
      },
      {
        "duration": 927,
        "start_time": "2025-08-20T08:53:58.201Z"
      },
      {
        "duration": 163,
        "start_time": "2025-08-20T08:53:59.130Z"
      },
      {
        "duration": 135,
        "start_time": "2025-08-20T08:54:01.284Z"
      },
      {
        "duration": 1950,
        "start_time": "2025-08-20T08:54:03.578Z"
      },
      {
        "duration": 165,
        "start_time": "2025-08-20T08:54:05.530Z"
      },
      {
        "duration": 16,
        "start_time": "2025-08-20T08:54:07.011Z"
      },
      {
        "duration": 47,
        "start_time": "2025-08-20T08:54:08.407Z"
      },
      {
        "duration": 5,
        "start_time": "2025-08-20T08:54:08.874Z"
      },
      {
        "duration": 57,
        "start_time": "2025-08-20T08:54:09.709Z"
      },
      {
        "duration": 142,
        "start_time": "2025-08-20T08:54:10.041Z"
      },
      {
        "duration": 19,
        "start_time": "2025-08-20T08:54:11.138Z"
      },
      {
        "duration": 60,
        "start_time": "2025-08-20T08:54:12.544Z"
      },
      {
        "duration": 131,
        "start_time": "2025-08-20T08:59:03.533Z"
      },
      {
        "duration": 55,
        "start_time": "2025-08-20T09:03:00.729Z"
      },
      {
        "duration": 128,
        "start_time": "2025-08-20T09:03:21.383Z"
      },
      {
        "duration": 150,
        "start_time": "2025-08-20T09:05:35.706Z"
      },
      {
        "duration": 1787,
        "start_time": "2025-08-20T09:05:40.153Z"
      },
      {
        "duration": 163,
        "start_time": "2025-08-20T09:05:42.943Z"
      },
      {
        "duration": 15,
        "start_time": "2025-08-20T09:05:43.857Z"
      },
      {
        "duration": 59,
        "start_time": "2025-08-20T09:05:44.772Z"
      },
      {
        "duration": 6,
        "start_time": "2025-08-20T09:05:45.069Z"
      },
      {
        "duration": 43,
        "start_time": "2025-08-20T09:05:46.120Z"
      },
      {
        "duration": 187,
        "start_time": "2025-08-20T09:05:46.436Z"
      },
      {
        "duration": 18,
        "start_time": "2025-08-20T09:05:47.247Z"
      },
      {
        "duration": 40,
        "start_time": "2025-08-20T09:05:47.724Z"
      },
      {
        "duration": 79,
        "start_time": "2025-08-20T09:05:48.506Z"
      },
      {
        "duration": 32,
        "start_time": "2025-08-20T09:05:49.605Z"
      },
      {
        "duration": 129,
        "start_time": "2025-08-20T09:05:50.277Z"
      },
      {
        "duration": 720,
        "start_time": "2025-08-20T09:05:50.787Z"
      },
      {
        "duration": 480,
        "start_time": "2025-08-20T09:05:51.511Z"
      },
      {
        "duration": 51,
        "start_time": "2025-08-20T09:06:09.221Z"
      },
      {
        "duration": 1785,
        "start_time": "2025-08-20T09:06:15.834Z"
      },
      {
        "duration": 974,
        "start_time": "2025-08-20T09:06:20.037Z"
      },
      {
        "duration": 3,
        "start_time": "2025-08-20T09:22:54.318Z"
      },
      {
        "duration": 967,
        "start_time": "2025-08-20T09:22:55.477Z"
      },
      {
        "duration": 164,
        "start_time": "2025-08-20T09:22:57.604Z"
      },
      {
        "duration": 108,
        "start_time": "2025-08-20T09:22:58.597Z"
      },
      {
        "duration": 154,
        "start_time": "2025-08-20T09:22:59.315Z"
      },
      {
        "duration": 63,
        "start_time": "2025-08-20T09:23:00.126Z"
      },
      {
        "duration": 151,
        "start_time": "2025-08-20T09:23:00.876Z"
      },
      {
        "duration": 1982,
        "start_time": "2025-08-20T09:23:01.927Z"
      },
      {
        "duration": 172,
        "start_time": "2025-08-20T09:23:03.911Z"
      },
      {
        "duration": 16,
        "start_time": "2025-08-20T09:23:04.937Z"
      },
      {
        "duration": 48,
        "start_time": "2025-08-20T09:23:06.936Z"
      },
      {
        "duration": 6,
        "start_time": "2025-08-20T09:23:07.579Z"
      },
      {
        "duration": 66,
        "start_time": "2025-08-20T09:23:08.751Z"
      },
      {
        "duration": 148,
        "start_time": "2025-08-20T09:23:09.535Z"
      },
      {
        "duration": 21,
        "start_time": "2025-08-20T09:23:10.248Z"
      },
      {
        "duration": 59,
        "start_time": "2025-08-20T09:23:11.749Z"
      },
      {
        "duration": 93,
        "start_time": "2025-08-20T09:23:12.382Z"
      },
      {
        "duration": 27,
        "start_time": "2025-08-20T09:23:14.041Z"
      },
      {
        "duration": 113,
        "start_time": "2025-08-20T09:23:14.735Z"
      },
      {
        "duration": 755,
        "start_time": "2025-08-20T09:23:15.230Z"
      },
      {
        "duration": 490,
        "start_time": "2025-08-20T09:23:15.989Z"
      },
      {
        "duration": 1468,
        "start_time": "2025-08-20T09:27:34.837Z"
      },
      {
        "duration": 927,
        "start_time": "2025-08-20T09:27:37.029Z"
      },
      {
        "duration": 171,
        "start_time": "2025-08-20T09:27:40.762Z"
      },
      {
        "duration": 100,
        "start_time": "2025-08-20T09:27:41.634Z"
      },
      {
        "duration": 152,
        "start_time": "2025-08-20T09:27:42.103Z"
      },
      {
        "duration": 67,
        "start_time": "2025-08-20T09:27:42.592Z"
      },
      {
        "duration": 144,
        "start_time": "2025-08-20T09:27:42.922Z"
      },
      {
        "duration": 2104,
        "start_time": "2025-08-20T09:27:43.716Z"
      },
      {
        "duration": 182,
        "start_time": "2025-08-20T09:27:45.822Z"
      },
      {
        "duration": 17,
        "start_time": "2025-08-20T09:27:46.913Z"
      },
      {
        "duration": 46,
        "start_time": "2025-08-20T09:27:48.531Z"
      },
      {
        "duration": 10,
        "start_time": "2025-08-20T09:27:49.296Z"
      },
      {
        "duration": 62,
        "start_time": "2025-08-20T09:27:50.617Z"
      },
      {
        "duration": 145,
        "start_time": "2025-08-20T09:27:51.427Z"
      },
      {
        "duration": 16,
        "start_time": "2025-08-20T09:27:54.518Z"
      },
      {
        "duration": 52,
        "start_time": "2025-08-20T09:27:57.296Z"
      },
      {
        "duration": 50,
        "start_time": "2025-08-20T09:27:59.678Z"
      },
      {
        "duration": 83,
        "start_time": "2025-08-20T09:28:04.323Z"
      },
      {
        "duration": 27,
        "start_time": "2025-08-20T09:28:06.503Z"
      },
      {
        "duration": 114,
        "start_time": "2025-08-20T09:28:07.195Z"
      },
      {
        "duration": 658,
        "start_time": "2025-08-20T09:28:07.897Z"
      },
      {
        "duration": 455,
        "start_time": "2025-08-20T09:28:08.625Z"
      },
      {
        "duration": 3,
        "start_time": "2025-08-20T09:28:43.754Z"
      },
      {
        "duration": 3,
        "start_time": "2025-08-20T09:31:00.831Z"
      },
      {
        "duration": 886,
        "start_time": "2025-08-20T09:31:04.705Z"
      },
      {
        "duration": 1465,
        "start_time": "2025-08-20T09:31:18.079Z"
      },
      {
        "duration": 910,
        "start_time": "2025-08-20T09:31:20.495Z"
      },
      {
        "duration": 154,
        "start_time": "2025-08-20T09:31:22.595Z"
      },
      {
        "duration": 143,
        "start_time": "2025-08-20T09:31:26.212Z"
      },
      {
        "duration": 141,
        "start_time": "2025-08-20T09:31:27.529Z"
      },
      {
        "duration": 68,
        "start_time": "2025-08-20T09:31:28.639Z"
      },
      {
        "duration": 144,
        "start_time": "2025-08-20T09:31:29.230Z"
      },
      {
        "duration": 1927,
        "start_time": "2025-08-20T09:31:30.753Z"
      },
      {
        "duration": 155,
        "start_time": "2025-08-20T09:31:32.682Z"
      },
      {
        "duration": 17,
        "start_time": "2025-08-20T09:31:33.603Z"
      },
      {
        "duration": 47,
        "start_time": "2025-08-20T09:31:35.164Z"
      },
      {
        "duration": 6,
        "start_time": "2025-08-20T09:31:36.275Z"
      },
      {
        "duration": 60,
        "start_time": "2025-08-20T09:31:37.819Z"
      },
      {
        "duration": 148,
        "start_time": "2025-08-20T09:31:38.584Z"
      },
      {
        "duration": 18,
        "start_time": "2025-08-20T09:31:39.276Z"
      },
      {
        "duration": 57,
        "start_time": "2025-08-20T09:31:40.339Z"
      },
      {
        "duration": 55,
        "start_time": "2025-08-20T09:31:41.237Z"
      },
      {
        "duration": 81,
        "start_time": "2025-08-20T09:31:41.837Z"
      },
      {
        "duration": 710,
        "start_time": "2025-08-20T09:31:43.985Z"
      },
      {
        "duration": 612,
        "start_time": "2025-08-20T09:31:46.442Z"
      },
      {
        "duration": 163,
        "start_time": "2025-08-20T09:31:49.191Z"
      },
      {
        "duration": 4,
        "start_time": "2025-08-20T09:31:51.617Z"
      },
      {
        "duration": 106,
        "start_time": "2025-08-20T09:39:44.484Z"
      },
      {
        "duration": 146,
        "start_time": "2025-08-20T09:40:17.828Z"
      },
      {
        "duration": 826,
        "start_time": "2025-08-20T09:40:18.910Z"
      },
      {
        "duration": 143,
        "start_time": "2025-08-20T09:40:20.679Z"
      },
      {
        "duration": 84,
        "start_time": "2025-08-20T09:40:21.909Z"
      },
      {
        "duration": 139,
        "start_time": "2025-08-20T09:40:22.493Z"
      },
      {
        "duration": 60,
        "start_time": "2025-08-20T09:40:22.775Z"
      },
      {
        "duration": 138,
        "start_time": "2025-08-20T09:40:22.969Z"
      },
      {
        "duration": 1817,
        "start_time": "2025-08-20T09:40:23.394Z"
      },
      {
        "duration": 156,
        "start_time": "2025-08-20T09:40:25.213Z"
      },
      {
        "duration": 24,
        "start_time": "2025-08-20T09:40:25.372Z"
      },
      {
        "duration": 43,
        "start_time": "2025-08-20T09:40:25.398Z"
      },
      {
        "duration": 5,
        "start_time": "2025-08-20T09:40:25.442Z"
      },
      {
        "duration": 70,
        "start_time": "2025-08-20T09:40:25.449Z"
      },
      {
        "duration": 138,
        "start_time": "2025-08-20T09:40:29.168Z"
      },
      {
        "duration": 17,
        "start_time": "2025-08-20T09:40:33.595Z"
      },
      {
        "duration": 40,
        "start_time": "2025-08-20T09:40:34.375Z"
      },
      {
        "duration": 40,
        "start_time": "2025-08-20T09:40:34.899Z"
      },
      {
        "duration": 75,
        "start_time": "2025-08-20T09:40:35.151Z"
      },
      {
        "duration": 726,
        "start_time": "2025-08-20T09:40:35.584Z"
      },
      {
        "duration": 604,
        "start_time": "2025-08-20T09:40:36.312Z"
      },
      {
        "duration": 162,
        "start_time": "2025-08-20T09:40:37.944Z"
      },
      {
        "duration": 3,
        "start_time": "2025-08-20T09:40:40.131Z"
      },
      {
        "duration": 17,
        "start_time": "2025-08-20T09:40:42.655Z"
      },
      {
        "duration": 9,
        "start_time": "2025-08-20T09:41:52.876Z"
      },
      {
        "duration": 10,
        "start_time": "2025-08-20T09:42:48.832Z"
      },
      {
        "duration": 4,
        "start_time": "2025-08-20T09:43:41.303Z"
      },
      {
        "duration": 798,
        "start_time": "2025-08-20T09:43:42.476Z"
      },
      {
        "duration": 149,
        "start_time": "2025-08-20T09:43:43.276Z"
      },
      {
        "duration": 100,
        "start_time": "2025-08-20T09:43:43.427Z"
      },
      {
        "duration": 141,
        "start_time": "2025-08-20T09:43:43.530Z"
      },
      {
        "duration": 76,
        "start_time": "2025-08-20T09:43:43.673Z"
      },
      {
        "duration": 146,
        "start_time": "2025-08-20T09:43:44.979Z"
      },
      {
        "duration": 1854,
        "start_time": "2025-08-20T09:43:47.047Z"
      },
      {
        "duration": 161,
        "start_time": "2025-08-20T09:43:48.903Z"
      },
      {
        "duration": 24,
        "start_time": "2025-08-20T09:43:49.066Z"
      },
      {
        "duration": 33,
        "start_time": "2025-08-20T09:43:50.438Z"
      },
      {
        "duration": 5,
        "start_time": "2025-08-20T09:43:50.992Z"
      },
      {
        "duration": 55,
        "start_time": "2025-08-20T09:43:51.467Z"
      },
      {
        "duration": 145,
        "start_time": "2025-08-20T09:43:51.696Z"
      },
      {
        "duration": 17,
        "start_time": "2025-08-20T09:43:51.860Z"
      },
      {
        "duration": 40,
        "start_time": "2025-08-20T09:43:52.250Z"
      },
      {
        "duration": 39,
        "start_time": "2025-08-20T09:43:55.206Z"
      },
      {
        "duration": 79,
        "start_time": "2025-08-20T09:44:01.446Z"
      },
      {
        "duration": 672,
        "start_time": "2025-08-20T09:44:03.009Z"
      },
      {
        "duration": 619,
        "start_time": "2025-08-20T09:44:04.732Z"
      },
      {
        "duration": 158,
        "start_time": "2025-08-20T09:44:06.519Z"
      },
      {
        "duration": 3,
        "start_time": "2025-08-20T09:44:07.478Z"
      },
      {
        "duration": 2140,
        "start_time": "2025-08-20T09:44:58.474Z"
      },
      {
        "duration": 2023,
        "start_time": "2025-08-20T09:52:44.191Z"
      },
      {
        "duration": 902,
        "start_time": "2025-08-20T09:52:48.148Z"
      },
      {
        "duration": 139,
        "start_time": "2025-08-20T09:52:49.861Z"
      },
      {
        "duration": 89,
        "start_time": "2025-08-20T09:52:50.700Z"
      },
      {
        "duration": 305,
        "start_time": "2025-08-20T09:52:51.316Z"
      },
      {
        "duration": 337,
        "start_time": "2025-08-20T09:52:51.745Z"
      },
      {
        "duration": 1174,
        "start_time": "2025-08-20T09:52:52.318Z"
      },
      {
        "duration": 1767,
        "start_time": "2025-08-20T09:52:54.931Z"
      },
      {
        "duration": 152,
        "start_time": "2025-08-20T09:52:56.700Z"
      },
      {
        "duration": 625,
        "start_time": "2025-08-20T09:52:56.854Z"
      },
      {
        "duration": 542,
        "start_time": "2025-08-20T09:52:57.777Z"
      },
      {
        "duration": 1112,
        "start_time": "2025-08-20T09:52:58.321Z"
      },
      {
        "duration": 60,
        "start_time": "2025-08-20T09:53:01.110Z"
      },
      {
        "duration": 222,
        "start_time": "2025-08-20T09:58:11.043Z"
      },
      {
        "duration": 17,
        "start_time": "2025-08-20T09:58:12.607Z"
      },
      {
        "duration": 50,
        "start_time": "2025-08-20T09:58:20.297Z"
      },
      {
        "duration": 49,
        "start_time": "2025-08-20T09:58:23.372Z"
      },
      {
        "duration": 81,
        "start_time": "2025-08-20T09:58:24.271Z"
      },
      {
        "duration": 719,
        "start_time": "2025-08-20T09:58:27.854Z"
      },
      {
        "duration": 578,
        "start_time": "2025-08-20T09:58:31.923Z"
      },
      {
        "duration": 157,
        "start_time": "2025-08-20T09:58:37.265Z"
      },
      {
        "duration": 1480,
        "start_time": "2025-08-20T09:59:31.906Z"
      },
      {
        "duration": 78805,
        "start_time": "2025-08-20T09:59:36.898Z"
      },
      {
        "duration": 4,
        "start_time": "2025-08-20T10:05:21.228Z"
      },
      {
        "duration": 860,
        "start_time": "2025-08-20T10:05:23.852Z"
      },
      {
        "duration": 145,
        "start_time": "2025-08-20T10:05:26.523Z"
      },
      {
        "duration": 85,
        "start_time": "2025-08-20T10:05:26.701Z"
      },
      {
        "duration": 141,
        "start_time": "2025-08-20T10:05:26.875Z"
      },
      {
        "duration": 60,
        "start_time": "2025-08-20T10:05:27.054Z"
      },
      {
        "duration": 145,
        "start_time": "2025-08-20T10:05:27.253Z"
      },
      {
        "duration": 1838,
        "start_time": "2025-08-20T10:05:28.081Z"
      },
      {
        "duration": 169,
        "start_time": "2025-08-20T10:05:29.922Z"
      },
      {
        "duration": 16,
        "start_time": "2025-08-20T10:05:30.093Z"
      },
      {
        "duration": 56,
        "start_time": "2025-08-20T10:05:30.112Z"
      },
      {
        "duration": 120,
        "start_time": "2025-08-20T10:05:30.170Z"
      },
      {
        "duration": 169,
        "start_time": "2025-08-20T10:05:30.292Z"
      },
      {
        "duration": 250,
        "start_time": "2025-08-20T10:05:31.546Z"
      },
      {
        "duration": 16,
        "start_time": "2025-08-20T10:05:33.675Z"
      },
      {
        "duration": 41,
        "start_time": "2025-08-20T10:05:37.967Z"
      },
      {
        "duration": 39,
        "start_time": "2025-08-20T10:05:39.573Z"
      },
      {
        "duration": 77,
        "start_time": "2025-08-20T10:05:40.291Z"
      },
      {
        "duration": 724,
        "start_time": "2025-08-20T10:05:41.267Z"
      },
      {
        "duration": 602,
        "start_time": "2025-08-20T10:05:42.258Z"
      },
      {
        "duration": 159,
        "start_time": "2025-08-20T10:05:42.862Z"
      },
      {
        "duration": 2371,
        "start_time": "2025-08-20T10:06:09.166Z"
      },
      {
        "duration": 1561,
        "start_time": "2025-08-20T10:06:51.093Z"
      },
      {
        "duration": 959,
        "start_time": "2025-08-20T10:06:54.531Z"
      },
      {
        "duration": 146,
        "start_time": "2025-08-20T10:06:56.332Z"
      },
      {
        "duration": 89,
        "start_time": "2025-08-20T10:06:57.050Z"
      },
      {
        "duration": 137,
        "start_time": "2025-08-20T10:06:57.620Z"
      },
      {
        "duration": 62,
        "start_time": "2025-08-20T10:06:58.537Z"
      },
      {
        "duration": 137,
        "start_time": "2025-08-20T10:07:01.777Z"
      },
      {
        "duration": 1813,
        "start_time": "2025-08-20T10:07:08.483Z"
      },
      {
        "duration": 156,
        "start_time": "2025-08-20T10:07:11.301Z"
      },
      {
        "duration": 17,
        "start_time": "2025-08-20T10:07:12.364Z"
      },
      {
        "duration": 53,
        "start_time": "2025-08-20T10:07:15.303Z"
      },
      {
        "duration": 9,
        "start_time": "2025-08-20T10:07:16.087Z"
      },
      {
        "duration": 60,
        "start_time": "2025-08-20T10:07:20.482Z"
      },
      {
        "duration": 227,
        "start_time": "2025-08-20T10:07:21.470Z"
      },
      {
        "duration": 17,
        "start_time": "2025-08-20T10:07:22.565Z"
      },
      {
        "duration": 56,
        "start_time": "2025-08-20T10:07:27.653Z"
      },
      {
        "duration": 54,
        "start_time": "2025-08-20T10:07:28.776Z"
      },
      {
        "duration": 80,
        "start_time": "2025-08-20T10:07:29.272Z"
      },
      {
        "duration": 768,
        "start_time": "2025-08-20T10:07:29.736Z"
      },
      {
        "duration": 629,
        "start_time": "2025-08-20T10:07:30.506Z"
      },
      {
        "duration": 154,
        "start_time": "2025-08-20T10:07:32.451Z"
      },
      {
        "duration": 2350,
        "start_time": "2025-08-20T10:07:34.420Z"
      },
      {
        "duration": 1479,
        "start_time": "2025-08-20T10:15:56.931Z"
      },
      {
        "duration": 936,
        "start_time": "2025-08-20T10:16:04.320Z"
      },
      {
        "duration": 154,
        "start_time": "2025-08-20T10:16:07.658Z"
      },
      {
        "duration": 91,
        "start_time": "2025-08-20T10:16:09.127Z"
      },
      {
        "duration": 138,
        "start_time": "2025-08-20T10:16:12.143Z"
      },
      {
        "duration": 60,
        "start_time": "2025-08-20T10:16:25.207Z"
      },
      {
        "duration": 149,
        "start_time": "2025-08-20T10:16:26.195Z"
      },
      {
        "duration": 1763,
        "start_time": "2025-08-20T10:16:30.142Z"
      },
      {
        "duration": 156,
        "start_time": "2025-08-20T10:16:32.845Z"
      },
      {
        "duration": 16,
        "start_time": "2025-08-20T10:16:36.757Z"
      },
      {
        "duration": 46,
        "start_time": "2025-08-20T10:16:39.260Z"
      },
      {
        "duration": 7,
        "start_time": "2025-08-20T10:16:40.013Z"
      },
      {
        "duration": 57,
        "start_time": "2025-08-20T10:16:41.149Z"
      },
      {
        "duration": 211,
        "start_time": "2025-08-20T10:16:42.382Z"
      },
      {
        "duration": 17,
        "start_time": "2025-08-20T10:16:43.958Z"
      },
      {
        "duration": 54,
        "start_time": "2025-08-20T10:16:45.459Z"
      },
      {
        "duration": 51,
        "start_time": "2025-08-20T10:16:52.944Z"
      },
      {
        "duration": 76,
        "start_time": "2025-08-20T10:16:53.765Z"
      },
      {
        "duration": 25,
        "start_time": "2025-08-20T10:16:59.096Z"
      },
      {
        "duration": 633,
        "start_time": "2025-08-20T10:17:00.597Z"
      },
      {
        "duration": 462,
        "start_time": "2025-08-20T10:17:02.288Z"
      },
      {
        "duration": 153,
        "start_time": "2025-08-20T10:17:06.099Z"
      },
      {
        "duration": 77536,
        "start_time": "2025-08-20T10:17:08.664Z"
      },
      {
        "duration": 129,
        "start_time": "2025-08-20T10:25:07.325Z"
      },
      {
        "duration": 9,
        "start_time": "2025-08-20T10:26:42.653Z"
      },
      {
        "duration": 10,
        "start_time": "2025-08-20T10:31:32.737Z"
      },
      {
        "duration": 1906,
        "start_time": "2025-08-20T22:11:51.476Z"
      },
      {
        "duration": 1179,
        "start_time": "2025-08-20T22:11:56.536Z"
      },
      {
        "duration": 173,
        "start_time": "2025-08-20T22:12:02.699Z"
      },
      {
        "duration": 115,
        "start_time": "2025-08-20T22:12:05.805Z"
      },
      {
        "duration": 150,
        "start_time": "2025-08-20T22:12:06.313Z"
      },
      {
        "duration": 70,
        "start_time": "2025-08-20T22:12:06.764Z"
      },
      {
        "duration": 145,
        "start_time": "2025-08-20T22:12:07.000Z"
      },
      {
        "duration": 2020,
        "start_time": "2025-08-20T22:12:07.425Z"
      },
      {
        "duration": 192,
        "start_time": "2025-08-20T22:12:09.447Z"
      },
      {
        "duration": 28,
        "start_time": "2025-08-20T22:12:09.641Z"
      },
      {
        "duration": 56,
        "start_time": "2025-08-20T22:12:11.623Z"
      },
      {
        "duration": 8,
        "start_time": "2025-08-20T22:12:12.088Z"
      },
      {
        "duration": 74,
        "start_time": "2025-08-20T22:12:12.598Z"
      },
      {
        "duration": 256,
        "start_time": "2025-08-20T22:12:12.821Z"
      },
      {
        "duration": 21,
        "start_time": "2025-08-20T22:12:13.081Z"
      },
      {
        "duration": 59,
        "start_time": "2025-08-20T22:12:13.948Z"
      },
      {
        "duration": 59,
        "start_time": "2025-08-20T22:12:14.396Z"
      },
      {
        "duration": 98,
        "start_time": "2025-08-20T22:12:14.637Z"
      },
      {
        "duration": 26,
        "start_time": "2025-08-20T22:12:15.117Z"
      },
      {
        "duration": 1143,
        "start_time": "2025-08-20T22:12:15.971Z"
      },
      {
        "duration": 514,
        "start_time": "2025-08-20T22:12:17.117Z"
      },
      {
        "duration": 179,
        "start_time": "2025-08-20T22:12:18.750Z"
      },
      {
        "duration": 92910,
        "start_time": "2025-08-20T22:12:19.755Z"
      },
      {
        "duration": 165,
        "start_time": "2025-08-20T22:13:52.668Z"
      },
      {
        "duration": 1648,
        "start_time": "2025-09-04T00:33:49.523Z"
      },
      {
        "duration": 1247,
        "start_time": "2025-09-04T00:33:52.046Z"
      },
      {
        "duration": 163,
        "start_time": "2025-09-04T00:33:53.384Z"
      },
      {
        "duration": 1790,
        "start_time": "2025-09-04T09:33:14.084Z"
      },
      {
        "duration": 900,
        "start_time": "2025-09-04T09:33:15.877Z"
      },
      {
        "duration": 164,
        "start_time": "2025-09-04T09:33:16.779Z"
      },
      {
        "duration": 110,
        "start_time": "2025-09-04T09:33:16.945Z"
      },
      {
        "duration": 142,
        "start_time": "2025-09-04T09:33:17.057Z"
      },
      {
        "duration": 59,
        "start_time": "2025-09-04T09:33:17.990Z"
      },
      {
        "duration": 134,
        "start_time": "2025-09-04T09:33:19.842Z"
      },
      {
        "duration": 1805,
        "start_time": "2025-09-04T09:33:22.735Z"
      },
      {
        "duration": 151,
        "start_time": "2025-09-04T09:33:25.318Z"
      },
      {
        "duration": 16,
        "start_time": "2025-09-04T09:33:28.024Z"
      },
      {
        "duration": 39,
        "start_time": "2025-09-04T09:33:32.733Z"
      },
      {
        "duration": 5,
        "start_time": "2025-09-04T09:33:35.850Z"
      },
      {
        "duration": 45,
        "start_time": "2025-09-04T09:37:27.342Z"
      },
      {
        "duration": 239,
        "start_time": "2025-09-04T09:38:03.218Z"
      },
      {
        "duration": 14,
        "start_time": "2025-09-04T09:38:08.003Z"
      },
      {
        "duration": 1461,
        "start_time": "2025-09-04T09:43:24.119Z"
      },
      {
        "duration": 886,
        "start_time": "2025-09-04T09:43:25.847Z"
      },
      {
        "duration": 152,
        "start_time": "2025-09-04T09:43:27.511Z"
      },
      {
        "duration": 96,
        "start_time": "2025-09-04T09:43:29.240Z"
      },
      {
        "duration": 145,
        "start_time": "2025-09-04T09:43:31.229Z"
      },
      {
        "duration": 141,
        "start_time": "2025-09-04T09:43:35.509Z"
      },
      {
        "duration": 151,
        "start_time": "2025-09-04T09:43:37.616Z"
      },
      {
        "duration": 1904,
        "start_time": "2025-09-04T09:44:08.699Z"
      },
      {
        "duration": 177,
        "start_time": "2025-09-04T09:44:13.977Z"
      },
      {
        "duration": 17,
        "start_time": "2025-09-04T09:44:16.286Z"
      },
      {
        "duration": 149,
        "start_time": "2025-09-04T09:44:39.410Z"
      },
      {
        "duration": 5,
        "start_time": "2025-09-04T09:44:41.414Z"
      },
      {
        "duration": 46,
        "start_time": "2025-09-04T09:44:55.696Z"
      },
      {
        "duration": 251,
        "start_time": "2025-09-04T09:45:01.704Z"
      },
      {
        "duration": 15,
        "start_time": "2025-09-04T09:45:03.425Z"
      },
      {
        "duration": 32,
        "start_time": "2025-09-04T09:45:08.681Z"
      },
      {
        "duration": 32,
        "start_time": "2025-09-04T09:45:12.383Z"
      },
      {
        "duration": 64,
        "start_time": "2025-09-04T09:45:14.374Z"
      },
      {
        "duration": 3,
        "start_time": "2025-09-04T09:59:10.480Z"
      },
      {
        "duration": 844,
        "start_time": "2025-09-04T09:59:11.008Z"
      },
      {
        "duration": 148,
        "start_time": "2025-09-04T09:59:11.854Z"
      },
      {
        "duration": 89,
        "start_time": "2025-09-04T09:59:12.381Z"
      },
      {
        "duration": 143,
        "start_time": "2025-09-04T09:59:12.920Z"
      },
      {
        "duration": 139,
        "start_time": "2025-09-04T09:59:13.164Z"
      },
      {
        "duration": 172,
        "start_time": "2025-09-04T09:59:13.900Z"
      },
      {
        "duration": 1868,
        "start_time": "2025-09-04T09:59:14.558Z"
      },
      {
        "duration": 162,
        "start_time": "2025-09-04T09:59:16.428Z"
      },
      {
        "duration": 16,
        "start_time": "2025-09-04T09:59:16.592Z"
      },
      {
        "duration": 93,
        "start_time": "2025-09-04T09:59:16.610Z"
      },
      {
        "duration": 4,
        "start_time": "2025-09-04T09:59:18.364Z"
      },
      {
        "duration": 34,
        "start_time": "2025-09-04T09:59:19.801Z"
      },
      {
        "duration": 161,
        "start_time": "2025-09-04T09:59:20.722Z"
      },
      {
        "duration": 14,
        "start_time": "2025-09-04T09:59:20.972Z"
      },
      {
        "duration": 34,
        "start_time": "2025-09-04T09:59:21.489Z"
      },
      {
        "duration": 66,
        "start_time": "2025-09-04T09:59:22.311Z"
      },
      {
        "duration": 19,
        "start_time": "2025-09-04T10:03:11.799Z"
      },
      {
        "duration": 119,
        "start_time": "2025-09-04T10:03:15.101Z"
      },
      {
        "duration": 18,
        "start_time": "2025-09-04T10:05:22.455Z"
      },
      {
        "duration": 1510,
        "start_time": "2025-09-04T10:05:40.496Z"
      },
      {
        "duration": 902,
        "start_time": "2025-09-04T10:05:42.008Z"
      },
      {
        "duration": 164,
        "start_time": "2025-09-04T10:05:42.912Z"
      },
      {
        "duration": 103,
        "start_time": "2025-09-04T10:05:44.670Z"
      },
      {
        "duration": 143,
        "start_time": "2025-09-04T10:05:46.334Z"
      },
      {
        "duration": 140,
        "start_time": "2025-09-04T10:05:46.631Z"
      },
      {
        "duration": 152,
        "start_time": "2025-09-04T10:05:47.826Z"
      },
      {
        "duration": 1806,
        "start_time": "2025-09-04T10:05:49.020Z"
      },
      {
        "duration": 162,
        "start_time": "2025-09-04T10:05:50.828Z"
      },
      {
        "duration": 16,
        "start_time": "2025-09-04T10:05:52.667Z"
      },
      {
        "duration": 149,
        "start_time": "2025-09-04T10:05:53.028Z"
      },
      {
        "duration": 5,
        "start_time": "2025-09-04T10:05:54.381Z"
      },
      {
        "duration": 47,
        "start_time": "2025-09-04T10:05:54.824Z"
      },
      {
        "duration": 230,
        "start_time": "2025-09-04T10:05:55.881Z"
      },
      {
        "duration": 14,
        "start_time": "2025-09-04T10:05:56.171Z"
      },
      {
        "duration": 34,
        "start_time": "2025-09-04T10:05:56.868Z"
      },
      {
        "duration": 66,
        "start_time": "2025-09-04T10:05:58.675Z"
      },
      {
        "duration": 20,
        "start_time": "2025-09-04T10:06:01.046Z"
      },
      {
        "duration": 429,
        "start_time": "2025-09-04T10:06:04.411Z"
      },
      {
        "duration": 3724,
        "start_time": "2025-09-04T10:06:31.384Z"
      },
      {
        "duration": 257,
        "start_time": "2025-09-04T10:08:17.140Z"
      },
      {
        "duration": 102,
        "start_time": "2025-09-04T10:08:55.950Z"
      },
      {
        "duration": 4,
        "start_time": "2025-09-04T10:38:30.266Z"
      },
      {
        "duration": 905,
        "start_time": "2025-09-04T10:38:31.216Z"
      },
      {
        "duration": 165,
        "start_time": "2025-09-04T10:38:32.123Z"
      },
      {
        "duration": 89,
        "start_time": "2025-09-04T10:38:32.616Z"
      },
      {
        "duration": 142,
        "start_time": "2025-09-04T10:38:33.064Z"
      },
      {
        "duration": 142,
        "start_time": "2025-09-04T10:38:33.301Z"
      },
      {
        "duration": 158,
        "start_time": "2025-09-04T10:38:34.016Z"
      },
      {
        "duration": 1794,
        "start_time": "2025-09-04T10:38:35.308Z"
      },
      {
        "duration": 160,
        "start_time": "2025-09-04T10:38:37.104Z"
      },
      {
        "duration": 15,
        "start_time": "2025-09-04T10:38:37.936Z"
      },
      {
        "duration": 85,
        "start_time": "2025-09-04T10:38:38.439Z"
      },
      {
        "duration": 5,
        "start_time": "2025-09-04T10:38:39.447Z"
      },
      {
        "duration": 36,
        "start_time": "2025-09-04T10:38:39.971Z"
      },
      {
        "duration": 161,
        "start_time": "2025-09-04T10:38:40.849Z"
      },
      {
        "duration": 15,
        "start_time": "2025-09-04T10:38:41.135Z"
      },
      {
        "duration": 34,
        "start_time": "2025-09-04T10:38:42.099Z"
      },
      {
        "duration": 63,
        "start_time": "2025-09-04T10:38:43.352Z"
      },
      {
        "duration": 21,
        "start_time": "2025-09-04T10:38:46.710Z"
      },
      {
        "duration": 438,
        "start_time": "2025-09-04T10:38:47.918Z"
      },
      {
        "duration": 3688,
        "start_time": "2025-09-04T10:38:48.358Z"
      },
      {
        "duration": 281,
        "start_time": "2025-09-04T10:38:53.867Z"
      },
      {
        "duration": 101,
        "start_time": "2025-09-04T10:38:56.338Z"
      },
      {
        "duration": 15644,
        "start_time": "2025-09-04T10:38:57.910Z"
      },
      {
        "duration": 1473,
        "start_time": "2025-09-04T10:41:49.932Z"
      },
      {
        "duration": 906,
        "start_time": "2025-09-04T10:41:51.407Z"
      },
      {
        "duration": 163,
        "start_time": "2025-09-04T10:41:52.315Z"
      },
      {
        "duration": 98,
        "start_time": "2025-09-04T10:41:53.595Z"
      },
      {
        "duration": 143,
        "start_time": "2025-09-04T10:41:54.834Z"
      },
      {
        "duration": 139,
        "start_time": "2025-09-04T10:41:55.258Z"
      },
      {
        "duration": 143,
        "start_time": "2025-09-04T10:41:56.432Z"
      },
      {
        "duration": 1857,
        "start_time": "2025-09-04T10:41:57.154Z"
      },
      {
        "duration": 162,
        "start_time": "2025-09-04T10:41:59.013Z"
      },
      {
        "duration": 20,
        "start_time": "2025-09-04T10:41:59.176Z"
      },
      {
        "duration": 153,
        "start_time": "2025-09-04T10:41:59.872Z"
      },
      {
        "duration": 6,
        "start_time": "2025-09-04T10:42:02.504Z"
      },
      {
        "duration": 48,
        "start_time": "2025-09-04T10:42:03.538Z"
      },
      {
        "duration": 233,
        "start_time": "2025-09-04T10:42:04.919Z"
      },
      {
        "duration": 15,
        "start_time": "2025-09-04T10:42:05.519Z"
      },
      {
        "duration": 35,
        "start_time": "2025-09-04T10:42:06.801Z"
      },
      {
        "duration": 66,
        "start_time": "2025-09-04T10:42:08.865Z"
      },
      {
        "duration": 18,
        "start_time": "2025-09-04T10:42:12.039Z"
      },
      {
        "duration": 466,
        "start_time": "2025-09-04T10:42:15.913Z"
      },
      {
        "duration": 3886,
        "start_time": "2025-09-04T10:42:17.847Z"
      },
      {
        "duration": 273,
        "start_time": "2025-09-04T10:42:23.947Z"
      },
      {
        "duration": 182,
        "start_time": "2025-09-04T10:42:25.605Z"
      },
      {
        "duration": 109,
        "start_time": "2025-09-04T10:42:30.916Z"
      },
      {
        "duration": 17998,
        "start_time": "2025-09-04T10:42:32.739Z"
      },
      {
        "duration": 15214,
        "start_time": "2025-09-04T10:43:13.878Z"
      },
      {
        "duration": 0,
        "start_time": "2025-09-04T10:43:29.093Z"
      },
      {
        "duration": 50163,
        "start_time": "2025-09-04T10:43:33.425Z"
      },
      {
        "duration": 10,
        "start_time": "2025-09-04T11:03:22.814Z"
      },
      {
        "duration": 3,
        "start_time": "2025-09-04T11:04:21.571Z"
      },
      {
        "duration": 4,
        "start_time": "2025-09-04T11:04:35.416Z"
      },
      {
        "duration": 869,
        "start_time": "2025-09-04T11:04:36.267Z"
      },
      {
        "duration": 153,
        "start_time": "2025-09-04T11:04:37.138Z"
      },
      {
        "duration": 87,
        "start_time": "2025-09-04T11:04:37.318Z"
      },
      {
        "duration": 137,
        "start_time": "2025-09-04T11:04:38.125Z"
      },
      {
        "duration": 135,
        "start_time": "2025-09-04T11:04:38.291Z"
      },
      {
        "duration": 140,
        "start_time": "2025-09-04T11:04:38.860Z"
      },
      {
        "duration": 1782,
        "start_time": "2025-09-04T11:04:39.422Z"
      },
      {
        "duration": 160,
        "start_time": "2025-09-04T11:04:41.205Z"
      },
      {
        "duration": 24,
        "start_time": "2025-09-04T11:04:41.367Z"
      },
      {
        "duration": 78,
        "start_time": "2025-09-04T11:04:41.393Z"
      },
      {
        "duration": 14,
        "start_time": "2025-09-04T11:04:41.473Z"
      },
      {
        "duration": 34,
        "start_time": "2025-09-04T11:04:41.942Z"
      },
      {
        "duration": 168,
        "start_time": "2025-09-04T11:04:42.539Z"
      },
      {
        "duration": 15,
        "start_time": "2025-09-04T11:04:42.726Z"
      },
      {
        "duration": 33,
        "start_time": "2025-09-04T11:04:43.175Z"
      },
      {
        "duration": 76,
        "start_time": "2025-09-04T11:04:43.682Z"
      },
      {
        "duration": 19,
        "start_time": "2025-09-04T11:04:45.676Z"
      },
      {
        "duration": 505,
        "start_time": "2025-09-04T11:04:46.375Z"
      },
      {
        "duration": 3517,
        "start_time": "2025-09-04T11:04:49.324Z"
      },
      {
        "duration": 256,
        "start_time": "2025-09-04T11:05:00.302Z"
      },
      {
        "duration": 3,
        "start_time": "2025-09-04T11:05:02.717Z"
      },
      {
        "duration": 103,
        "start_time": "2025-09-04T11:07:12.619Z"
      },
      {
        "duration": 1519,
        "start_time": "2025-09-04T11:08:36.713Z"
      },
      {
        "duration": 904,
        "start_time": "2025-09-04T11:08:38.234Z"
      },
      {
        "duration": 161,
        "start_time": "2025-09-04T11:08:39.139Z"
      },
      {
        "duration": 98,
        "start_time": "2025-09-04T11:08:39.302Z"
      },
      {
        "duration": 156,
        "start_time": "2025-09-04T11:08:40.065Z"
      },
      {
        "duration": 136,
        "start_time": "2025-09-04T11:08:40.332Z"
      },
      {
        "duration": 146,
        "start_time": "2025-09-04T11:08:41.010Z"
      },
      {
        "duration": 1815,
        "start_time": "2025-09-04T11:08:41.803Z"
      },
      {
        "duration": 174,
        "start_time": "2025-09-04T11:08:43.621Z"
      },
      {
        "duration": 17,
        "start_time": "2025-09-04T11:08:43.796Z"
      },
      {
        "duration": 180,
        "start_time": "2025-09-04T11:08:43.815Z"
      },
      {
        "duration": 8,
        "start_time": "2025-09-04T11:08:43.998Z"
      },
      {
        "duration": 58,
        "start_time": "2025-09-04T11:08:44.027Z"
      },
      {
        "duration": 249,
        "start_time": "2025-09-04T11:08:44.929Z"
      },
      {
        "duration": 16,
        "start_time": "2025-09-04T11:08:45.231Z"
      },
      {
        "duration": 36,
        "start_time": "2025-09-04T11:08:45.663Z"
      },
      {
        "duration": 71,
        "start_time": "2025-09-04T11:08:46.108Z"
      },
      {
        "duration": 19,
        "start_time": "2025-09-04T11:08:47.998Z"
      },
      {
        "duration": 430,
        "start_time": "2025-09-04T11:08:50.275Z"
      },
      {
        "duration": 3684,
        "start_time": "2025-09-04T11:08:51.415Z"
      },
      {
        "duration": 257,
        "start_time": "2025-09-04T11:08:56.830Z"
      },
      {
        "duration": 105,
        "start_time": "2025-09-04T11:08:57.918Z"
      },
      {
        "duration": 1436,
        "start_time": "2025-09-04T11:17:34.754Z"
      },
      {
        "duration": 913,
        "start_time": "2025-09-04T11:17:36.192Z"
      },
      {
        "duration": 163,
        "start_time": "2025-09-04T11:17:37.107Z"
      },
      {
        "duration": 97,
        "start_time": "2025-09-04T11:17:37.397Z"
      },
      {
        "duration": 137,
        "start_time": "2025-09-04T11:17:38.289Z"
      },
      {
        "duration": 138,
        "start_time": "2025-09-04T11:17:38.522Z"
      },
      {
        "duration": 144,
        "start_time": "2025-09-04T11:17:39.489Z"
      },
      {
        "duration": 1860,
        "start_time": "2025-09-04T11:17:40.250Z"
      },
      {
        "duration": 158,
        "start_time": "2025-09-04T11:17:42.111Z"
      },
      {
        "duration": 19,
        "start_time": "2025-09-04T11:17:42.271Z"
      },
      {
        "duration": 159,
        "start_time": "2025-09-04T11:17:42.292Z"
      },
      {
        "duration": 6,
        "start_time": "2025-09-04T11:17:42.850Z"
      },
      {
        "duration": 47,
        "start_time": "2025-09-04T11:17:43.347Z"
      },
      {
        "duration": 243,
        "start_time": "2025-09-04T11:17:44.365Z"
      },
      {
        "duration": 17,
        "start_time": "2025-09-04T11:17:44.627Z"
      },
      {
        "duration": 40,
        "start_time": "2025-09-04T11:17:45.135Z"
      },
      {
        "duration": 70,
        "start_time": "2025-09-04T11:17:45.614Z"
      },
      {
        "duration": 21,
        "start_time": "2025-09-04T11:17:47.857Z"
      },
      {
        "duration": 503,
        "start_time": "2025-09-04T11:17:48.665Z"
      },
      {
        "duration": 3788,
        "start_time": "2025-09-04T11:17:49.170Z"
      },
      {
        "duration": 262,
        "start_time": "2025-09-04T11:17:55.538Z"
      },
      {
        "duration": 103,
        "start_time": "2025-09-04T11:17:57.053Z"
      },
      {
        "duration": 1453,
        "start_time": "2025-09-04T11:33:53.439Z"
      },
      {
        "duration": 883,
        "start_time": "2025-09-04T11:33:54.895Z"
      },
      {
        "duration": 158,
        "start_time": "2025-09-04T11:33:55.780Z"
      },
      {
        "duration": 99,
        "start_time": "2025-09-04T11:33:55.940Z"
      },
      {
        "duration": 142,
        "start_time": "2025-09-04T11:33:56.040Z"
      },
      {
        "duration": 143,
        "start_time": "2025-09-04T11:33:56.187Z"
      },
      {
        "duration": 144,
        "start_time": "2025-09-04T11:33:56.333Z"
      },
      {
        "duration": 1778,
        "start_time": "2025-09-04T11:33:56.787Z"
      },
      {
        "duration": 177,
        "start_time": "2025-09-04T11:33:58.567Z"
      },
      {
        "duration": 18,
        "start_time": "2025-09-04T11:33:58.746Z"
      },
      {
        "duration": 164,
        "start_time": "2025-09-04T11:34:01.379Z"
      },
      {
        "duration": 6,
        "start_time": "2025-09-04T11:34:02.302Z"
      },
      {
        "duration": 50,
        "start_time": "2025-09-04T11:34:02.876Z"
      },
      {
        "duration": 242,
        "start_time": "2025-09-04T11:34:04.313Z"
      },
      {
        "duration": 14,
        "start_time": "2025-09-04T11:34:04.585Z"
      },
      {
        "duration": 36,
        "start_time": "2025-09-04T11:34:05.300Z"
      },
      {
        "duration": 69,
        "start_time": "2025-09-04T11:34:05.813Z"
      },
      {
        "duration": 19,
        "start_time": "2025-09-04T11:34:09.863Z"
      },
      {
        "duration": 433,
        "start_time": "2025-09-04T11:34:47.909Z"
      },
      {
        "duration": 3635,
        "start_time": "2025-09-04T11:34:56.242Z"
      },
      {
        "duration": 263,
        "start_time": "2025-09-04T11:35:16.073Z"
      },
      {
        "duration": 252,
        "start_time": "2025-09-04T11:35:21.763Z"
      },
      {
        "duration": 108,
        "start_time": "2025-09-04T11:37:38.424Z"
      },
      {
        "duration": 2,
        "start_time": "2025-09-04T11:38:10.237Z"
      },
      {
        "duration": 3,
        "start_time": "2025-09-04T11:38:20.237Z"
      },
      {
        "duration": 75485,
        "start_time": "2025-09-04T11:39:00.109Z"
      },
      {
        "duration": 1485,
        "start_time": "2025-09-04T11:55:37.707Z"
      },
      {
        "duration": 910,
        "start_time": "2025-09-04T11:55:39.194Z"
      },
      {
        "duration": 159,
        "start_time": "2025-09-04T11:55:40.106Z"
      },
      {
        "duration": 94,
        "start_time": "2025-09-04T11:55:41.325Z"
      },
      {
        "duration": 134,
        "start_time": "2025-09-04T11:55:41.838Z"
      },
      {
        "duration": 138,
        "start_time": "2025-09-04T11:55:42.085Z"
      },
      {
        "duration": 140,
        "start_time": "2025-09-04T11:55:42.828Z"
      },
      {
        "duration": 1817,
        "start_time": "2025-09-04T11:55:43.814Z"
      },
      {
        "duration": 166,
        "start_time": "2025-09-04T11:55:45.632Z"
      },
      {
        "duration": 16,
        "start_time": "2025-09-04T11:55:45.799Z"
      },
      {
        "duration": 175,
        "start_time": "2025-09-04T11:55:45.817Z"
      },
      {
        "duration": 5,
        "start_time": "2025-09-04T11:55:46.654Z"
      },
      {
        "duration": 54,
        "start_time": "2025-09-04T11:55:47.274Z"
      },
      {
        "duration": 244,
        "start_time": "2025-09-04T11:55:48.104Z"
      },
      {
        "duration": 15,
        "start_time": "2025-09-04T11:55:48.846Z"
      },
      {
        "duration": 38,
        "start_time": "2025-09-04T11:55:49.847Z"
      },
      {
        "duration": 74,
        "start_time": "2025-09-04T11:55:50.934Z"
      },
      {
        "duration": 20,
        "start_time": "2025-09-04T11:55:55.188Z"
      },
      {
        "duration": 475,
        "start_time": "2025-09-04T11:55:56.997Z"
      },
      {
        "duration": 3856,
        "start_time": "2025-09-04T11:56:03.580Z"
      },
      {
        "duration": 273,
        "start_time": "2025-09-04T11:56:07.438Z"
      },
      {
        "duration": 120,
        "start_time": "2025-09-04T11:56:07.713Z"
      },
      {
        "duration": 3,
        "start_time": "2025-09-04T11:56:07.835Z"
      },
      {
        "duration": 1472,
        "start_time": "2025-09-04T11:56:52.426Z"
      },
      {
        "duration": 953,
        "start_time": "2025-09-04T11:56:53.900Z"
      },
      {
        "duration": 152,
        "start_time": "2025-09-04T11:56:54.854Z"
      },
      {
        "duration": 94,
        "start_time": "2025-09-04T11:56:55.439Z"
      },
      {
        "duration": 141,
        "start_time": "2025-09-04T11:56:56.431Z"
      },
      {
        "duration": 142,
        "start_time": "2025-09-04T11:56:57.291Z"
      },
      {
        "duration": 142,
        "start_time": "2025-09-04T11:56:58.902Z"
      },
      {
        "duration": 1870,
        "start_time": "2025-09-04T11:57:00.599Z"
      },
      {
        "duration": 155,
        "start_time": "2025-09-04T11:57:03.101Z"
      },
      {
        "duration": 18,
        "start_time": "2025-09-04T11:57:03.653Z"
      },
      {
        "duration": 155,
        "start_time": "2025-09-04T11:57:04.333Z"
      },
      {
        "duration": 5,
        "start_time": "2025-09-04T11:57:05.587Z"
      },
      {
        "duration": 52,
        "start_time": "2025-09-04T11:57:06.229Z"
      },
      {
        "duration": 242,
        "start_time": "2025-09-04T11:57:07.238Z"
      },
      {
        "duration": 18,
        "start_time": "2025-09-04T11:57:07.482Z"
      },
      {
        "duration": 37,
        "start_time": "2025-09-04T11:57:08.337Z"
      },
      {
        "duration": 68,
        "start_time": "2025-09-04T11:57:09.846Z"
      },
      {
        "duration": 20,
        "start_time": "2025-09-04T11:57:17.941Z"
      },
      {
        "duration": 523,
        "start_time": "2025-09-04T11:58:17.061Z"
      },
      {
        "duration": 3806,
        "start_time": "2025-09-04T11:59:20.724Z"
      },
      {
        "duration": 281,
        "start_time": "2025-09-04T11:59:58.855Z"
      },
      {
        "duration": 115,
        "start_time": "2025-09-04T12:00:09.603Z"
      },
      {
        "duration": 94776,
        "start_time": "2025-09-04T12:00:22.013Z"
      },
      {
        "duration": 538914,
        "start_time": "2025-09-04T12:06:54.236Z"
      },
      {
        "duration": 32598,
        "start_time": "2025-09-04T12:18:30.941Z"
      },
      {
        "duration": 36954,
        "start_time": "2025-09-04T12:22:44.943Z"
      },
      {
        "duration": 8,
        "start_time": "2025-09-04T12:23:58.333Z"
      },
      {
        "duration": 40,
        "start_time": "2025-09-04T12:24:15.392Z"
      },
      {
        "duration": 3,
        "start_time": "2025-09-04T12:30:37.668Z"
      },
      {
        "duration": 7,
        "start_time": "2025-09-04T12:30:49.147Z"
      },
      {
        "duration": 33,
        "start_time": "2025-09-04T12:31:35.254Z"
      },
      {
        "duration": 6,
        "start_time": "2025-09-04T12:31:38.633Z"
      },
      {
        "duration": 5,
        "start_time": "2025-09-04T12:38:37.203Z"
      },
      {
        "duration": 1523,
        "start_time": "2025-09-04T12:44:27.171Z"
      },
      {
        "duration": 873,
        "start_time": "2025-09-04T12:44:28.696Z"
      },
      {
        "duration": 166,
        "start_time": "2025-09-04T12:44:29.570Z"
      },
      {
        "duration": 103,
        "start_time": "2025-09-04T12:44:29.738Z"
      },
      {
        "duration": 141,
        "start_time": "2025-09-04T12:44:29.962Z"
      },
      {
        "duration": 138,
        "start_time": "2025-09-04T12:44:30.445Z"
      },
      {
        "duration": 146,
        "start_time": "2025-09-04T12:44:31.205Z"
      },
      {
        "duration": 1848,
        "start_time": "2025-09-04T12:44:32.126Z"
      },
      {
        "duration": 176,
        "start_time": "2025-09-04T12:44:33.975Z"
      },
      {
        "duration": 18,
        "start_time": "2025-09-04T12:44:34.155Z"
      },
      {
        "duration": 157,
        "start_time": "2025-09-04T12:44:34.175Z"
      },
      {
        "duration": 5,
        "start_time": "2025-09-04T12:44:34.978Z"
      },
      {
        "duration": 47,
        "start_time": "2025-09-04T12:44:35.598Z"
      },
      {
        "duration": 234,
        "start_time": "2025-09-04T12:44:36.686Z"
      },
      {
        "duration": 14,
        "start_time": "2025-09-04T12:44:36.967Z"
      },
      {
        "duration": 33,
        "start_time": "2025-09-04T12:44:37.560Z"
      },
      {
        "duration": 66,
        "start_time": "2025-09-04T12:44:38.049Z"
      },
      {
        "duration": 18,
        "start_time": "2025-09-04T12:44:40.804Z"
      },
      {
        "duration": 480,
        "start_time": "2025-09-04T12:44:43.588Z"
      },
      {
        "duration": 3617,
        "start_time": "2025-09-04T12:44:44.486Z"
      },
      {
        "duration": 260,
        "start_time": "2025-09-04T12:44:50.784Z"
      },
      {
        "duration": 111,
        "start_time": "2025-09-04T12:44:51.988Z"
      },
      {
        "duration": 77204,
        "start_time": "2025-09-04T12:44:53.689Z"
      },
      {
        "duration": 1730,
        "start_time": "2025-09-04T17:48:51.097Z"
      },
      {
        "duration": 935,
        "start_time": "2025-09-04T17:48:52.829Z"
      },
      {
        "duration": 162,
        "start_time": "2025-09-04T17:48:53.766Z"
      },
      {
        "duration": 140,
        "start_time": "2025-09-04T17:48:54.868Z"
      },
      {
        "duration": 140,
        "start_time": "2025-09-04T17:48:55.396Z"
      },
      {
        "duration": 146,
        "start_time": "2025-09-04T17:48:55.843Z"
      },
      {
        "duration": 142,
        "start_time": "2025-09-04T17:48:56.902Z"
      },
      {
        "duration": 1840,
        "start_time": "2025-09-04T17:48:57.631Z"
      },
      {
        "duration": 162,
        "start_time": "2025-09-04T17:48:59.473Z"
      },
      {
        "duration": 16,
        "start_time": "2025-09-04T17:48:59.636Z"
      },
      {
        "duration": 151,
        "start_time": "2025-09-04T17:48:59.716Z"
      },
      {
        "duration": 7,
        "start_time": "2025-09-04T17:49:01.392Z"
      },
      {
        "duration": 49,
        "start_time": "2025-09-04T17:49:01.910Z"
      },
      {
        "duration": 240,
        "start_time": "2025-09-04T17:49:02.977Z"
      },
      {
        "duration": 15,
        "start_time": "2025-09-04T17:49:03.302Z"
      },
      {
        "duration": 32,
        "start_time": "2025-09-04T17:49:04.394Z"
      },
      {
        "duration": 67,
        "start_time": "2025-09-04T17:49:05.438Z"
      },
      {
        "duration": 18,
        "start_time": "2025-09-04T17:49:24.259Z"
      },
      {
        "duration": 485,
        "start_time": "2025-09-04T17:49:28.697Z"
      },
      {
        "duration": 3851,
        "start_time": "2025-09-04T17:49:29.714Z"
      },
      {
        "duration": 257,
        "start_time": "2025-09-04T17:49:47.420Z"
      },
      {
        "duration": 105,
        "start_time": "2025-09-04T17:49:57.879Z"
      },
      {
        "duration": 4,
        "start_time": "2025-09-04T18:30:17.141Z"
      },
      {
        "duration": 897,
        "start_time": "2025-09-04T18:30:18.319Z"
      },
      {
        "duration": 161,
        "start_time": "2025-09-04T18:30:19.217Z"
      },
      {
        "duration": 91,
        "start_time": "2025-09-04T18:30:19.667Z"
      },
      {
        "duration": 135,
        "start_time": "2025-09-04T18:30:21.087Z"
      },
      {
        "duration": 135,
        "start_time": "2025-09-04T18:30:22.007Z"
      },
      {
        "duration": 141,
        "start_time": "2025-09-04T18:30:23.118Z"
      },
      {
        "duration": 1815,
        "start_time": "2025-09-04T18:30:23.767Z"
      },
      {
        "duration": 164,
        "start_time": "2025-09-04T18:30:25.584Z"
      },
      {
        "duration": 22,
        "start_time": "2025-09-04T18:30:25.749Z"
      },
      {
        "duration": 87,
        "start_time": "2025-09-04T18:30:26.501Z"
      },
      {
        "duration": 5,
        "start_time": "2025-09-04T18:30:30.803Z"
      },
      {
        "duration": 49,
        "start_time": "2025-09-04T18:30:32.190Z"
      },
      {
        "duration": 163,
        "start_time": "2025-09-04T18:30:34.365Z"
      },
      {
        "duration": 15,
        "start_time": "2025-09-04T18:30:34.652Z"
      },
      {
        "duration": 37,
        "start_time": "2025-09-04T18:30:35.105Z"
      },
      {
        "duration": 68,
        "start_time": "2025-09-04T18:30:36.245Z"
      },
      {
        "duration": 20,
        "start_time": "2025-09-04T18:30:43.367Z"
      },
      {
        "duration": 480,
        "start_time": "2025-09-04T18:30:46.447Z"
      },
      {
        "duration": 3612,
        "start_time": "2025-09-04T18:30:47.566Z"
      },
      {
        "duration": 266,
        "start_time": "2025-09-04T18:30:51.180Z"
      },
      {
        "duration": 106,
        "start_time": "2025-09-04T18:30:54.132Z"
      },
      {
        "duration": 4,
        "start_time": "2025-09-04T18:38:28.324Z"
      },
      {
        "duration": 831,
        "start_time": "2025-09-04T18:38:29.387Z"
      },
      {
        "duration": 152,
        "start_time": "2025-09-04T18:38:30.220Z"
      },
      {
        "duration": 100,
        "start_time": "2025-09-04T18:38:31.337Z"
      },
      {
        "duration": 138,
        "start_time": "2025-09-04T18:38:32.552Z"
      },
      {
        "duration": 142,
        "start_time": "2025-09-04T18:38:32.747Z"
      },
      {
        "duration": 140,
        "start_time": "2025-09-04T18:38:33.418Z"
      },
      {
        "duration": 1838,
        "start_time": "2025-09-04T18:38:33.961Z"
      },
      {
        "duration": 254,
        "start_time": "2025-09-04T18:38:35.800Z"
      },
      {
        "duration": 25,
        "start_time": "2025-09-04T18:38:36.056Z"
      },
      {
        "duration": 131,
        "start_time": "2025-09-04T18:38:36.083Z"
      },
      {
        "duration": 6,
        "start_time": "2025-09-04T18:38:36.216Z"
      },
      {
        "duration": 37,
        "start_time": "2025-09-04T18:38:36.360Z"
      },
      {
        "duration": 158,
        "start_time": "2025-09-04T18:38:37.054Z"
      },
      {
        "duration": 14,
        "start_time": "2025-09-04T18:38:37.219Z"
      },
      {
        "duration": 35,
        "start_time": "2025-09-04T18:38:37.939Z"
      },
      {
        "duration": 67,
        "start_time": "2025-09-04T18:38:38.339Z"
      },
      {
        "duration": 20,
        "start_time": "2025-09-04T18:38:41.033Z"
      },
      {
        "duration": 462,
        "start_time": "2025-09-04T18:38:42.933Z"
      },
      {
        "duration": 3852,
        "start_time": "2025-09-04T18:38:44.102Z"
      },
      {
        "duration": 248,
        "start_time": "2025-09-04T18:38:51.317Z"
      },
      {
        "duration": 108,
        "start_time": "2025-09-04T18:38:56.647Z"
      },
      {
        "duration": 1501,
        "start_time": "2025-09-04T20:34:41.988Z"
      },
      {
        "duration": 990,
        "start_time": "2025-09-04T20:34:43.492Z"
      },
      {
        "duration": 154,
        "start_time": "2025-09-04T20:34:44.733Z"
      },
      {
        "duration": 101,
        "start_time": "2025-09-04T20:34:47.573Z"
      },
      {
        "duration": 147,
        "start_time": "2025-09-04T20:34:48.559Z"
      },
      {
        "duration": 135,
        "start_time": "2025-09-04T20:34:48.859Z"
      },
      {
        "duration": 148,
        "start_time": "2025-09-04T20:34:49.971Z"
      },
      {
        "duration": 1906,
        "start_time": "2025-09-04T20:34:50.938Z"
      },
      {
        "duration": 164,
        "start_time": "2025-09-04T20:34:52.846Z"
      },
      {
        "duration": 17,
        "start_time": "2025-09-04T20:34:53.723Z"
      },
      {
        "duration": 152,
        "start_time": "2025-09-04T20:34:54.050Z"
      },
      {
        "duration": 6,
        "start_time": "2025-09-04T20:35:00.669Z"
      },
      {
        "duration": 49,
        "start_time": "2025-09-04T20:35:01.335Z"
      },
      {
        "duration": 243,
        "start_time": "2025-09-04T20:35:02.608Z"
      },
      {
        "duration": 15,
        "start_time": "2025-09-04T20:35:02.866Z"
      },
      {
        "duration": 35,
        "start_time": "2025-09-04T20:35:03.664Z"
      },
      {
        "duration": 65,
        "start_time": "2025-09-04T20:35:04.495Z"
      },
      {
        "duration": 20,
        "start_time": "2025-09-04T20:35:12.293Z"
      },
      {
        "duration": 453,
        "start_time": "2025-09-04T20:35:14.174Z"
      },
      {
        "duration": 3855,
        "start_time": "2025-09-04T20:35:14.629Z"
      },
      {
        "duration": 286,
        "start_time": "2025-09-04T20:35:18.486Z"
      },
      {
        "duration": 113,
        "start_time": "2025-09-04T20:35:19.973Z"
      },
      {
        "duration": 80794,
        "start_time": "2025-09-04T20:35:25.281Z"
      },
      {
        "duration": 72126,
        "start_time": "2025-09-04T20:38:58.047Z"
      },
      {
        "duration": 1571,
        "start_time": "2025-09-04T21:18:54.913Z"
      },
      {
        "duration": 1124,
        "start_time": "2025-09-04T21:18:56.486Z"
      },
      {
        "duration": 168,
        "start_time": "2025-09-04T21:18:57.612Z"
      },
      {
        "duration": 97,
        "start_time": "2025-09-04T21:18:58.505Z"
      },
      {
        "duration": 175,
        "start_time": "2025-09-04T21:18:58.931Z"
      },
      {
        "duration": 162,
        "start_time": "2025-09-04T21:18:59.190Z"
      },
      {
        "duration": 168,
        "start_time": "2025-09-04T21:18:59.870Z"
      },
      {
        "duration": 2061,
        "start_time": "2025-09-04T21:19:00.551Z"
      },
      {
        "duration": 182,
        "start_time": "2025-09-04T21:19:02.614Z"
      },
      {
        "duration": 16,
        "start_time": "2025-09-04T21:19:02.798Z"
      },
      {
        "duration": 189,
        "start_time": "2025-09-04T21:19:02.816Z"
      },
      {
        "duration": 6,
        "start_time": "2025-09-04T21:19:04.908Z"
      },
      {
        "duration": 58,
        "start_time": "2025-09-04T21:19:05.483Z"
      },
      {
        "duration": 253,
        "start_time": "2025-09-04T21:19:06.505Z"
      },
      {
        "duration": 15,
        "start_time": "2025-09-04T21:19:06.790Z"
      },
      {
        "duration": 40,
        "start_time": "2025-09-04T21:19:07.593Z"
      },
      {
        "duration": 86,
        "start_time": "2025-09-04T21:19:08.166Z"
      },
      {
        "duration": 20,
        "start_time": "2025-09-04T21:19:11.487Z"
      },
      {
        "duration": 504,
        "start_time": "2025-09-04T21:19:12.725Z"
      },
      {
        "duration": 4356,
        "start_time": "2025-09-04T21:19:13.231Z"
      },
      {
        "duration": 302,
        "start_time": "2025-09-04T21:19:17.590Z"
      },
      {
        "duration": 136,
        "start_time": "2025-09-04T21:19:17.894Z"
      },
      {
        "duration": 174546,
        "start_time": "2025-09-04T21:19:18.032Z"
      },
      {
        "duration": 1767,
        "start_time": "2025-09-05T18:27:45.872Z"
      },
      {
        "duration": 913,
        "start_time": "2025-09-05T18:27:47.641Z"
      },
      {
        "duration": 153,
        "start_time": "2025-09-05T18:27:48.556Z"
      },
      {
        "duration": 149,
        "start_time": "2025-09-05T18:27:49.992Z"
      },
      {
        "duration": 166,
        "start_time": "2025-09-05T18:27:50.912Z"
      },
      {
        "duration": 141,
        "start_time": "2025-09-05T18:27:51.241Z"
      },
      {
        "duration": 165,
        "start_time": "2025-09-05T18:27:52.047Z"
      },
      {
        "duration": 1941,
        "start_time": "2025-09-05T18:27:53.058Z"
      },
      {
        "duration": 171,
        "start_time": "2025-09-05T18:27:55.002Z"
      },
      {
        "duration": 17,
        "start_time": "2025-09-05T18:27:55.175Z"
      },
      {
        "duration": 163,
        "start_time": "2025-09-05T18:27:55.194Z"
      },
      {
        "duration": 6,
        "start_time": "2025-09-05T18:27:55.566Z"
      },
      {
        "duration": 46,
        "start_time": "2025-09-05T18:27:56.273Z"
      },
      {
        "duration": 247,
        "start_time": "2025-09-05T18:27:57.426Z"
      },
      {
        "duration": 15,
        "start_time": "2025-09-05T18:27:57.697Z"
      },
      {
        "duration": 39,
        "start_time": "2025-09-05T18:27:58.273Z"
      },
      {
        "duration": 69,
        "start_time": "2025-09-05T18:27:58.852Z"
      },
      {
        "duration": 19,
        "start_time": "2025-09-05T18:28:01.217Z"
      },
      {
        "duration": 545,
        "start_time": "2025-09-05T18:28:02.321Z"
      },
      {
        "duration": 3683,
        "start_time": "2025-09-05T18:28:02.870Z"
      },
      {
        "duration": 270,
        "start_time": "2025-09-05T18:28:06.555Z"
      },
      {
        "duration": 121,
        "start_time": "2025-09-05T18:28:06.827Z"
      },
      {
        "duration": 113,
        "start_time": "2025-09-05T18:32:19.211Z"
      },
      {
        "duration": 16,
        "start_time": "2025-09-05T18:37:46.335Z"
      },
      {
        "duration": 3,
        "start_time": "2025-09-05T18:37:56.792Z"
      },
      {
        "duration": 901,
        "start_time": "2025-09-05T18:37:57.561Z"
      },
      {
        "duration": 141,
        "start_time": "2025-09-05T18:37:58.472Z"
      },
      {
        "duration": 89,
        "start_time": "2025-09-05T18:37:59.215Z"
      },
      {
        "duration": 142,
        "start_time": "2025-09-05T18:37:59.929Z"
      },
      {
        "duration": 144,
        "start_time": "2025-09-05T18:38:00.234Z"
      },
      {
        "duration": 158,
        "start_time": "2025-09-05T18:38:01.622Z"
      },
      {
        "duration": 1798,
        "start_time": "2025-09-05T18:38:02.407Z"
      },
      {
        "duration": 165,
        "start_time": "2025-09-05T18:38:04.208Z"
      },
      {
        "duration": 16,
        "start_time": "2025-09-05T18:38:04.375Z"
      },
      {
        "duration": 80,
        "start_time": "2025-09-05T18:38:04.764Z"
      },
      {
        "duration": 6,
        "start_time": "2025-09-05T18:38:05.671Z"
      },
      {
        "duration": 37,
        "start_time": "2025-09-05T18:38:06.292Z"
      },
      {
        "duration": 174,
        "start_time": "2025-09-05T18:38:07.343Z"
      },
      {
        "duration": 15,
        "start_time": "2025-09-05T18:38:07.556Z"
      },
      {
        "duration": 34,
        "start_time": "2025-09-05T18:38:07.992Z"
      },
      {
        "duration": 76,
        "start_time": "2025-09-05T18:38:08.635Z"
      },
      {
        "duration": 19,
        "start_time": "2025-09-05T18:38:10.524Z"
      },
      {
        "duration": 491,
        "start_time": "2025-09-05T18:38:11.680Z"
      },
      {
        "duration": 3608,
        "start_time": "2025-09-05T18:38:12.173Z"
      },
      {
        "duration": 264,
        "start_time": "2025-09-05T18:38:15.784Z"
      },
      {
        "duration": 129,
        "start_time": "2025-09-05T18:38:18.216Z"
      },
      {
        "duration": 75028,
        "start_time": "2025-09-05T18:38:19.648Z"
      },
      {
        "duration": 1563,
        "start_time": "2025-09-05T18:48:21.159Z"
      },
      {
        "duration": 963,
        "start_time": "2025-09-05T18:48:22.724Z"
      },
      {
        "duration": 158,
        "start_time": "2025-09-05T18:49:18.436Z"
      },
      {
        "duration": 100,
        "start_time": "2025-09-05T18:49:19.608Z"
      },
      {
        "duration": 147,
        "start_time": "2025-09-05T18:49:20.072Z"
      },
      {
        "duration": 150,
        "start_time": "2025-09-05T18:49:20.349Z"
      },
      {
        "duration": 156,
        "start_time": "2025-09-05T18:49:21.519Z"
      },
      {
        "duration": 1795,
        "start_time": "2025-09-05T18:49:22.279Z"
      },
      {
        "duration": 163,
        "start_time": "2025-09-05T18:49:24.076Z"
      },
      {
        "duration": 16,
        "start_time": "2025-09-05T18:49:24.241Z"
      },
      {
        "duration": 144,
        "start_time": "2025-09-05T18:49:24.270Z"
      },
      {
        "duration": 6,
        "start_time": "2025-09-05T18:49:24.912Z"
      },
      {
        "duration": 43,
        "start_time": "2025-09-05T18:49:25.403Z"
      },
      {
        "duration": 233,
        "start_time": "2025-09-05T18:49:26.552Z"
      },
      {
        "duration": 19,
        "start_time": "2025-09-05T18:49:26.815Z"
      },
      {
        "duration": 40,
        "start_time": "2025-09-05T18:49:27.342Z"
      },
      {
        "duration": 69,
        "start_time": "2025-09-05T18:49:27.896Z"
      },
      {
        "duration": 19,
        "start_time": "2025-09-05T18:49:33.204Z"
      },
      {
        "duration": 584,
        "start_time": "2025-09-05T18:49:36.677Z"
      },
      {
        "duration": 3602,
        "start_time": "2025-09-05T18:49:38.709Z"
      },
      {
        "duration": 271,
        "start_time": "2025-09-05T18:49:44.670Z"
      },
      {
        "duration": 119,
        "start_time": "2025-09-05T18:49:47.560Z"
      },
      {
        "duration": 86546,
        "start_time": "2025-09-05T18:49:49.127Z"
      },
      {
        "duration": 151143,
        "start_time": "2025-09-05T18:51:24.951Z"
      },
      {
        "duration": 51394,
        "start_time": "2025-09-05T18:55:57.693Z"
      },
      {
        "duration": 7,
        "start_time": "2025-09-05T18:57:59.184Z"
      },
      {
        "duration": 15,
        "start_time": "2025-09-05T18:58:01.175Z"
      },
      {
        "duration": 6,
        "start_time": "2025-09-05T18:58:02.355Z"
      },
      {
        "duration": 3,
        "start_time": "2025-09-05T19:44:26.526Z"
      },
      {
        "duration": 860,
        "start_time": "2025-09-05T19:44:27.112Z"
      },
      {
        "duration": 152,
        "start_time": "2025-09-05T19:44:27.974Z"
      },
      {
        "duration": 88,
        "start_time": "2025-09-05T19:44:28.369Z"
      },
      {
        "duration": 154,
        "start_time": "2025-09-05T19:44:28.823Z"
      },
      {
        "duration": 135,
        "start_time": "2025-09-05T19:44:29.054Z"
      },
      {
        "duration": 138,
        "start_time": "2025-09-05T19:44:29.724Z"
      },
      {
        "duration": 1820,
        "start_time": "2025-09-05T19:44:30.426Z"
      },
      {
        "duration": 168,
        "start_time": "2025-09-05T19:44:32.249Z"
      },
      {
        "duration": 16,
        "start_time": "2025-09-05T19:44:32.419Z"
      },
      {
        "duration": 124,
        "start_time": "2025-09-05T19:44:32.437Z"
      },
      {
        "duration": 5,
        "start_time": "2025-09-05T19:44:32.841Z"
      },
      {
        "duration": 39,
        "start_time": "2025-09-05T19:44:33.326Z"
      },
      {
        "duration": 158,
        "start_time": "2025-09-05T19:44:34.255Z"
      },
      {
        "duration": 15,
        "start_time": "2025-09-05T19:44:34.468Z"
      },
      {
        "duration": 35,
        "start_time": "2025-09-05T19:44:34.923Z"
      },
      {
        "duration": 69,
        "start_time": "2025-09-05T19:44:35.391Z"
      },
      {
        "duration": 20,
        "start_time": "2025-09-05T19:44:37.478Z"
      },
      {
        "duration": 508,
        "start_time": "2025-09-05T19:44:38.411Z"
      },
      {
        "duration": 3697,
        "start_time": "2025-09-05T19:44:38.921Z"
      },
      {
        "duration": 258,
        "start_time": "2025-09-05T19:44:42.620Z"
      },
      {
        "duration": 111,
        "start_time": "2025-09-05T19:44:44.664Z"
      },
      {
        "duration": 74243,
        "start_time": "2025-09-05T19:44:46.030Z"
      },
      {
        "duration": 148815,
        "start_time": "2025-09-05T19:48:47.786Z"
      },
      {
        "duration": 33777,
        "start_time": "2025-09-05T19:51:22.700Z"
      },
      {
        "duration": 1596,
        "start_time": "2025-09-10T15:53:02.554Z"
      },
      {
        "duration": 905,
        "start_time": "2025-09-10T15:53:04.152Z"
      },
      {
        "duration": 151,
        "start_time": "2025-09-10T15:53:05.059Z"
      },
      {
        "duration": 115,
        "start_time": "2025-09-10T15:53:05.212Z"
      },
      {
        "duration": 151,
        "start_time": "2025-09-10T15:53:05.329Z"
      },
      {
        "duration": 140,
        "start_time": "2025-09-10T15:53:05.482Z"
      },
      {
        "duration": 133,
        "start_time": "2025-09-10T15:53:05.902Z"
      },
      {
        "duration": 1746,
        "start_time": "2025-09-10T15:53:06.649Z"
      },
      {
        "duration": 153,
        "start_time": "2025-09-10T15:53:08.397Z"
      },
      {
        "duration": 23,
        "start_time": "2025-09-10T15:53:08.552Z"
      },
      {
        "duration": 145,
        "start_time": "2025-09-10T15:53:08.577Z"
      },
      {
        "duration": 5,
        "start_time": "2025-09-10T15:53:10.006Z"
      },
      {
        "duration": 45,
        "start_time": "2025-09-10T15:53:10.487Z"
      },
      {
        "duration": 230,
        "start_time": "2025-09-10T15:53:11.475Z"
      },
      {
        "duration": 14,
        "start_time": "2025-09-10T15:53:11.707Z"
      },
      {
        "duration": 33,
        "start_time": "2025-09-10T15:53:12.211Z"
      },
      {
        "duration": 64,
        "start_time": "2025-09-10T15:53:13.181Z"
      },
      {
        "duration": 17,
        "start_time": "2025-09-10T15:53:16.015Z"
      },
      {
        "duration": 483,
        "start_time": "2025-09-10T15:53:17.287Z"
      },
      {
        "duration": 3787,
        "start_time": "2025-09-10T15:53:17.772Z"
      },
      {
        "duration": 258,
        "start_time": "2025-09-10T15:53:21.570Z"
      },
      {
        "duration": 118,
        "start_time": "2025-09-10T15:53:21.830Z"
      },
      {
        "duration": 73313,
        "start_time": "2025-09-10T15:53:24.158Z"
      },
      {
        "duration": 143720,
        "start_time": "2025-09-10T15:54:47.104Z"
      },
      {
        "duration": 4,
        "start_time": "2025-09-10T15:57:54.016Z"
      },
      {
        "duration": 848,
        "start_time": "2025-09-10T15:57:58.458Z"
      },
      {
        "duration": 135,
        "start_time": "2025-09-10T15:57:59.308Z"
      },
      {
        "duration": 83,
        "start_time": "2025-09-10T15:58:00.076Z"
      },
      {
        "duration": 125,
        "start_time": "2025-09-10T15:58:00.568Z"
      },
      {
        "duration": 127,
        "start_time": "2025-09-10T15:58:00.761Z"
      },
      {
        "duration": 129,
        "start_time": "2025-09-10T15:58:01.307Z"
      },
      {
        "duration": 1745,
        "start_time": "2025-09-10T15:58:01.946Z"
      },
      {
        "duration": 145,
        "start_time": "2025-09-10T15:58:03.693Z"
      },
      {
        "duration": 14,
        "start_time": "2025-09-10T15:58:03.840Z"
      },
      {
        "duration": 93,
        "start_time": "2025-09-10T15:58:03.856Z"
      },
      {
        "duration": 4,
        "start_time": "2025-09-10T15:58:03.951Z"
      },
      {
        "duration": 45,
        "start_time": "2025-09-10T15:58:03.957Z"
      },
      {
        "duration": 146,
        "start_time": "2025-09-10T15:58:04.851Z"
      },
      {
        "duration": 13,
        "start_time": "2025-09-10T15:58:05.054Z"
      },
      {
        "duration": 33,
        "start_time": "2025-09-10T15:58:05.635Z"
      },
      {
        "duration": 64,
        "start_time": "2025-09-10T15:58:06.262Z"
      },
      {
        "duration": 18,
        "start_time": "2025-09-10T15:58:09.738Z"
      },
      {
        "duration": 467,
        "start_time": "2025-09-10T15:58:11.845Z"
      },
      {
        "duration": 3647,
        "start_time": "2025-09-10T15:58:12.388Z"
      },
      {
        "duration": 241,
        "start_time": "2025-09-10T15:58:17.086Z"
      },
      {
        "duration": 97,
        "start_time": "2025-09-10T15:58:18.523Z"
      },
      {
        "duration": 72422,
        "start_time": "2025-09-10T15:58:20.950Z"
      },
      {
        "duration": 146258,
        "start_time": "2025-09-10T15:59:51.953Z"
      },
      {
        "duration": 33912,
        "start_time": "2025-09-10T16:04:59.875Z"
      },
      {
        "duration": 7,
        "start_time": "2025-09-10T16:06:24.871Z"
      },
      {
        "duration": 511,
        "start_time": "2025-09-10T16:10:01.070Z"
      },
      {
        "duration": 8,
        "start_time": "2025-09-10T16:10:24.839Z"
      },
      {
        "duration": 13,
        "start_time": "2025-09-10T16:12:55.665Z"
      },
      {
        "duration": 6,
        "start_time": "2025-09-10T16:12:59.708Z"
      },
      {
        "duration": 2191,
        "start_time": "2025-09-10T17:50:05.024Z"
      },
      {
        "duration": 924,
        "start_time": "2025-09-10T17:50:07.217Z"
      },
      {
        "duration": 170,
        "start_time": "2025-09-10T17:50:08.143Z"
      },
      {
        "duration": 107,
        "start_time": "2025-09-10T17:50:08.314Z"
      },
      {
        "duration": 145,
        "start_time": "2025-09-10T17:50:08.423Z"
      },
      {
        "duration": 140,
        "start_time": "2025-09-10T17:50:08.577Z"
      },
      {
        "duration": 181,
        "start_time": "2025-09-10T17:50:08.719Z"
      },
      {
        "duration": 1787,
        "start_time": "2025-09-10T17:50:08.902Z"
      },
      {
        "duration": 164,
        "start_time": "2025-09-10T17:50:10.691Z"
      },
      {
        "duration": 31,
        "start_time": "2025-09-10T17:50:10.857Z"
      },
      {
        "duration": 172,
        "start_time": "2025-09-10T17:50:10.890Z"
      },
      {
        "duration": 6,
        "start_time": "2025-09-10T17:50:11.064Z"
      },
      {
        "duration": 52,
        "start_time": "2025-09-10T17:50:11.077Z"
      },
      {
        "duration": 268,
        "start_time": "2025-09-10T17:50:11.132Z"
      },
      {
        "duration": 15,
        "start_time": "2025-09-10T17:50:11.402Z"
      },
      {
        "duration": 128,
        "start_time": "2025-09-10T17:50:11.419Z"
      },
      {
        "duration": 71,
        "start_time": "2025-09-10T17:50:11.549Z"
      },
      {
        "duration": 23,
        "start_time": "2025-09-10T17:50:11.622Z"
      },
      {
        "duration": 532,
        "start_time": "2025-09-10T17:50:11.647Z"
      },
      {
        "duration": 4118,
        "start_time": "2025-09-10T17:50:12.181Z"
      },
      {
        "duration": 279,
        "start_time": "2025-09-10T17:50:16.301Z"
      },
      {
        "duration": 117,
        "start_time": "2025-09-10T17:50:16.581Z"
      },
      {
        "duration": 72078,
        "start_time": "2025-09-10T17:50:16.700Z"
      },
      {
        "duration": 150684,
        "start_time": "2025-09-10T17:51:28.783Z"
      },
      {
        "duration": 39601,
        "start_time": "2025-09-10T17:53:59.469Z"
      },
      {
        "duration": 0,
        "start_time": "2025-09-10T17:54:39.071Z"
      },
      {
        "duration": 0,
        "start_time": "2025-09-10T17:54:39.076Z"
      },
      {
        "duration": 0,
        "start_time": "2025-09-10T17:54:39.077Z"
      },
      {
        "duration": 0,
        "start_time": "2025-09-10T17:54:39.078Z"
      },
      {
        "duration": 0,
        "start_time": "2025-09-10T17:54:39.079Z"
      },
      {
        "duration": 0,
        "start_time": "2025-09-10T17:54:39.080Z"
      },
      {
        "duration": 1636,
        "start_time": "2025-09-10T19:53:30.693Z"
      },
      {
        "duration": 907,
        "start_time": "2025-09-10T19:53:33.788Z"
      },
      {
        "duration": 161,
        "start_time": "2025-09-10T19:53:34.697Z"
      },
      {
        "duration": 137,
        "start_time": "2025-09-10T19:53:35.980Z"
      },
      {
        "duration": 137,
        "start_time": "2025-09-10T19:53:36.666Z"
      },
      {
        "duration": 138,
        "start_time": "2025-09-10T19:53:37.000Z"
      },
      {
        "duration": 146,
        "start_time": "2025-09-10T19:53:37.809Z"
      },
      {
        "duration": 1820,
        "start_time": "2025-09-10T19:53:38.571Z"
      },
      {
        "duration": 231,
        "start_time": "2025-09-10T19:53:40.393Z"
      },
      {
        "duration": 29,
        "start_time": "2025-09-10T19:53:40.626Z"
      },
      {
        "duration": 151,
        "start_time": "2025-09-10T19:53:40.657Z"
      },
      {
        "duration": 8,
        "start_time": "2025-09-10T19:53:41.844Z"
      },
      {
        "duration": 51,
        "start_time": "2025-09-10T19:53:42.425Z"
      },
      {
        "duration": 154,
        "start_time": "2025-09-10T19:53:43.371Z"
      },
      {
        "duration": 20,
        "start_time": "2025-09-10T19:53:43.640Z"
      },
      {
        "duration": 32,
        "start_time": "2025-09-10T19:53:44.163Z"
      },
      {
        "duration": 71,
        "start_time": "2025-09-10T19:53:44.684Z"
      },
      {
        "duration": 18,
        "start_time": "2025-09-10T19:53:47.250Z"
      },
      {
        "duration": 468,
        "start_time": "2025-09-10T19:53:49.165Z"
      },
      {
        "duration": 3735,
        "start_time": "2025-09-10T19:53:49.635Z"
      },
      {
        "duration": 251,
        "start_time": "2025-09-10T19:53:55.949Z"
      },
      {
        "duration": 109,
        "start_time": "2025-09-10T19:53:57.021Z"
      },
      {
        "duration": 78564,
        "start_time": "2025-09-10T19:53:57.887Z"
      },
      {
        "duration": 159569,
        "start_time": "2025-09-10T19:55:16.453Z"
      },
      {
        "duration": 150090,
        "start_time": "2025-09-10T19:58:31.850Z"
      },
      {
        "duration": 1331,
        "start_time": "2025-09-10T20:02:55.498Z"
      },
      {
        "duration": 853,
        "start_time": "2025-09-10T20:02:57.877Z"
      },
      {
        "duration": 156,
        "start_time": "2025-09-10T20:02:59.379Z"
      },
      {
        "duration": 94,
        "start_time": "2025-09-10T20:03:00.770Z"
      },
      {
        "duration": 133,
        "start_time": "2025-09-10T20:03:01.299Z"
      },
      {
        "duration": 132,
        "start_time": "2025-09-10T20:03:01.536Z"
      },
      {
        "duration": 135,
        "start_time": "2025-09-10T20:03:02.307Z"
      },
      {
        "duration": 1785,
        "start_time": "2025-09-10T20:03:03.006Z"
      },
      {
        "duration": 159,
        "start_time": "2025-09-10T20:03:04.794Z"
      },
      {
        "duration": 15,
        "start_time": "2025-09-10T20:03:04.954Z"
      },
      {
        "duration": 154,
        "start_time": "2025-09-10T20:03:04.971Z"
      },
      {
        "duration": 5,
        "start_time": "2025-09-10T20:03:06.348Z"
      },
      {
        "duration": 45,
        "start_time": "2025-09-10T20:03:07.235Z"
      },
      {
        "duration": 225,
        "start_time": "2025-09-10T20:03:08.216Z"
      },
      {
        "duration": 14,
        "start_time": "2025-09-10T20:03:08.447Z"
      },
      {
        "duration": 33,
        "start_time": "2025-09-10T20:03:08.986Z"
      },
      {
        "duration": 63,
        "start_time": "2025-09-10T20:03:09.451Z"
      },
      {
        "duration": 19,
        "start_time": "2025-09-10T20:03:11.915Z"
      },
      {
        "duration": 430,
        "start_time": "2025-09-10T20:03:13.909Z"
      },
      {
        "duration": 3451,
        "start_time": "2025-09-10T20:03:14.366Z"
      },
      {
        "duration": 269,
        "start_time": "2025-09-10T20:03:17.819Z"
      },
      {
        "duration": 109,
        "start_time": "2025-09-10T20:03:18.090Z"
      },
      {
        "duration": 1318,
        "start_time": "2025-09-10T20:04:07.491Z"
      },
      {
        "duration": 898,
        "start_time": "2025-09-10T20:04:10.160Z"
      },
      {
        "duration": 151,
        "start_time": "2025-09-10T20:04:11.060Z"
      },
      {
        "duration": 91,
        "start_time": "2025-09-10T20:04:12.139Z"
      },
      {
        "duration": 131,
        "start_time": "2025-09-10T20:04:12.745Z"
      },
      {
        "duration": 150,
        "start_time": "2025-09-10T20:04:13.502Z"
      },
      {
        "duration": 133,
        "start_time": "2025-09-10T20:04:14.140Z"
      },
      {
        "duration": 1715,
        "start_time": "2025-09-10T20:04:14.769Z"
      },
      {
        "duration": 155,
        "start_time": "2025-09-10T20:04:16.486Z"
      },
      {
        "duration": 16,
        "start_time": "2025-09-10T20:04:16.642Z"
      },
      {
        "duration": 168,
        "start_time": "2025-09-10T20:04:16.659Z"
      },
      {
        "duration": 5,
        "start_time": "2025-09-10T20:04:16.888Z"
      },
      {
        "duration": 46,
        "start_time": "2025-09-10T20:04:17.341Z"
      },
      {
        "duration": 225,
        "start_time": "2025-09-10T20:04:18.270Z"
      },
      {
        "duration": 14,
        "start_time": "2025-09-10T20:04:18.497Z"
      },
      {
        "duration": 37,
        "start_time": "2025-09-10T20:04:18.934Z"
      },
      {
        "duration": 65,
        "start_time": "2025-09-10T20:04:19.593Z"
      },
      {
        "duration": 19,
        "start_time": "2025-09-10T20:04:21.748Z"
      },
      {
        "duration": 441,
        "start_time": "2025-09-10T20:04:22.734Z"
      },
      {
        "duration": 3427,
        "start_time": "2025-09-10T20:04:23.177Z"
      },
      {
        "duration": 273,
        "start_time": "2025-09-10T20:04:26.607Z"
      },
      {
        "duration": 112,
        "start_time": "2025-09-10T20:04:26.882Z"
      },
      {
        "duration": 70547,
        "start_time": "2025-09-10T20:04:26.997Z"
      },
      {
        "duration": 150442,
        "start_time": "2025-09-10T20:05:46.310Z"
      },
      {
        "duration": 35009,
        "start_time": "2025-09-10T20:09:14.335Z"
      },
      {
        "duration": 7,
        "start_time": "2025-09-10T20:10:27.451Z"
      },
      {
        "duration": 510,
        "start_time": "2025-09-10T20:10:28.630Z"
      },
      {
        "duration": 8,
        "start_time": "2025-09-10T20:10:29.511Z"
      },
      {
        "duration": 12,
        "start_time": "2025-09-10T20:10:30.697Z"
      },
      {
        "duration": 5,
        "start_time": "2025-09-10T20:10:31.836Z"
      }
    ],
    "kernelspec": {
      "display_name": "Python 3 (ipykernel)",
      "language": "python",
      "name": "python3"
    },
    "language_info": {
      "codemirror_mode": {
        "name": "ipython",
        "version": 3
      },
      "file_extension": ".py",
      "mimetype": "text/x-python",
      "name": "python",
      "nbconvert_exporter": "python",
      "pygments_lexer": "ipython3",
      "version": "3.9.5"
    },
    "toc": {
      "base_numbering": 1,
      "nav_menu": {},
      "number_sections": true,
      "sideBar": true,
      "skip_h1_title": true,
      "title_cell": "Table of Contents",
      "title_sidebar": "Contents",
      "toc_cell": false,
      "toc_position": {},
      "toc_section_display": true,
      "toc_window_display": false
    },
    "colab": {
      "provenance": []
    }
  },
  "nbformat": 4,
  "nbformat_minor": 0
}