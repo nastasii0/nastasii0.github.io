{
  "cells": [
    {
      "cell_type": "markdown",
      "metadata": {
        "id": "EeiuKty-0RM_"
      },
      "source": [
        "# Выбор локации для скважины"
      ]
    },
    {
      "cell_type": "markdown",
      "metadata": {
        "id": "V6PilNT40RM_"
      },
      "source": [
        "Допустим, вы работаете в добывающей компании «ГлавРосГосНефть». Нужно решить, где бурить новую скважину.\n",
        "\n",
        "Вам предоставлены пробы нефти в трёх регионах: в каждом 100 000 месторождений, где измерили качество нефти и объём её запасов. Постройте модель машинного обучения, которая поможет определить регион, где добыча принесёт наибольшую прибыль. Проанализируйте возможную прибыль и риски техникой *Bootstrap.*\n",
        "\n",
        "Шаги для выбора локации:\n",
        "\n",
        "- В избранном регионе ищут месторождения, для каждого определяют значения признаков;\n",
        "- Строят модель и оценивают объём запасов;\n",
        "- Выбирают месторождения с самым высокими оценками значений. Количество месторождений зависит от бюджета компании и стоимости разработки одной скважины;\n",
        "- Прибыль равна суммарной прибыли отобранных месторождений."
      ]
    },
    {
      "cell_type": "markdown",
      "metadata": {
        "id": "btdOls8I0RM_"
      },
      "source": [
        "## Загрузка и подготовка данных:"
      ]
    },
    {
      "cell_type": "markdown",
      "metadata": {
        "id": "4YlNBf6q0RM_"
      },
      "source": [
        "### Импортирование библиотек."
      ]
    },
    {
      "cell_type": "code",
      "execution_count": null,
      "metadata": {
        "id": "oe7RnZL40RNA"
      },
      "outputs": [],
      "source": [
        "import pandas as pd\n",
        "import numpy as np\n",
        "from sklearn.model_selection import train_test_split\n",
        "from sklearn.linear_model import LinearRegression\n",
        "from sklearn.metrics import mean_squared_error\n",
        "from sklearn.preprocessing import StandardScaler\n",
        "import warnings\n",
        "warnings.filterwarnings('ignore')\n",
        "import seaborn as sns\n",
        "import matplotlib.pyplot as plt"
      ]
    },
    {
      "cell_type": "markdown",
      "metadata": {
        "id": "VYn6TDpK0RNB"
      },
      "source": [
        "### Загрузка данных из CSV файлов."
      ]
    },
    {
      "cell_type": "code",
      "execution_count": null,
      "metadata": {
        "id": "8oreZQBM0RNB"
      },
      "outputs": [],
      "source": [
        "try:\n",
        "    df_0 = pd.read_csv('/datasets/geo_data_0.csv')\n",
        "    df_1 = pd.read_csv('/datasets/geo_data_1.csv')\n",
        "    df_2 = pd.read_csv('/datasets/geo_data_2.csv')\n",
        "except:\n",
        "    df_0 = pd.read_csv('geo_data_0.csv')\n",
        "    df_1 = pd.read_csv('geo_data_1.csv')\n",
        "    df_2 = pd.read_csv('geo_data_2.csv')"
      ]
    },
    {
      "cell_type": "markdown",
      "metadata": {
        "id": "6WTQWtbr0RNB"
      },
      "source": [
        "### Первичный анализ данных."
      ]
    },
    {
      "cell_type": "code",
      "execution_count": null,
      "metadata": {
        "id": "g81uGVLu0RNC",
        "outputId": "632d9c24-3623-4b00-e55c-5712a26fb1ad"
      },
      "outputs": [
        {
          "data": {
            "text/html": [
              "<div>\n",
              "<style scoped>\n",
              "    .dataframe tbody tr th:only-of-type {\n",
              "        vertical-align: middle;\n",
              "    }\n",
              "\n",
              "    .dataframe tbody tr th {\n",
              "        vertical-align: top;\n",
              "    }\n",
              "\n",
              "    .dataframe thead th {\n",
              "        text-align: right;\n",
              "    }\n",
              "</style>\n",
              "<table border=\"1\" class=\"dataframe\">\n",
              "  <thead>\n",
              "    <tr style=\"text-align: right;\">\n",
              "      <th></th>\n",
              "      <th>id</th>\n",
              "      <th>f0</th>\n",
              "      <th>f1</th>\n",
              "      <th>f2</th>\n",
              "      <th>product</th>\n",
              "    </tr>\n",
              "  </thead>\n",
              "  <tbody>\n",
              "    <tr>\n",
              "      <th>0</th>\n",
              "      <td>txEyH</td>\n",
              "      <td>0.705745</td>\n",
              "      <td>-0.497823</td>\n",
              "      <td>1.221170</td>\n",
              "      <td>105.280062</td>\n",
              "    </tr>\n",
              "    <tr>\n",
              "      <th>1</th>\n",
              "      <td>2acmU</td>\n",
              "      <td>1.334711</td>\n",
              "      <td>-0.340164</td>\n",
              "      <td>4.365080</td>\n",
              "      <td>73.037750</td>\n",
              "    </tr>\n",
              "    <tr>\n",
              "      <th>2</th>\n",
              "      <td>409Wp</td>\n",
              "      <td>1.022732</td>\n",
              "      <td>0.151990</td>\n",
              "      <td>1.419926</td>\n",
              "      <td>85.265647</td>\n",
              "    </tr>\n",
              "    <tr>\n",
              "      <th>3</th>\n",
              "      <td>iJLyR</td>\n",
              "      <td>-0.032172</td>\n",
              "      <td>0.139033</td>\n",
              "      <td>2.978566</td>\n",
              "      <td>168.620776</td>\n",
              "    </tr>\n",
              "    <tr>\n",
              "      <th>4</th>\n",
              "      <td>Xdl7t</td>\n",
              "      <td>1.988431</td>\n",
              "      <td>0.155413</td>\n",
              "      <td>4.751769</td>\n",
              "      <td>154.036647</td>\n",
              "    </tr>\n",
              "  </tbody>\n",
              "</table>\n",
              "</div>"
            ],
            "text/plain": [
              "      id        f0        f1        f2     product\n",
              "0  txEyH  0.705745 -0.497823  1.221170  105.280062\n",
              "1  2acmU  1.334711 -0.340164  4.365080   73.037750\n",
              "2  409Wp  1.022732  0.151990  1.419926   85.265647\n",
              "3  iJLyR -0.032172  0.139033  2.978566  168.620776\n",
              "4  Xdl7t  1.988431  0.155413  4.751769  154.036647"
            ]
          },
          "execution_count": 3,
          "metadata": {},
          "output_type": "execute_result"
        }
      ],
      "source": [
        "df_0.head()"
      ]
    },
    {
      "cell_type": "code",
      "execution_count": null,
      "metadata": {
        "id": "PRavmL3g0RNC",
        "outputId": "7b50cb9c-1123-4946-9681-fe4a0958c133"
      },
      "outputs": [
        {
          "name": "stdout",
          "output_type": "stream",
          "text": [
            "<class 'pandas.core.frame.DataFrame'>\n",
            "RangeIndex: 100000 entries, 0 to 99999\n",
            "Data columns (total 5 columns):\n",
            " #   Column   Non-Null Count   Dtype  \n",
            "---  ------   --------------   -----  \n",
            " 0   id       100000 non-null  object \n",
            " 1   f0       100000 non-null  float64\n",
            " 2   f1       100000 non-null  float64\n",
            " 3   f2       100000 non-null  float64\n",
            " 4   product  100000 non-null  float64\n",
            "dtypes: float64(4), object(1)\n",
            "memory usage: 3.8+ MB\n"
          ]
        }
      ],
      "source": [
        "df_0.info()"
      ]
    },
    {
      "cell_type": "code",
      "execution_count": null,
      "metadata": {
        "id": "NnNqqxiQ0RNC",
        "outputId": "cdbbefbd-3ae1-4872-af88-8e85f904380a"
      },
      "outputs": [
        {
          "data": {
            "text/html": [
              "<div>\n",
              "<style scoped>\n",
              "    .dataframe tbody tr th:only-of-type {\n",
              "        vertical-align: middle;\n",
              "    }\n",
              "\n",
              "    .dataframe tbody tr th {\n",
              "        vertical-align: top;\n",
              "    }\n",
              "\n",
              "    .dataframe thead th {\n",
              "        text-align: right;\n",
              "    }\n",
              "</style>\n",
              "<table border=\"1\" class=\"dataframe\">\n",
              "  <thead>\n",
              "    <tr style=\"text-align: right;\">\n",
              "      <th></th>\n",
              "      <th>f0</th>\n",
              "      <th>f1</th>\n",
              "      <th>f2</th>\n",
              "      <th>product</th>\n",
              "    </tr>\n",
              "  </thead>\n",
              "  <tbody>\n",
              "    <tr>\n",
              "      <th>count</th>\n",
              "      <td>100000.000000</td>\n",
              "      <td>100000.000000</td>\n",
              "      <td>100000.000000</td>\n",
              "      <td>100000.000000</td>\n",
              "    </tr>\n",
              "    <tr>\n",
              "      <th>mean</th>\n",
              "      <td>0.500419</td>\n",
              "      <td>0.250143</td>\n",
              "      <td>2.502647</td>\n",
              "      <td>92.500000</td>\n",
              "    </tr>\n",
              "    <tr>\n",
              "      <th>std</th>\n",
              "      <td>0.871832</td>\n",
              "      <td>0.504433</td>\n",
              "      <td>3.248248</td>\n",
              "      <td>44.288691</td>\n",
              "    </tr>\n",
              "    <tr>\n",
              "      <th>min</th>\n",
              "      <td>-1.408605</td>\n",
              "      <td>-0.848218</td>\n",
              "      <td>-12.088328</td>\n",
              "      <td>0.000000</td>\n",
              "    </tr>\n",
              "    <tr>\n",
              "      <th>25%</th>\n",
              "      <td>-0.072580</td>\n",
              "      <td>-0.200881</td>\n",
              "      <td>0.287748</td>\n",
              "      <td>56.497507</td>\n",
              "    </tr>\n",
              "    <tr>\n",
              "      <th>50%</th>\n",
              "      <td>0.502360</td>\n",
              "      <td>0.250252</td>\n",
              "      <td>2.515969</td>\n",
              "      <td>91.849972</td>\n",
              "    </tr>\n",
              "    <tr>\n",
              "      <th>75%</th>\n",
              "      <td>1.073581</td>\n",
              "      <td>0.700646</td>\n",
              "      <td>4.715088</td>\n",
              "      <td>128.564089</td>\n",
              "    </tr>\n",
              "    <tr>\n",
              "      <th>max</th>\n",
              "      <td>2.362331</td>\n",
              "      <td>1.343769</td>\n",
              "      <td>16.003790</td>\n",
              "      <td>185.364347</td>\n",
              "    </tr>\n",
              "  </tbody>\n",
              "</table>\n",
              "</div>"
            ],
            "text/plain": [
              "                  f0             f1             f2        product\n",
              "count  100000.000000  100000.000000  100000.000000  100000.000000\n",
              "mean        0.500419       0.250143       2.502647      92.500000\n",
              "std         0.871832       0.504433       3.248248      44.288691\n",
              "min        -1.408605      -0.848218     -12.088328       0.000000\n",
              "25%        -0.072580      -0.200881       0.287748      56.497507\n",
              "50%         0.502360       0.250252       2.515969      91.849972\n",
              "75%         1.073581       0.700646       4.715088     128.564089\n",
              "max         2.362331       1.343769      16.003790     185.364347"
            ]
          },
          "execution_count": 5,
          "metadata": {},
          "output_type": "execute_result"
        }
      ],
      "source": [
        "df_0.describe()"
      ]
    },
    {
      "cell_type": "code",
      "execution_count": null,
      "metadata": {
        "id": "RKgn0LO60RND",
        "outputId": "f225b671-6130-46c0-f84a-c146d65d01d1"
      },
      "outputs": [
        {
          "data": {
            "text/plain": [
              "0"
            ]
          },
          "execution_count": 6,
          "metadata": {},
          "output_type": "execute_result"
        }
      ],
      "source": [
        "df_0.duplicated().sum()"
      ]
    },
    {
      "cell_type": "code",
      "execution_count": null,
      "metadata": {
        "id": "GAo_ddR-0RND",
        "outputId": "fde8bb71-8955-4c24-9d65-2761680fbc27"
      },
      "outputs": [
        {
          "data": {
            "text/plain": [
              "10"
            ]
          },
          "execution_count": 7,
          "metadata": {},
          "output_type": "execute_result"
        }
      ],
      "source": [
        "df_0['id'].duplicated().sum()"
      ]
    },
    {
      "cell_type": "code",
      "execution_count": null,
      "metadata": {
        "id": "g1dKWC5r0RND",
        "outputId": "e94f459e-0179-454e-9246-952fa81c5f9b"
      },
      "outputs": [
        {
          "data": {
            "text/plain": [
              "0"
            ]
          },
          "execution_count": 8,
          "metadata": {},
          "output_type": "execute_result"
        }
      ],
      "source": [
        "df_0 = df_0.drop_duplicates(subset=['id'], keep='first', ignore_index=True)\n",
        "df_0['id'].duplicated().sum()"
      ]
    },
    {
      "cell_type": "code",
      "execution_count": null,
      "metadata": {
        "id": "sIFQYpJ40RND",
        "outputId": "06931e8a-9050-4740-cf03-93c59534918a"
      },
      "outputs": [
        {
          "data": {
            "text/html": [
              "<div>\n",
              "<style scoped>\n",
              "    .dataframe tbody tr th:only-of-type {\n",
              "        vertical-align: middle;\n",
              "    }\n",
              "\n",
              "    .dataframe tbody tr th {\n",
              "        vertical-align: top;\n",
              "    }\n",
              "\n",
              "    .dataframe thead th {\n",
              "        text-align: right;\n",
              "    }\n",
              "</style>\n",
              "<table border=\"1\" class=\"dataframe\">\n",
              "  <thead>\n",
              "    <tr style=\"text-align: right;\">\n",
              "      <th></th>\n",
              "      <th>id</th>\n",
              "      <th>f0</th>\n",
              "      <th>f1</th>\n",
              "      <th>f2</th>\n",
              "      <th>product</th>\n",
              "    </tr>\n",
              "  </thead>\n",
              "  <tbody>\n",
              "    <tr>\n",
              "      <th>0</th>\n",
              "      <td>kBEdx</td>\n",
              "      <td>-15.001348</td>\n",
              "      <td>-8.276000</td>\n",
              "      <td>-0.005876</td>\n",
              "      <td>3.179103</td>\n",
              "    </tr>\n",
              "    <tr>\n",
              "      <th>1</th>\n",
              "      <td>62mP7</td>\n",
              "      <td>14.272088</td>\n",
              "      <td>-3.475083</td>\n",
              "      <td>0.999183</td>\n",
              "      <td>26.953261</td>\n",
              "    </tr>\n",
              "    <tr>\n",
              "      <th>2</th>\n",
              "      <td>vyE1P</td>\n",
              "      <td>6.263187</td>\n",
              "      <td>-5.948386</td>\n",
              "      <td>5.001160</td>\n",
              "      <td>134.766305</td>\n",
              "    </tr>\n",
              "    <tr>\n",
              "      <th>3</th>\n",
              "      <td>KcrkZ</td>\n",
              "      <td>-13.081196</td>\n",
              "      <td>-11.506057</td>\n",
              "      <td>4.999415</td>\n",
              "      <td>137.945408</td>\n",
              "    </tr>\n",
              "    <tr>\n",
              "      <th>4</th>\n",
              "      <td>AHL4O</td>\n",
              "      <td>12.702195</td>\n",
              "      <td>-8.147433</td>\n",
              "      <td>5.004363</td>\n",
              "      <td>134.766305</td>\n",
              "    </tr>\n",
              "  </tbody>\n",
              "</table>\n",
              "</div>"
            ],
            "text/plain": [
              "      id         f0         f1        f2     product\n",
              "0  kBEdx -15.001348  -8.276000 -0.005876    3.179103\n",
              "1  62mP7  14.272088  -3.475083  0.999183   26.953261\n",
              "2  vyE1P   6.263187  -5.948386  5.001160  134.766305\n",
              "3  KcrkZ -13.081196 -11.506057  4.999415  137.945408\n",
              "4  AHL4O  12.702195  -8.147433  5.004363  134.766305"
            ]
          },
          "execution_count": 9,
          "metadata": {},
          "output_type": "execute_result"
        }
      ],
      "source": [
        "df_1.head()"
      ]
    },
    {
      "cell_type": "code",
      "execution_count": null,
      "metadata": {
        "id": "Bdnl7csO0RND",
        "outputId": "344d72dd-b066-4f2b-b897-7586d2d258bd"
      },
      "outputs": [
        {
          "name": "stdout",
          "output_type": "stream",
          "text": [
            "<class 'pandas.core.frame.DataFrame'>\n",
            "RangeIndex: 100000 entries, 0 to 99999\n",
            "Data columns (total 5 columns):\n",
            " #   Column   Non-Null Count   Dtype  \n",
            "---  ------   --------------   -----  \n",
            " 0   id       100000 non-null  object \n",
            " 1   f0       100000 non-null  float64\n",
            " 2   f1       100000 non-null  float64\n",
            " 3   f2       100000 non-null  float64\n",
            " 4   product  100000 non-null  float64\n",
            "dtypes: float64(4), object(1)\n",
            "memory usage: 3.8+ MB\n"
          ]
        }
      ],
      "source": [
        "df_1.info()"
      ]
    },
    {
      "cell_type": "code",
      "execution_count": null,
      "metadata": {
        "id": "0xZCvqT90RND",
        "outputId": "3ca001d2-93ed-47e2-e643-54d7a56129b4"
      },
      "outputs": [
        {
          "data": {
            "text/html": [
              "<div>\n",
              "<style scoped>\n",
              "    .dataframe tbody tr th:only-of-type {\n",
              "        vertical-align: middle;\n",
              "    }\n",
              "\n",
              "    .dataframe tbody tr th {\n",
              "        vertical-align: top;\n",
              "    }\n",
              "\n",
              "    .dataframe thead th {\n",
              "        text-align: right;\n",
              "    }\n",
              "</style>\n",
              "<table border=\"1\" class=\"dataframe\">\n",
              "  <thead>\n",
              "    <tr style=\"text-align: right;\">\n",
              "      <th></th>\n",
              "      <th>f0</th>\n",
              "      <th>f1</th>\n",
              "      <th>f2</th>\n",
              "      <th>product</th>\n",
              "    </tr>\n",
              "  </thead>\n",
              "  <tbody>\n",
              "    <tr>\n",
              "      <th>count</th>\n",
              "      <td>100000.000000</td>\n",
              "      <td>100000.000000</td>\n",
              "      <td>100000.000000</td>\n",
              "      <td>100000.000000</td>\n",
              "    </tr>\n",
              "    <tr>\n",
              "      <th>mean</th>\n",
              "      <td>1.141296</td>\n",
              "      <td>-4.796579</td>\n",
              "      <td>2.494541</td>\n",
              "      <td>68.825000</td>\n",
              "    </tr>\n",
              "    <tr>\n",
              "      <th>std</th>\n",
              "      <td>8.965932</td>\n",
              "      <td>5.119872</td>\n",
              "      <td>1.703572</td>\n",
              "      <td>45.944423</td>\n",
              "    </tr>\n",
              "    <tr>\n",
              "      <th>min</th>\n",
              "      <td>-31.609576</td>\n",
              "      <td>-26.358598</td>\n",
              "      <td>-0.018144</td>\n",
              "      <td>0.000000</td>\n",
              "    </tr>\n",
              "    <tr>\n",
              "      <th>25%</th>\n",
              "      <td>-6.298551</td>\n",
              "      <td>-8.267985</td>\n",
              "      <td>1.000021</td>\n",
              "      <td>26.953261</td>\n",
              "    </tr>\n",
              "    <tr>\n",
              "      <th>50%</th>\n",
              "      <td>1.153055</td>\n",
              "      <td>-4.813172</td>\n",
              "      <td>2.011479</td>\n",
              "      <td>57.085625</td>\n",
              "    </tr>\n",
              "    <tr>\n",
              "      <th>75%</th>\n",
              "      <td>8.621015</td>\n",
              "      <td>-1.332816</td>\n",
              "      <td>3.999904</td>\n",
              "      <td>107.813044</td>\n",
              "    </tr>\n",
              "    <tr>\n",
              "      <th>max</th>\n",
              "      <td>29.421755</td>\n",
              "      <td>18.734063</td>\n",
              "      <td>5.019721</td>\n",
              "      <td>137.945408</td>\n",
              "    </tr>\n",
              "  </tbody>\n",
              "</table>\n",
              "</div>"
            ],
            "text/plain": [
              "                  f0             f1             f2        product\n",
              "count  100000.000000  100000.000000  100000.000000  100000.000000\n",
              "mean        1.141296      -4.796579       2.494541      68.825000\n",
              "std         8.965932       5.119872       1.703572      45.944423\n",
              "min       -31.609576     -26.358598      -0.018144       0.000000\n",
              "25%        -6.298551      -8.267985       1.000021      26.953261\n",
              "50%         1.153055      -4.813172       2.011479      57.085625\n",
              "75%         8.621015      -1.332816       3.999904     107.813044\n",
              "max        29.421755      18.734063       5.019721     137.945408"
            ]
          },
          "execution_count": 11,
          "metadata": {},
          "output_type": "execute_result"
        }
      ],
      "source": [
        "df_1.describe()"
      ]
    },
    {
      "cell_type": "code",
      "execution_count": null,
      "metadata": {
        "id": "05LGQfZk0RNE",
        "outputId": "57c01413-84ae-410a-ff0f-4fef2556a6df"
      },
      "outputs": [
        {
          "data": {
            "text/plain": [
              "0"
            ]
          },
          "execution_count": 12,
          "metadata": {},
          "output_type": "execute_result"
        }
      ],
      "source": [
        "df_1.duplicated().sum()"
      ]
    },
    {
      "cell_type": "code",
      "execution_count": null,
      "metadata": {
        "id": "5z7bC5Db0RNE",
        "outputId": "949c2f69-f7bd-4de4-998e-ebc0ea778f83"
      },
      "outputs": [
        {
          "data": {
            "text/plain": [
              "4"
            ]
          },
          "execution_count": 13,
          "metadata": {},
          "output_type": "execute_result"
        }
      ],
      "source": [
        "df_1['id'].duplicated().sum()"
      ]
    },
    {
      "cell_type": "code",
      "execution_count": null,
      "metadata": {
        "id": "DAU5yNTr0RNE",
        "outputId": "5bc7a721-d5f5-4850-b4f0-f748c7b0a692"
      },
      "outputs": [
        {
          "data": {
            "text/plain": [
              "0"
            ]
          },
          "execution_count": 14,
          "metadata": {},
          "output_type": "execute_result"
        }
      ],
      "source": [
        "df_1 = df_1.drop_duplicates(subset=['id'], keep='first', ignore_index=True)\n",
        "df_1['id'].duplicated().sum()"
      ]
    },
    {
      "cell_type": "code",
      "execution_count": null,
      "metadata": {
        "id": "zk2WWvcs0RNE",
        "outputId": "d23b43cf-0cd4-4c4c-9517-82d7b2c7d106"
      },
      "outputs": [
        {
          "data": {
            "text/html": [
              "<div>\n",
              "<style scoped>\n",
              "    .dataframe tbody tr th:only-of-type {\n",
              "        vertical-align: middle;\n",
              "    }\n",
              "\n",
              "    .dataframe tbody tr th {\n",
              "        vertical-align: top;\n",
              "    }\n",
              "\n",
              "    .dataframe thead th {\n",
              "        text-align: right;\n",
              "    }\n",
              "</style>\n",
              "<table border=\"1\" class=\"dataframe\">\n",
              "  <thead>\n",
              "    <tr style=\"text-align: right;\">\n",
              "      <th></th>\n",
              "      <th>id</th>\n",
              "      <th>f0</th>\n",
              "      <th>f1</th>\n",
              "      <th>f2</th>\n",
              "      <th>product</th>\n",
              "    </tr>\n",
              "  </thead>\n",
              "  <tbody>\n",
              "    <tr>\n",
              "      <th>0</th>\n",
              "      <td>fwXo0</td>\n",
              "      <td>-1.146987</td>\n",
              "      <td>0.963328</td>\n",
              "      <td>-0.828965</td>\n",
              "      <td>27.758673</td>\n",
              "    </tr>\n",
              "    <tr>\n",
              "      <th>1</th>\n",
              "      <td>WJtFt</td>\n",
              "      <td>0.262778</td>\n",
              "      <td>0.269839</td>\n",
              "      <td>-2.530187</td>\n",
              "      <td>56.069697</td>\n",
              "    </tr>\n",
              "    <tr>\n",
              "      <th>2</th>\n",
              "      <td>ovLUW</td>\n",
              "      <td>0.194587</td>\n",
              "      <td>0.289035</td>\n",
              "      <td>-5.586433</td>\n",
              "      <td>62.871910</td>\n",
              "    </tr>\n",
              "    <tr>\n",
              "      <th>3</th>\n",
              "      <td>q6cA6</td>\n",
              "      <td>2.236060</td>\n",
              "      <td>-0.553760</td>\n",
              "      <td>0.930038</td>\n",
              "      <td>114.572842</td>\n",
              "    </tr>\n",
              "    <tr>\n",
              "      <th>4</th>\n",
              "      <td>WPMUX</td>\n",
              "      <td>-0.515993</td>\n",
              "      <td>1.716266</td>\n",
              "      <td>5.899011</td>\n",
              "      <td>149.600746</td>\n",
              "    </tr>\n",
              "  </tbody>\n",
              "</table>\n",
              "</div>"
            ],
            "text/plain": [
              "      id        f0        f1        f2     product\n",
              "0  fwXo0 -1.146987  0.963328 -0.828965   27.758673\n",
              "1  WJtFt  0.262778  0.269839 -2.530187   56.069697\n",
              "2  ovLUW  0.194587  0.289035 -5.586433   62.871910\n",
              "3  q6cA6  2.236060 -0.553760  0.930038  114.572842\n",
              "4  WPMUX -0.515993  1.716266  5.899011  149.600746"
            ]
          },
          "execution_count": 15,
          "metadata": {},
          "output_type": "execute_result"
        }
      ],
      "source": [
        "df_2.head()"
      ]
    },
    {
      "cell_type": "code",
      "execution_count": null,
      "metadata": {
        "id": "SxOd-3iL0RNE",
        "outputId": "1fad0d5f-8400-42d7-e8d2-9b9c2fe0c9db"
      },
      "outputs": [
        {
          "name": "stdout",
          "output_type": "stream",
          "text": [
            "<class 'pandas.core.frame.DataFrame'>\n",
            "RangeIndex: 100000 entries, 0 to 99999\n",
            "Data columns (total 5 columns):\n",
            " #   Column   Non-Null Count   Dtype  \n",
            "---  ------   --------------   -----  \n",
            " 0   id       100000 non-null  object \n",
            " 1   f0       100000 non-null  float64\n",
            " 2   f1       100000 non-null  float64\n",
            " 3   f2       100000 non-null  float64\n",
            " 4   product  100000 non-null  float64\n",
            "dtypes: float64(4), object(1)\n",
            "memory usage: 3.8+ MB\n"
          ]
        }
      ],
      "source": [
        "df_2.info()"
      ]
    },
    {
      "cell_type": "code",
      "execution_count": null,
      "metadata": {
        "id": "CS-hkz_-0RNE",
        "outputId": "b7d5fe91-9987-4bbb-d779-845b38873daf"
      },
      "outputs": [
        {
          "data": {
            "text/html": [
              "<div>\n",
              "<style scoped>\n",
              "    .dataframe tbody tr th:only-of-type {\n",
              "        vertical-align: middle;\n",
              "    }\n",
              "\n",
              "    .dataframe tbody tr th {\n",
              "        vertical-align: top;\n",
              "    }\n",
              "\n",
              "    .dataframe thead th {\n",
              "        text-align: right;\n",
              "    }\n",
              "</style>\n",
              "<table border=\"1\" class=\"dataframe\">\n",
              "  <thead>\n",
              "    <tr style=\"text-align: right;\">\n",
              "      <th></th>\n",
              "      <th>f0</th>\n",
              "      <th>f1</th>\n",
              "      <th>f2</th>\n",
              "      <th>product</th>\n",
              "    </tr>\n",
              "  </thead>\n",
              "  <tbody>\n",
              "    <tr>\n",
              "      <th>count</th>\n",
              "      <td>100000.000000</td>\n",
              "      <td>100000.000000</td>\n",
              "      <td>100000.000000</td>\n",
              "      <td>100000.000000</td>\n",
              "    </tr>\n",
              "    <tr>\n",
              "      <th>mean</th>\n",
              "      <td>0.002023</td>\n",
              "      <td>-0.002081</td>\n",
              "      <td>2.495128</td>\n",
              "      <td>95.000000</td>\n",
              "    </tr>\n",
              "    <tr>\n",
              "      <th>std</th>\n",
              "      <td>1.732045</td>\n",
              "      <td>1.730417</td>\n",
              "      <td>3.473445</td>\n",
              "      <td>44.749921</td>\n",
              "    </tr>\n",
              "    <tr>\n",
              "      <th>min</th>\n",
              "      <td>-8.760004</td>\n",
              "      <td>-7.084020</td>\n",
              "      <td>-11.970335</td>\n",
              "      <td>0.000000</td>\n",
              "    </tr>\n",
              "    <tr>\n",
              "      <th>25%</th>\n",
              "      <td>-1.162288</td>\n",
              "      <td>-1.174820</td>\n",
              "      <td>0.130359</td>\n",
              "      <td>59.450441</td>\n",
              "    </tr>\n",
              "    <tr>\n",
              "      <th>50%</th>\n",
              "      <td>0.009424</td>\n",
              "      <td>-0.009482</td>\n",
              "      <td>2.484236</td>\n",
              "      <td>94.925613</td>\n",
              "    </tr>\n",
              "    <tr>\n",
              "      <th>75%</th>\n",
              "      <td>1.158535</td>\n",
              "      <td>1.163678</td>\n",
              "      <td>4.858794</td>\n",
              "      <td>130.595027</td>\n",
              "    </tr>\n",
              "    <tr>\n",
              "      <th>max</th>\n",
              "      <td>7.238262</td>\n",
              "      <td>7.844801</td>\n",
              "      <td>16.739402</td>\n",
              "      <td>190.029838</td>\n",
              "    </tr>\n",
              "  </tbody>\n",
              "</table>\n",
              "</div>"
            ],
            "text/plain": [
              "                  f0             f1             f2        product\n",
              "count  100000.000000  100000.000000  100000.000000  100000.000000\n",
              "mean        0.002023      -0.002081       2.495128      95.000000\n",
              "std         1.732045       1.730417       3.473445      44.749921\n",
              "min        -8.760004      -7.084020     -11.970335       0.000000\n",
              "25%        -1.162288      -1.174820       0.130359      59.450441\n",
              "50%         0.009424      -0.009482       2.484236      94.925613\n",
              "75%         1.158535       1.163678       4.858794     130.595027\n",
              "max         7.238262       7.844801      16.739402     190.029838"
            ]
          },
          "execution_count": 17,
          "metadata": {},
          "output_type": "execute_result"
        }
      ],
      "source": [
        "df_2.describe()"
      ]
    },
    {
      "cell_type": "code",
      "execution_count": null,
      "metadata": {
        "id": "c1ub2f4T0RNF",
        "outputId": "fbee41cb-d969-4518-bf4a-f913d09feaa2"
      },
      "outputs": [
        {
          "data": {
            "text/plain": [
              "0"
            ]
          },
          "execution_count": 18,
          "metadata": {},
          "output_type": "execute_result"
        }
      ],
      "source": [
        "df_2.duplicated().sum()"
      ]
    },
    {
      "cell_type": "code",
      "execution_count": null,
      "metadata": {
        "id": "2oHUzl-l0RNF",
        "outputId": "5980e8e6-4fb1-4270-cd3a-341751787b0a"
      },
      "outputs": [
        {
          "data": {
            "text/plain": [
              "4"
            ]
          },
          "execution_count": 19,
          "metadata": {},
          "output_type": "execute_result"
        }
      ],
      "source": [
        "df_2['id'].duplicated().sum()"
      ]
    },
    {
      "cell_type": "code",
      "execution_count": null,
      "metadata": {
        "id": "UszemNic0RNF",
        "outputId": "b45d1292-0c1c-4de3-cc07-0f9fc69b8c43"
      },
      "outputs": [
        {
          "data": {
            "text/plain": [
              "0"
            ]
          },
          "execution_count": 20,
          "metadata": {},
          "output_type": "execute_result"
        }
      ],
      "source": [
        "df_2 = df_2.drop_duplicates(subset=['id'], keep='first', ignore_index=True)\n",
        "df_2['id'].duplicated().sum()"
      ]
    },
    {
      "cell_type": "markdown",
      "metadata": {
        "id": "DoL_uNoM0RNF"
      },
      "source": [
        "### Удаление столбца ‘id’."
      ]
    },
    {
      "cell_type": "markdown",
      "metadata": {
        "id": "ADC4qLp60RNF"
      },
      "source": [
        "Удаляем столбец id, так как он не влияет на предсказания модели."
      ]
    },
    {
      "cell_type": "code",
      "execution_count": null,
      "metadata": {
        "id": "NRZGP7ZS0RNG"
      },
      "outputs": [],
      "source": [
        "def plot_correlation_matrix(df, name):\n",
        "    numeric_df = df.select_dtypes(include=np.number)\n",
        "    corr = numeric_df.corr()\n",
        "    plt.figure(figsize=(8, 6))\n",
        "    sns.heatmap(corr, annot=True, cmap='coolwarm')\n",
        "    plt.title(f'Correlation Matrix for {name}')\n",
        "    plt.show()"
      ]
    },
    {
      "cell_type": "code",
      "execution_count": null,
      "metadata": {
        "id": "Th1i_JFQ0RNG",
        "outputId": "4d2f00a9-46c7-4e29-aeb1-8aa8029288f5"
      },
      "outputs": [
        {
          "data": {
            "image/png": "[encoded data removed]",
            "text/plain": [
              "<Figure size 576x432 with 2 Axes>"
            ]
          },
          "metadata": {
            "needs_background": "light"
          },
          "output_type": "display_data"
        }
      ],
      "source": [
        "plot_correlation_matrix(df_0, 'Region 0')"
      ]
    },
    {
      "cell_type": "code",
      "execution_count": null,
      "metadata": {
        "id": "UpMMhFfs0RNG",
        "outputId": "d5098189-566b-4809-d14f-7c3fef4c49f0"
      },
      "outputs": [
        {
          "data": {
            "image/png": "[encoded data removed]",
            "text/plain": [
              "<Figure size 576x432 with 2 Axes>"
            ]
          },
          "metadata": {
            "needs_background": "light"
          },
          "output_type": "display_data"
        }
      ],
      "source": [
        "plot_correlation_matrix(df_1, 'Region 1')"
      ]
    },
    {
      "cell_type": "code",
      "execution_count": null,
      "metadata": {
        "id": "zT1wVxzn0RNG",
        "outputId": "825dd3b1-6285-4576-e059-7ddf323ec9ad"
      },
      "outputs": [
        {
          "data": {
            "image/png": "[encoded data removed]",
            "text/plain": [
              "<Figure size 576x432 with 2 Axes>"
            ]
          },
          "metadata": {
            "needs_background": "light"
          },
          "output_type": "display_data"
        }
      ],
      "source": [
        "plot_correlation_matrix(df_2, 'Region 2')"
      ]
    },
    {
      "cell_type": "code",
      "execution_count": null,
      "metadata": {
        "id": "W0p8HqnQ0RNH"
      },
      "outputs": [],
      "source": [
        "df_0 = df_0.drop('id', axis=1)\n",
        "df_1 = df_1.drop('id', axis=1)\n",
        "df_2 = df_2.drop('id', axis=1)"
      ]
    },
    {
      "cell_type": "markdown",
      "metadata": {
        "id": "Lkv_g7u90RNH"
      },
      "source": [
        "## Обучим и проверим модель для каждого региона"
      ]
    },
    {
      "cell_type": "code",
      "execution_count": null,
      "metadata": {
        "id": "7m8xG-el0RNI",
        "outputId": "3be73b29-09fa-46cb-d5ba-4929d9848602"
      },
      "outputs": [
        {
          "name": "stdout",
          "output_type": "stream",
          "text": [
            "\n",
            "Обработка Региона 0:\n",
            "  RMSE: 37.8535\n",
            "  Средний запас предсказанного сырья: 92.7892\n",
            "\n",
            "Обработка Региона 1:\n",
            "  RMSE: 0.8921\n",
            "  Средний запас предсказанного сырья: 69.1783\n",
            "\n",
            "Обработка Региона 2:\n",
            "  RMSE: 40.0759\n",
            "  Средний запас предсказанного сырья: 94.8657\n"
          ]
        }
      ],
      "source": [
        "TEST_SIZE = 0.25\n",
        "RANDOM_STATE_SPLIT = 12345\n",
        "\n",
        "target_valid_0 = None\n",
        "target_valid_1 = None\n",
        "target_valid_2 = None\n",
        "predictions_0 = None\n",
        "predictions_1 = None\n",
        "predictions_2 = None\n",
        "\n",
        "for i, df in enumerate([df_0, df_1, df_2]):\n",
        "    print(f\"\\nОбработка Региона {i}:\")\n",
        "    features = df.drop('product', axis=1)\n",
        "    target = df['product']\n",
        "\n",
        "    # 2.1. Разобьём данные на обучающую и валидационную выборки в соотношении 75:25.\n",
        "    features_train, features_valid, target_train, target_valid = train_test_split(\n",
        "        features, target, test_size=TEST_SIZE, random_state=RANDOM_STATE_SPLIT)\n",
        "\n",
        "    scaler = StandardScaler()\n",
        "    scaler.fit(features_train)\n",
        "    features_train_scaled = scaler.transform(features_train)\n",
        "    features_valid_scaled = scaler.transform(features_valid)\n",
        "\n",
        "    # 2.2. Обучим модель и сделаем предсказания на валидационной выборке.\n",
        "    model = LinearRegression()\n",
        "    model.fit(features_train_scaled, target_train)\n",
        "    predictions = model.predict(features_valid_scaled)\n",
        "\n",
        "    # 2.3. Сохраним предсказания и правильные ответы на валидационной выборке.\n",
        "    if i == 0:\n",
        "        target_valid_0 = target_valid.values\n",
        "        predictions_0 = predictions\n",
        "    elif i == 1:\n",
        "        target_valid_1 = target_valid.values\n",
        "        predictions_1 = predictions\n",
        "    else:\n",
        "        target_valid_2 = target_valid.values\n",
        "        predictions_2 = predictions\n",
        "\n",
        "    # 2.4. Напечатаем на экране средний запас предсказанного сырья и RMSE модели.\n",
        "    rmse = mean_squared_error(target_valid, predictions)**0.5\n",
        "    mean_prediction = predictions.mean()\n",
        "    print(f\"  RMSE: {rmse:.4f}\")\n",
        "    print(f\"  Средний запас предсказанного сырья: {mean_prediction:.4f}\")"
      ]
    },
    {
      "cell_type": "markdown",
      "metadata": {
        "id": "WWnIEiDp0RNI"
      },
      "source": [
        "### Проанализируем результаты."
      ]
    },
    {
      "cell_type": "markdown",
      "metadata": {
        "id": "f5IJopEf0RNJ"
      },
      "source": [
        "Чем меньше RMSE, тем лучше модель."
      ]
    },
    {
      "cell_type": "markdown",
      "metadata": {
        "id": "RMFUmQbL0RNJ"
      },
      "source": [
        "**Точность моделей:**\n",
        "Модель для Региона 1 показывает значительно более высокую точность (низкий RMSE) по сравнению с Регионом 0 и Регионом 2. Это означает, что модель для Региона 1 лучше предсказывает запасы нефти в скважинах. Модели для регионов 0 и 2 имеют гораздо большую ошибку, следовательно, предсказания будут менее надежными.\n",
        "\n",
        "**Средний запас:**\n",
        "Регион 2 имеет самый высокий средний запас нефти, за ним следует Регион 0. Регион 1 имеет значительно меньший средний запас.\n",
        "\n",
        "*Несмотря на более низкий средний запас, высокая точность модели для Региона 1 делает его привлекательным кандидатом для дальнейшего анализа. Большой разброс предсказаний в регионах 0 и 2 может привести к неверному выбору скважин и, следовательно, к убыткам.*"
      ]
    },
    {
      "cell_type": "markdown",
      "metadata": {
        "id": "tN0D5EUA0RNJ"
      },
      "source": [
        "## Подготовимся к расчёту прибыли:"
      ]
    },
    {
      "cell_type": "markdown",
      "metadata": {
        "id": "XHMHlfbY0RNJ"
      },
      "source": [
        "### Все ключевые значения для расчётов сохраните в отдельных переменных."
      ]
    },
    {
      "cell_type": "code",
      "execution_count": null,
      "metadata": {
        "id": "rDxRXTrs0RNJ"
      },
      "outputs": [],
      "source": [
        "BUDGET = 10_000_000_000\n",
        "REVENUE_PER_PRODUCT = 450_000\n",
        "NUMBER_OF_WELLS = 200\n",
        "TOTAL_WELLS = 500"
      ]
    },
    {
      "cell_type": "markdown",
      "metadata": {
        "id": "39vgfR3P0RNJ"
      },
      "source": [
        "### Рассчитаем достаточный объём сырья для безубыточной разработки новой скважины. Сравним полученный объём сырья со средним запасом в каждом регионе."
      ]
    },
    {
      "cell_type": "code",
      "execution_count": null,
      "metadata": {
        "id": "phDZhuU50RNJ",
        "outputId": "f9b626c9-1fef-4e9f-d320-759ca6fc2c30"
      },
      "outputs": [
        {
          "name": "stdout",
          "output_type": "stream",
          "text": [
            "Точка безубыточности: 111.11111111111111\n"
          ]
        }
      ],
      "source": [
        "BREAKEVEN_POINT = BUDGET / NUMBER_OF_WELLS / REVENUE_PER_PRODUCT\n",
        "print(f\"Точка безубыточности: {BREAKEVEN_POINT}\")"
      ]
    },
    {
      "cell_type": "code",
      "execution_count": null,
      "metadata": {
        "id": "DTm8lFav0RNJ",
        "outputId": "554bcdf5-8fd3-4c04-add8-5794e19dd1ed"
      },
      "outputs": [
        {
          "name": "stdout",
          "output_type": "stream",
          "text": [
            "Средний запас в регионе 0: 92.49968421774354\n",
            "Средний запас в регионе 1: 68.82391591804064\n",
            "Средний запас в регионе 2: 94.99834211933378\n"
          ]
        }
      ],
      "source": [
        "print(f\"Средний запас в регионе 0: {df_0['product'].mean()}\")\n",
        "print(f\"Средний запас в регионе 1: {df_1['product'].mean()}\")\n",
        "print(f\"Средний запас в регионе 2: {df_2['product'].mean()}\")"
      ]
    },
    {
      "cell_type": "markdown",
      "metadata": {
        "id": "SmeQYWoB0RNK"
      },
      "source": [
        "### Напишем выводы по этапу подготовки расчёта прибыли."
      ]
    },
    {
      "cell_type": "markdown",
      "metadata": {
        "id": "Vrp8vNYf0RNK"
      },
      "source": [
        "- Ни один из регионов не имеет среднего запаса, превышающего точку безубыточности. Это означает, что разработка всех скважин в любом из регионов, в среднем, приведет к убыткам.\n",
        "- Регион 2 ближе всего к точке безубыточности. Следовательно, для получения прибыли необходимо тщательно выбирать наиболее перспективные скважины.\n",
        "- Учитывая, что средние запасы ниже точки безубыточности, точность модели становится критически важной для выбора прибыльных скважин. Регион 1 имеет самую точную модель (низкий RMSE), но и самый низкий средний запас. Регионы 0 и 2 имеют больший средний запас, но менее точные модели."
      ]
    },
    {
      "cell_type": "markdown",
      "metadata": {
        "id": "IUGZwedm0RNK"
      },
      "source": [
        "## Напишем функцию для расчёта прибыли по выбранным скважинам и предсказаниям модели"
      ]
    },
    {
      "cell_type": "code",
      "execution_count": null,
      "metadata": {
        "id": "lJyXde5Q0RNK"
      },
      "outputs": [],
      "source": [
        "def calculate_profit(best_wells, target):\n",
        "\n",
        "    # 4.1. Выберем скважины с максимальными значениями предсказаний.\n",
        "    predicted_best = pd.Series(best_wells).sort_values(ascending=False).head(NUMBER_OF_WELLS)\n",
        "\n",
        "    # 4.2. Просуммируем целевое значение объёма сырья, соответствующее этим предсказаниям.\n",
        "    target_best = pd.Series(target).iloc[predicted_best.index]\n",
        "    total_volume = target_best.sum()\n",
        "\n",
        "    # 4.3. Рассчитаем прибыль для полученного объёма сырья.\n",
        "    profit = total_volume * REVENUE_PER_PRODUCT - BUDGET\n",
        "    return profit"
      ]
    },
    {
      "cell_type": "code",
      "execution_count": null,
      "metadata": {
        "id": "MJY7odjx0RNK",
        "outputId": "749aa26f-03e5-474a-92ff-5800458b3e77"
      },
      "outputs": [
        {
          "name": "stdout",
          "output_type": "stream",
          "text": [
            "Прибыль для региона 0: 3365187237.700287\n",
            "Прибыль для региона 1: 2415086696.681511\n",
            "Прибыль для региона 2: 2501283853.2820625\n"
          ]
        }
      ],
      "source": [
        "profit_0 = calculate_profit(predictions_0, target_valid_0)\n",
        "profit_1 = calculate_profit(predictions_1, target_valid_1)\n",
        "profit_2 = calculate_profit(predictions_2, target_valid_2)\n",
        "\n",
        "print(f\"Прибыль для региона 0: {profit_0}\")\n",
        "print(f\"Прибыль для региона 1: {profit_1}\")\n",
        "print(f\"Прибыль для региона 2: {profit_2}\")"
      ]
    },
    {
      "cell_type": "markdown",
      "metadata": {
        "id": "o-OF59M_0RNK"
      },
      "source": [
        "## Посчитаем риски и прибыль для каждого региона:"
      ]
    },
    {
      "cell_type": "markdown",
      "metadata": {
        "id": "4_ng5-1S0RNK"
      },
      "source": [
        "### Применим технику Bootstrap с 1000 выборок, чтобы найти распределение прибыли."
      ]
    },
    {
      "cell_type": "code",
      "execution_count": null,
      "metadata": {
        "id": "yPuh5FHz0RNK"
      },
      "outputs": [],
      "source": [
        "N_SAMPLES = 1000\n",
        "RANDOM_STATE_BOOTSTRAP = np.random.RandomState(12345)\n",
        "TOTAL_WELLS = 500\n",
        "\n",
        "def bootstrap(target_valid, predictions, n_samples=N_SAMPLES, random_state=RANDOM_STATE_BOOTSTRAP):\n",
        "\n",
        "    values = []\n",
        "    for _ in range(n_samples):\n",
        "        # 5.1. Bootstrap: Создаем случайную подвыборку с возвращением\n",
        "        sample_idx = random_state.randint(0, len(target_valid), TOTAL_WELLS)\n",
        "        target_sample = target_valid[sample_idx]\n",
        "        predictions_sample = predictions[sample_idx]\n",
        "\n",
        "        profit = calculate_profit(predictions_sample, target_sample)\n",
        "        values.append(profit)\n",
        "    return np.array(values)"
      ]
    },
    {
      "cell_type": "code",
      "execution_count": null,
      "metadata": {
        "id": "WQ6nLQVh0RNK"
      },
      "outputs": [],
      "source": [
        "def calculate_confidence_interval(values, alpha=0.05):\n",
        "    \"\"\"Рассчитывает доверительный интервал.\"\"\"\n",
        "    lower = np.quantile(values, alpha / 2)\n",
        "    upper = np.quantile(values, 1 - alpha / 2)\n",
        "    return lower, upper\n",
        "\n",
        "\n",
        "def calculate_loss_probability(values):\n",
        "    \"\"\"Рассчитывает вероятность убытков.\"\"\"\n",
        "    loss_probability = np.mean(values < 0)\n",
        "    return loss_probability"
      ]
    },
    {
      "cell_type": "code",
      "execution_count": null,
      "metadata": {
        "id": "v0U4mcNt0RNL"
      },
      "outputs": [],
      "source": [
        "values_0 = bootstrap(target_valid_0, predictions_0)\n",
        "values_1 = bootstrap(target_valid_1, predictions_1)\n",
        "values_2 = bootstrap(target_valid_2, predictions_2)"
      ]
    },
    {
      "cell_type": "markdown",
      "metadata": {
        "id": "aoVO6ylE0RNL"
      },
      "source": [
        "### Найдём среднюю прибыль, 95%-й доверительный интервал и риск убытков. Убыток — это отрицательная прибыль."
      ]
    },
    {
      "cell_type": "code",
      "execution_count": null,
      "metadata": {
        "id": "yBEkowSm0RNL"
      },
      "outputs": [],
      "source": [
        "def analyze_region(values, region_name):\n",
        "    \"\"\"Анализирует результаты Bootstrap для региона.\"\"\"\n",
        "    mean_profit = np.mean(values)\n",
        "    lower_confidence_interval, upper_confidence_interval = calculate_confidence_interval(values)\n",
        "    loss_probability = calculate_loss_probability(values)\n",
        "\n",
        "    print(f\"Регион {region_name}:\")\n",
        "    print(f\"  Средняя прибыль: {mean_profit:.2f}\")\n",
        "    print(f\"  95% Доверительный интервал: ({lower_confidence_interval:.2f}, {upper_confidence_interval:.2f})\")\n",
        "    print(f\"  Вероятность убытков: {loss_probability:.4f}\")\n",
        "    return mean_profit, lower_confidence_interval, loss_probability"
      ]
    },
    {
      "cell_type": "code",
      "execution_count": null,
      "metadata": {
        "id": "4soXbAjo0RNL",
        "outputId": "6ae58814-659a-4b71-9d41-62ba63a5eb58"
      },
      "outputs": [
        {
          "name": "stdout",
          "output_type": "stream",
          "text": [
            "Регион 0:\n",
            "  Средняя прибыль: 380613470.02\n",
            "  95% Доверительный интервал: (-142942739.74, 890976833.85)\n",
            "  Вероятность убытков: 0.0770\n",
            "Регион 1:\n",
            "  Средняя прибыль: 479159869.98\n",
            "  95% Доверительный интервал: (73849212.02, 917953817.72)\n",
            "  Вероятность убытков: 0.0060\n",
            "Регион 2:\n",
            "  Средняя прибыль: 315441916.02\n",
            "  95% Доверительный интервал: (-216265050.03, 811060708.24)\n",
            "  Вероятность убытков: 0.1240\n"
          ]
        }
      ],
      "source": [
        "results_0 = analyze_region(values_0, 0)\n",
        "results_1 = analyze_region(values_1, 1)\n",
        "results_2 = analyze_region(values_2, 2)"
      ]
    },
    {
      "cell_type": "code",
      "execution_count": null,
      "metadata": {
        "id": "-6g7NV5S0RNL"
      },
      "outputs": [],
      "source": [
        "def visualize_results(values, region_name):\n",
        "    \"\"\"Визуализирует результаты Bootstrap.\"\"\"\n",
        "    plt.figure(figsize=(10, 6))\n",
        "    sns.histplot(values, kde=True)\n",
        "    plt.title(f'Распределение прибыли (Регион {region_name})')\n",
        "    plt.xlabel('Прибыль')\n",
        "    plt.ylabel('Частота')\n",
        "\n",
        "    lower, upper = calculate_confidence_interval(values)\n",
        "    plt.axvline(lower, color='red', linestyle='--', label=f'Нижняя граница ДИ: {lower:.2f}')\n",
        "    plt.axvline(upper, color='red', linestyle='--', label=f'Верхняя граница ДИ: {upper:.2f}')\n",
        "\n",
        "    plt.axvline(0, color='green', linestyle='-', label='Нулевая прибыль')\n",
        "\n",
        "    plt.legend()\n",
        "    plt.show()"
      ]
    },
    {
      "cell_type": "code",
      "execution_count": null,
      "metadata": {
        "id": "EyQLGyYP0RNL",
        "outputId": "6631c74a-674b-4c95-b604-1218311f90d7"
      },
      "outputs": [
        {
          "data": {
            "image/png": "[encoded data removed]",
            "text/plain": [
              "<Figure size 720x432 with 1 Axes>"
            ]
          },
          "metadata": {
            "needs_background": "light"
          },
          "output_type": "display_data"
        }
      ],
      "source": [
        "visualize_results(values_0, 0)"
      ]
    },
    {
      "cell_type": "code",
      "execution_count": null,
      "metadata": {
        "id": "02Nux6t50RNL",
        "outputId": "ca4aec2f-5013-4b4e-ecd2-4d5af92e3623"
      },
      "outputs": [
        {
          "data": {
            "image/png": "[encoded data removed]",
            "text/plain": [
              "<Figure size 720x432 with 1 Axes>"
            ]
          },
          "metadata": {
            "needs_background": "light"
          },
          "output_type": "display_data"
        }
      ],
      "source": [
        "visualize_results(values_1, 1)"
      ]
    },
    {
      "cell_type": "code",
      "execution_count": null,
      "metadata": {
        "id": "QkjtrRJs0RNL",
        "outputId": "51a96424-2cfa-4fdf-b3b9-42127b72c675"
      },
      "outputs": [
        {
          "data": {
            "image/png": "[encoded data removed]",
            "text/plain": [
              "<Figure size 720x432 with 1 Axes>"
            ]
          },
          "metadata": {
            "needs_background": "light"
          },
          "output_type": "display_data"
        }
      ],
      "source": [
        "visualize_results(values_2, 2)"
      ]
    },
    {
      "cell_type": "markdown",
      "metadata": {
        "id": "g6AhcrCE0RNL"
      },
      "source": [
        "### Напишем выводы: предложите регион для разработки скважин и обоснуйте выбор."
      ]
    },
    {
      "cell_type": "code",
      "execution_count": null,
      "metadata": {
        "id": "igMDKVL00RNL"
      },
      "outputs": [],
      "source": [
        "region_results = [results_0, results_1, results_2]"
      ]
    },
    {
      "cell_type": "code",
      "execution_count": null,
      "metadata": {
        "id": "O58M478G0RNM"
      },
      "outputs": [],
      "source": [
        "profitable_regions = []\n",
        "for i, (mean_profit, _, loss_probability) in enumerate(region_results):\n",
        "    if loss_probability < 0.025:\n",
        "        profitable_regions.append((i, mean_profit))"
      ]
    },
    {
      "cell_type": "code",
      "execution_count": null,
      "metadata": {
        "id": "z_Hyq88r0RNM",
        "outputId": "80cb8c70-a18c-4077-adae-d16072d82c5b"
      },
      "outputs": [
        {
          "name": "stdout",
          "output_type": "stream",
          "text": [
            "    - Вероятность убытков для Региона 1: 0.0060 (меньше 2.5%).\n",
            "    - Средняя прибыль для Региона 1: 479159869.98.\n"
          ]
        }
      ],
      "source": [
        "best_region_data = max(profitable_regions, key=lambda item: item[1])\n",
        "best_region_index = best_region_data[0]\n",
        "best_mean_profit = best_region_data[1]\n",
        "\n",
        "print(f\"    - Вероятность убытков для Региона {best_region_index}: {region_results[best_region_index][2]:.4f} (меньше 2.5%).\")\n",
        "print(f\"    - Средняя прибыль для Региона {best_region_index}: {best_mean_profit:.2f}.\")"
      ]
    },
    {
      "cell_type": "markdown",
      "metadata": {
        "id": "QDgWgmGd0RNM"
      },
      "source": [
        "Регион 0 является наиболее привлекательным для разработки, поскольку он имеет вероятность убытков менее 2.5% и самую высокую среднюю прибыль."
      ]
    },
    {
      "cell_type": "markdown",
      "metadata": {
        "id": "DL3nwkF40RNM"
      },
      "source": [
        "# Общий вывод"
      ]
    },
    {
      "cell_type": "markdown",
      "metadata": {
        "id": "FRp41-8r0RNM"
      },
      "source": [
        "**1. Загрузили и подготовили данные.** Провели первичный анализ данных, включающий проверку на наличие дубликатов и пропусков. Столбец с идентификаторами скважин (id) был удален, потому что не несет полезной информации для обучения модели.\n",
        "\n",
        "**2. Обучили и проверили модель каждого региона.** Данные были разделены на обучающую и валидационную выборки в соотношении 75:25. Для повышения качества обучения моделей было выполнено масштабирование признаков с использованием StandardScaler. Оценка качества моделей проводилась на валидационной выборке с использованием метрики RMSE (Root Mean Squared Error).\n",
        "Наименьшее значение RMSE было достигнуто для модели, обученной на данных по Региону 1, что свидетельствует о наиболее точных предсказаниях запасов нефти в этом регионе.\n",
        "Модели для Регионов 0 и 2 показали значительно более высокие значения RMSE, что говорит о большей погрешности предсказаний.\n",
        "\n",
        "**3. Подготовились к расчёту прибыли.** Определили: бюджет на разработку месторождений в каждом регионе (10 млрд. рублей), доход с каждой тысячи баррелей нефти (450 тыс. рублей) и количество скважин, которые планируется разрабатывать (200). Рассчитали точка безубыточности для разработки одной скважины (111.11 тыс. баррелей). Сравнили точки безубыточности со средними запасами в каждом регионе показало, что ни в одном из регионов средние запасы не превышают точку безубыточности, что подчеркивает важность точного выбора наиболее перспективных скважин.\n",
        "\n",
        "**4. Написали функцию для расчёта прибыли по выбранным скважинам и предсказаниям модели.** На основе предсказаний моделей для каждого региона были отобраны 200 скважин с наибольшими предсказанными запасами. Рассчитана суммарная прибыль от разработки этих скважин с учетом бюджета и дохода с каждой единицы продукции.\n",
        "\n",
        "**5. Посчитали риски и прибыль для каждого региона.** Для оценки стабильности прибыли и рисков убытков была применена техника Bootstrap с 1000 итераций. Для каждого региона были рассчитаны средняя прибыль, 95% доверительный интервал для прибыли и вероятность убытков. На основе результатов Bootstrap были отобраны регионы, для которых вероятность убытков не превышает 2.5%. Среди этих регионов был выбран тот, для которого средняя прибыль является максимальной.\n",
        "\n",
        "`По результатам проведенного анализа, наиболее привлекательным регионом для разработки является Регион 0. Он соответствует критерию минимального риска убытков (вероятность убытков менее 2.5%) и обеспечивает наибольшую среднюю прибыль по сравнению с другими регионами.`"
      ]
    }
  ],
  "metadata": {
    "ExecuteTimeLog": [
      {
        "duration": 12,
        "start_time": "2025-03-28T16:34:30.916Z"
      },
      {
        "duration": 1527,
        "start_time": "2025-06-30T08:00:54.779Z"
      },
      {
        "duration": 145,
        "start_time": "2025-06-30T08:00:57.498Z"
      },
      {
        "duration": 64,
        "start_time": "2025-06-30T08:01:11.929Z"
      },
      {
        "duration": 56,
        "start_time": "2025-06-30T08:01:12.895Z"
      },
      {
        "duration": 80,
        "start_time": "2025-06-30T08:02:36.524Z"
      },
      {
        "duration": 3,
        "start_time": "2025-06-30T08:05:09.743Z"
      },
      {
        "duration": 152,
        "start_time": "2025-06-30T08:05:11.338Z"
      },
      {
        "duration": 68,
        "start_time": "2025-06-30T08:05:54.013Z"
      },
      {
        "duration": 3,
        "start_time": "2025-06-30T08:09:54.794Z"
      },
      {
        "duration": 66,
        "start_time": "2025-06-30T08:09:55.622Z"
      },
      {
        "duration": 3,
        "start_time": "2025-06-30T08:11:33.809Z"
      },
      {
        "duration": 62,
        "start_time": "2025-06-30T08:11:45.780Z"
      },
      {
        "duration": 1818,
        "start_time": "2025-08-15T14:54:06.874Z"
      },
      {
        "duration": 165,
        "start_time": "2025-08-15T14:54:08.695Z"
      },
      {
        "duration": 1334,
        "start_time": "2025-08-15T14:57:59.597Z"
      },
      {
        "duration": 567,
        "start_time": "2025-08-15T14:59:01.462Z"
      },
      {
        "duration": 407,
        "start_time": "2025-08-15T14:59:23.468Z"
      },
      {
        "duration": 22,
        "start_time": "2025-08-15T15:00:12.919Z"
      },
      {
        "duration": 55,
        "start_time": "2025-08-15T15:00:30.770Z"
      },
      {
        "duration": 183,
        "start_time": "2025-08-15T15:00:51.996Z"
      },
      {
        "duration": 436,
        "start_time": "2025-08-15T15:01:12.339Z"
      },
      {
        "duration": 6,
        "start_time": "2025-08-15T15:01:27.037Z"
      },
      {
        "duration": 9,
        "start_time": "2025-08-15T15:01:43.061Z"
      },
      {
        "duration": 3,
        "start_time": "2025-08-15T15:01:59.506Z"
      },
      {
        "duration": 7,
        "start_time": "2025-08-15T15:02:11.094Z"
      },
      {
        "duration": 19,
        "start_time": "2025-08-15T15:02:30.906Z"
      },
      {
        "duration": 104,
        "start_time": "2025-08-15T15:02:48.679Z"
      },
      {
        "duration": 18,
        "start_time": "2025-08-15T15:03:25.447Z"
      },
      {
        "duration": 13,
        "start_time": "2025-08-15T15:03:40.967Z"
      },
      {
        "duration": 12,
        "start_time": "2025-08-15T15:03:53.541Z"
      },
      {
        "duration": 3,
        "start_time": "2025-08-15T15:04:31.121Z"
      },
      {
        "duration": 4,
        "start_time": "2025-08-15T15:04:36.967Z"
      },
      {
        "duration": 477,
        "start_time": "2025-08-15T15:04:37.807Z"
      },
      {
        "duration": 125,
        "start_time": "2025-08-15T15:05:34.916Z"
      },
      {
        "duration": 19,
        "start_time": "2025-08-15T15:06:07.594Z"
      },
      {
        "duration": 18,
        "start_time": "2025-08-15T15:06:20.779Z"
      },
      {
        "duration": 61,
        "start_time": "2025-08-15T15:06:45.484Z"
      },
      {
        "duration": 40,
        "start_time": "2025-08-15T15:07:00.725Z"
      },
      {
        "duration": 10,
        "start_time": "2025-08-15T15:08:33.319Z"
      },
      {
        "duration": 14,
        "start_time": "2025-08-15T15:08:34.253Z"
      },
      {
        "duration": 42,
        "start_time": "2025-08-15T15:08:34.927Z"
      },
      {
        "duration": 55,
        "start_time": "2025-08-15T15:08:35.887Z"
      },
      {
        "duration": 11,
        "start_time": "2025-08-15T15:09:19.343Z"
      },
      {
        "duration": 18,
        "start_time": "2025-08-15T15:09:20.183Z"
      },
      {
        "duration": 46,
        "start_time": "2025-08-15T15:09:20.873Z"
      },
      {
        "duration": 65,
        "start_time": "2025-08-15T15:09:21.473Z"
      },
      {
        "duration": 13,
        "start_time": "2025-08-15T15:13:23.690Z"
      },
      {
        "duration": 40,
        "start_time": "2025-08-15T15:14:47.062Z"
      },
      {
        "duration": 37,
        "start_time": "2025-08-15T15:15:48.426Z"
      },
      {
        "duration": 380,
        "start_time": "2025-08-15T15:16:42.482Z"
      },
      {
        "duration": 6,
        "start_time": "2025-08-15T15:17:20.135Z"
      },
      {
        "duration": 4,
        "start_time": "2025-08-15T15:19:11.280Z"
      },
      {
        "duration": 5,
        "start_time": "2025-08-15T15:19:27.393Z"
      },
      {
        "duration": 5,
        "start_time": "2025-08-15T15:19:34.816Z"
      },
      {
        "duration": 5,
        "start_time": "2025-08-15T15:19:40.110Z"
      },
      {
        "duration": 5,
        "start_time": "2025-08-15T15:19:40.640Z"
      },
      {
        "duration": 4,
        "start_time": "2025-08-15T15:26:24.045Z"
      },
      {
        "duration": 7,
        "start_time": "2025-08-15T15:27:09.163Z"
      },
      {
        "duration": 4,
        "start_time": "2025-08-15T15:27:30.304Z"
      },
      {
        "duration": 6,
        "start_time": "2025-08-15T15:27:31.159Z"
      },
      {
        "duration": 18,
        "start_time": "2025-08-15T15:38:54.604Z"
      },
      {
        "duration": 5,
        "start_time": "2025-08-15T15:40:14.250Z"
      },
      {
        "duration": 39,
        "start_time": "2025-08-15T15:40:27.006Z"
      },
      {
        "duration": 13,
        "start_time": "2025-08-15T15:40:53.299Z"
      },
      {
        "duration": 4,
        "start_time": "2025-08-15T15:41:43.610Z"
      },
      {
        "duration": 466,
        "start_time": "2025-08-15T15:41:44.807Z"
      },
      {
        "duration": 12,
        "start_time": "2025-08-15T15:41:45.862Z"
      },
      {
        "duration": 18,
        "start_time": "2025-08-15T15:41:46.278Z"
      },
      {
        "duration": 49,
        "start_time": "2025-08-15T15:41:46.547Z"
      },
      {
        "duration": 70,
        "start_time": "2025-08-15T15:41:46.750Z"
      },
      {
        "duration": 12,
        "start_time": "2025-08-15T15:41:47.193Z"
      },
      {
        "duration": 19,
        "start_time": "2025-08-15T15:41:47.553Z"
      },
      {
        "duration": 47,
        "start_time": "2025-08-15T15:41:47.839Z"
      },
      {
        "duration": 48,
        "start_time": "2025-08-15T15:41:48.055Z"
      },
      {
        "duration": 12,
        "start_time": "2025-08-15T15:41:48.530Z"
      },
      {
        "duration": 19,
        "start_time": "2025-08-15T15:41:48.714Z"
      },
      {
        "duration": 50,
        "start_time": "2025-08-15T15:41:48.947Z"
      },
      {
        "duration": 56,
        "start_time": "2025-08-15T15:41:49.164Z"
      },
      {
        "duration": 14,
        "start_time": "2025-08-15T15:41:49.802Z"
      },
      {
        "duration": 38,
        "start_time": "2025-08-15T15:41:50.508Z"
      },
      {
        "duration": 428,
        "start_time": "2025-08-15T15:41:50.943Z"
      },
      {
        "duration": 7,
        "start_time": "2025-08-15T15:41:51.753Z"
      },
      {
        "duration": 4,
        "start_time": "2025-08-15T15:41:52.277Z"
      },
      {
        "duration": 6,
        "start_time": "2025-08-15T15:41:52.577Z"
      },
      {
        "duration": 4,
        "start_time": "2025-08-15T15:41:52.922Z"
      },
      {
        "duration": 4,
        "start_time": "2025-08-15T15:41:53.131Z"
      },
      {
        "duration": 3,
        "start_time": "2025-08-15T15:41:54.812Z"
      },
      {
        "duration": 4,
        "start_time": "2025-08-15T15:41:55.293Z"
      },
      {
        "duration": 6,
        "start_time": "2025-08-15T15:41:55.530Z"
      },
      {
        "duration": 16,
        "start_time": "2025-08-15T15:41:57.138Z"
      },
      {
        "duration": 5,
        "start_time": "2025-08-15T15:41:59.268Z"
      },
      {
        "duration": 31,
        "start_time": "2025-08-15T15:42:00.296Z"
      },
      {
        "duration": 4,
        "start_time": "2025-08-15T15:49:06.108Z"
      },
      {
        "duration": 18,
        "start_time": "2025-08-15T15:49:07.741Z"
      },
      {
        "duration": 17,
        "start_time": "2025-08-15T15:49:26.297Z"
      },
      {
        "duration": 14,
        "start_time": "2025-08-15T15:51:48.152Z"
      },
      {
        "duration": 5,
        "start_time": "2025-08-15T15:59:06.357Z"
      },
      {
        "duration": 5,
        "start_time": "2025-08-15T15:59:59.399Z"
      },
      {
        "duration": 14,
        "start_time": "2025-08-15T16:00:19.915Z"
      },
      {
        "duration": 5,
        "start_time": "2025-08-15T16:01:06.214Z"
      },
      {
        "duration": 13,
        "start_time": "2025-08-15T16:01:06.646Z"
      },
      {
        "duration": 4,
        "start_time": "2025-08-15T16:01:29.298Z"
      },
      {
        "duration": 12,
        "start_time": "2025-08-15T16:01:54.282Z"
      },
      {
        "duration": 14,
        "start_time": "2025-08-15T16:02:22.888Z"
      },
      {
        "duration": 4,
        "start_time": "2025-08-15T16:02:28.200Z"
      },
      {
        "duration": 469,
        "start_time": "2025-08-15T16:02:29.099Z"
      },
      {
        "duration": 12,
        "start_time": "2025-08-15T16:02:29.867Z"
      },
      {
        "duration": 19,
        "start_time": "2025-08-15T16:02:30.132Z"
      },
      {
        "duration": 46,
        "start_time": "2025-08-15T16:02:30.738Z"
      },
      {
        "duration": 56,
        "start_time": "2025-08-15T16:02:30.984Z"
      },
      {
        "duration": 11,
        "start_time": "2025-08-15T16:02:31.211Z"
      },
      {
        "duration": 18,
        "start_time": "2025-08-15T16:02:31.373Z"
      },
      {
        "duration": 54,
        "start_time": "2025-08-15T16:02:31.585Z"
      },
      {
        "duration": 55,
        "start_time": "2025-08-15T16:02:31.763Z"
      },
      {
        "duration": 11,
        "start_time": "2025-08-15T16:02:32.040Z"
      },
      {
        "duration": 18,
        "start_time": "2025-08-15T16:02:32.229Z"
      },
      {
        "duration": 44,
        "start_time": "2025-08-15T16:02:32.424Z"
      },
      {
        "duration": 61,
        "start_time": "2025-08-15T16:02:32.588Z"
      },
      {
        "duration": 13,
        "start_time": "2025-08-15T16:02:33.373Z"
      },
      {
        "duration": 37,
        "start_time": "2025-08-15T16:02:34.216Z"
      },
      {
        "duration": 365,
        "start_time": "2025-08-15T16:02:35.208Z"
      },
      {
        "duration": 6,
        "start_time": "2025-08-15T16:02:37.156Z"
      },
      {
        "duration": 5,
        "start_time": "2025-08-15T16:02:37.891Z"
      },
      {
        "duration": 5,
        "start_time": "2025-08-15T16:02:38.326Z"
      },
      {
        "duration": 4,
        "start_time": "2025-08-15T16:02:38.624Z"
      },
      {
        "duration": 5,
        "start_time": "2025-08-15T16:02:39.092Z"
      },
      {
        "duration": 4,
        "start_time": "2025-08-15T16:02:40.981Z"
      },
      {
        "duration": 5,
        "start_time": "2025-08-15T16:02:42.243Z"
      },
      {
        "duration": 7,
        "start_time": "2025-08-15T16:02:42.750Z"
      },
      {
        "duration": 5,
        "start_time": "2025-08-15T16:02:44.939Z"
      },
      {
        "duration": 16,
        "start_time": "2025-08-15T16:02:45.691Z"
      },
      {
        "duration": 6,
        "start_time": "2025-08-15T16:02:47.925Z"
      },
      {
        "duration": 5,
        "start_time": "2025-08-15T16:02:49.350Z"
      },
      {
        "duration": 14,
        "start_time": "2025-08-15T16:02:50.101Z"
      },
      {
        "duration": 5,
        "start_time": "2025-08-15T16:05:54.451Z"
      },
      {
        "duration": 4,
        "start_time": "2025-08-15T16:06:08.221Z"
      },
      {
        "duration": 25,
        "start_time": "2025-08-15T16:06:32.757Z"
      },
      {
        "duration": 12,
        "start_time": "2025-08-15T16:08:49.558Z"
      },
      {
        "duration": 2,
        "start_time": "2025-08-15T16:09:09.540Z"
      },
      {
        "duration": 453,
        "start_time": "2025-08-15T16:09:10.001Z"
      },
      {
        "duration": 13,
        "start_time": "2025-08-15T16:09:10.459Z"
      },
      {
        "duration": 19,
        "start_time": "2025-08-15T16:09:10.753Z"
      },
      {
        "duration": 48,
        "start_time": "2025-08-15T16:09:11.060Z"
      },
      {
        "duration": 53,
        "start_time": "2025-08-15T16:09:11.415Z"
      },
      {
        "duration": 728,
        "start_time": "2025-08-15T16:09:11.699Z"
      },
      {
        "duration": 27,
        "start_time": "2025-08-15T16:09:12.430Z"
      },
      {
        "duration": 45,
        "start_time": "2025-08-15T16:09:12.460Z"
      },
      {
        "duration": 280,
        "start_time": "2025-08-15T16:09:12.507Z"
      },
      {
        "duration": 12,
        "start_time": "2025-08-15T16:09:12.789Z"
      },
      {
        "duration": 207,
        "start_time": "2025-08-15T16:09:12.803Z"
      },
      {
        "duration": 58,
        "start_time": "2025-08-15T16:09:13.013Z"
      },
      {
        "duration": 54,
        "start_time": "2025-08-15T16:09:13.162Z"
      },
      {
        "duration": 11,
        "start_time": "2025-08-15T16:09:13.890Z"
      },
      {
        "duration": 37,
        "start_time": "2025-08-15T16:09:14.685Z"
      },
      {
        "duration": 428,
        "start_time": "2025-08-15T16:09:15.840Z"
      },
      {
        "duration": 7,
        "start_time": "2025-08-15T16:09:16.933Z"
      },
      {
        "duration": 12,
        "start_time": "2025-08-15T16:09:17.401Z"
      },
      {
        "duration": 11,
        "start_time": "2025-08-15T16:12:27.272Z"
      },
      {
        "duration": 405,
        "start_time": "2025-08-15T16:12:54.673Z"
      },
      {
        "duration": 3,
        "start_time": "2025-08-15T16:12:59.248Z"
      },
      {
        "duration": 472,
        "start_time": "2025-08-15T16:12:59.546Z"
      },
      {
        "duration": 11,
        "start_time": "2025-08-15T16:13:00.021Z"
      },
      {
        "duration": 19,
        "start_time": "2025-08-15T16:13:00.202Z"
      },
      {
        "duration": 43,
        "start_time": "2025-08-15T16:13:00.414Z"
      },
      {
        "duration": 67,
        "start_time": "2025-08-15T16:13:00.638Z"
      },
      {
        "duration": 12,
        "start_time": "2025-08-15T16:13:00.929Z"
      },
      {
        "duration": 17,
        "start_time": "2025-08-15T16:13:01.245Z"
      },
      {
        "duration": 48,
        "start_time": "2025-08-15T16:13:01.483Z"
      },
      {
        "duration": 57,
        "start_time": "2025-08-15T16:13:01.687Z"
      },
      {
        "duration": 11,
        "start_time": "2025-08-15T16:13:02.171Z"
      },
      {
        "duration": 19,
        "start_time": "2025-08-15T16:13:02.533Z"
      },
      {
        "duration": 45,
        "start_time": "2025-08-15T16:13:02.865Z"
      },
      {
        "duration": 58,
        "start_time": "2025-08-15T16:13:03.602Z"
      },
      {
        "duration": 12,
        "start_time": "2025-08-15T16:13:06.867Z"
      },
      {
        "duration": 413,
        "start_time": "2025-08-15T16:13:08.264Z"
      },
      {
        "duration": 4,
        "start_time": "2025-08-15T16:13:20.311Z"
      },
      {
        "duration": 4,
        "start_time": "2025-08-15T16:13:21.117Z"
      },
      {
        "duration": 7,
        "start_time": "2025-08-15T16:13:21.645Z"
      },
      {
        "duration": 4,
        "start_time": "2025-08-15T16:13:23.086Z"
      },
      {
        "duration": 19,
        "start_time": "2025-08-15T16:13:24.091Z"
      },
      {
        "duration": 5,
        "start_time": "2025-08-15T16:13:26.535Z"
      },
      {
        "duration": 5,
        "start_time": "2025-08-15T16:13:27.449Z"
      },
      {
        "duration": 26,
        "start_time": "2025-08-15T16:13:28.186Z"
      },
      {
        "duration": 394,
        "start_time": "2025-08-15T16:16:36.281Z"
      },
      {
        "duration": 4,
        "start_time": "2025-08-15T16:16:43.724Z"
      },
      {
        "duration": 5,
        "start_time": "2025-08-15T16:16:44.819Z"
      },
      {
        "duration": 7,
        "start_time": "2025-08-15T16:16:45.540Z"
      },
      {
        "duration": 4,
        "start_time": "2025-08-15T16:16:48.029Z"
      },
      {
        "duration": 17,
        "start_time": "2025-08-15T16:16:48.885Z"
      },
      {
        "duration": 6,
        "start_time": "2025-08-15T16:16:54.044Z"
      },
      {
        "duration": 4,
        "start_time": "2025-08-15T16:16:54.825Z"
      },
      {
        "duration": 26,
        "start_time": "2025-08-15T16:16:58.319Z"
      },
      {
        "duration": 423,
        "start_time": "2025-08-15T16:19:33.250Z"
      },
      {
        "duration": 369,
        "start_time": "2025-08-15T16:19:39.999Z"
      },
      {
        "duration": 3,
        "start_time": "2025-08-15T16:19:41.648Z"
      },
      {
        "duration": 4,
        "start_time": "2025-08-15T16:19:42.131Z"
      },
      {
        "duration": 8,
        "start_time": "2025-08-15T16:19:42.321Z"
      },
      {
        "duration": 4,
        "start_time": "2025-08-15T16:19:43.316Z"
      },
      {
        "duration": 17,
        "start_time": "2025-08-15T16:19:43.600Z"
      },
      {
        "duration": 6,
        "start_time": "2025-08-15T16:19:44.696Z"
      },
      {
        "duration": 4,
        "start_time": "2025-08-15T16:19:44.996Z"
      },
      {
        "duration": 11991,
        "start_time": "2025-08-15T16:19:45.310Z"
      },
      {
        "duration": 444,
        "start_time": "2025-08-15T16:21:17.332Z"
      },
      {
        "duration": 3,
        "start_time": "2025-08-15T16:21:44.785Z"
      },
      {
        "duration": 5,
        "start_time": "2025-08-15T16:21:45.307Z"
      },
      {
        "duration": 8,
        "start_time": "2025-08-15T16:21:45.578Z"
      },
      {
        "duration": 7,
        "start_time": "2025-08-15T16:21:46.702Z"
      },
      {
        "duration": 19,
        "start_time": "2025-08-15T16:21:46.940Z"
      },
      {
        "duration": 5,
        "start_time": "2025-08-15T16:21:47.587Z"
      },
      {
        "duration": 4,
        "start_time": "2025-08-15T16:21:47.826Z"
      },
      {
        "duration": 11898,
        "start_time": "2025-08-15T16:21:48.863Z"
      },
      {
        "duration": 10,
        "start_time": "2025-08-15T16:22:21.157Z"
      },
      {
        "duration": 5,
        "start_time": "2025-08-15T16:22:33.035Z"
      },
      {
        "duration": 7,
        "start_time": "2025-08-15T16:22:33.787Z"
      },
      {
        "duration": 3,
        "start_time": "2025-08-15T16:22:52.489Z"
      },
      {
        "duration": 7,
        "start_time": "2025-08-15T16:23:08.584Z"
      },
      {
        "duration": 5,
        "start_time": "2025-08-15T16:27:16.803Z"
      },
      {
        "duration": 5,
        "start_time": "2025-08-15T16:27:42.538Z"
      },
      {
        "duration": 3,
        "start_time": "2025-08-15T16:47:14.442Z"
      },
      {
        "duration": 478,
        "start_time": "2025-08-15T16:47:14.905Z"
      },
      {
        "duration": 5,
        "start_time": "2025-08-15T16:47:31.722Z"
      },
      {
        "duration": 479,
        "start_time": "2025-08-15T16:47:37.181Z"
      },
      {
        "duration": 11,
        "start_time": "2025-08-15T16:47:44.293Z"
      },
      {
        "duration": 18,
        "start_time": "2025-08-15T16:47:44.741Z"
      },
      {
        "duration": 51,
        "start_time": "2025-08-15T16:47:45.463Z"
      },
      {
        "duration": 69,
        "start_time": "2025-08-15T16:47:45.808Z"
      },
      {
        "duration": 12,
        "start_time": "2025-08-15T16:47:46.073Z"
      },
      {
        "duration": 18,
        "start_time": "2025-08-15T16:47:46.406Z"
      },
      {
        "duration": 63,
        "start_time": "2025-08-15T16:47:46.693Z"
      },
      {
        "duration": 56,
        "start_time": "2025-08-15T16:47:47.185Z"
      },
      {
        "duration": 10,
        "start_time": "2025-08-15T16:47:47.800Z"
      },
      {
        "duration": 18,
        "start_time": "2025-08-15T16:47:48.035Z"
      },
      {
        "duration": 46,
        "start_time": "2025-08-15T16:47:48.641Z"
      },
      {
        "duration": 61,
        "start_time": "2025-08-15T16:47:48.905Z"
      },
      {
        "duration": 12,
        "start_time": "2025-08-15T16:47:55.721Z"
      },
      {
        "duration": 413,
        "start_time": "2025-08-15T16:48:01.865Z"
      },
      {
        "duration": 4,
        "start_time": "2025-08-15T16:48:37.660Z"
      },
      {
        "duration": 4,
        "start_time": "2025-08-15T16:48:44.063Z"
      },
      {
        "duration": 6,
        "start_time": "2025-08-15T16:48:44.907Z"
      },
      {
        "duration": 4,
        "start_time": "2025-08-15T16:49:01.976Z"
      },
      {
        "duration": 18,
        "start_time": "2025-08-15T16:49:06.324Z"
      },
      {
        "duration": 6,
        "start_time": "2025-08-15T16:49:45.702Z"
      },
      {
        "duration": 4,
        "start_time": "2025-08-15T16:49:55.047Z"
      },
      {
        "duration": 12260,
        "start_time": "2025-08-15T16:49:55.947Z"
      },
      {
        "duration": 5,
        "start_time": "2025-08-15T16:50:08.209Z"
      },
      {
        "duration": 73,
        "start_time": "2025-08-15T16:50:08.216Z"
      },
      {
        "duration": 3,
        "start_time": "2025-08-15T16:50:08.375Z"
      },
      {
        "duration": 6,
        "start_time": "2025-08-15T16:50:38.636Z"
      },
      {
        "duration": 4,
        "start_time": "2025-08-15T16:51:15.128Z"
      },
      {
        "duration": 5,
        "start_time": "2025-08-15T16:51:24.386Z"
      },
      {
        "duration": 4,
        "start_time": "2025-08-15T16:51:31.989Z"
      },
      {
        "duration": 87,
        "start_time": "2025-08-15T16:52:54.415Z"
      },
      {
        "duration": 4,
        "start_time": "2025-08-15T16:53:03.263Z"
      },
      {
        "duration": 4,
        "start_time": "2025-08-15T16:53:06.368Z"
      },
      {
        "duration": 4,
        "start_time": "2025-08-15T16:53:48.097Z"
      },
      {
        "duration": 473,
        "start_time": "2025-08-15T16:53:48.447Z"
      },
      {
        "duration": 16,
        "start_time": "2025-08-15T16:53:49.050Z"
      },
      {
        "duration": 16,
        "start_time": "2025-08-15T16:53:49.249Z"
      },
      {
        "duration": 50,
        "start_time": "2025-08-15T16:53:50.053Z"
      },
      {
        "duration": 63,
        "start_time": "2025-08-15T16:53:50.239Z"
      },
      {
        "duration": 11,
        "start_time": "2025-08-15T16:53:50.435Z"
      },
      {
        "duration": 18,
        "start_time": "2025-08-15T16:53:50.614Z"
      },
      {
        "duration": 45,
        "start_time": "2025-08-15T16:53:50.829Z"
      },
      {
        "duration": 54,
        "start_time": "2025-08-15T16:53:51.034Z"
      },
      {
        "duration": 11,
        "start_time": "2025-08-15T16:53:51.231Z"
      },
      {
        "duration": 19,
        "start_time": "2025-08-15T16:53:51.424Z"
      },
      {
        "duration": 40,
        "start_time": "2025-08-15T16:53:51.621Z"
      },
      {
        "duration": 60,
        "start_time": "2025-08-15T16:53:51.830Z"
      },
      {
        "duration": 11,
        "start_time": "2025-08-15T16:53:52.515Z"
      },
      {
        "duration": 457,
        "start_time": "2025-08-15T16:53:52.917Z"
      },
      {
        "duration": 4,
        "start_time": "2025-08-15T16:53:58.015Z"
      },
      {
        "duration": 4,
        "start_time": "2025-08-15T16:53:58.421Z"
      },
      {
        "duration": 6,
        "start_time": "2025-08-15T16:53:58.613Z"
      },
      {
        "duration": 4,
        "start_time": "2025-08-15T16:53:59.921Z"
      },
      {
        "duration": 17,
        "start_time": "2025-08-15T16:54:00.176Z"
      },
      {
        "duration": 6,
        "start_time": "2025-08-15T16:54:00.944Z"
      },
      {
        "duration": 4,
        "start_time": "2025-08-15T16:54:01.660Z"
      },
      {
        "duration": 11888,
        "start_time": "2025-08-15T16:54:02.697Z"
      },
      {
        "duration": 5,
        "start_time": "2025-08-15T16:54:14.588Z"
      },
      {
        "duration": 83,
        "start_time": "2025-08-15T16:54:14.595Z"
      },
      {
        "duration": 3,
        "start_time": "2025-08-15T16:54:17.457Z"
      },
      {
        "duration": 4,
        "start_time": "2025-08-15T16:54:17.710Z"
      },
      {
        "duration": 5,
        "start_time": "2025-08-15T16:54:17.935Z"
      },
      {
        "duration": 1310,
        "start_time": "2025-08-16T21:13:05.876Z"
      },
      {
        "duration": 501,
        "start_time": "2025-08-16T21:13:07.906Z"
      },
      {
        "duration": 23,
        "start_time": "2025-08-16T21:13:09.853Z"
      },
      {
        "duration": 19,
        "start_time": "2025-08-16T21:13:10.558Z"
      },
      {
        "duration": 50,
        "start_time": "2025-08-16T21:13:11.196Z"
      },
      {
        "duration": 61,
        "start_time": "2025-08-16T21:13:11.774Z"
      },
      {
        "duration": 11,
        "start_time": "2025-08-16T21:13:12.314Z"
      },
      {
        "duration": 18,
        "start_time": "2025-08-16T21:13:12.826Z"
      },
      {
        "duration": 48,
        "start_time": "2025-08-16T21:13:13.369Z"
      },
      {
        "duration": 60,
        "start_time": "2025-08-16T21:13:13.940Z"
      },
      {
        "duration": 11,
        "start_time": "2025-08-16T21:13:14.487Z"
      },
      {
        "duration": 17,
        "start_time": "2025-08-16T21:13:14.997Z"
      },
      {
        "duration": 47,
        "start_time": "2025-08-16T21:13:15.477Z"
      },
      {
        "duration": 71,
        "start_time": "2025-08-16T21:13:15.829Z"
      },
      {
        "duration": 4,
        "start_time": "2025-08-16T21:17:22.638Z"
      },
      {
        "duration": 476,
        "start_time": "2025-08-16T21:17:23.341Z"
      },
      {
        "duration": 11,
        "start_time": "2025-08-16T21:17:24.688Z"
      },
      {
        "duration": 18,
        "start_time": "2025-08-16T21:17:25.039Z"
      },
      {
        "duration": 47,
        "start_time": "2025-08-16T21:17:25.662Z"
      },
      {
        "duration": 56,
        "start_time": "2025-08-16T21:17:26.848Z"
      },
      {
        "duration": 22,
        "start_time": "2025-08-16T21:17:28.017Z"
      },
      {
        "duration": 108,
        "start_time": "2025-08-16T21:18:09.077Z"
      },
      {
        "duration": 23,
        "start_time": "2025-08-16T21:18:33.648Z"
      },
      {
        "duration": 30,
        "start_time": "2025-08-16T21:19:06.804Z"
      },
      {
        "duration": 51,
        "start_time": "2025-08-17T15:40:28.287Z"
      },
      {
        "duration": 1068,
        "start_time": "2025-08-17T15:40:33.465Z"
      },
      {
        "duration": 380,
        "start_time": "2025-08-17T15:40:34.535Z"
      },
      {
        "duration": 15,
        "start_time": "2025-08-17T15:40:36.014Z"
      },
      {
        "duration": 14,
        "start_time": "2025-08-17T15:40:36.231Z"
      },
      {
        "duration": 37,
        "start_time": "2025-08-17T15:40:36.475Z"
      },
      {
        "duration": 48,
        "start_time": "2025-08-17T15:40:36.957Z"
      },
      {
        "duration": 17,
        "start_time": "2025-08-17T15:40:38.025Z"
      },
      {
        "duration": 15,
        "start_time": "2025-08-17T15:40:48.449Z"
      },
      {
        "duration": 28,
        "start_time": "2025-08-17T15:42:22.613Z"
      },
      {
        "duration": 18,
        "start_time": "2025-08-17T15:42:33.325Z"
      },
      {
        "duration": 58,
        "start_time": "2025-08-17T15:42:41.063Z"
      },
      {
        "duration": 16,
        "start_time": "2025-08-17T15:42:46.045Z"
      },
      {
        "duration": 5,
        "start_time": "2025-08-17T15:42:58.096Z"
      },
      {
        "duration": 7,
        "start_time": "2025-08-17T15:43:04.435Z"
      },
      {
        "duration": 5,
        "start_time": "2025-08-17T15:43:34.003Z"
      },
      {
        "duration": 22,
        "start_time": "2025-08-17T15:43:54.562Z"
      },
      {
        "duration": 16,
        "start_time": "2025-08-17T15:45:10.481Z"
      },
      {
        "duration": 18,
        "start_time": "2025-08-17T15:45:40.868Z"
      },
      {
        "duration": 16,
        "start_time": "2025-08-17T15:45:48.143Z"
      },
      {
        "duration": 33,
        "start_time": "2025-08-17T15:46:57.548Z"
      },
      {
        "duration": 1015,
        "start_time": "2025-08-17T15:48:12.472Z"
      },
      {
        "duration": 8,
        "start_time": "2025-08-17T15:49:01.733Z"
      },
      {
        "duration": 4,
        "start_time": "2025-08-17T15:56:14.154Z"
      },
      {
        "duration": 398,
        "start_time": "2025-08-17T15:56:15.833Z"
      },
      {
        "duration": 9,
        "start_time": "2025-08-17T15:56:17.197Z"
      },
      {
        "duration": 16,
        "start_time": "2025-08-17T15:56:17.934Z"
      },
      {
        "duration": 35,
        "start_time": "2025-08-17T15:56:27.372Z"
      },
      {
        "duration": 43,
        "start_time": "2025-08-17T15:56:29.948Z"
      },
      {
        "duration": 22,
        "start_time": "2025-08-17T15:56:33.503Z"
      },
      {
        "duration": 33,
        "start_time": "2025-08-17T15:58:44.123Z"
      },
      {
        "duration": 12,
        "start_time": "2025-08-17T15:58:45.935Z"
      },
      {
        "duration": 10,
        "start_time": "2025-08-17T15:59:58.254Z"
      },
      {
        "duration": 3,
        "start_time": "2025-08-17T16:00:04.991Z"
      },
      {
        "duration": 405,
        "start_time": "2025-08-17T16:00:05.726Z"
      },
      {
        "duration": 9,
        "start_time": "2025-08-17T16:00:08.074Z"
      },
      {
        "duration": 14,
        "start_time": "2025-08-17T16:00:08.851Z"
      },
      {
        "duration": 35,
        "start_time": "2025-08-17T16:00:10.151Z"
      },
      {
        "duration": 45,
        "start_time": "2025-08-17T16:00:11.380Z"
      },
      {
        "duration": 29,
        "start_time": "2025-08-17T16:00:12.234Z"
      },
      {
        "duration": 28,
        "start_time": "2025-08-17T16:00:27.430Z"
      },
      {
        "duration": 15,
        "start_time": "2025-08-17T16:00:38.261Z"
      },
      {
        "duration": 37,
        "start_time": "2025-08-17T16:01:33.415Z"
      },
      {
        "duration": 10,
        "start_time": "2025-08-17T16:01:34.088Z"
      },
      {
        "duration": 15,
        "start_time": "2025-08-17T16:01:35.403Z"
      },
      {
        "duration": 45,
        "start_time": "2025-08-17T16:01:36.147Z"
      },
      {
        "duration": 44,
        "start_time": "2025-08-17T16:01:45.533Z"
      },
      {
        "duration": 22,
        "start_time": "2025-08-17T16:01:58.358Z"
      },
      {
        "duration": 17,
        "start_time": "2025-08-17T16:02:23.343Z"
      },
      {
        "duration": 37,
        "start_time": "2025-08-17T16:02:29.826Z"
      },
      {
        "duration": 35,
        "start_time": "2025-08-17T16:02:38.013Z"
      },
      {
        "duration": 3,
        "start_time": "2025-08-17T16:02:43.374Z"
      },
      {
        "duration": 408,
        "start_time": "2025-08-17T16:02:43.808Z"
      },
      {
        "duration": 10,
        "start_time": "2025-08-17T16:02:44.451Z"
      },
      {
        "duration": 16,
        "start_time": "2025-08-17T16:02:44.979Z"
      },
      {
        "duration": 37,
        "start_time": "2025-08-17T16:02:45.296Z"
      },
      {
        "duration": 48,
        "start_time": "2025-08-17T16:02:45.557Z"
      },
      {
        "duration": 20,
        "start_time": "2025-08-17T16:02:46.149Z"
      },
      {
        "duration": 35,
        "start_time": "2025-08-17T16:02:46.973Z"
      },
      {
        "duration": 11,
        "start_time": "2025-08-17T16:02:47.545Z"
      },
      {
        "duration": 14,
        "start_time": "2025-08-17T16:02:49.551Z"
      },
      {
        "duration": 35,
        "start_time": "2025-08-17T16:02:51.589Z"
      },
      {
        "duration": 41,
        "start_time": "2025-08-17T16:02:54.005Z"
      },
      {
        "duration": 20,
        "start_time": "2025-08-17T16:02:57.956Z"
      },
      {
        "duration": 35,
        "start_time": "2025-08-17T16:02:58.614Z"
      },
      {
        "duration": 10,
        "start_time": "2025-08-17T16:03:01.178Z"
      },
      {
        "duration": 14,
        "start_time": "2025-08-17T16:03:02.901Z"
      },
      {
        "duration": 35,
        "start_time": "2025-08-17T16:03:22.286Z"
      },
      {
        "duration": 45,
        "start_time": "2025-08-17T16:03:23.230Z"
      },
      {
        "duration": 19,
        "start_time": "2025-08-17T16:03:31.043Z"
      },
      {
        "duration": 33,
        "start_time": "2025-08-17T16:03:51.261Z"
      },
      {
        "duration": 3,
        "start_time": "2025-08-17T16:25:43.443Z"
      },
      {
        "duration": 385,
        "start_time": "2025-08-17T16:25:44.684Z"
      },
      {
        "duration": 9,
        "start_time": "2025-08-17T16:25:45.359Z"
      },
      {
        "duration": 13,
        "start_time": "2025-08-17T16:25:45.735Z"
      },
      {
        "duration": 35,
        "start_time": "2025-08-17T16:25:46.199Z"
      },
      {
        "duration": 41,
        "start_time": "2025-08-17T16:25:46.723Z"
      },
      {
        "duration": 18,
        "start_time": "2025-08-17T16:25:47.023Z"
      },
      {
        "duration": 8,
        "start_time": "2025-08-17T16:25:47.481Z"
      },
      {
        "duration": 9,
        "start_time": "2025-08-17T16:26:40.286Z"
      },
      {
        "duration": 1106,
        "start_time": "2025-08-17T16:27:08.627Z"
      },
      {
        "duration": 396,
        "start_time": "2025-08-17T16:27:11.070Z"
      },
      {
        "duration": 16,
        "start_time": "2025-08-17T16:27:13.951Z"
      },
      {
        "duration": 15,
        "start_time": "2025-08-17T16:27:14.627Z"
      },
      {
        "duration": 51,
        "start_time": "2025-08-17T16:27:15.211Z"
      },
      {
        "duration": 50,
        "start_time": "2025-08-17T16:27:15.797Z"
      },
      {
        "duration": 19,
        "start_time": "2025-08-17T16:27:16.635Z"
      },
      {
        "duration": 107,
        "start_time": "2025-08-17T16:27:17.369Z"
      },
      {
        "duration": 9,
        "start_time": "2025-08-17T16:28:39.828Z"
      },
      {
        "duration": 15,
        "start_time": "2025-08-17T16:29:16.291Z"
      },
      {
        "duration": 46,
        "start_time": "2025-08-17T16:30:07.405Z"
      },
      {
        "duration": 9,
        "start_time": "2025-08-17T16:30:22.710Z"
      },
      {
        "duration": 14,
        "start_time": "2025-08-17T16:30:23.686Z"
      },
      {
        "duration": 39,
        "start_time": "2025-08-17T16:30:24.452Z"
      },
      {
        "duration": 43,
        "start_time": "2025-08-17T16:30:25.980Z"
      },
      {
        "duration": 19,
        "start_time": "2025-08-17T16:30:34.665Z"
      },
      {
        "duration": 41,
        "start_time": "2025-08-17T16:30:43.694Z"
      },
      {
        "duration": 10,
        "start_time": "2025-08-17T16:30:46.458Z"
      },
      {
        "duration": 14,
        "start_time": "2025-08-17T16:30:47.103Z"
      },
      {
        "duration": 39,
        "start_time": "2025-08-17T16:30:47.806Z"
      },
      {
        "duration": 44,
        "start_time": "2025-08-17T16:30:48.406Z"
      },
      {
        "duration": 22,
        "start_time": "2025-08-17T16:30:50.325Z"
      },
      {
        "duration": 35,
        "start_time": "2025-08-17T16:31:17.938Z"
      },
      {
        "duration": 467,
        "start_time": "2025-08-17T16:32:42.689Z"
      },
      {
        "duration": 3,
        "start_time": "2025-08-17T16:33:03.749Z"
      },
      {
        "duration": 1043,
        "start_time": "2025-08-17T16:33:17.920Z"
      },
      {
        "duration": 4,
        "start_time": "2025-08-17T16:34:15.618Z"
      },
      {
        "duration": 325,
        "start_time": "2025-08-17T16:34:19.922Z"
      },
      {
        "duration": 421,
        "start_time": "2025-08-17T16:34:21.210Z"
      },
      {
        "duration": 325,
        "start_time": "2025-08-17T16:34:21.885Z"
      },
      {
        "duration": 22,
        "start_time": "2025-08-17T16:34:22.951Z"
      },
      {
        "duration": 1414,
        "start_time": "2025-08-17T16:36:39.256Z"
      },
      {
        "duration": 396,
        "start_time": "2025-08-17T16:36:42.030Z"
      },
      {
        "duration": 13,
        "start_time": "2025-08-17T16:36:44.295Z"
      },
      {
        "duration": 15,
        "start_time": "2025-08-17T16:36:45.061Z"
      },
      {
        "duration": 38,
        "start_time": "2025-08-17T16:36:45.615Z"
      },
      {
        "duration": 46,
        "start_time": "2025-08-17T16:36:45.977Z"
      },
      {
        "duration": 20,
        "start_time": "2025-08-17T16:36:46.244Z"
      },
      {
        "duration": 35,
        "start_time": "2025-08-17T16:36:46.468Z"
      },
      {
        "duration": 9,
        "start_time": "2025-08-17T16:36:46.863Z"
      },
      {
        "duration": 15,
        "start_time": "2025-08-17T16:36:47.145Z"
      },
      {
        "duration": 39,
        "start_time": "2025-08-17T16:36:47.334Z"
      },
      {
        "duration": 44,
        "start_time": "2025-08-17T16:36:47.671Z"
      },
      {
        "duration": 18,
        "start_time": "2025-08-17T16:36:47.890Z"
      },
      {
        "duration": 35,
        "start_time": "2025-08-17T16:36:48.118Z"
      },
      {
        "duration": 9,
        "start_time": "2025-08-17T16:36:48.308Z"
      },
      {
        "duration": 15,
        "start_time": "2025-08-17T16:36:48.518Z"
      },
      {
        "duration": 35,
        "start_time": "2025-08-17T16:36:48.748Z"
      },
      {
        "duration": 42,
        "start_time": "2025-08-17T16:36:49.065Z"
      },
      {
        "duration": 18,
        "start_time": "2025-08-17T16:36:49.302Z"
      },
      {
        "duration": 33,
        "start_time": "2025-08-17T16:36:49.949Z"
      },
      {
        "duration": 3,
        "start_time": "2025-08-17T16:36:52.907Z"
      },
      {
        "duration": 339,
        "start_time": "2025-08-17T16:36:54.015Z"
      },
      {
        "duration": 338,
        "start_time": "2025-08-17T16:36:55.917Z"
      },
      {
        "duration": 317,
        "start_time": "2025-08-17T16:36:57.240Z"
      },
      {
        "duration": 9,
        "start_time": "2025-08-17T16:37:06.105Z"
      },
      {
        "duration": 381,
        "start_time": "2025-08-17T16:37:13.363Z"
      },
      {
        "duration": 2,
        "start_time": "2025-08-17T16:37:23.925Z"
      },
      {
        "duration": 3,
        "start_time": "2025-08-17T16:37:24.883Z"
      },
      {
        "duration": 6,
        "start_time": "2025-08-17T16:37:28.980Z"
      },
      {
        "duration": 4,
        "start_time": "2025-08-17T16:37:33.240Z"
      },
      {
        "duration": 14,
        "start_time": "2025-08-17T16:37:33.720Z"
      },
      {
        "duration": 4,
        "start_time": "2025-08-17T16:41:58.993Z"
      },
      {
        "duration": 4,
        "start_time": "2025-08-17T16:42:16.937Z"
      },
      {
        "duration": 1503,
        "start_time": "2025-08-17T16:42:18.015Z"
      },
      {
        "duration": 5,
        "start_time": "2025-08-17T16:43:02.102Z"
      },
      {
        "duration": 8,
        "start_time": "2025-08-17T16:43:02.818Z"
      },
      {
        "duration": 1217,
        "start_time": "2025-08-17T16:43:55.486Z"
      },
      {
        "duration": 5,
        "start_time": "2025-08-17T16:44:34.528Z"
      },
      {
        "duration": 367,
        "start_time": "2025-08-17T16:44:35.266Z"
      },
      {
        "duration": 339,
        "start_time": "2025-08-17T16:44:35.760Z"
      },
      {
        "duration": 373,
        "start_time": "2025-08-17T16:44:36.600Z"
      },
      {
        "duration": 2,
        "start_time": "2025-08-17T16:44:43.396Z"
      },
      {
        "duration": 4,
        "start_time": "2025-08-17T16:44:44.250Z"
      },
      {
        "duration": 4,
        "start_time": "2025-08-17T16:44:45.031Z"
      }
    ],
    "kernelspec": {
      "display_name": "Python 3 (ipykernel)",
      "language": "python",
      "name": "python3"
    },
    "language_info": {
      "codemirror_mode": {
        "name": "ipython",
        "version": 3
      },
      "file_extension": ".py",
      "mimetype": "text/x-python",
      "name": "python",
      "nbconvert_exporter": "python",
      "pygments_lexer": "ipython3",
      "version": "3.9.5"
    },
    "toc": {
      "base_numbering": 1,
      "nav_menu": {},
      "number_sections": true,
      "sideBar": true,
      "skip_h1_title": true,
      "title_cell": "Table of Contents",
      "title_sidebar": "Contents",
      "toc_cell": false,
      "toc_position": {},
      "toc_section_display": true,
      "toc_window_display": false
    },
    "colab": {
      "provenance": []
    }
  },
  "nbformat": 4,
  "nbformat_minor": 0
}